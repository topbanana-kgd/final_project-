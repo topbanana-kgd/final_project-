{
 "cells": [
  {
   "cell_type": "markdown",
   "metadata": {},
   "source": [
    "<div>\n",
    "    <h1> Анализ оттока клиентов <a class=\"tocSkip\"> </h1>\n"
   ]
  },
  {
   "cell_type": "markdown",
   "metadata": {},
   "source": [
    "<div>\n",
    "    <h3> Описание работы: <a class=\"tocSkip\"> </h3>"
   ]
  },
  {
   "cell_type": "markdown",
   "metadata": {},
   "source": [
    "Проблема:\n",
    "\n",
    "    - В банке последнее время сильно повысился отток клиентов, проблема угрожает существованию банка\n",
    "    \n",
    "Цели: \n",
    "        \n",
    "    - Выявить сегменты отточных клиентов, чтобы они были однородными, точными и покрывали максимум проблемных зон банка. \n",
    "        \n",
    "    - Дать рекомендации отделу маркетинга по отточным и приоритетным сегментам."
   ]
  },
  {
   "cell_type": "markdown",
   "metadata": {},
   "source": [
    "<div>\n",
    "    <h3> 1. Предобработка данных <a class=\"tocSkip\"> </h3>"
   ]
  },
  {
   "cell_type": "code",
   "execution_count": 1,
   "metadata": {},
   "outputs": [],
   "source": [
    "import pandas as pd\n",
    "import numpy as np\n",
    "import seaborn as sns\n",
    "from numpy import median\n",
    "import matplotlib.pyplot as plt\n",
    "import scipy.stats as st"
   ]
  },
  {
   "cell_type": "code",
   "execution_count": 2,
   "metadata": {},
   "outputs": [],
   "source": [
    "try:\n",
    "    data = pd.read_csv('/datasets/bank_scrooge.csv')  \n",
    "    \n",
    "except:\n",
    "    data = pd.read_csv('https://code.s3.yandex.net/datasets/bank_scrooge.csv')\n"
   ]
  },
  {
   "cell_type": "code",
   "execution_count": 3,
   "metadata": {},
   "outputs": [
    {
     "data": {
      "text/html": [
       "<div>\n",
       "<style scoped>\n",
       "    .dataframe tbody tr th:only-of-type {\n",
       "        vertical-align: middle;\n",
       "    }\n",
       "\n",
       "    .dataframe tbody tr th {\n",
       "        vertical-align: top;\n",
       "    }\n",
       "\n",
       "    .dataframe thead th {\n",
       "        text-align: right;\n",
       "    }\n",
       "</style>\n",
       "<table border=\"1\" class=\"dataframe\">\n",
       "  <thead>\n",
       "    <tr style=\"text-align: right;\">\n",
       "      <th></th>\n",
       "      <th>USERID</th>\n",
       "      <th>score</th>\n",
       "      <th>city</th>\n",
       "      <th>gender</th>\n",
       "      <th>age</th>\n",
       "      <th>equity</th>\n",
       "      <th>balance</th>\n",
       "      <th>products</th>\n",
       "      <th>credit_card</th>\n",
       "      <th>last_activity</th>\n",
       "      <th>EST_SALARY</th>\n",
       "      <th>churn</th>\n",
       "    </tr>\n",
       "  </thead>\n",
       "  <tbody>\n",
       "    <tr>\n",
       "      <th>0</th>\n",
       "      <td>183012</td>\n",
       "      <td>850.0</td>\n",
       "      <td>Рыбинск</td>\n",
       "      <td>Ж</td>\n",
       "      <td>25.0</td>\n",
       "      <td>1</td>\n",
       "      <td>59214.82</td>\n",
       "      <td>2</td>\n",
       "      <td>0</td>\n",
       "      <td>1</td>\n",
       "      <td>75719.14</td>\n",
       "      <td>1</td>\n",
       "    </tr>\n",
       "    <tr>\n",
       "      <th>1</th>\n",
       "      <td>146556</td>\n",
       "      <td>861.0</td>\n",
       "      <td>Рыбинск</td>\n",
       "      <td>Ж</td>\n",
       "      <td>37.0</td>\n",
       "      <td>5</td>\n",
       "      <td>850594.33</td>\n",
       "      <td>3</td>\n",
       "      <td>1</td>\n",
       "      <td>0</td>\n",
       "      <td>86621.77</td>\n",
       "      <td>0</td>\n",
       "    </tr>\n",
       "    <tr>\n",
       "      <th>2</th>\n",
       "      <td>120722</td>\n",
       "      <td>892.0</td>\n",
       "      <td>Рыбинск</td>\n",
       "      <td>Ж</td>\n",
       "      <td>30.0</td>\n",
       "      <td>0</td>\n",
       "      <td>NaN</td>\n",
       "      <td>1</td>\n",
       "      <td>1</td>\n",
       "      <td>1</td>\n",
       "      <td>107683.34</td>\n",
       "      <td>0</td>\n",
       "    </tr>\n",
       "    <tr>\n",
       "      <th>3</th>\n",
       "      <td>225363</td>\n",
       "      <td>866.0</td>\n",
       "      <td>Ярославль</td>\n",
       "      <td>Ж</td>\n",
       "      <td>51.0</td>\n",
       "      <td>5</td>\n",
       "      <td>1524746.26</td>\n",
       "      <td>2</td>\n",
       "      <td>0</td>\n",
       "      <td>1</td>\n",
       "      <td>174423.53</td>\n",
       "      <td>1</td>\n",
       "    </tr>\n",
       "    <tr>\n",
       "      <th>4</th>\n",
       "      <td>157978</td>\n",
       "      <td>730.0</td>\n",
       "      <td>Ярославль</td>\n",
       "      <td>М</td>\n",
       "      <td>34.0</td>\n",
       "      <td>5</td>\n",
       "      <td>174.00</td>\n",
       "      <td>1</td>\n",
       "      <td>1</td>\n",
       "      <td>0</td>\n",
       "      <td>67353.16</td>\n",
       "      <td>1</td>\n",
       "    </tr>\n",
       "    <tr>\n",
       "      <th>...</th>\n",
       "      <td>...</td>\n",
       "      <td>...</td>\n",
       "      <td>...</td>\n",
       "      <td>...</td>\n",
       "      <td>...</td>\n",
       "      <td>...</td>\n",
       "      <td>...</td>\n",
       "      <td>...</td>\n",
       "      <td>...</td>\n",
       "      <td>...</td>\n",
       "      <td>...</td>\n",
       "      <td>...</td>\n",
       "    </tr>\n",
       "    <tr>\n",
       "      <th>9995</th>\n",
       "      <td>120553</td>\n",
       "      <td>814.0</td>\n",
       "      <td>Рыбинск</td>\n",
       "      <td>М</td>\n",
       "      <td>27.0</td>\n",
       "      <td>1</td>\n",
       "      <td>78144.65</td>\n",
       "      <td>1</td>\n",
       "      <td>0</td>\n",
       "      <td>1</td>\n",
       "      <td>18943.64</td>\n",
       "      <td>0</td>\n",
       "    </tr>\n",
       "    <tr>\n",
       "      <th>9996</th>\n",
       "      <td>139170</td>\n",
       "      <td>894.0</td>\n",
       "      <td>Ярославль</td>\n",
       "      <td>М</td>\n",
       "      <td>46.0</td>\n",
       "      <td>0</td>\n",
       "      <td>NaN</td>\n",
       "      <td>1</td>\n",
       "      <td>1</td>\n",
       "      <td>0</td>\n",
       "      <td>196898.29</td>\n",
       "      <td>0</td>\n",
       "    </tr>\n",
       "    <tr>\n",
       "      <th>9997</th>\n",
       "      <td>115639</td>\n",
       "      <td>903.0</td>\n",
       "      <td>Ярославль</td>\n",
       "      <td>М</td>\n",
       "      <td>24.0</td>\n",
       "      <td>0</td>\n",
       "      <td>NaN</td>\n",
       "      <td>2</td>\n",
       "      <td>1</td>\n",
       "      <td>1</td>\n",
       "      <td>108905.09</td>\n",
       "      <td>0</td>\n",
       "    </tr>\n",
       "    <tr>\n",
       "      <th>9998</th>\n",
       "      <td>148700</td>\n",
       "      <td>777.0</td>\n",
       "      <td>Ярославль</td>\n",
       "      <td>Ж</td>\n",
       "      <td>68.0</td>\n",
       "      <td>3</td>\n",
       "      <td>865457.97</td>\n",
       "      <td>3</td>\n",
       "      <td>0</td>\n",
       "      <td>1</td>\n",
       "      <td>86874.90</td>\n",
       "      <td>0</td>\n",
       "    </tr>\n",
       "    <tr>\n",
       "      <th>9999</th>\n",
       "      <td>96267</td>\n",
       "      <td>828.0</td>\n",
       "      <td>Рыбинск</td>\n",
       "      <td>Ж</td>\n",
       "      <td>58.0</td>\n",
       "      <td>3</td>\n",
       "      <td>1180886.70</td>\n",
       "      <td>4</td>\n",
       "      <td>0</td>\n",
       "      <td>1</td>\n",
       "      <td>21422.37</td>\n",
       "      <td>0</td>\n",
       "    </tr>\n",
       "  </tbody>\n",
       "</table>\n",
       "<p>10000 rows × 12 columns</p>\n",
       "</div>"
      ],
      "text/plain": [
       "      USERID  score       city gender   age  equity     balance  products  \\\n",
       "0     183012  850.0    Рыбинск      Ж  25.0       1    59214.82         2   \n",
       "1     146556  861.0    Рыбинск      Ж  37.0       5   850594.33         3   \n",
       "2     120722  892.0    Рыбинск      Ж  30.0       0         NaN         1   \n",
       "3     225363  866.0  Ярославль      Ж  51.0       5  1524746.26         2   \n",
       "4     157978  730.0  Ярославль      М  34.0       5      174.00         1   \n",
       "...      ...    ...        ...    ...   ...     ...         ...       ...   \n",
       "9995  120553  814.0    Рыбинск      М  27.0       1    78144.65         1   \n",
       "9996  139170  894.0  Ярославль      М  46.0       0         NaN         1   \n",
       "9997  115639  903.0  Ярославль      М  24.0       0         NaN         2   \n",
       "9998  148700  777.0  Ярославль      Ж  68.0       3   865457.97         3   \n",
       "9999   96267  828.0    Рыбинск      Ж  58.0       3  1180886.70         4   \n",
       "\n",
       "      credit_card  last_activity  EST_SALARY  churn  \n",
       "0               0              1    75719.14      1  \n",
       "1               1              0    86621.77      0  \n",
       "2               1              1   107683.34      0  \n",
       "3               0              1   174423.53      1  \n",
       "4               1              0    67353.16      1  \n",
       "...           ...            ...         ...    ...  \n",
       "9995            0              1    18943.64      0  \n",
       "9996            1              0   196898.29      0  \n",
       "9997            1              1   108905.09      0  \n",
       "9998            0              1    86874.90      0  \n",
       "9999            0              1    21422.37      0  \n",
       "\n",
       "[10000 rows x 12 columns]"
      ]
     },
     "execution_count": 3,
     "metadata": {},
     "output_type": "execute_result"
    }
   ],
   "source": [
    "data"
   ]
  },
  {
   "cell_type": "code",
   "execution_count": 4,
   "metadata": {},
   "outputs": [
    {
     "data": {
      "text/html": [
       "<div>\n",
       "<style scoped>\n",
       "    .dataframe tbody tr th:only-of-type {\n",
       "        vertical-align: middle;\n",
       "    }\n",
       "\n",
       "    .dataframe tbody tr th {\n",
       "        vertical-align: top;\n",
       "    }\n",
       "\n",
       "    .dataframe thead th {\n",
       "        text-align: right;\n",
       "    }\n",
       "</style>\n",
       "<table border=\"1\" class=\"dataframe\">\n",
       "  <thead>\n",
       "    <tr style=\"text-align: right;\">\n",
       "      <th></th>\n",
       "      <th>user_id</th>\n",
       "      <th>score</th>\n",
       "      <th>city</th>\n",
       "      <th>gender</th>\n",
       "      <th>age</th>\n",
       "      <th>equity</th>\n",
       "      <th>balance</th>\n",
       "      <th>products</th>\n",
       "      <th>credit_card</th>\n",
       "      <th>last_activity</th>\n",
       "      <th>est_salary</th>\n",
       "      <th>churn</th>\n",
       "    </tr>\n",
       "  </thead>\n",
       "  <tbody>\n",
       "    <tr>\n",
       "      <th>0</th>\n",
       "      <td>183012</td>\n",
       "      <td>850.0</td>\n",
       "      <td>Рыбинск</td>\n",
       "      <td>Ж</td>\n",
       "      <td>25.0</td>\n",
       "      <td>1</td>\n",
       "      <td>59214.82</td>\n",
       "      <td>2</td>\n",
       "      <td>0</td>\n",
       "      <td>1</td>\n",
       "      <td>75719.14</td>\n",
       "      <td>1</td>\n",
       "    </tr>\n",
       "    <tr>\n",
       "      <th>1</th>\n",
       "      <td>146556</td>\n",
       "      <td>861.0</td>\n",
       "      <td>Рыбинск</td>\n",
       "      <td>Ж</td>\n",
       "      <td>37.0</td>\n",
       "      <td>5</td>\n",
       "      <td>850594.33</td>\n",
       "      <td>3</td>\n",
       "      <td>1</td>\n",
       "      <td>0</td>\n",
       "      <td>86621.77</td>\n",
       "      <td>0</td>\n",
       "    </tr>\n",
       "    <tr>\n",
       "      <th>2</th>\n",
       "      <td>120722</td>\n",
       "      <td>892.0</td>\n",
       "      <td>Рыбинск</td>\n",
       "      <td>Ж</td>\n",
       "      <td>30.0</td>\n",
       "      <td>0</td>\n",
       "      <td>NaN</td>\n",
       "      <td>1</td>\n",
       "      <td>1</td>\n",
       "      <td>1</td>\n",
       "      <td>107683.34</td>\n",
       "      <td>0</td>\n",
       "    </tr>\n",
       "    <tr>\n",
       "      <th>3</th>\n",
       "      <td>225363</td>\n",
       "      <td>866.0</td>\n",
       "      <td>Ярославль</td>\n",
       "      <td>Ж</td>\n",
       "      <td>51.0</td>\n",
       "      <td>5</td>\n",
       "      <td>1524746.26</td>\n",
       "      <td>2</td>\n",
       "      <td>0</td>\n",
       "      <td>1</td>\n",
       "      <td>174423.53</td>\n",
       "      <td>1</td>\n",
       "    </tr>\n",
       "    <tr>\n",
       "      <th>4</th>\n",
       "      <td>157978</td>\n",
       "      <td>730.0</td>\n",
       "      <td>Ярославль</td>\n",
       "      <td>М</td>\n",
       "      <td>34.0</td>\n",
       "      <td>5</td>\n",
       "      <td>174.00</td>\n",
       "      <td>1</td>\n",
       "      <td>1</td>\n",
       "      <td>0</td>\n",
       "      <td>67353.16</td>\n",
       "      <td>1</td>\n",
       "    </tr>\n",
       "    <tr>\n",
       "      <th>...</th>\n",
       "      <td>...</td>\n",
       "      <td>...</td>\n",
       "      <td>...</td>\n",
       "      <td>...</td>\n",
       "      <td>...</td>\n",
       "      <td>...</td>\n",
       "      <td>...</td>\n",
       "      <td>...</td>\n",
       "      <td>...</td>\n",
       "      <td>...</td>\n",
       "      <td>...</td>\n",
       "      <td>...</td>\n",
       "    </tr>\n",
       "    <tr>\n",
       "      <th>9995</th>\n",
       "      <td>120553</td>\n",
       "      <td>814.0</td>\n",
       "      <td>Рыбинск</td>\n",
       "      <td>М</td>\n",
       "      <td>27.0</td>\n",
       "      <td>1</td>\n",
       "      <td>78144.65</td>\n",
       "      <td>1</td>\n",
       "      <td>0</td>\n",
       "      <td>1</td>\n",
       "      <td>18943.64</td>\n",
       "      <td>0</td>\n",
       "    </tr>\n",
       "    <tr>\n",
       "      <th>9996</th>\n",
       "      <td>139170</td>\n",
       "      <td>894.0</td>\n",
       "      <td>Ярославль</td>\n",
       "      <td>М</td>\n",
       "      <td>46.0</td>\n",
       "      <td>0</td>\n",
       "      <td>NaN</td>\n",
       "      <td>1</td>\n",
       "      <td>1</td>\n",
       "      <td>0</td>\n",
       "      <td>196898.29</td>\n",
       "      <td>0</td>\n",
       "    </tr>\n",
       "    <tr>\n",
       "      <th>9997</th>\n",
       "      <td>115639</td>\n",
       "      <td>903.0</td>\n",
       "      <td>Ярославль</td>\n",
       "      <td>М</td>\n",
       "      <td>24.0</td>\n",
       "      <td>0</td>\n",
       "      <td>NaN</td>\n",
       "      <td>2</td>\n",
       "      <td>1</td>\n",
       "      <td>1</td>\n",
       "      <td>108905.09</td>\n",
       "      <td>0</td>\n",
       "    </tr>\n",
       "    <tr>\n",
       "      <th>9998</th>\n",
       "      <td>148700</td>\n",
       "      <td>777.0</td>\n",
       "      <td>Ярославль</td>\n",
       "      <td>Ж</td>\n",
       "      <td>68.0</td>\n",
       "      <td>3</td>\n",
       "      <td>865457.97</td>\n",
       "      <td>3</td>\n",
       "      <td>0</td>\n",
       "      <td>1</td>\n",
       "      <td>86874.90</td>\n",
       "      <td>0</td>\n",
       "    </tr>\n",
       "    <tr>\n",
       "      <th>9999</th>\n",
       "      <td>96267</td>\n",
       "      <td>828.0</td>\n",
       "      <td>Рыбинск</td>\n",
       "      <td>Ж</td>\n",
       "      <td>58.0</td>\n",
       "      <td>3</td>\n",
       "      <td>1180886.70</td>\n",
       "      <td>4</td>\n",
       "      <td>0</td>\n",
       "      <td>1</td>\n",
       "      <td>21422.37</td>\n",
       "      <td>0</td>\n",
       "    </tr>\n",
       "  </tbody>\n",
       "</table>\n",
       "<p>10000 rows × 12 columns</p>\n",
       "</div>"
      ],
      "text/plain": [
       "      user_id  score       city gender   age  equity     balance  products  \\\n",
       "0      183012  850.0    Рыбинск      Ж  25.0       1    59214.82         2   \n",
       "1      146556  861.0    Рыбинск      Ж  37.0       5   850594.33         3   \n",
       "2      120722  892.0    Рыбинск      Ж  30.0       0         NaN         1   \n",
       "3      225363  866.0  Ярославль      Ж  51.0       5  1524746.26         2   \n",
       "4      157978  730.0  Ярославль      М  34.0       5      174.00         1   \n",
       "...       ...    ...        ...    ...   ...     ...         ...       ...   \n",
       "9995   120553  814.0    Рыбинск      М  27.0       1    78144.65         1   \n",
       "9996   139170  894.0  Ярославль      М  46.0       0         NaN         1   \n",
       "9997   115639  903.0  Ярославль      М  24.0       0         NaN         2   \n",
       "9998   148700  777.0  Ярославль      Ж  68.0       3   865457.97         3   \n",
       "9999    96267  828.0    Рыбинск      Ж  58.0       3  1180886.70         4   \n",
       "\n",
       "      credit_card  last_activity  est_salary  churn  \n",
       "0               0              1    75719.14      1  \n",
       "1               1              0    86621.77      0  \n",
       "2               1              1   107683.34      0  \n",
       "3               0              1   174423.53      1  \n",
       "4               1              0    67353.16      1  \n",
       "...           ...            ...         ...    ...  \n",
       "9995            0              1    18943.64      0  \n",
       "9996            1              0   196898.29      0  \n",
       "9997            1              1   108905.09      0  \n",
       "9998            0              1    86874.90      0  \n",
       "9999            0              1    21422.37      0  \n",
       "\n",
       "[10000 rows x 12 columns]"
      ]
     },
     "execution_count": 4,
     "metadata": {},
     "output_type": "execute_result"
    }
   ],
   "source": [
    "#корректировка названий столбцов\n",
    "data.columns = map(str.lower, data.columns)\n",
    "data = data.rename(columns={'userid':'user_id'})\n",
    "data"
   ]
  },
  {
   "cell_type": "code",
   "execution_count": 5,
   "metadata": {
    "scrolled": true
   },
   "outputs": [
    {
     "name": "stdout",
     "output_type": "stream",
     "text": [
      "<class 'pandas.core.frame.DataFrame'>\n",
      "RangeIndex: 10000 entries, 0 to 9999\n",
      "Data columns (total 12 columns):\n",
      " #   Column         Non-Null Count  Dtype  \n",
      "---  ------         --------------  -----  \n",
      " 0   user_id        10000 non-null  int64  \n",
      " 1   score          10000 non-null  float64\n",
      " 2   city           10000 non-null  object \n",
      " 3   gender         10000 non-null  object \n",
      " 4   age            9974 non-null   float64\n",
      " 5   equity         10000 non-null  int64  \n",
      " 6   balance        7705 non-null   float64\n",
      " 7   products       10000 non-null  int64  \n",
      " 8   credit_card    10000 non-null  int64  \n",
      " 9   last_activity  10000 non-null  int64  \n",
      " 10  est_salary     10000 non-null  float64\n",
      " 11  churn          10000 non-null  int64  \n",
      "dtypes: float64(4), int64(6), object(2)\n",
      "memory usage: 937.6+ KB\n"
     ]
    }
   ],
   "source": [
    "data.info()"
   ]
  },
  {
   "cell_type": "code",
   "execution_count": 6,
   "metadata": {},
   "outputs": [
    {
     "name": "stdout",
     "output_type": "stream",
     "text": [
      "user_id: 0.00%\n",
      "score: 0.00%\n",
      "city: 0.00%\n",
      "gender: 0.00%\n",
      "age: 0.26%\n",
      "equity: 0.00%\n",
      "balance: 22.95%\n",
      "products: 0.00%\n",
      "credit_card: 0.00%\n",
      "last_activity: 0.00%\n",
      "est_salary: 0.00%\n",
      "churn: 0.00%\n"
     ]
    }
   ],
   "source": [
    "#Посмотрим % пропусков в данных\n",
    "for col in data.columns:\n",
    "    print(f'{col}: {data[col].isna().sum() / data.shape[0] * 100:.2f}%')"
   ]
  },
  {
   "cell_type": "markdown",
   "metadata": {},
   "source": [
    "У нас есть небольшое количество пропусков в данных о возрасте клиентов. Можно было бы заполнить их медианным значением по признакам, однако на 26 строк в этом нет смысла. Поэтому я просто удалю их из датафрейма. "
   ]
  },
  {
   "cell_type": "code",
   "execution_count": 7,
   "metadata": {
    "scrolled": true
   },
   "outputs": [],
   "source": [
    "data = data.dropna(subset=['age'], axis=0)"
   ]
  },
  {
   "cell_type": "code",
   "execution_count": 8,
   "metadata": {},
   "outputs": [
    {
     "name": "stdout",
     "output_type": "stream",
     "text": [
      "<class 'pandas.core.frame.DataFrame'>\n",
      "Int64Index: 9974 entries, 0 to 9999\n",
      "Data columns (total 12 columns):\n",
      " #   Column         Non-Null Count  Dtype  \n",
      "---  ------         --------------  -----  \n",
      " 0   user_id        9974 non-null   int64  \n",
      " 1   score          9974 non-null   float64\n",
      " 2   city           9974 non-null   object \n",
      " 3   gender         9974 non-null   object \n",
      " 4   age            9974 non-null   float64\n",
      " 5   equity         9974 non-null   int64  \n",
      " 6   balance        7695 non-null   float64\n",
      " 7   products       9974 non-null   int64  \n",
      " 8   credit_card    9974 non-null   int64  \n",
      " 9   last_activity  9974 non-null   int64  \n",
      " 10  est_salary     9974 non-null   float64\n",
      " 11  churn          9974 non-null   int64  \n",
      "dtypes: float64(4), int64(6), object(2)\n",
      "memory usage: 1013.0+ KB\n"
     ]
    }
   ],
   "source": [
    "data.info()"
   ]
  },
  {
   "cell_type": "code",
   "execution_count": 9,
   "metadata": {},
   "outputs": [
    {
     "name": "stderr",
     "output_type": "stream",
     "text": [
      "/tmp/ipykernel_232/3154361184.py:2: SettingWithCopyWarning: \n",
      "A value is trying to be set on a copy of a slice from a DataFrame.\n",
      "Try using .loc[row_indexer,col_indexer] = value instead\n",
      "\n",
      "See the caveats in the documentation: https://pandas.pydata.org/pandas-docs/stable/user_guide/indexing.html#returning-a-view-versus-a-copy\n",
      "  data['user_id'] = data['user_id'].astype(object)\n",
      "/tmp/ipykernel_232/3154361184.py:3: SettingWithCopyWarning: \n",
      "A value is trying to be set on a copy of a slice from a DataFrame.\n",
      "Try using .loc[row_indexer,col_indexer] = value instead\n",
      "\n",
      "See the caveats in the documentation: https://pandas.pydata.org/pandas-docs/stable/user_guide/indexing.html#returning-a-view-versus-a-copy\n",
      "  data['score'] = data['score'].astype(int)\n",
      "/tmp/ipykernel_232/3154361184.py:4: SettingWithCopyWarning: \n",
      "A value is trying to be set on a copy of a slice from a DataFrame.\n",
      "Try using .loc[row_indexer,col_indexer] = value instead\n",
      "\n",
      "See the caveats in the documentation: https://pandas.pydata.org/pandas-docs/stable/user_guide/indexing.html#returning-a-view-versus-a-copy\n",
      "  data['age'] = data['age'].astype(int)\n"
     ]
    }
   ],
   "source": [
    "#Изменим типы данных в колонках\n",
    "data['user_id'] = data['user_id'].astype(object)\n",
    "data['score'] = data['score'].astype(int)\n",
    "data['age'] = data['age'].astype(int)"
   ]
  },
  {
   "cell_type": "code",
   "execution_count": 10,
   "metadata": {},
   "outputs": [
    {
     "name": "stdout",
     "output_type": "stream",
     "text": [
      "<class 'pandas.core.frame.DataFrame'>\n",
      "Int64Index: 9974 entries, 0 to 9999\n",
      "Data columns (total 12 columns):\n",
      " #   Column         Non-Null Count  Dtype  \n",
      "---  ------         --------------  -----  \n",
      " 0   user_id        9974 non-null   object \n",
      " 1   score          9974 non-null   int64  \n",
      " 2   city           9974 non-null   object \n",
      " 3   gender         9974 non-null   object \n",
      " 4   age            9974 non-null   int64  \n",
      " 5   equity         9974 non-null   int64  \n",
      " 6   balance        7695 non-null   float64\n",
      " 7   products       9974 non-null   int64  \n",
      " 8   credit_card    9974 non-null   int64  \n",
      " 9   last_activity  9974 non-null   int64  \n",
      " 10  est_salary     9974 non-null   float64\n",
      " 11  churn          9974 non-null   int64  \n",
      "dtypes: float64(2), int64(7), object(3)\n",
      "memory usage: 1013.0+ KB\n"
     ]
    }
   ],
   "source": [
    "data.info()"
   ]
  },
  {
   "cell_type": "code",
   "execution_count": 11,
   "metadata": {
    "scrolled": true
   },
   "outputs": [
    {
     "data": {
      "text/plain": [
       "user_id             0\n",
       "score               0\n",
       "city                0\n",
       "gender              0\n",
       "age                 0\n",
       "equity              0\n",
       "balance          2279\n",
       "products            0\n",
       "credit_card         0\n",
       "last_activity       0\n",
       "est_salary          0\n",
       "churn               0\n",
       "dtype: int64"
      ]
     },
     "execution_count": 11,
     "metadata": {},
     "output_type": "execute_result"
    }
   ],
   "source": [
    "#проверка наличия пропусков\n",
    "data.isna().sum()"
   ]
  },
  {
   "cell_type": "code",
   "execution_count": 12,
   "metadata": {
    "scrolled": true
   },
   "outputs": [
    {
     "data": {
      "text/html": [
       "<div>\n",
       "<style scoped>\n",
       "    .dataframe tbody tr th:only-of-type {\n",
       "        vertical-align: middle;\n",
       "    }\n",
       "\n",
       "    .dataframe tbody tr th {\n",
       "        vertical-align: top;\n",
       "    }\n",
       "\n",
       "    .dataframe thead th {\n",
       "        text-align: right;\n",
       "    }\n",
       "</style>\n",
       "<table border=\"1\" class=\"dataframe\">\n",
       "  <thead>\n",
       "    <tr style=\"text-align: right;\">\n",
       "      <th></th>\n",
       "      <th>score</th>\n",
       "      <th>age</th>\n",
       "      <th>equity</th>\n",
       "      <th>balance</th>\n",
       "      <th>products</th>\n",
       "      <th>credit_card</th>\n",
       "      <th>last_activity</th>\n",
       "      <th>est_salary</th>\n",
       "      <th>churn</th>\n",
       "    </tr>\n",
       "  </thead>\n",
       "  <tbody>\n",
       "    <tr>\n",
       "      <th>count</th>\n",
       "      <td>9974.000000</td>\n",
       "      <td>9974.000000</td>\n",
       "      <td>9974.000000</td>\n",
       "      <td>7.695000e+03</td>\n",
       "      <td>9974.000000</td>\n",
       "      <td>9974.000000</td>\n",
       "      <td>9974.000000</td>\n",
       "      <td>9.974000e+03</td>\n",
       "      <td>9974.000000</td>\n",
       "    </tr>\n",
       "    <tr>\n",
       "      <th>mean</th>\n",
       "      <td>848.682575</td>\n",
       "      <td>42.734409</td>\n",
       "      <td>2.630840</td>\n",
       "      <td>8.272456e+05</td>\n",
       "      <td>1.871466</td>\n",
       "      <td>0.680168</td>\n",
       "      <td>0.522859</td>\n",
       "      <td>1.477868e+05</td>\n",
       "      <td>0.182374</td>\n",
       "    </tr>\n",
       "    <tr>\n",
       "      <th>std</th>\n",
       "      <td>65.399720</td>\n",
       "      <td>12.179971</td>\n",
       "      <td>1.979965</td>\n",
       "      <td>1.980327e+06</td>\n",
       "      <td>0.792729</td>\n",
       "      <td>0.466435</td>\n",
       "      <td>0.499502</td>\n",
       "      <td>1.392855e+05</td>\n",
       "      <td>0.386172</td>\n",
       "    </tr>\n",
       "    <tr>\n",
       "      <th>min</th>\n",
       "      <td>642.000000</td>\n",
       "      <td>18.000000</td>\n",
       "      <td>0.000000</td>\n",
       "      <td>0.000000e+00</td>\n",
       "      <td>0.000000</td>\n",
       "      <td>0.000000</td>\n",
       "      <td>0.000000</td>\n",
       "      <td>2.546300e+03</td>\n",
       "      <td>0.000000</td>\n",
       "    </tr>\n",
       "    <tr>\n",
       "      <th>25%</th>\n",
       "      <td>802.000000</td>\n",
       "      <td>33.000000</td>\n",
       "      <td>0.000000</td>\n",
       "      <td>2.956987e+05</td>\n",
       "      <td>1.000000</td>\n",
       "      <td>0.000000</td>\n",
       "      <td>0.000000</td>\n",
       "      <td>7.525166e+04</td>\n",
       "      <td>0.000000</td>\n",
       "    </tr>\n",
       "    <tr>\n",
       "      <th>50%</th>\n",
       "      <td>853.000000</td>\n",
       "      <td>40.000000</td>\n",
       "      <td>3.000000</td>\n",
       "      <td>5.242953e+05</td>\n",
       "      <td>2.000000</td>\n",
       "      <td>1.000000</td>\n",
       "      <td>1.000000</td>\n",
       "      <td>1.196268e+05</td>\n",
       "      <td>0.000000</td>\n",
       "    </tr>\n",
       "    <tr>\n",
       "      <th>75%</th>\n",
       "      <td>900.000000</td>\n",
       "      <td>51.000000</td>\n",
       "      <td>4.000000</td>\n",
       "      <td>9.800512e+05</td>\n",
       "      <td>2.000000</td>\n",
       "      <td>1.000000</td>\n",
       "      <td>1.000000</td>\n",
       "      <td>1.744998e+05</td>\n",
       "      <td>0.000000</td>\n",
       "    </tr>\n",
       "    <tr>\n",
       "      <th>max</th>\n",
       "      <td>1000.000000</td>\n",
       "      <td>86.000000</td>\n",
       "      <td>9.000000</td>\n",
       "      <td>1.191136e+08</td>\n",
       "      <td>5.000000</td>\n",
       "      <td>1.000000</td>\n",
       "      <td>1.000000</td>\n",
       "      <td>1.395064e+06</td>\n",
       "      <td>1.000000</td>\n",
       "    </tr>\n",
       "  </tbody>\n",
       "</table>\n",
       "</div>"
      ],
      "text/plain": [
       "             score          age       equity       balance     products  \\\n",
       "count  9974.000000  9974.000000  9974.000000  7.695000e+03  9974.000000   \n",
       "mean    848.682575    42.734409     2.630840  8.272456e+05     1.871466   \n",
       "std      65.399720    12.179971     1.979965  1.980327e+06     0.792729   \n",
       "min     642.000000    18.000000     0.000000  0.000000e+00     0.000000   \n",
       "25%     802.000000    33.000000     0.000000  2.956987e+05     1.000000   \n",
       "50%     853.000000    40.000000     3.000000  5.242953e+05     2.000000   \n",
       "75%     900.000000    51.000000     4.000000  9.800512e+05     2.000000   \n",
       "max    1000.000000    86.000000     9.000000  1.191136e+08     5.000000   \n",
       "\n",
       "       credit_card  last_activity    est_salary        churn  \n",
       "count  9974.000000    9974.000000  9.974000e+03  9974.000000  \n",
       "mean      0.680168       0.522859  1.477868e+05     0.182374  \n",
       "std       0.466435       0.499502  1.392855e+05     0.386172  \n",
       "min       0.000000       0.000000  2.546300e+03     0.000000  \n",
       "25%       0.000000       0.000000  7.525166e+04     0.000000  \n",
       "50%       1.000000       1.000000  1.196268e+05     0.000000  \n",
       "75%       1.000000       1.000000  1.744998e+05     0.000000  \n",
       "max       1.000000       1.000000  1.395064e+06     1.000000  "
      ]
     },
     "execution_count": 12,
     "metadata": {},
     "output_type": "execute_result"
    }
   ],
   "source": [
    "data.describe()"
   ]
  },
  {
   "cell_type": "markdown",
   "metadata": {},
   "source": [
    "В products не должно быть 0"
   ]
  },
  {
   "cell_type": "code",
   "execution_count": 13,
   "metadata": {
    "scrolled": true
   },
   "outputs": [
    {
     "data": {
      "text/html": [
       "<div>\n",
       "<style scoped>\n",
       "    .dataframe tbody tr th:only-of-type {\n",
       "        vertical-align: middle;\n",
       "    }\n",
       "\n",
       "    .dataframe tbody tr th {\n",
       "        vertical-align: top;\n",
       "    }\n",
       "\n",
       "    .dataframe thead th {\n",
       "        text-align: right;\n",
       "    }\n",
       "</style>\n",
       "<table border=\"1\" class=\"dataframe\">\n",
       "  <thead>\n",
       "    <tr style=\"text-align: right;\">\n",
       "      <th></th>\n",
       "      <th>user_id</th>\n",
       "      <th>score</th>\n",
       "      <th>city</th>\n",
       "      <th>gender</th>\n",
       "      <th>age</th>\n",
       "      <th>equity</th>\n",
       "      <th>balance</th>\n",
       "      <th>products</th>\n",
       "      <th>credit_card</th>\n",
       "      <th>last_activity</th>\n",
       "      <th>est_salary</th>\n",
       "      <th>churn</th>\n",
       "    </tr>\n",
       "  </thead>\n",
       "  <tbody>\n",
       "    <tr>\n",
       "      <th>8957</th>\n",
       "      <td>147837</td>\n",
       "      <td>962</td>\n",
       "      <td>Рыбинск</td>\n",
       "      <td>Ж</td>\n",
       "      <td>79</td>\n",
       "      <td>3</td>\n",
       "      <td>NaN</td>\n",
       "      <td>0</td>\n",
       "      <td>0</td>\n",
       "      <td>0</td>\n",
       "      <td>25063.96</td>\n",
       "      <td>1</td>\n",
       "    </tr>\n",
       "  </tbody>\n",
       "</table>\n",
       "</div>"
      ],
      "text/plain": [
       "     user_id  score     city gender  age  equity  balance  products  \\\n",
       "8957  147837    962  Рыбинск      Ж   79       3      NaN         0   \n",
       "\n",
       "      credit_card  last_activity  est_salary  churn  \n",
       "8957            0              0    25063.96      1  "
      ]
     },
     "execution_count": 13,
     "metadata": {},
     "output_type": "execute_result"
    }
   ],
   "source": [
    "data[data['products']==0]"
   ]
  },
  {
   "cell_type": "markdown",
   "metadata": {},
   "source": [
    "Возможно, появление 0 в столбце products связано с ошибкой в системе. т.к нам известно что если клиент уходит из банка, то его id удаляется, и при отсутствии продуктов клиента не должно было быть в списке. Я думаю эту строку можно удалить из данных."
   ]
  },
  {
   "cell_type": "code",
   "execution_count": 14,
   "metadata": {},
   "outputs": [],
   "source": [
    "data = data.drop(labels=[8957], axis = 0)"
   ]
  },
  {
   "cell_type": "code",
   "execution_count": 15,
   "metadata": {},
   "outputs": [
    {
     "data": {
      "text/plain": [
       "0"
      ]
     },
     "execution_count": 15,
     "metadata": {},
     "output_type": "execute_result"
    }
   ],
   "source": [
    "#проверка наличия дубликатов\n",
    "data.duplicated().sum()"
   ]
  },
  {
   "cell_type": "code",
   "execution_count": 16,
   "metadata": {},
   "outputs": [
    {
     "data": {
      "text/html": [
       "<div>\n",
       "<style scoped>\n",
       "    .dataframe tbody tr th:only-of-type {\n",
       "        vertical-align: middle;\n",
       "    }\n",
       "\n",
       "    .dataframe tbody tr th {\n",
       "        vertical-align: top;\n",
       "    }\n",
       "\n",
       "    .dataframe thead th {\n",
       "        text-align: right;\n",
       "    }\n",
       "</style>\n",
       "<table border=\"1\" class=\"dataframe\">\n",
       "  <thead>\n",
       "    <tr style=\"text-align: right;\">\n",
       "      <th></th>\n",
       "      <th>user_id</th>\n",
       "      <th>score</th>\n",
       "      <th>city</th>\n",
       "      <th>gender</th>\n",
       "      <th>age</th>\n",
       "      <th>equity</th>\n",
       "      <th>balance</th>\n",
       "      <th>products</th>\n",
       "      <th>credit_card</th>\n",
       "      <th>last_activity</th>\n",
       "      <th>est_salary</th>\n",
       "      <th>churn</th>\n",
       "    </tr>\n",
       "  </thead>\n",
       "  <tbody>\n",
       "    <tr>\n",
       "      <th>1893</th>\n",
       "      <td>116540</td>\n",
       "      <td>883</td>\n",
       "      <td>Рыбинск</td>\n",
       "      <td>Ж</td>\n",
       "      <td>55</td>\n",
       "      <td>1</td>\n",
       "      <td>362756.49</td>\n",
       "      <td>3</td>\n",
       "      <td>0</td>\n",
       "      <td>1</td>\n",
       "      <td>175920.48</td>\n",
       "      <td>1</td>\n",
       "    </tr>\n",
       "    <tr>\n",
       "      <th>7694</th>\n",
       "      <td>116540</td>\n",
       "      <td>887</td>\n",
       "      <td>Ярославль</td>\n",
       "      <td>Ж</td>\n",
       "      <td>38</td>\n",
       "      <td>0</td>\n",
       "      <td>NaN</td>\n",
       "      <td>1</td>\n",
       "      <td>0</td>\n",
       "      <td>1</td>\n",
       "      <td>119247.61</td>\n",
       "      <td>0</td>\n",
       "    </tr>\n",
       "    <tr>\n",
       "      <th>4866</th>\n",
       "      <td>117943</td>\n",
       "      <td>855</td>\n",
       "      <td>Рыбинск</td>\n",
       "      <td>Ж</td>\n",
       "      <td>32</td>\n",
       "      <td>6</td>\n",
       "      <td>1036832.93</td>\n",
       "      <td>4</td>\n",
       "      <td>1</td>\n",
       "      <td>1</td>\n",
       "      <td>107792.71</td>\n",
       "      <td>1</td>\n",
       "    </tr>\n",
       "    <tr>\n",
       "      <th>7542</th>\n",
       "      <td>117943</td>\n",
       "      <td>880</td>\n",
       "      <td>Ярославль</td>\n",
       "      <td>Ж</td>\n",
       "      <td>40</td>\n",
       "      <td>0</td>\n",
       "      <td>NaN</td>\n",
       "      <td>1</td>\n",
       "      <td>1</td>\n",
       "      <td>0</td>\n",
       "      <td>137718.93</td>\n",
       "      <td>0</td>\n",
       "    </tr>\n",
       "    <tr>\n",
       "      <th>5863</th>\n",
       "      <td>120258</td>\n",
       "      <td>908</td>\n",
       "      <td>Рыбинск</td>\n",
       "      <td>Ж</td>\n",
       "      <td>38</td>\n",
       "      <td>4</td>\n",
       "      <td>2213581.63</td>\n",
       "      <td>2</td>\n",
       "      <td>0</td>\n",
       "      <td>1</td>\n",
       "      <td>160327.77</td>\n",
       "      <td>1</td>\n",
       "    </tr>\n",
       "    <tr>\n",
       "      <th>...</th>\n",
       "      <td>...</td>\n",
       "      <td>...</td>\n",
       "      <td>...</td>\n",
       "      <td>...</td>\n",
       "      <td>...</td>\n",
       "      <td>...</td>\n",
       "      <td>...</td>\n",
       "      <td>...</td>\n",
       "      <td>...</td>\n",
       "      <td>...</td>\n",
       "      <td>...</td>\n",
       "      <td>...</td>\n",
       "    </tr>\n",
       "    <tr>\n",
       "      <th>2302</th>\n",
       "      <td>220816</td>\n",
       "      <td>934</td>\n",
       "      <td>Рыбинск</td>\n",
       "      <td>Ж</td>\n",
       "      <td>74</td>\n",
       "      <td>5</td>\n",
       "      <td>1294285.39</td>\n",
       "      <td>3</td>\n",
       "      <td>1</td>\n",
       "      <td>0</td>\n",
       "      <td>95606.80</td>\n",
       "      <td>0</td>\n",
       "    </tr>\n",
       "    <tr>\n",
       "      <th>2597</th>\n",
       "      <td>226719</td>\n",
       "      <td>990</td>\n",
       "      <td>Ярославль</td>\n",
       "      <td>М</td>\n",
       "      <td>37</td>\n",
       "      <td>4</td>\n",
       "      <td>14648692.14</td>\n",
       "      <td>2</td>\n",
       "      <td>0</td>\n",
       "      <td>0</td>\n",
       "      <td>934412.61</td>\n",
       "      <td>1</td>\n",
       "    </tr>\n",
       "    <tr>\n",
       "      <th>4216</th>\n",
       "      <td>226719</td>\n",
       "      <td>903</td>\n",
       "      <td>Рыбинск</td>\n",
       "      <td>Ж</td>\n",
       "      <td>63</td>\n",
       "      <td>0</td>\n",
       "      <td>NaN</td>\n",
       "      <td>1</td>\n",
       "      <td>1</td>\n",
       "      <td>0</td>\n",
       "      <td>138582.58</td>\n",
       "      <td>0</td>\n",
       "    </tr>\n",
       "    <tr>\n",
       "      <th>8205</th>\n",
       "      <td>227795</td>\n",
       "      <td>840</td>\n",
       "      <td>Рыбинск</td>\n",
       "      <td>М</td>\n",
       "      <td>34</td>\n",
       "      <td>2</td>\n",
       "      <td>350768.03</td>\n",
       "      <td>1</td>\n",
       "      <td>1</td>\n",
       "      <td>0</td>\n",
       "      <td>102036.14</td>\n",
       "      <td>1</td>\n",
       "    </tr>\n",
       "    <tr>\n",
       "      <th>8497</th>\n",
       "      <td>227795</td>\n",
       "      <td>839</td>\n",
       "      <td>Ярославль</td>\n",
       "      <td>М</td>\n",
       "      <td>34</td>\n",
       "      <td>2</td>\n",
       "      <td>326593.14</td>\n",
       "      <td>2</td>\n",
       "      <td>1</td>\n",
       "      <td>0</td>\n",
       "      <td>103314.92</td>\n",
       "      <td>0</td>\n",
       "    </tr>\n",
       "  </tbody>\n",
       "</table>\n",
       "<p>100 rows × 12 columns</p>\n",
       "</div>"
      ],
      "text/plain": [
       "     user_id  score       city gender  age  equity      balance  products  \\\n",
       "1893  116540    883    Рыбинск      Ж   55       1    362756.49         3   \n",
       "7694  116540    887  Ярославль      Ж   38       0          NaN         1   \n",
       "4866  117943    855    Рыбинск      Ж   32       6   1036832.93         4   \n",
       "7542  117943    880  Ярославль      Ж   40       0          NaN         1   \n",
       "5863  120258    908    Рыбинск      Ж   38       4   2213581.63         2   \n",
       "...      ...    ...        ...    ...  ...     ...          ...       ...   \n",
       "2302  220816    934    Рыбинск      Ж   74       5   1294285.39         3   \n",
       "2597  226719    990  Ярославль      М   37       4  14648692.14         2   \n",
       "4216  226719    903    Рыбинск      Ж   63       0          NaN         1   \n",
       "8205  227795    840    Рыбинск      М   34       2    350768.03         1   \n",
       "8497  227795    839  Ярославль      М   34       2    326593.14         2   \n",
       "\n",
       "      credit_card  last_activity  est_salary  churn  \n",
       "1893            0              1   175920.48      1  \n",
       "7694            0              1   119247.61      0  \n",
       "4866            1              1   107792.71      1  \n",
       "7542            1              0   137718.93      0  \n",
       "5863            0              1   160327.77      1  \n",
       "...           ...            ...         ...    ...  \n",
       "2302            1              0    95606.80      0  \n",
       "2597            0              0   934412.61      1  \n",
       "4216            1              0   138582.58      0  \n",
       "8205            1              0   102036.14      1  \n",
       "8497            1              0   103314.92      0  \n",
       "\n",
       "[100 rows x 12 columns]"
      ]
     },
     "execution_count": 16,
     "metadata": {},
     "output_type": "execute_result"
    }
   ],
   "source": [
    "#проверим наличие дубликатов по столбцу user_id\n",
    "#pd.set_option('display.max_rows', None)\n",
    "data[data.duplicated(['user_id'], keep=False)].sort_values(by='user_id')"
   ]
  },
  {
   "cell_type": "markdown",
   "metadata": {},
   "source": [
    "Дубликаты по user_id выявлены в городах Рыбинск и Ярославль. В то же время остальные данные не дублируются. Пока что массово удалять дубликаты не буду. нужно разобраться какое количество отточных клиентов среди дубликатов и пропусков."
   ]
  },
  {
   "cell_type": "code",
   "execution_count": 17,
   "metadata": {
    "scrolled": true
   },
   "outputs": [
    {
     "data": {
      "text/html": [
       "<div>\n",
       "<style scoped>\n",
       "    .dataframe tbody tr th:only-of-type {\n",
       "        vertical-align: middle;\n",
       "    }\n",
       "\n",
       "    .dataframe tbody tr th {\n",
       "        vertical-align: top;\n",
       "    }\n",
       "\n",
       "    .dataframe thead th {\n",
       "        text-align: right;\n",
       "    }\n",
       "</style>\n",
       "<table border=\"1\" class=\"dataframe\">\n",
       "  <thead>\n",
       "    <tr style=\"text-align: right;\">\n",
       "      <th></th>\n",
       "      <th>user_id</th>\n",
       "      <th>score</th>\n",
       "      <th>city</th>\n",
       "      <th>gender</th>\n",
       "      <th>age</th>\n",
       "      <th>equity</th>\n",
       "      <th>balance</th>\n",
       "      <th>products</th>\n",
       "      <th>credit_card</th>\n",
       "      <th>last_activity</th>\n",
       "      <th>est_salary</th>\n",
       "      <th>churn</th>\n",
       "    </tr>\n",
       "  </thead>\n",
       "  <tbody>\n",
       "  </tbody>\n",
       "</table>\n",
       "</div>"
      ],
      "text/plain": [
       "Empty DataFrame\n",
       "Columns: [user_id, score, city, gender, age, equity, balance, products, credit_card, last_activity, est_salary, churn]\n",
       "Index: []"
      ]
     },
     "execution_count": 17,
     "metadata": {},
     "output_type": "execute_result"
    }
   ],
   "source": [
    "#Поищем неявные дубликаты\n",
    "data[data.duplicated(['user_id', 'gender', 'products', 'credit_card', 'est_salary'], keep=False)].sort_values(by='user_id')"
   ]
  },
  {
   "cell_type": "markdown",
   "metadata": {},
   "source": [
    "неявных дубликатов не нашлось. Скорее всего проблема в присвоении ID пользователям. Так как информация доблируется только в user_id, а мы не исследуем каждого пользователя персонально по id, то я не буду удалять эти строки "
   ]
  },
  {
   "cell_type": "code",
   "execution_count": 18,
   "metadata": {},
   "outputs": [
    {
     "data": {
      "text/html": [
       "<div>\n",
       "<style scoped>\n",
       "    .dataframe tbody tr th:only-of-type {\n",
       "        vertical-align: middle;\n",
       "    }\n",
       "\n",
       "    .dataframe tbody tr th {\n",
       "        vertical-align: top;\n",
       "    }\n",
       "\n",
       "    .dataframe thead th {\n",
       "        text-align: right;\n",
       "    }\n",
       "</style>\n",
       "<table border=\"1\" class=\"dataframe\">\n",
       "  <thead>\n",
       "    <tr style=\"text-align: right;\">\n",
       "      <th></th>\n",
       "      <th>user_id</th>\n",
       "      <th>score</th>\n",
       "      <th>city</th>\n",
       "      <th>gender</th>\n",
       "      <th>age</th>\n",
       "      <th>equity</th>\n",
       "      <th>balance</th>\n",
       "      <th>products</th>\n",
       "      <th>credit_card</th>\n",
       "      <th>last_activity</th>\n",
       "      <th>est_salary</th>\n",
       "      <th>churn</th>\n",
       "    </tr>\n",
       "  </thead>\n",
       "  <tbody>\n",
       "    <tr>\n",
       "      <th>2</th>\n",
       "      <td>120722</td>\n",
       "      <td>892</td>\n",
       "      <td>Рыбинск</td>\n",
       "      <td>Ж</td>\n",
       "      <td>30</td>\n",
       "      <td>0</td>\n",
       "      <td>NaN</td>\n",
       "      <td>1</td>\n",
       "      <td>1</td>\n",
       "      <td>1</td>\n",
       "      <td>107683.34</td>\n",
       "      <td>0</td>\n",
       "    </tr>\n",
       "    <tr>\n",
       "      <th>9</th>\n",
       "      <td>133130</td>\n",
       "      <td>906</td>\n",
       "      <td>Ярославль</td>\n",
       "      <td>Ж</td>\n",
       "      <td>67</td>\n",
       "      <td>0</td>\n",
       "      <td>NaN</td>\n",
       "      <td>1</td>\n",
       "      <td>0</td>\n",
       "      <td>1</td>\n",
       "      <td>238055.53</td>\n",
       "      <td>0</td>\n",
       "    </tr>\n",
       "    <tr>\n",
       "      <th>10</th>\n",
       "      <td>148929</td>\n",
       "      <td>927</td>\n",
       "      <td>Ростов</td>\n",
       "      <td>М</td>\n",
       "      <td>52</td>\n",
       "      <td>0</td>\n",
       "      <td>NaN</td>\n",
       "      <td>1</td>\n",
       "      <td>1</td>\n",
       "      <td>1</td>\n",
       "      <td>196820.07</td>\n",
       "      <td>0</td>\n",
       "    </tr>\n",
       "    <tr>\n",
       "      <th>11</th>\n",
       "      <td>172184</td>\n",
       "      <td>921</td>\n",
       "      <td>Ростов</td>\n",
       "      <td>М</td>\n",
       "      <td>41</td>\n",
       "      <td>0</td>\n",
       "      <td>NaN</td>\n",
       "      <td>1</td>\n",
       "      <td>1</td>\n",
       "      <td>1</td>\n",
       "      <td>217469.48</td>\n",
       "      <td>0</td>\n",
       "    </tr>\n",
       "    <tr>\n",
       "      <th>19</th>\n",
       "      <td>127034</td>\n",
       "      <td>922</td>\n",
       "      <td>Рыбинск</td>\n",
       "      <td>Ж</td>\n",
       "      <td>53</td>\n",
       "      <td>0</td>\n",
       "      <td>NaN</td>\n",
       "      <td>1</td>\n",
       "      <td>0</td>\n",
       "      <td>0</td>\n",
       "      <td>147094.82</td>\n",
       "      <td>0</td>\n",
       "    </tr>\n",
       "    <tr>\n",
       "      <th>21</th>\n",
       "      <td>177415</td>\n",
       "      <td>896</td>\n",
       "      <td>Рыбинск</td>\n",
       "      <td>Ж</td>\n",
       "      <td>47</td>\n",
       "      <td>0</td>\n",
       "      <td>NaN</td>\n",
       "      <td>1</td>\n",
       "      <td>0</td>\n",
       "      <td>0</td>\n",
       "      <td>225060.35</td>\n",
       "      <td>0</td>\n",
       "    </tr>\n",
       "    <tr>\n",
       "      <th>30</th>\n",
       "      <td>155730</td>\n",
       "      <td>946</td>\n",
       "      <td>Ярославль</td>\n",
       "      <td>Ж</td>\n",
       "      <td>47</td>\n",
       "      <td>0</td>\n",
       "      <td>NaN</td>\n",
       "      <td>2</td>\n",
       "      <td>1</td>\n",
       "      <td>1</td>\n",
       "      <td>660015.85</td>\n",
       "      <td>0</td>\n",
       "    </tr>\n",
       "    <tr>\n",
       "      <th>34</th>\n",
       "      <td>205226</td>\n",
       "      <td>944</td>\n",
       "      <td>Ярославль</td>\n",
       "      <td>М</td>\n",
       "      <td>35</td>\n",
       "      <td>0</td>\n",
       "      <td>NaN</td>\n",
       "      <td>2</td>\n",
       "      <td>1</td>\n",
       "      <td>1</td>\n",
       "      <td>239843.39</td>\n",
       "      <td>0</td>\n",
       "    </tr>\n",
       "    <tr>\n",
       "      <th>39</th>\n",
       "      <td>173175</td>\n",
       "      <td>924</td>\n",
       "      <td>Рыбинск</td>\n",
       "      <td>Ж</td>\n",
       "      <td>51</td>\n",
       "      <td>0</td>\n",
       "      <td>NaN</td>\n",
       "      <td>1</td>\n",
       "      <td>1</td>\n",
       "      <td>1</td>\n",
       "      <td>248844.47</td>\n",
       "      <td>0</td>\n",
       "    </tr>\n",
       "    <tr>\n",
       "      <th>43</th>\n",
       "      <td>228585</td>\n",
       "      <td>956</td>\n",
       "      <td>Ростов</td>\n",
       "      <td>М</td>\n",
       "      <td>41</td>\n",
       "      <td>0</td>\n",
       "      <td>NaN</td>\n",
       "      <td>1</td>\n",
       "      <td>1</td>\n",
       "      <td>0</td>\n",
       "      <td>115117.10</td>\n",
       "      <td>0</td>\n",
       "    </tr>\n",
       "  </tbody>\n",
       "</table>\n",
       "</div>"
      ],
      "text/plain": [
       "   user_id  score       city gender  age  equity  balance  products  \\\n",
       "2   120722    892    Рыбинск      Ж   30       0      NaN         1   \n",
       "9   133130    906  Ярославль      Ж   67       0      NaN         1   \n",
       "10  148929    927     Ростов      М   52       0      NaN         1   \n",
       "11  172184    921     Ростов      М   41       0      NaN         1   \n",
       "19  127034    922    Рыбинск      Ж   53       0      NaN         1   \n",
       "21  177415    896    Рыбинск      Ж   47       0      NaN         1   \n",
       "30  155730    946  Ярославль      Ж   47       0      NaN         2   \n",
       "34  205226    944  Ярославль      М   35       0      NaN         2   \n",
       "39  173175    924    Рыбинск      Ж   51       0      NaN         1   \n",
       "43  228585    956     Ростов      М   41       0      NaN         1   \n",
       "\n",
       "    credit_card  last_activity  est_salary  churn  \n",
       "2             1              1   107683.34      0  \n",
       "9             0              1   238055.53      0  \n",
       "10            1              1   196820.07      0  \n",
       "11            1              1   217469.48      0  \n",
       "19            0              0   147094.82      0  \n",
       "21            0              0   225060.35      0  \n",
       "30            1              1   660015.85      0  \n",
       "34            1              1   239843.39      0  \n",
       "39            1              1   248844.47      0  \n",
       "43            1              0   115117.10      0  "
      ]
     },
     "execution_count": 18,
     "metadata": {},
     "output_type": "execute_result"
    }
   ],
   "source": [
    "df_1 = data[data['balance'].isnull()]\n",
    "df_1.head(10)"
   ]
  },
  {
   "cell_type": "code",
   "execution_count": 19,
   "metadata": {},
   "outputs": [
    {
     "data": {
      "text/plain": [
       "0    0.994732\n",
       "1    0.005268\n",
       "Name: churn, dtype: float64"
      ]
     },
     "execution_count": 19,
     "metadata": {},
     "output_type": "execute_result"
    }
   ],
   "source": [
    "df_1['churn'].value_counts(normalize=True)"
   ]
  },
  {
   "cell_type": "markdown",
   "metadata": {},
   "source": [
    "99.4% строк с пропусками в столбце balance относятся к пользователям, которые не являются отточными. Глобально, отсутствие этих сведений не повлияет на основную цель исследования. Таким образом не вижу смысла заполнять эти данные "
   ]
  },
  {
   "cell_type": "code",
   "execution_count": 20,
   "metadata": {
    "scrolled": false
   },
   "outputs": [
    {
     "data": {
      "text/html": [
       "<div>\n",
       "<style scoped>\n",
       "    .dataframe tbody tr th:only-of-type {\n",
       "        vertical-align: middle;\n",
       "    }\n",
       "\n",
       "    .dataframe tbody tr th {\n",
       "        vertical-align: top;\n",
       "    }\n",
       "\n",
       "    .dataframe thead th {\n",
       "        text-align: right;\n",
       "    }\n",
       "</style>\n",
       "<table border=\"1\" class=\"dataframe\">\n",
       "  <thead>\n",
       "    <tr style=\"text-align: right;\">\n",
       "      <th></th>\n",
       "      <th>user_id</th>\n",
       "      <th>score</th>\n",
       "      <th>city</th>\n",
       "      <th>gender</th>\n",
       "      <th>age</th>\n",
       "      <th>equity</th>\n",
       "      <th>balance</th>\n",
       "      <th>products</th>\n",
       "      <th>credit_card</th>\n",
       "      <th>last_activity</th>\n",
       "      <th>est_salary</th>\n",
       "      <th>churn</th>\n",
       "      <th>missing_value</th>\n",
       "    </tr>\n",
       "  </thead>\n",
       "  <tbody>\n",
       "    <tr>\n",
       "      <th>0</th>\n",
       "      <td>183012</td>\n",
       "      <td>850</td>\n",
       "      <td>Рыбинск</td>\n",
       "      <td>Ж</td>\n",
       "      <td>25</td>\n",
       "      <td>1</td>\n",
       "      <td>59214.82</td>\n",
       "      <td>2</td>\n",
       "      <td>0</td>\n",
       "      <td>1</td>\n",
       "      <td>75719.14</td>\n",
       "      <td>1</td>\n",
       "      <td>0</td>\n",
       "    </tr>\n",
       "    <tr>\n",
       "      <th>1</th>\n",
       "      <td>146556</td>\n",
       "      <td>861</td>\n",
       "      <td>Рыбинск</td>\n",
       "      <td>Ж</td>\n",
       "      <td>37</td>\n",
       "      <td>5</td>\n",
       "      <td>850594.33</td>\n",
       "      <td>3</td>\n",
       "      <td>1</td>\n",
       "      <td>0</td>\n",
       "      <td>86621.77</td>\n",
       "      <td>0</td>\n",
       "      <td>0</td>\n",
       "    </tr>\n",
       "    <tr>\n",
       "      <th>2</th>\n",
       "      <td>120722</td>\n",
       "      <td>892</td>\n",
       "      <td>Рыбинск</td>\n",
       "      <td>Ж</td>\n",
       "      <td>30</td>\n",
       "      <td>0</td>\n",
       "      <td>NaN</td>\n",
       "      <td>1</td>\n",
       "      <td>1</td>\n",
       "      <td>1</td>\n",
       "      <td>107683.34</td>\n",
       "      <td>0</td>\n",
       "      <td>1</td>\n",
       "    </tr>\n",
       "    <tr>\n",
       "      <th>3</th>\n",
       "      <td>225363</td>\n",
       "      <td>866</td>\n",
       "      <td>Ярославль</td>\n",
       "      <td>Ж</td>\n",
       "      <td>51</td>\n",
       "      <td>5</td>\n",
       "      <td>1524746.26</td>\n",
       "      <td>2</td>\n",
       "      <td>0</td>\n",
       "      <td>1</td>\n",
       "      <td>174423.53</td>\n",
       "      <td>1</td>\n",
       "      <td>0</td>\n",
       "    </tr>\n",
       "    <tr>\n",
       "      <th>4</th>\n",
       "      <td>157978</td>\n",
       "      <td>730</td>\n",
       "      <td>Ярославль</td>\n",
       "      <td>М</td>\n",
       "      <td>34</td>\n",
       "      <td>5</td>\n",
       "      <td>174.00</td>\n",
       "      <td>1</td>\n",
       "      <td>1</td>\n",
       "      <td>0</td>\n",
       "      <td>67353.16</td>\n",
       "      <td>1</td>\n",
       "      <td>0</td>\n",
       "    </tr>\n",
       "    <tr>\n",
       "      <th>5</th>\n",
       "      <td>202305</td>\n",
       "      <td>856</td>\n",
       "      <td>Рыбинск</td>\n",
       "      <td>М</td>\n",
       "      <td>56</td>\n",
       "      <td>4</td>\n",
       "      <td>863687.24</td>\n",
       "      <td>3</td>\n",
       "      <td>1</td>\n",
       "      <td>0</td>\n",
       "      <td>156619.80</td>\n",
       "      <td>0</td>\n",
       "      <td>0</td>\n",
       "    </tr>\n",
       "    <tr>\n",
       "      <th>6</th>\n",
       "      <td>177259</td>\n",
       "      <td>807</td>\n",
       "      <td>Ярославль</td>\n",
       "      <td>Ж</td>\n",
       "      <td>39</td>\n",
       "      <td>3</td>\n",
       "      <td>405042.44</td>\n",
       "      <td>3</td>\n",
       "      <td>0</td>\n",
       "      <td>1</td>\n",
       "      <td>103838.32</td>\n",
       "      <td>0</td>\n",
       "      <td>0</td>\n",
       "    </tr>\n",
       "    <tr>\n",
       "      <th>7</th>\n",
       "      <td>218868</td>\n",
       "      <td>825</td>\n",
       "      <td>Ярославль</td>\n",
       "      <td>Ж</td>\n",
       "      <td>38</td>\n",
       "      <td>4</td>\n",
       "      <td>458145.40</td>\n",
       "      <td>2</td>\n",
       "      <td>1</td>\n",
       "      <td>1</td>\n",
       "      <td>68085.48</td>\n",
       "      <td>0</td>\n",
       "      <td>0</td>\n",
       "    </tr>\n",
       "    <tr>\n",
       "      <th>8</th>\n",
       "      <td>211686</td>\n",
       "      <td>923</td>\n",
       "      <td>Ярославль</td>\n",
       "      <td>М</td>\n",
       "      <td>54</td>\n",
       "      <td>5</td>\n",
       "      <td>1206337.87</td>\n",
       "      <td>2</td>\n",
       "      <td>1</td>\n",
       "      <td>0</td>\n",
       "      <td>155371.79</td>\n",
       "      <td>0</td>\n",
       "      <td>0</td>\n",
       "    </tr>\n",
       "    <tr>\n",
       "      <th>9</th>\n",
       "      <td>133130</td>\n",
       "      <td>906</td>\n",
       "      <td>Ярославль</td>\n",
       "      <td>Ж</td>\n",
       "      <td>67</td>\n",
       "      <td>0</td>\n",
       "      <td>NaN</td>\n",
       "      <td>1</td>\n",
       "      <td>0</td>\n",
       "      <td>1</td>\n",
       "      <td>238055.53</td>\n",
       "      <td>0</td>\n",
       "      <td>1</td>\n",
       "    </tr>\n",
       "  </tbody>\n",
       "</table>\n",
       "</div>"
      ],
      "text/plain": [
       "  user_id  score       city gender  age  equity     balance  products  \\\n",
       "0  183012    850    Рыбинск      Ж   25       1    59214.82         2   \n",
       "1  146556    861    Рыбинск      Ж   37       5   850594.33         3   \n",
       "2  120722    892    Рыбинск      Ж   30       0         NaN         1   \n",
       "3  225363    866  Ярославль      Ж   51       5  1524746.26         2   \n",
       "4  157978    730  Ярославль      М   34       5      174.00         1   \n",
       "5  202305    856    Рыбинск      М   56       4   863687.24         3   \n",
       "6  177259    807  Ярославль      Ж   39       3   405042.44         3   \n",
       "7  218868    825  Ярославль      Ж   38       4   458145.40         2   \n",
       "8  211686    923  Ярославль      М   54       5  1206337.87         2   \n",
       "9  133130    906  Ярославль      Ж   67       0         NaN         1   \n",
       "\n",
       "   credit_card  last_activity  est_salary  churn  missing_value  \n",
       "0            0              1    75719.14      1              0  \n",
       "1            1              0    86621.77      0              0  \n",
       "2            1              1   107683.34      0              1  \n",
       "3            0              1   174423.53      1              0  \n",
       "4            1              0    67353.16      1              0  \n",
       "5            1              0   156619.80      0              0  \n",
       "6            0              1   103838.32      0              0  \n",
       "7            1              1    68085.48      0              0  \n",
       "8            1              0   155371.79      0              0  \n",
       "9            0              1   238055.53      0              1  "
      ]
     },
     "execution_count": 20,
     "metadata": {},
     "output_type": "execute_result"
    }
   ],
   "source": [
    "#кодирование столбца balance с пропусками\n",
    "data['missing_value'] = data['balance'].apply(lambda x: 1 if pd.isna(x) else 0).astype(int)\n",
    "data.head(10)"
   ]
  },
  {
   "cell_type": "code",
   "execution_count": 21,
   "metadata": {
    "scrolled": false
   },
   "outputs": [
    {
     "data": {
      "image/png": "[encoded data removed]",
      "text/plain": [
       "<Figure size 1080x576 with 1 Axes>"
      ]
     },
     "metadata": {
      "needs_background": "light"
     },
     "output_type": "display_data"
    }
   ],
   "source": [
    "data_1 = data.query('missing_value == 1') #данные с пропусками\n",
    "data_2 = data.query('missing_value == 0') #данные без пропусков\n",
    "data_medians = data.groupby('missing_value')['est_salary'].median().sort_values(ascending=False)\n",
    "# Построение графика с учетом сортировки по медиане\n",
    "plt.figure(figsize=(15, 8))\n",
    "ax = sns.boxplot(x='missing_value', y='est_salary', data=data, color='#3CB371', order=data_medians.index)\n",
    "plt.title('Медиана дохода клиентов в разрезе данных с пропусками и без')\n",
    "plt.xlabel('Пропущенные значения')\n",
    "plt.ylabel('Доход')\n",
    "plt.ylim(0, 450000)\n",
    "plt.grid(True)\n",
    "plt.show()\n",
    "plt.show()"
   ]
  },
  {
   "cell_type": "code",
   "execution_count": 22,
   "metadata": {
    "scrolled": false
   },
   "outputs": [
    {
     "data": {
      "text/html": [
       "<div>\n",
       "<style scoped>\n",
       "    .dataframe tbody tr th:only-of-type {\n",
       "        vertical-align: middle;\n",
       "    }\n",
       "\n",
       "    .dataframe tbody tr th {\n",
       "        vertical-align: top;\n",
       "    }\n",
       "\n",
       "    .dataframe thead th {\n",
       "        text-align: right;\n",
       "    }\n",
       "</style>\n",
       "<table border=\"1\" class=\"dataframe\">\n",
       "  <thead>\n",
       "    <tr style=\"text-align: right;\">\n",
       "      <th></th>\n",
       "      <th>score</th>\n",
       "      <th>age</th>\n",
       "      <th>equity</th>\n",
       "      <th>balance</th>\n",
       "      <th>products</th>\n",
       "      <th>credit_card</th>\n",
       "      <th>last_activity</th>\n",
       "      <th>est_salary</th>\n",
       "      <th>churn</th>\n",
       "      <th>missing_value</th>\n",
       "    </tr>\n",
       "  </thead>\n",
       "  <tbody>\n",
       "    <tr>\n",
       "      <th>count</th>\n",
       "      <td>2278.000000</td>\n",
       "      <td>2278.000000</td>\n",
       "      <td>2278.000000</td>\n",
       "      <td>0.0</td>\n",
       "      <td>2278.000000</td>\n",
       "      <td>2278.000000</td>\n",
       "      <td>2278.000000</td>\n",
       "      <td>2.278000e+03</td>\n",
       "      <td>2278.000000</td>\n",
       "      <td>2278.0</td>\n",
       "    </tr>\n",
       "    <tr>\n",
       "      <th>mean</th>\n",
       "      <td>865.314750</td>\n",
       "      <td>42.076822</td>\n",
       "      <td>0.050044</td>\n",
       "      <td>NaN</td>\n",
       "      <td>1.163740</td>\n",
       "      <td>0.815628</td>\n",
       "      <td>0.549166</td>\n",
       "      <td>2.264338e+05</td>\n",
       "      <td>0.005268</td>\n",
       "      <td>1.0</td>\n",
       "    </tr>\n",
       "    <tr>\n",
       "      <th>std</th>\n",
       "      <td>89.550489</td>\n",
       "      <td>11.919094</td>\n",
       "      <td>0.218083</td>\n",
       "      <td>NaN</td>\n",
       "      <td>0.403065</td>\n",
       "      <td>0.387873</td>\n",
       "      <td>0.497686</td>\n",
       "      <td>1.998249e+05</td>\n",
       "      <td>0.072404</td>\n",
       "      <td>0.0</td>\n",
       "    </tr>\n",
       "    <tr>\n",
       "      <th>min</th>\n",
       "      <td>642.000000</td>\n",
       "      <td>18.000000</td>\n",
       "      <td>0.000000</td>\n",
       "      <td>NaN</td>\n",
       "      <td>1.000000</td>\n",
       "      <td>0.000000</td>\n",
       "      <td>0.000000</td>\n",
       "      <td>2.027403e+04</td>\n",
       "      <td>0.000000</td>\n",
       "      <td>1.0</td>\n",
       "    </tr>\n",
       "    <tr>\n",
       "      <th>25%</th>\n",
       "      <td>871.000000</td>\n",
       "      <td>33.000000</td>\n",
       "      <td>0.000000</td>\n",
       "      <td>NaN</td>\n",
       "      <td>1.000000</td>\n",
       "      <td>1.000000</td>\n",
       "      <td>0.000000</td>\n",
       "      <td>1.202695e+05</td>\n",
       "      <td>0.000000</td>\n",
       "      <td>1.0</td>\n",
       "    </tr>\n",
       "    <tr>\n",
       "      <th>50%</th>\n",
       "      <td>903.000000</td>\n",
       "      <td>40.000000</td>\n",
       "      <td>0.000000</td>\n",
       "      <td>NaN</td>\n",
       "      <td>1.000000</td>\n",
       "      <td>1.000000</td>\n",
       "      <td>1.000000</td>\n",
       "      <td>1.743542e+05</td>\n",
       "      <td>0.000000</td>\n",
       "      <td>1.0</td>\n",
       "    </tr>\n",
       "    <tr>\n",
       "      <th>75%</th>\n",
       "      <td>922.000000</td>\n",
       "      <td>49.000000</td>\n",
       "      <td>0.000000</td>\n",
       "      <td>NaN</td>\n",
       "      <td>1.000000</td>\n",
       "      <td>1.000000</td>\n",
       "      <td>1.000000</td>\n",
       "      <td>2.403970e+05</td>\n",
       "      <td>0.000000</td>\n",
       "      <td>1.0</td>\n",
       "    </tr>\n",
       "    <tr>\n",
       "      <th>max</th>\n",
       "      <td>990.000000</td>\n",
       "      <td>86.000000</td>\n",
       "      <td>1.000000</td>\n",
       "      <td>NaN</td>\n",
       "      <td>3.000000</td>\n",
       "      <td>1.000000</td>\n",
       "      <td>1.000000</td>\n",
       "      <td>1.333687e+06</td>\n",
       "      <td>1.000000</td>\n",
       "      <td>1.0</td>\n",
       "    </tr>\n",
       "  </tbody>\n",
       "</table>\n",
       "</div>"
      ],
      "text/plain": [
       "             score          age       equity  balance     products  \\\n",
       "count  2278.000000  2278.000000  2278.000000      0.0  2278.000000   \n",
       "mean    865.314750    42.076822     0.050044      NaN     1.163740   \n",
       "std      89.550489    11.919094     0.218083      NaN     0.403065   \n",
       "min     642.000000    18.000000     0.000000      NaN     1.000000   \n",
       "25%     871.000000    33.000000     0.000000      NaN     1.000000   \n",
       "50%     903.000000    40.000000     0.000000      NaN     1.000000   \n",
       "75%     922.000000    49.000000     0.000000      NaN     1.000000   \n",
       "max     990.000000    86.000000     1.000000      NaN     3.000000   \n",
       "\n",
       "       credit_card  last_activity    est_salary        churn  missing_value  \n",
       "count  2278.000000    2278.000000  2.278000e+03  2278.000000         2278.0  \n",
       "mean      0.815628       0.549166  2.264338e+05     0.005268            1.0  \n",
       "std       0.387873       0.497686  1.998249e+05     0.072404            0.0  \n",
       "min       0.000000       0.000000  2.027403e+04     0.000000            1.0  \n",
       "25%       1.000000       0.000000  1.202695e+05     0.000000            1.0  \n",
       "50%       1.000000       1.000000  1.743542e+05     0.000000            1.0  \n",
       "75%       1.000000       1.000000  2.403970e+05     0.000000            1.0  \n",
       "max       1.000000       1.000000  1.333687e+06     1.000000            1.0  "
      ]
     },
     "execution_count": 22,
     "metadata": {},
     "output_type": "execute_result"
    }
   ],
   "source": [
    "data_1.describe()"
   ]
  },
  {
   "cell_type": "code",
   "execution_count": 23,
   "metadata": {
    "scrolled": true
   },
   "outputs": [
    {
     "data": {
      "text/html": [
       "<div>\n",
       "<style scoped>\n",
       "    .dataframe tbody tr th:only-of-type {\n",
       "        vertical-align: middle;\n",
       "    }\n",
       "\n",
       "    .dataframe tbody tr th {\n",
       "        vertical-align: top;\n",
       "    }\n",
       "\n",
       "    .dataframe thead th {\n",
       "        text-align: right;\n",
       "    }\n",
       "</style>\n",
       "<table border=\"1\" class=\"dataframe\">\n",
       "  <thead>\n",
       "    <tr style=\"text-align: right;\">\n",
       "      <th></th>\n",
       "      <th>score</th>\n",
       "      <th>age</th>\n",
       "      <th>equity</th>\n",
       "      <th>balance</th>\n",
       "      <th>products</th>\n",
       "      <th>credit_card</th>\n",
       "      <th>last_activity</th>\n",
       "      <th>est_salary</th>\n",
       "      <th>churn</th>\n",
       "      <th>missing_value</th>\n",
       "    </tr>\n",
       "  </thead>\n",
       "  <tbody>\n",
       "    <tr>\n",
       "      <th>count</th>\n",
       "      <td>7695.000000</td>\n",
       "      <td>7695.000000</td>\n",
       "      <td>7695.000000</td>\n",
       "      <td>7.695000e+03</td>\n",
       "      <td>7695.000000</td>\n",
       "      <td>7695.000000</td>\n",
       "      <td>7695.000000</td>\n",
       "      <td>7.695000e+03</td>\n",
       "      <td>7695.000000</td>\n",
       "      <td>7695.0</td>\n",
       "    </tr>\n",
       "    <tr>\n",
       "      <th>mean</th>\n",
       "      <td>843.744120</td>\n",
       "      <td>42.924366</td>\n",
       "      <td>3.394802</td>\n",
       "      <td>8.272456e+05</td>\n",
       "      <td>2.081222</td>\n",
       "      <td>0.640156</td>\n",
       "      <td>0.515140</td>\n",
       "      <td>1.245204e+05</td>\n",
       "      <td>0.234698</td>\n",
       "      <td>0.0</td>\n",
       "    </tr>\n",
       "    <tr>\n",
       "      <th>std</th>\n",
       "      <td>55.342539</td>\n",
       "      <td>12.244010</td>\n",
       "      <td>1.584817</td>\n",
       "      <td>1.980327e+06</td>\n",
       "      <td>0.757446</td>\n",
       "      <td>0.479986</td>\n",
       "      <td>0.499803</td>\n",
       "      <td>1.046671e+05</td>\n",
       "      <td>0.423837</td>\n",
       "      <td>0.0</td>\n",
       "    </tr>\n",
       "    <tr>\n",
       "      <th>min</th>\n",
       "      <td>689.000000</td>\n",
       "      <td>18.000000</td>\n",
       "      <td>0.000000</td>\n",
       "      <td>0.000000e+00</td>\n",
       "      <td>1.000000</td>\n",
       "      <td>0.000000</td>\n",
       "      <td>0.000000</td>\n",
       "      <td>2.546300e+03</td>\n",
       "      <td>0.000000</td>\n",
       "      <td>0.0</td>\n",
       "    </tr>\n",
       "    <tr>\n",
       "      <th>25%</th>\n",
       "      <td>801.000000</td>\n",
       "      <td>33.000000</td>\n",
       "      <td>2.000000</td>\n",
       "      <td>2.956987e+05</td>\n",
       "      <td>2.000000</td>\n",
       "      <td>0.000000</td>\n",
       "      <td>0.000000</td>\n",
       "      <td>6.755698e+04</td>\n",
       "      <td>0.000000</td>\n",
       "      <td>0.0</td>\n",
       "    </tr>\n",
       "    <tr>\n",
       "      <th>50%</th>\n",
       "      <td>840.000000</td>\n",
       "      <td>40.000000</td>\n",
       "      <td>4.000000</td>\n",
       "      <td>5.242953e+05</td>\n",
       "      <td>2.000000</td>\n",
       "      <td>1.000000</td>\n",
       "      <td>1.000000</td>\n",
       "      <td>1.062502e+05</td>\n",
       "      <td>0.000000</td>\n",
       "      <td>0.0</td>\n",
       "    </tr>\n",
       "    <tr>\n",
       "      <th>75%</th>\n",
       "      <td>882.000000</td>\n",
       "      <td>52.000000</td>\n",
       "      <td>5.000000</td>\n",
       "      <td>9.800512e+05</td>\n",
       "      <td>2.000000</td>\n",
       "      <td>1.000000</td>\n",
       "      <td>1.000000</td>\n",
       "      <td>1.551446e+05</td>\n",
       "      <td>0.000000</td>\n",
       "      <td>0.0</td>\n",
       "    </tr>\n",
       "    <tr>\n",
       "      <th>max</th>\n",
       "      <td>1000.000000</td>\n",
       "      <td>86.000000</td>\n",
       "      <td>9.000000</td>\n",
       "      <td>1.191136e+08</td>\n",
       "      <td>5.000000</td>\n",
       "      <td>1.000000</td>\n",
       "      <td>1.000000</td>\n",
       "      <td>1.395064e+06</td>\n",
       "      <td>1.000000</td>\n",
       "      <td>0.0</td>\n",
       "    </tr>\n",
       "  </tbody>\n",
       "</table>\n",
       "</div>"
      ],
      "text/plain": [
       "             score          age       equity       balance     products  \\\n",
       "count  7695.000000  7695.000000  7695.000000  7.695000e+03  7695.000000   \n",
       "mean    843.744120    42.924366     3.394802  8.272456e+05     2.081222   \n",
       "std      55.342539    12.244010     1.584817  1.980327e+06     0.757446   \n",
       "min     689.000000    18.000000     0.000000  0.000000e+00     1.000000   \n",
       "25%     801.000000    33.000000     2.000000  2.956987e+05     2.000000   \n",
       "50%     840.000000    40.000000     4.000000  5.242953e+05     2.000000   \n",
       "75%     882.000000    52.000000     5.000000  9.800512e+05     2.000000   \n",
       "max    1000.000000    86.000000     9.000000  1.191136e+08     5.000000   \n",
       "\n",
       "       credit_card  last_activity    est_salary        churn  missing_value  \n",
       "count  7695.000000    7695.000000  7.695000e+03  7695.000000         7695.0  \n",
       "mean      0.640156       0.515140  1.245204e+05     0.234698            0.0  \n",
       "std       0.479986       0.499803  1.046671e+05     0.423837            0.0  \n",
       "min       0.000000       0.000000  2.546300e+03     0.000000            0.0  \n",
       "25%       0.000000       0.000000  6.755698e+04     0.000000            0.0  \n",
       "50%       1.000000       1.000000  1.062502e+05     0.000000            0.0  \n",
       "75%       1.000000       1.000000  1.551446e+05     0.000000            0.0  \n",
       "max       1.000000       1.000000  1.395064e+06     1.000000            0.0  "
      ]
     },
     "execution_count": 23,
     "metadata": {},
     "output_type": "execute_result"
    }
   ],
   "source": [
    "data_2.describe()"
   ]
  },
  {
   "cell_type": "markdown",
   "metadata": {},
   "source": [
    "проведя дополнительное исследование выяснила, что медиана дохода в данных с пропусками составляет около 180 тыс рублей и доход этих клиентов в диапазоне от 120 до 245 тыс рублей. Там же, где пропусков нет медиана находится в районе 110 тыс рублей, а диапазон дохода от 65 до 155 тыс.\n",
    "Так же судя по описанию двух таблиц значительных отклонений в средней нет, кроме разницы по количеству продуктов. \n",
    "Таким образом, решение оставить пропуски и не заполнять их остается в силе."
   ]
  },
  {
   "cell_type": "code",
   "execution_count": 24,
   "metadata": {
    "scrolled": true
   },
   "outputs": [],
   "source": [
    "#кодирование столбцов city \n",
    "data['city_1'] = data['city']\n",
    "data = pd.get_dummies(data, columns = ['city_1']).rename(columns=({'city_1_Ростов': 'Ростов',\n",
    "                                                                              'city_1_Рыбинск': 'Рыбинск',\n",
    "                                                                              'city_1_Ярославль': 'Ярославль'}))"
   ]
  },
  {
   "cell_type": "code",
   "execution_count": 25,
   "metadata": {},
   "outputs": [
    {
     "data": {
      "text/html": [
       "<div>\n",
       "<style scoped>\n",
       "    .dataframe tbody tr th:only-of-type {\n",
       "        vertical-align: middle;\n",
       "    }\n",
       "\n",
       "    .dataframe tbody tr th {\n",
       "        vertical-align: top;\n",
       "    }\n",
       "\n",
       "    .dataframe thead th {\n",
       "        text-align: right;\n",
       "    }\n",
       "</style>\n",
       "<table border=\"1\" class=\"dataframe\">\n",
       "  <thead>\n",
       "    <tr style=\"text-align: right;\">\n",
       "      <th></th>\n",
       "      <th>user_id</th>\n",
       "      <th>score</th>\n",
       "      <th>city</th>\n",
       "      <th>gender</th>\n",
       "      <th>age</th>\n",
       "      <th>equity</th>\n",
       "      <th>balance</th>\n",
       "      <th>products</th>\n",
       "      <th>credit_card</th>\n",
       "      <th>last_activity</th>\n",
       "      <th>est_salary</th>\n",
       "      <th>churn</th>\n",
       "      <th>missing_value</th>\n",
       "      <th>Ростов</th>\n",
       "      <th>Рыбинск</th>\n",
       "      <th>Ярославль</th>\n",
       "      <th>gender_c</th>\n",
       "    </tr>\n",
       "  </thead>\n",
       "  <tbody>\n",
       "    <tr>\n",
       "      <th>0</th>\n",
       "      <td>183012</td>\n",
       "      <td>850</td>\n",
       "      <td>Рыбинск</td>\n",
       "      <td>Ж</td>\n",
       "      <td>25</td>\n",
       "      <td>1</td>\n",
       "      <td>59214.82</td>\n",
       "      <td>2</td>\n",
       "      <td>0</td>\n",
       "      <td>1</td>\n",
       "      <td>75719.14</td>\n",
       "      <td>1</td>\n",
       "      <td>0</td>\n",
       "      <td>0</td>\n",
       "      <td>1</td>\n",
       "      <td>0</td>\n",
       "      <td>0</td>\n",
       "    </tr>\n",
       "    <tr>\n",
       "      <th>1</th>\n",
       "      <td>146556</td>\n",
       "      <td>861</td>\n",
       "      <td>Рыбинск</td>\n",
       "      <td>Ж</td>\n",
       "      <td>37</td>\n",
       "      <td>5</td>\n",
       "      <td>850594.33</td>\n",
       "      <td>3</td>\n",
       "      <td>1</td>\n",
       "      <td>0</td>\n",
       "      <td>86621.77</td>\n",
       "      <td>0</td>\n",
       "      <td>0</td>\n",
       "      <td>0</td>\n",
       "      <td>1</td>\n",
       "      <td>0</td>\n",
       "      <td>0</td>\n",
       "    </tr>\n",
       "    <tr>\n",
       "      <th>2</th>\n",
       "      <td>120722</td>\n",
       "      <td>892</td>\n",
       "      <td>Рыбинск</td>\n",
       "      <td>Ж</td>\n",
       "      <td>30</td>\n",
       "      <td>0</td>\n",
       "      <td>NaN</td>\n",
       "      <td>1</td>\n",
       "      <td>1</td>\n",
       "      <td>1</td>\n",
       "      <td>107683.34</td>\n",
       "      <td>0</td>\n",
       "      <td>1</td>\n",
       "      <td>0</td>\n",
       "      <td>1</td>\n",
       "      <td>0</td>\n",
       "      <td>0</td>\n",
       "    </tr>\n",
       "    <tr>\n",
       "      <th>3</th>\n",
       "      <td>225363</td>\n",
       "      <td>866</td>\n",
       "      <td>Ярославль</td>\n",
       "      <td>Ж</td>\n",
       "      <td>51</td>\n",
       "      <td>5</td>\n",
       "      <td>1524746.26</td>\n",
       "      <td>2</td>\n",
       "      <td>0</td>\n",
       "      <td>1</td>\n",
       "      <td>174423.53</td>\n",
       "      <td>1</td>\n",
       "      <td>0</td>\n",
       "      <td>0</td>\n",
       "      <td>0</td>\n",
       "      <td>1</td>\n",
       "      <td>0</td>\n",
       "    </tr>\n",
       "    <tr>\n",
       "      <th>4</th>\n",
       "      <td>157978</td>\n",
       "      <td>730</td>\n",
       "      <td>Ярославль</td>\n",
       "      <td>М</td>\n",
       "      <td>34</td>\n",
       "      <td>5</td>\n",
       "      <td>174.00</td>\n",
       "      <td>1</td>\n",
       "      <td>1</td>\n",
       "      <td>0</td>\n",
       "      <td>67353.16</td>\n",
       "      <td>1</td>\n",
       "      <td>0</td>\n",
       "      <td>0</td>\n",
       "      <td>0</td>\n",
       "      <td>1</td>\n",
       "      <td>1</td>\n",
       "    </tr>\n",
       "    <tr>\n",
       "      <th>5</th>\n",
       "      <td>202305</td>\n",
       "      <td>856</td>\n",
       "      <td>Рыбинск</td>\n",
       "      <td>М</td>\n",
       "      <td>56</td>\n",
       "      <td>4</td>\n",
       "      <td>863687.24</td>\n",
       "      <td>3</td>\n",
       "      <td>1</td>\n",
       "      <td>0</td>\n",
       "      <td>156619.80</td>\n",
       "      <td>0</td>\n",
       "      <td>0</td>\n",
       "      <td>0</td>\n",
       "      <td>1</td>\n",
       "      <td>0</td>\n",
       "      <td>1</td>\n",
       "    </tr>\n",
       "    <tr>\n",
       "      <th>6</th>\n",
       "      <td>177259</td>\n",
       "      <td>807</td>\n",
       "      <td>Ярославль</td>\n",
       "      <td>Ж</td>\n",
       "      <td>39</td>\n",
       "      <td>3</td>\n",
       "      <td>405042.44</td>\n",
       "      <td>3</td>\n",
       "      <td>0</td>\n",
       "      <td>1</td>\n",
       "      <td>103838.32</td>\n",
       "      <td>0</td>\n",
       "      <td>0</td>\n",
       "      <td>0</td>\n",
       "      <td>0</td>\n",
       "      <td>1</td>\n",
       "      <td>0</td>\n",
       "    </tr>\n",
       "    <tr>\n",
       "      <th>7</th>\n",
       "      <td>218868</td>\n",
       "      <td>825</td>\n",
       "      <td>Ярославль</td>\n",
       "      <td>Ж</td>\n",
       "      <td>38</td>\n",
       "      <td>4</td>\n",
       "      <td>458145.40</td>\n",
       "      <td>2</td>\n",
       "      <td>1</td>\n",
       "      <td>1</td>\n",
       "      <td>68085.48</td>\n",
       "      <td>0</td>\n",
       "      <td>0</td>\n",
       "      <td>0</td>\n",
       "      <td>0</td>\n",
       "      <td>1</td>\n",
       "      <td>0</td>\n",
       "    </tr>\n",
       "    <tr>\n",
       "      <th>8</th>\n",
       "      <td>211686</td>\n",
       "      <td>923</td>\n",
       "      <td>Ярославль</td>\n",
       "      <td>М</td>\n",
       "      <td>54</td>\n",
       "      <td>5</td>\n",
       "      <td>1206337.87</td>\n",
       "      <td>2</td>\n",
       "      <td>1</td>\n",
       "      <td>0</td>\n",
       "      <td>155371.79</td>\n",
       "      <td>0</td>\n",
       "      <td>0</td>\n",
       "      <td>0</td>\n",
       "      <td>0</td>\n",
       "      <td>1</td>\n",
       "      <td>1</td>\n",
       "    </tr>\n",
       "    <tr>\n",
       "      <th>9</th>\n",
       "      <td>133130</td>\n",
       "      <td>906</td>\n",
       "      <td>Ярославль</td>\n",
       "      <td>Ж</td>\n",
       "      <td>67</td>\n",
       "      <td>0</td>\n",
       "      <td>NaN</td>\n",
       "      <td>1</td>\n",
       "      <td>0</td>\n",
       "      <td>1</td>\n",
       "      <td>238055.53</td>\n",
       "      <td>0</td>\n",
       "      <td>1</td>\n",
       "      <td>0</td>\n",
       "      <td>0</td>\n",
       "      <td>1</td>\n",
       "      <td>0</td>\n",
       "    </tr>\n",
       "  </tbody>\n",
       "</table>\n",
       "</div>"
      ],
      "text/plain": [
       "  user_id  score       city gender  age  equity     balance  products  \\\n",
       "0  183012    850    Рыбинск      Ж   25       1    59214.82         2   \n",
       "1  146556    861    Рыбинск      Ж   37       5   850594.33         3   \n",
       "2  120722    892    Рыбинск      Ж   30       0         NaN         1   \n",
       "3  225363    866  Ярославль      Ж   51       5  1524746.26         2   \n",
       "4  157978    730  Ярославль      М   34       5      174.00         1   \n",
       "5  202305    856    Рыбинск      М   56       4   863687.24         3   \n",
       "6  177259    807  Ярославль      Ж   39       3   405042.44         3   \n",
       "7  218868    825  Ярославль      Ж   38       4   458145.40         2   \n",
       "8  211686    923  Ярославль      М   54       5  1206337.87         2   \n",
       "9  133130    906  Ярославль      Ж   67       0         NaN         1   \n",
       "\n",
       "   credit_card  last_activity  est_salary  churn  missing_value  Ростов  \\\n",
       "0            0              1    75719.14      1              0       0   \n",
       "1            1              0    86621.77      0              0       0   \n",
       "2            1              1   107683.34      0              1       0   \n",
       "3            0              1   174423.53      1              0       0   \n",
       "4            1              0    67353.16      1              0       0   \n",
       "5            1              0   156619.80      0              0       0   \n",
       "6            0              1   103838.32      0              0       0   \n",
       "7            1              1    68085.48      0              0       0   \n",
       "8            1              0   155371.79      0              0       0   \n",
       "9            0              1   238055.53      0              1       0   \n",
       "\n",
       "   Рыбинск  Ярославль  gender_c  \n",
       "0        1          0         0  \n",
       "1        1          0         0  \n",
       "2        1          0         0  \n",
       "3        0          1         0  \n",
       "4        0          1         1  \n",
       "5        1          0         1  \n",
       "6        0          1         0  \n",
       "7        0          1         0  \n",
       "8        0          1         1  \n",
       "9        0          1         0  "
      ]
     },
     "execution_count": 25,
     "metadata": {},
     "output_type": "execute_result"
    }
   ],
   "source": [
    "#кодирование столбца gender \n",
    "data['gender_c'] = data['gender'].apply(lambda x: 0 if x == 'Ж' else 1)\n",
    "data.head(10)"
   ]
  },
  {
   "cell_type": "markdown",
   "metadata": {},
   "source": [
    "В части предобработки данных были осуществлены следующие действия:\n",
    "- корректировка названий столбцов в соответствии с принятыми стандартами\n",
    "- удаление 0,27% пропусков\n",
    "- изменены типы данных в столбцах user_id(obj), score(int), age(int)\n",
    "- исследование явных/неявных дубликатов\n",
    "- кодирование столбцов gender, city для удобства дальнейшего исследования\n",
    "- изучение влияния пропусков в столбце  balance на другие данные\n"
   ]
  },
  {
   "cell_type": "markdown",
   "metadata": {},
   "source": [
    "<div>\n",
    "    <h3> 2. Исследовательский анализ данных <a class=\"tocSkip\"> </h3>"
   ]
  },
  {
   "cell_type": "code",
   "execution_count": 26,
   "metadata": {},
   "outputs": [],
   "source": [
    "#создадим переменную со средней оттока по банку\n",
    "mean_churn = data['churn'].mean() * 100"
   ]
  },
  {
   "cell_type": "code",
   "execution_count": 27,
   "metadata": {
    "scrolled": false
   },
   "outputs": [
    {
     "data": {
      "image/png": "[encoded data removed]",
      "text/plain": [
       "<Figure size 1080x432 with 1 Axes>"
      ]
     },
     "metadata": {
      "needs_background": "light"
     },
     "output_type": "display_data"
    }
   ],
   "source": [
    "plt.figure(figsize=(15, 6))\n",
    "sns.histplot(data=data, x='age', hue='churn', fill=True, stat='density', common_norm=False, bins=68)\n",
    "\n",
    "plt.title('График распределения возраста клиентов в разрезе оттока')\n",
    "plt.xlabel('Возраст')\n",
    "plt.ylabel('Плотность вероятности')\n",
    "plt.legend(title='Отток', labels=['отточные клиенты', 'оставшиеся клиенты'])\n",
    "plt.show()"
   ]
  },
  {
   "cell_type": "code",
   "execution_count": 28,
   "metadata": {},
   "outputs": [
    {
     "data": {
      "image/png": "[encoded data removed]",
      "text/plain": [
       "<Figure size 1080x576 with 1 Axes>"
      ]
     },
     "metadata": {
      "needs_background": "light"
     },
     "output_type": "display_data"
    }
   ],
   "source": [
    "# Создание сводной таблицы с медианами\n",
    "age_medians = data.groupby('churn')['age'].median().sort_values(ascending=False)\n",
    "\n",
    "# Построение графика с учетом сортировки по медиане\n",
    "plt.figure(figsize=(15, 8))\n",
    "ax = sns.boxplot(x='churn', y='age', data=data, color='#3CB371', order=age_medians.index)\n",
    "plt.title('Медиана возраста клиентов в разрезе оттока')\n",
    "plt.xlabel('Отток')\n",
    "plt.ylabel('Возраст')\n",
    "plt.ylim(0, 100)\n",
    "plt.grid(True)\n",
    "plt.show()"
   ]
  },
  {
   "cell_type": "markdown",
   "metadata": {},
   "source": [
    "Медиана возраста оттока в районе 39 лет.\n",
    "Отточный промежуток: от 34 до 55 лет\n",
    "\n",
    "Отточных клиентов я бы поделила на 3 возрастные группы: 24-37 (здесь уровень оттока выше чем количество остающихся у банка клиентов, и идет на повышение), 38-46 (количество отточных клиентов меньше чем оставшихся и график идет на понижение) лет и 47-62 (очередной всплеск оттока)"
   ]
  },
  {
   "cell_type": "code",
   "execution_count": 29,
   "metadata": {
    "scrolled": false
   },
   "outputs": [
    {
     "data": {
      "image/png": "[encoded data removed]",
      "text/plain": [
       "<Figure size 1080x432 with 1 Axes>"
      ]
     },
     "metadata": {
      "needs_background": "light"
     },
     "output_type": "display_data"
    }
   ],
   "source": [
    "plt.figure(figsize=(15, 6))\n",
    "sns.histplot(data=data, x='score', hue='churn', fill=True, stat='density', common_norm=False, bins=100)\n",
    "\n",
    "plt.title('График распределения баллов кредитного скоринга клиентов в разрезе оттока')\n",
    "plt.xlabel('Баллы кредитного скоринга')\n",
    "plt.ylabel('Плотность вероятности')\n",
    "plt.legend(title='Отток', labels=['отточные клиенты', 'оставшиеся клиенты'])\n",
    "plt.show()"
   ]
  },
  {
   "cell_type": "code",
   "execution_count": 30,
   "metadata": {
    "scrolled": false
   },
   "outputs": [
    {
     "data": {
      "image/png": "[encoded data removed]",
      "text/plain": [
       "<Figure size 1080x576 with 1 Axes>"
      ]
     },
     "metadata": {
      "needs_background": "light"
     },
     "output_type": "display_data"
    }
   ],
   "source": [
    "# Создание сводной таблицы с медианами\n",
    "score_medians = data.groupby('churn')['score'].median().sort_values(ascending=False)\n",
    "\n",
    "# Построение графика с учетом сортировки по медиане\n",
    "plt.figure(figsize=(15, 8))\n",
    "ax = sns.boxplot(x='churn', y='score', data=data, color='#3CB371', order=score_medians.index)\n",
    "plt.title('Медиана распределения баллов кредитного скоринга клиентов в разрезе оттока')\n",
    "plt.xlabel('Отток')\n",
    "plt.ylabel('Баллы кредитного скоринга')\n",
    "plt.grid(True)\n",
    "plt.show()"
   ]
  },
  {
   "cell_type": "markdown",
   "metadata": {},
   "source": [
    "Медиана по оттоку в районе 870 баллов. Отточный промежуток: от 830 до 900 баллов\n",
    "\n",
    "У отточных клиентов диапазон оценок кредитного скоринга меньше чем у остающихся, но медиана несколько больше: ~ 870 против 850 у остающихся пользователей. "
   ]
  },
  {
   "cell_type": "code",
   "execution_count": 31,
   "metadata": {
    "scrolled": false
   },
   "outputs": [
    {
     "data": {
      "image/png": "[encoded data removed]",
      "text/plain": [
       "<Figure size 720x432 with 1 Axes>"
      ]
     },
     "metadata": {
      "needs_background": "light"
     },
     "output_type": "display_data"
    }
   ],
   "source": [
    "# Диаграмма для оценки собственности в разрезе оттока\n",
    "equity_churn_counts = data.groupby(['equity', 'churn']).size().unstack()\n",
    "equity_churn_percentages = equity_churn_counts[1] / (equity_churn_counts[0] + equity_churn_counts[1]) *100\n",
    "equity_churn_percentages.plot(kind='bar', stacked=True)\n",
    "plt.axhline(mean_churn, color='r', linestyle='--', label='Среднее значение оттока по банку')\n",
    "plt.legend(bbox_to_anchor=(0.5, 1), loc='upper left')\n",
    "\n",
    "equity_churn_percentages.plot(kind='bar', stacked=True, figsize=(10, 6))\n",
    "plt.title('Распределение оценки собственности клиентов в разрезе оттока')\n",
    "plt.xlabel('Оценка')\n",
    "plt.ylabel('Доля %')\n",
    "plt.xticks(rotation=0)\n",
    "plt.grid(True)\n",
    "plt.legend(bbox_to_anchor=(0.5, 1), loc='upper left')\n",
    "plt.show()"
   ]
  },
  {
   "cell_type": "code",
   "execution_count": 32,
   "metadata": {},
   "outputs": [
    {
     "data": {
      "image/png": "[encoded data removed]",
      "text/plain": [
       "<Figure size 1080x576 with 1 Axes>"
      ]
     },
     "metadata": {
      "needs_background": "light"
     },
     "output_type": "display_data"
    }
   ],
   "source": [
    "# Создание сводной таблицы с медианами\n",
    "equity_medians = data.groupby('churn')['equity'].median().sort_values(ascending=False)\n",
    "\n",
    "# Построение графика с учетом сортировки по медиане\n",
    "plt.figure(figsize=(15, 8))\n",
    "ax = sns.boxplot(x='churn', y='equity', data=data, color='#3CB371', order=equity_medians.index)\n",
    "plt.title('Медиана распределения баллов кредитного скоринга клиентов в разрезе оттока')\n",
    "plt.xlabel('Отток')\n",
    "plt.ylabel('Оценка собственности клиента')\n",
    "plt.grid(True)\n",
    "plt.show()"
   ]
  },
  {
   "cell_type": "markdown",
   "metadata": {},
   "source": [
    "Медиана по оттоку в районе 4 баллов. Отточный промежуток: от 3 до 5 баллов\n",
    "\n",
    "Чем выше оценка собственности, тем больше клиентов в оттоке. Начиная с оценки 3 количество отточных клиентов превышает средний отток по банку"
   ]
  },
  {
   "cell_type": "code",
   "execution_count": 33,
   "metadata": {
    "scrolled": false
   },
   "outputs": [
    {
     "data": {
      "image/png": "[encoded data removed]",
      "text/plain": [
       "<Figure size 1080x432 with 1 Axes>"
      ]
     },
     "metadata": {
      "needs_background": "light"
     },
     "output_type": "display_data"
    }
   ],
   "source": [
    "plt.figure(figsize=(15, 6))\n",
    "sns.histplot(data=data, x='balance', hue='churn', fill=True, stat='density', common_norm=False)\n",
    "plt.ticklabel_format(style='plain')\n",
    "plt.xlim(0, 5000000)\n",
    "plt.title('График распределения собственных средств клиентов в разрезе оттока')\n",
    "plt.xlabel('Баланс')\n",
    "plt.ylabel('Плотность вероятности')\n",
    "plt.legend(title='Отток', labels=['отточные клиенты', 'оставшиеся клиенты'])\n",
    "plt.show()"
   ]
  },
  {
   "cell_type": "markdown",
   "metadata": {},
   "source": [
    "Отток начинается у клиентов с балансом около 800 тыс рублей и выше"
   ]
  },
  {
   "cell_type": "code",
   "execution_count": 34,
   "metadata": {},
   "outputs": [
    {
     "data": {
      "image/png": "[encoded data removed]",
      "text/plain": [
       "<Figure size 1080x576 with 1 Axes>"
      ]
     },
     "metadata": {
      "needs_background": "light"
     },
     "output_type": "display_data"
    }
   ],
   "source": [
    "# Создание сводной таблицы с медианами\n",
    "balance_medians = data.groupby('churn')['balance'].median().sort_values(ascending=False)\n",
    "\n",
    "# Построение графика с учетом сортировки по медиане\n",
    "plt.figure(figsize=(15, 8))\n",
    "ax = sns.boxplot(x='churn', y='balance', data=data, color='#3CB371', order=balance_medians.index)\n",
    "plt.title('Медиана баланса клиентов в разрезе оттока')\n",
    "plt.xlabel('Отток')\n",
    "plt.ylabel('Баланс')\n",
    "plt.ylim(0, 4000000)\n",
    "plt.grid(True)\n",
    "plt.show()"
   ]
  },
  {
   "cell_type": "markdown",
   "metadata": {},
   "source": [
    "Медиана по оттоку в районе 800 тыс рублей.\n",
    "\n",
    "У отточных клиентов средств на счетах больше, чем у тех, кто остается в банке. В оттоке медиана находится в районе 800 тыс рублей, у остающихся клиентов - в райлне 500 тыс рублей. "
   ]
  },
  {
   "cell_type": "code",
   "execution_count": 35,
   "metadata": {
    "scrolled": false
   },
   "outputs": [
    {
     "data": {
      "image/png": "[encoded data removed]",
      "text/plain": [
       "<Figure size 720x432 with 1 Axes>"
      ]
     },
     "metadata": {
      "needs_background": "light"
     },
     "output_type": "display_data"
    }
   ],
   "source": [
    "# Диаграмма распределения количества продуктов клиентов в разрезе оттока\n",
    "products_churn_counts = data.groupby(['products', 'churn']).size().unstack()\n",
    "products_churn_percentages = products_churn_counts[1] / (products_churn_counts[0] + products_churn_counts[1]) *100\n",
    "products_churn_percentages.plot(kind='bar', stacked=True, figsize=(10, 6))\n",
    "plt.axhline(mean_churn, color='r', linestyle='--')\n",
    "\n",
    "plt.title('Распределения количества продуктов у клиентов в разрезе оттока')\n",
    "plt.xlabel('Кол-во продуктов')\n",
    "plt.ylabel('Доля %')\n",
    "plt.xticks(rotation=0)\n",
    "plt.grid(True)\n",
    "plt.show()"
   ]
  },
  {
   "cell_type": "markdown",
   "metadata": {},
   "source": [
    "Доля оттока клиентов превышает средний уровень оттока по банку с 2х продуктов и выше"
   ]
  },
  {
   "cell_type": "code",
   "execution_count": 36,
   "metadata": {},
   "outputs": [
    {
     "data": {
      "image/png": "[encoded data removed]",
      "text/plain": [
       "<Figure size 1080x576 with 1 Axes>"
      ]
     },
     "metadata": {
      "needs_background": "light"
     },
     "output_type": "display_data"
    }
   ],
   "source": [
    "# Создание сводной таблицы с медианами\n",
    "products_medians = data.groupby('churn')['products'].median().sort_values(ascending=False)\n",
    "\n",
    "# Построение графика с учетом сортировки по медиане\n",
    "plt.figure(figsize=(15, 8))\n",
    "ax = sns.boxplot(x='churn', y='products', data=data, color='#3CB371', order=products_medians.index)\n",
    "plt.title('Медиана кол-ва продуктов клиентов в разрезе оттока')\n",
    "plt.xlabel('Отток')\n",
    "plt.ylabel('Кол-во продуктов')\n",
    "plt.grid(True)\n",
    "plt.show()"
   ]
  },
  {
   "cell_type": "markdown",
   "metadata": {},
   "source": [
    "Медиана по оттоку в районе 2 продуктов. Отточный промежуток: от 2 до 3 продуктов\n",
    "\n",
    "Как и в графике мы видим, что у отточных клиентов обычно 2-3 продукта. 2 продукта встречается чаще. 5 продуктов в оттоке это уже выброс. У остающихся клиентов количество продуктов меньше. 4 и 5 уже выбросы"
   ]
  },
  {
   "cell_type": "code",
   "execution_count": 37,
   "metadata": {
    "scrolled": false
   },
   "outputs": [
    {
     "data": {
      "image/png": "[encoded data removed]",
      "text/plain": [
       "<Figure size 720x432 with 1 Axes>"
      ]
     },
     "metadata": {
      "needs_background": "light"
     },
     "output_type": "display_data"
    }
   ],
   "source": [
    "plt.figure(figsize=(10, 6))\n",
    "sns.histplot(data=data, x='est_salary', hue='churn', fill=True, stat='density', common_norm=False)\n",
    "plt.ticklabel_format(style='plain')\n",
    "plt.xlim(0, 600000)\n",
    "plt.title('График распределения оценочного дохода клиентов в разрезе оттока')\n",
    "plt.xlabel('Оценочный доход')\n",
    "plt.ylabel('Плотность вероятности')\n",
    "plt.legend(title='Отток', labels=['отточные клиенты', 'оставшиеся клиенты'])\n",
    "plt.show()"
   ]
  },
  {
   "cell_type": "code",
   "execution_count": 38,
   "metadata": {},
   "outputs": [
    {
     "data": {
      "image/png": "[encoded data removed]",
      "text/plain": [
       "<Figure size 1080x576 with 1 Axes>"
      ]
     },
     "metadata": {
      "needs_background": "light"
     },
     "output_type": "display_data"
    }
   ],
   "source": [
    "# Создание сводной таблицы с медианами\n",
    "est_salary_medians = data.groupby('churn')['est_salary'].median().sort_values(ascending=False)\n",
    "\n",
    "# Построение графика с учетом сортировки по медиане\n",
    "plt.figure(figsize=(15, 8))\n",
    "ax = sns.boxplot(x='churn', y='est_salary', data=data, color='#3CB371', order=est_salary_medians.index)\n",
    "plt.title('Медиана оценочного дохода клиентов в разрезе оттока')\n",
    "plt.xlabel('Отток')\n",
    "plt.ylabel('оценочный доход')\n",
    "plt.ylim(0, 600000)\n",
    "plt.grid(True)\n",
    "plt.show()"
   ]
  },
  {
   "cell_type": "markdown",
   "metadata": {},
   "source": [
    "Медиана по оттоку в районе 130 тыс рублей. Отточный промежуток: от 80 до 180 тыс рублей\n",
    "\n",
    "нельзя однозначно сказать различается ли доход отточных и остающихся клиентов. Данный вопрос будет рассмотрен рассчете статистических гипотез. В данный момент основной отток идет среди клиентов с доходом от 80 до 180 тыс рублей. Медианное значение в районе 120 тыс"
   ]
  },
  {
   "cell_type": "code",
   "execution_count": 39,
   "metadata": {
    "scrolled": false
   },
   "outputs": [
    {
     "data": {
      "image/png": "[encoded data removed]",
      "text/plain": [
       "<Figure size 720x432 with 1 Axes>"
      ]
     },
     "metadata": {
      "needs_background": "light"
     },
     "output_type": "display_data"
    }
   ],
   "source": [
    "# Диаграмма для города в разрезе оттока\n",
    "city_churn_counts = data.groupby(['city', 'churn']).size().unstack()\n",
    "city_churn_percentages = city_churn_counts[1] / (city_churn_counts[0] + city_churn_counts[1]) *100\n",
    "plt.axhline(mean_churn, color='r', linestyle='--')\n",
    "\n",
    "city_churn_percentages.plot(kind='bar', stacked=True, figsize=(10, 6))\n",
    "plt.title('Соотношение города в разрезе оттока')\n",
    "plt.xlabel('Город')\n",
    "plt.ylabel('Доля %')\n",
    "plt.xticks(rotation=0)\n",
    "plt.grid(True)\n",
    "plt.show()"
   ]
  },
  {
   "cell_type": "markdown",
   "metadata": {},
   "source": [
    "В Рыбинске отток меньше чем в Ярославле или Ростове. Возможно, это связано с тем, что Рыбинск мальнький город и там нет такой конкуренции среди банков, как в городах крупнее"
   ]
  },
  {
   "cell_type": "markdown",
   "metadata": {},
   "source": [
    "уровень оттока в Ярославле и в Ростове превышают средний уровень оттока по банку. В Ярославле доля оттока самая высокая"
   ]
  },
  {
   "cell_type": "code",
   "execution_count": 40,
   "metadata": {
    "scrolled": false
   },
   "outputs": [
    {
     "data": {
      "image/png": "[encoded data removed]",
      "text/plain": [
       "<Figure size 720x432 with 1 Axes>"
      ]
     },
     "metadata": {
      "needs_background": "light"
     },
     "output_type": "display_data"
    }
   ],
   "source": [
    "# Диаграмма для гендера в разрезе оттока\n",
    "gender_churn_counts = data.groupby(['gender', 'churn']).size().unstack()\n",
    "gender_churn_percentages = gender_churn_counts[1] / (gender_churn_counts[0] + gender_churn_counts[1]) * 100\n",
    "plt.axhline(mean_churn, color='r', linestyle='--')\n",
    "\n",
    "gender_churn_percentages.plot(kind='bar', stacked=True, figsize=(10, 6))\n",
    "plt.title('Соотношение гендера в разрезе оттока')\n",
    "plt.xlabel('Гендер')\n",
    "plt.ylabel('Доля %')\n",
    "plt.xticks(rotation=0)\n",
    "plt.grid(True)\n",
    "plt.show()"
   ]
  },
  {
   "cell_type": "markdown",
   "metadata": {},
   "source": [
    "Среди мужчин доля оттока составляет около 24 %, у женщин доля оттока меньше: 13%. Так же доля оттока у мужчин превышает уровень среднего оттока по банку"
   ]
  },
  {
   "cell_type": "code",
   "execution_count": 41,
   "metadata": {
    "scrolled": false
   },
   "outputs": [
    {
     "data": {
      "image/png": "[encoded data removed]",
      "text/plain": [
       "<Figure size 720x432 with 1 Axes>"
      ]
     },
     "metadata": {
      "needs_background": "light"
     },
     "output_type": "display_data"
    }
   ],
   "source": [
    "# Диаграмма для наличия кредитной карты в разрезе оттока\n",
    "credit_card_churn_counts = data.groupby(['credit_card', 'churn']).size().unstack()\n",
    "credit_card_churn_percentages = credit_card_churn_counts[1] / (credit_card_churn_counts[0] + credit_card_churn_counts[1])*100\n",
    "plt.axhline(mean_churn, color='r', linestyle='--')\n",
    "\n",
    "credit_card_churn_percentages.plot(kind='bar', stacked=True, figsize=(10, 6))\n",
    "plt.title('Соотношение наличия кредитной карты в разрезе оттока')\n",
    "plt.xlabel('Наличие кредитной карты')\n",
    "plt.ylabel('Доля %')\n",
    "plt.xticks(rotation=0)\n",
    "plt.grid(True)\n",
    "plt.show()"
   ]
  },
  {
   "cell_type": "markdown",
   "metadata": {},
   "source": [
    "Доля оттока среди клиентов у которых нет кредитной карты составляет 26%, в то время как отток клиентов с кредитной картой 14%. Так же доля оттока у клиентов без кредитных карт выше средней по банку"
   ]
  },
  {
   "cell_type": "code",
   "execution_count": 42,
   "metadata": {
    "scrolled": false
   },
   "outputs": [
    {
     "data": {
      "image/png": "[encoded data removed]",
      "text/plain": [
       "<Figure size 720x432 with 1 Axes>"
      ]
     },
     "metadata": {
      "needs_background": "light"
     },
     "output_type": "display_data"
    }
   ],
   "source": [
    "# Диаграмма для последней активности в разрезе оттока\n",
    "last_activity_churn_counts = data.groupby(['last_activity', 'churn']).size().unstack()\n",
    "last_activity_churn_percentages = last_activity_churn_counts[1] / (last_activity_churn_counts[0] + last_activity_churn_counts[1])*100\n",
    "plt.axhline(mean_churn, color='r', linestyle='--')\n",
    "\n",
    "last_activity_churn_percentages.plot(kind='bar', stacked=True, figsize=(10, 6))\n",
    "plt.title('Соотношение последней активности в разрезе оттока')\n",
    "plt.xlabel('Последняя активность')\n",
    "plt.ylabel('Доля %')\n",
    "plt.xticks(rotation=0)\n",
    "plt.grid(True)\n",
    "plt.show()"
   ]
  },
  {
   "cell_type": "markdown",
   "metadata": {},
   "source": [
    "Доля оттока клиентов, у которых была активность составляет 24%, у клиентов без активности доля оттока 12%. Отточность активных клиентов выше средней по банку. Возможно на это  влияет качество обслуживания по телефону или в банке оффлайн"
   ]
  },
  {
   "cell_type": "code",
   "execution_count": 43,
   "metadata": {
    "scrolled": false
   },
   "outputs": [
    {
     "data": {
      "image/png": "[encoded data removed]",
      "text/plain": [
       "<Figure size 1152x576 with 2 Axes>"
      ]
     },
     "metadata": {
      "needs_background": "light"
     },
     "output_type": "display_data"
    }
   ],
   "source": [
    "# Визуализируем матрицу корреляции оттока с помощью тепловой карты\n",
    "correlation_matrix = data.corr()\n",
    "\n",
    "plt.figure(figsize=(16,8))\n",
    "sns.heatmap(correlation_matrix, annot=True, cmap='coolwarm', center=0)\n",
    "plt.title('Матрица корреляции оттока и характеристик')\n",
    "plt.show()"
   ]
  },
  {
   "cell_type": "code",
   "execution_count": 44,
   "metadata": {},
   "outputs": [
    {
     "data": {
      "image/png": "[encoded data removed]",
      "text/plain": [
       "<Figure size 432x288 with 2 Axes>"
      ]
     },
     "metadata": {
      "needs_background": "light"
     },
     "output_type": "display_data"
    }
   ],
   "source": [
    "sns.heatmap(\n",
    "    correlation_matrix.loc[:,['churn']].drop('churn').sort_values('churn'), annot=True, fmt=\".0%\", cmap='vlag', center=0);"
   ]
  },
  {
   "cell_type": "markdown",
   "metadata": {},
   "source": [
    "каждый элемент показывает коэффициент корреляции Пирсона между оттоком и соответствующими характеристиками. Значения, близкие к 1 или -1, указывают на сильную положительную или отрицательную связь между оттоком и характеристикой, соответственно. Значения близкие к 0 указывают на отсутствие связи.\n"
   ]
  },
  {
   "cell_type": "markdown",
   "metadata": {},
   "source": [
    "В разрезе оттока наблюдается небольшая корреляция:\n",
    "- с баллами кредитного скоринга (score), \n",
    "- с приблизительной оценкой собственности клиента,\n",
    "- с количеством продуктов,\n",
    "- и с последней активности"
   ]
  },
  {
   "cell_type": "code",
   "execution_count": 45,
   "metadata": {
    "scrolled": true
   },
   "outputs": [
    {
     "data": {
      "text/html": [
       "<div>\n",
       "<style scoped>\n",
       "    .dataframe tbody tr th:only-of-type {\n",
       "        vertical-align: middle;\n",
       "    }\n",
       "\n",
       "    .dataframe tbody tr th {\n",
       "        vertical-align: top;\n",
       "    }\n",
       "\n",
       "    .dataframe thead tr th {\n",
       "        text-align: left;\n",
       "    }\n",
       "\n",
       "    .dataframe thead tr:last-of-type th {\n",
       "        text-align: right;\n",
       "    }\n",
       "</style>\n",
       "<table border=\"1\" class=\"dataframe\">\n",
       "  <thead>\n",
       "    <tr>\n",
       "      <th></th>\n",
       "      <th>age</th>\n",
       "      <th colspan=\"2\" halign=\"left\">balance</th>\n",
       "      <th>city</th>\n",
       "      <th>credit_card</th>\n",
       "      <th>equity</th>\n",
       "      <th>est_salary</th>\n",
       "      <th>gender</th>\n",
       "      <th>last_activity</th>\n",
       "      <th>products</th>\n",
       "      <th>score</th>\n",
       "    </tr>\n",
       "    <tr>\n",
       "      <th></th>\n",
       "      <th>median</th>\n",
       "      <th>mean</th>\n",
       "      <th>median</th>\n",
       "      <th>&lt;lambda&gt;</th>\n",
       "      <th>&lt;lambda&gt;</th>\n",
       "      <th>median</th>\n",
       "      <th>mean</th>\n",
       "      <th>&lt;lambda&gt;</th>\n",
       "      <th>&lt;lambda&gt;</th>\n",
       "      <th>median</th>\n",
       "      <th>mean</th>\n",
       "    </tr>\n",
       "    <tr>\n",
       "      <th>churn</th>\n",
       "      <th></th>\n",
       "      <th></th>\n",
       "      <th></th>\n",
       "      <th></th>\n",
       "      <th></th>\n",
       "      <th></th>\n",
       "      <th></th>\n",
       "      <th></th>\n",
       "      <th></th>\n",
       "      <th></th>\n",
       "      <th></th>\n",
       "    </tr>\n",
       "  </thead>\n",
       "  <tbody>\n",
       "    <tr>\n",
       "      <th>0</th>\n",
       "      <td>40</td>\n",
       "      <td>7.330316e+05</td>\n",
       "      <td>475410.09</td>\n",
       "      <td>Ярославль</td>\n",
       "      <td>1</td>\n",
       "      <td>3</td>\n",
       "      <td>147674.637881</td>\n",
       "      <td>Ж</td>\n",
       "      <td>0</td>\n",
       "      <td>2</td>\n",
       "      <td>845.396199</td>\n",
       "    </tr>\n",
       "    <tr>\n",
       "      <th>1</th>\n",
       "      <td>39</td>\n",
       "      <td>1.134458e+06</td>\n",
       "      <td>783908.90</td>\n",
       "      <td>Ярославль</td>\n",
       "      <td>1</td>\n",
       "      <td>4</td>\n",
       "      <td>148357.483157</td>\n",
       "      <td>М</td>\n",
       "      <td>1</td>\n",
       "      <td>2</td>\n",
       "      <td>863.361936</td>\n",
       "    </tr>\n",
       "  </tbody>\n",
       "</table>\n",
       "</div>"
      ],
      "text/plain": [
       "         age       balance                  city credit_card equity  \\\n",
       "      median          mean     median   <lambda>    <lambda> median   \n",
       "churn                                                                 \n",
       "0         40  7.330316e+05  475410.09  Ярославль           1      3   \n",
       "1         39  1.134458e+06  783908.90  Ярославль           1      4   \n",
       "\n",
       "          est_salary   gender last_activity products       score  \n",
       "                mean <lambda>      <lambda>   median        mean  \n",
       "churn                                                             \n",
       "0      147674.637881        Ж             0        2  845.396199  \n",
       "1      148357.483157        М             1        2  863.361936  "
      ]
     },
     "execution_count": 45,
     "metadata": {},
     "output_type": "execute_result"
    }
   ],
   "source": [
    "data.pivot_table(index='churn',\n",
    "                 aggfunc={'score': 'mean',\n",
    "                          'equity': 'median',\n",
    "                          'age': 'median',\n",
    "                          'balance': ['median', 'mean'],\n",
    "                          'est_salary': 'mean',\n",
    "                          'products': 'median',\n",
    "                          'credit_card': lambda x: x.mode(),\n",
    "                          'city': lambda x: x.mode(),\n",
    "                          'gender': lambda x: x.mode(),\n",
    "                          'last_activity': lambda x: x.mode()})"
   ]
  },
  {
   "cell_type": "markdown",
   "metadata": {},
   "source": [
    "в ходе исследования были выявлены портреты отточного клиента и клиента, остающегося в банке."
   ]
  },
  {
   "cell_type": "markdown",
   "metadata": {},
   "source": [
    "отточный клиент:\n",
    "- мужчина в возрасте 39 лет\n",
    "- проживающий в Ярославле\n",
    "- с балансом  в районе 800 тыс рублей\n",
    "- доходом в районе 150 тыс рублей\n",
    "- с2мя продуктами, часто один из них это кредитная карта\n",
    "- приблизительная оценка собственности 4 балла\n",
    "- была активность в последнее время\n",
    "- скоринговый рейтинг около 850 баллов"
   ]
  },
  {
   "cell_type": "markdown",
   "metadata": {},
   "source": [
    "остающийся клиент:\n",
    "- женщина в возрасте 40 лет\n",
    "- проживающая в Ярославле\n",
    "- с балансом  в районе 500 тыс рублей\n",
    "- доходом в районе 150 тыс рублей\n",
    "- с2мя продуктами, часто один из них это кредитная карта\n",
    "- приблизительная оценка собственности 3 балла\n",
    "- не было активности в последнее время\n",
    "- скоринговый рейтинг около 850 баллов"
   ]
  },
  {
   "cell_type": "markdown",
   "metadata": {},
   "source": [
    "Удивительно что портреты остающихся и уходящих клиентов так похожи между собой, различаются в основном по гендеру и балансу. Возможно, женщины Ярославля больше любят стабильность)"
   ]
  },
  {
   "cell_type": "markdown",
   "metadata": {},
   "source": [
    "<div>\n",
    "    <h3> 3. Проверка статистических гипотез <a class=\"tocSkip\"> </h3>"
   ]
  },
  {
   "cell_type": "markdown",
   "metadata": {},
   "source": [
    "При выборе меджу t-тестом и u-тестом нужно ориентироваться на распределение данных. В случае, если данные распределены нормально, исследуются 2 независимые группы, то необходимо выбрать t-тест. При тех же условиях, но с распределением, отличным от нормального выбирается u-тест"
   ]
  },
  {
   "cell_type": "markdown",
   "metadata": {},
   "source": [
    "<div>\n",
    "    <h3> проверка 1й гипотезы <a class=\"tocSkip\"> </h3>\n",
    "        \n",
    "- Н0 = доход у текущих и отточных клиентов банка не различается\n",
    "- Н1 = доход у текущих и отточных клиентов банка различается"
   ]
  },
  {
   "cell_type": "code",
   "execution_count": 46,
   "metadata": {},
   "outputs": [
    {
     "name": "stdout",
     "output_type": "stream",
     "text": [
      "t-тест:\n",
      "p-значение: 0.8500882387258035\n",
      "Не получилось отвергнуть нулевую гипотезу\n",
      "\n",
      "u-тест:\n",
      "p-значение:  0.00016830729188229058\n",
      "Отвергаем нулевую гипотезу\n"
     ]
    }
   ],
   "source": [
    "alpha = 0.05 # уровень статистической значимости\n",
    "# если p-value окажется меньше него, отвергнем гипотезу\n",
    "\n",
    "sample_1 = data[data['churn']== 0]['est_salary']\n",
    "sample_2 = data[data['churn']== 1]['est_salary']\n",
    "\n",
    "t_results = st.ttest_ind(sample_1, sample_2)\n",
    "\n",
    "print('t-тест:')\n",
    "print('p-значение:', t_results.pvalue)\n",
    "\n",
    "if t_results.pvalue < alpha:\n",
    "    print('Отвергаем нулевую гипотезу')\n",
    "else:\n",
    "    print('Не получилось отвергнуть нулевую гипотезу')\n",
    "    \n",
    "print()\n",
    "    \n",
    "u_results = st.mannwhitneyu(sample_1, sample_2)\n",
    "\n",
    "print('u-тест:')\n",
    "print('p-значение: ', u_results.pvalue)\n",
    "\n",
    "if u_results.pvalue < alpha:\n",
    "    print('Отвергаем нулевую гипотезу')\n",
    "else:\n",
    "    print(\n",
    "        'Не получилось отвергнуть нулевую гипотезу'\n",
    "    ) "
   ]
  },
  {
   "cell_type": "markdown",
   "metadata": {},
   "source": [
    "В данном исследовании корректнее было выбрать тест Манна-Уитни, потому что в данных о доходе есть выбросы, и распределение не будет нормальным. По итогам проверки гипотезы получается, что доход у отточных и остающихся клиентов все же различается."
   ]
  },
  {
   "cell_type": "markdown",
   "metadata": {},
   "source": [
    "<div>\n",
    "    <h3> проверка 2й гипотезы <a class=\"tocSkip\"> </h3>\n",
    "        \n",
    "- Н0 = возраст у текущих и отточных клиентов банка не различается\n",
    "- Н1 = возраст у текущих и отточных клиентов банка различается"
   ]
  },
  {
   "cell_type": "code",
   "execution_count": 47,
   "metadata": {},
   "outputs": [
    {
     "name": "stdout",
     "output_type": "stream",
     "text": [
      "t-тест:\n",
      "p-значение: 4.606448303493975e-07\n",
      "Отвергаем нулевую гипотезу\n",
      "\n",
      "u-тест:\n",
      "p-значение:  3.811912767980522e-06\n",
      "Отвергаем нулевую гипотезу\n"
     ]
    }
   ],
   "source": [
    "alpha = 0.05 # уровень статистической значимости\n",
    "# если p-value окажется меньше него, отвергнем гипотезу\n",
    "\n",
    "sample_1 = data[data['churn']== 0]['age']\n",
    "sample_2 = data[data['churn']== 1]['age']\n",
    "\n",
    "t_results = st.ttest_ind(sample_1, sample_2)\n",
    "\n",
    "print('t-тест:')\n",
    "print('p-значение:', t_results.pvalue)\n",
    "\n",
    "if t_results.pvalue < alpha:\n",
    "    print('Отвергаем нулевую гипотезу')\n",
    "else:\n",
    "    print('Не получилось отвергнуть нулевую гипотезу')\n",
    "    \n",
    "print()\n",
    "    \n",
    "u_results = st.mannwhitneyu(sample_1, sample_2)  \n",
    "\n",
    "print('u-тест:')\n",
    "print('p-значение: ', u_results.pvalue)\n",
    "\n",
    "if u_results.pvalue < alpha:\n",
    "    print('Отвергаем нулевую гипотезу')\n",
    "else:\n",
    "    print(\n",
    "        'Не получилось отвергнуть нулевую гипотезу'\n",
    "    ) "
   ]
  },
  {
   "cell_type": "markdown",
   "metadata": {},
   "source": [
    "Возраст клиентов среди отточных и стающихся отличается"
   ]
  },
  {
   "cell_type": "markdown",
   "metadata": {},
   "source": [
    "<div>\n",
    "    <h3> проверка 3й гипотезы <a class=\"tocSkip\"> </h3>\n",
    "        \n",
    "- Н0 = количество продуктов у текущих и отточных клиентов банка не различается\n",
    "- Н1 = количество продуктов у текущих и отточных клиентов банка различается"
   ]
  },
  {
   "cell_type": "code",
   "execution_count": 48,
   "metadata": {
    "scrolled": false
   },
   "outputs": [
    {
     "name": "stdout",
     "output_type": "stream",
     "text": [
      "t-тест:\n",
      "p-значение: 2.5178746542447946e-208\n",
      "Отвергаем нулевую гипотезу\n",
      "\n",
      "u-тест:\n",
      "p-значение:  1.1812726611971905e-161\n",
      "Отвергаем нулевую гипотезу\n"
     ]
    }
   ],
   "source": [
    "alpha = 0.05 # уровень статистической значимости\n",
    "# если p-value окажется меньше него, отвергнем гипотезу\n",
    "\n",
    "sample_1 = data[data['churn']== 0]['products']\n",
    "sample_2 = data[data['churn']== 1]['products']\n",
    "\n",
    "t_results = st.ttest_ind(sample_1, sample_2)\n",
    "\n",
    "print('t-тест:')\n",
    "print('p-значение:', t_results.pvalue)\n",
    "\n",
    "if t_results.pvalue < alpha:\n",
    "    print('Отвергаем нулевую гипотезу')\n",
    "else:\n",
    "    print('Не получилось отвергнуть нулевую гипотезу')\n",
    "    \n",
    "print()\n",
    "    \n",
    "u_results = st.mannwhitneyu(sample_1, sample_2)   \n",
    "\n",
    "print('u-тест:')\n",
    "print('p-значение: ', u_results.pvalue)\n",
    "\n",
    "if u_results.pvalue < alpha:\n",
    "    print('Отвергаем нулевую гипотезу')\n",
    "else:\n",
    "    print(\n",
    "        'Не получилось отвергнуть нулевую гипотезу'\n",
    "    ) "
   ]
  },
  {
   "cell_type": "markdown",
   "metadata": {},
   "source": [
    "<div>\n",
    "    <h5>Итоги проведенных тестов:<a class=\"tocSkip\"> </h5>"
   ]
  },
  {
   "cell_type": "markdown",
   "metadata": {},
   "source": [
    "1. Гипотеза. По итогам проверки 2мя методами выявлено, что доход уходящих клиентов отличается от дохода остающихся в большую сторону.\n",
    "\n",
    "2. Гипотеза. По итогам проверки выявлено, что возраст у отточных и остающихся клиентов различется. Что и было ранее подтверждено графиками.\n",
    "\n",
    "3. Гипотеза. Выявила, что количество продуктов у отточных клиентов и остающих так же различаются. \n",
    "\n",
    "Во всех вышеописанных случаях, нулевая гипотеза была отвергнута."
   ]
  },
  {
   "cell_type": "markdown",
   "metadata": {},
   "source": [
    "<div>\n",
    "    <h3> 4. Промежуточный итог <a class=\"tocSkip\"> </h3>"
   ]
  },
  {
   "cell_type": "markdown",
   "metadata": {},
   "source": [
    "- Медиана возраста оттока в районе 39-40 лет.\n",
    "- Отточных клиентов я бы поделила на 3 возрастные группы: 24-37 (здесь уровень оттока выше чем количество остающихся у банка клиентов, и идет на повышение), 38-46 (количество отточных клиентов меньше чем оставшихся и график идет на понижение) лет и 47-62 (очередной всплеск оттока)\n",
    "- Чем выше оценка собственности, тем больше клиентов в оттоке. Начиная с оценки 3 количество отточных клиентов превышает количество остающихся в этой категории\n",
    "- У отточных клиентов средств на счетах больше, чем у тех, кто остается в банке. В оттоке медиана находится в районе 800 тыс рублей, у остающихся клиентов - в районе 500 тыс рублей. \n",
    "- чем больше кол-во продуктов, тем больше количество уходящих клиентов\n",
    "- Люди, с оценочным доходом выше 80 тыс чаще уходят из банка. Эта тенденция наблюдается в течение всего графика\n",
    "- В Рыбинске отток меньше чем в Ярославле или Ростове. Возможно, это связано с тем, что Рыбинск мальнький город и там нет такой конкуренции среди банков, как в городах крупнее\n",
    "- Среди мужчин процент оттока больше в 2 раза относительно женщин\n",
    "- Отточных клиентов с кредитной картой меньше чем тех, у кого данный продукт отсутствует\n",
    "- уходит много людей, которые имели активность в последнее время. Возможно на это дополнительно влияет качество обслуживания по телефону или в банке оффлайн"
   ]
  },
  {
   "cell_type": "markdown",
   "metadata": {},
   "source": [
    "<div>\n",
    "    <h3> 5. Сегментация на основе стратегических показателей <a class=\"tocSkip\"> </h3>"
   ]
  },
  {
   "cell_type": "code",
   "execution_count": 49,
   "metadata": {
    "scrolled": true
   },
   "outputs": [
    {
     "name": "stdout",
     "output_type": "stream",
     "text": [
      "Размер сегмента: 616\n",
      "Уровень оттока: 50.16%\n"
     ]
    }
   ],
   "source": [
    "data_segment_1 = data.query(\n",
    "    'products >= 2 & products <= 3 & credit_card == 0 & gender_c == 1 & equity >= 4')\n",
    "churn_percentage_1 = len(data_segment_1[data_segment_1['churn'] == 1])/len(data_segment_1)*100\n",
    "\n",
    "print('Размер сегмента:', data_segment_1.shape[0])\n",
    "print(f\"Уровень оттока: {churn_percentage_1:.2f}%\")"
   ]
  },
  {
   "cell_type": "markdown",
   "metadata": {},
   "source": [
    "Характеристики 1-го сегмента:\n",
    "\n",
    "- мужчины\n",
    "- с 2-3 банковскими продуктами\n",
    "- без кредитной карты\n",
    "- с приблизительной оценкой собственности более 4 единиц"
   ]
  },
  {
   "cell_type": "code",
   "execution_count": 50,
   "metadata": {
    "scrolled": true
   },
   "outputs": [
    {
     "name": "stdout",
     "output_type": "stream",
     "text": [
      "Размер сегмента: 547\n",
      "Уровень оттока: 58.50%\n"
     ]
    }
   ],
   "source": [
    "data_segment_2 = data.query(\n",
    "    'last_activity == 1 & credit_card == 0 & balance < 1500000 & score > 850')\n",
    "churn_percentage_2 = len(data_segment_2[data_segment_2['churn'] == 1])/len(data_segment_2)*100\n",
    "\n",
    "print('Размер сегмента:', data_segment_2.shape[0])\n",
    "print(f\"Уровень оттока: {churn_percentage_2:.2f}%\")"
   ]
  },
  {
   "cell_type": "markdown",
   "metadata": {},
   "source": [
    "Характеристики 2-го сегмента:\n",
    "\n",
    "- клиенты, у которых была зафиксирована активность \n",
    "- с балансом менее 1,5 млн\n",
    "- без кредитной карты\n",
    "- скоринговый рейтинг больше 830 баллов"
   ]
  },
  {
   "cell_type": "code",
   "execution_count": 51,
   "metadata": {
    "scrolled": true
   },
   "outputs": [
    {
     "name": "stdout",
     "output_type": "stream",
     "text": [
      "Размер сегмента: 583\n",
      "Уровень оттока: 50.43%\n"
     ]
    }
   ],
   "source": [
    "data_segment_3 = data.query(\n",
    "    'balance > 1500000 & equity >= 4')\n",
    "churn_percentage_3 = len(data_segment_3[data_segment_3['churn'] == 1])/len(data_segment_3)*100\n",
    "\n",
    "print('Размер сегмента:', data_segment_3.shape[0])\n",
    "print(f\"Уровень оттока: {churn_percentage_3:.2f}%\")"
   ]
  },
  {
   "cell_type": "markdown",
   "metadata": {},
   "source": [
    "Характеристики 3-го сегмента:\n",
    "\n",
    "- клиенты с балансом более 1,5 млн\n",
    "- с приблизительной оценкой собственности более 4 единиц"
   ]
  },
  {
   "cell_type": "code",
   "execution_count": 52,
   "metadata": {},
   "outputs": [
    {
     "data": {
      "image/png": "[encoded data removed]",
      "text/plain": [
       "<Figure size 432x288 with 1 Axes>"
      ]
     },
     "metadata": {
      "needs_background": "light"
     },
     "output_type": "display_data"
    }
   ],
   "source": [
    "#Приоритизация\n",
    "segments = ['Сегмент 1', 'Сегмент 2', 'Сегмент 3']\n",
    "sizes = [churn_percentage_1, churn_percentage_2, churn_percentage_3]\n",
    "\n",
    "plt.barh(segments, sizes)\n",
    "plt.title('Процентное соотношение размеров сегментов')\n",
    "plt.xlabel('Сегменты')\n",
    "plt.ylabel('Процент')\n",
    "plt.grid(True)\n",
    "plt.show()"
   ]
  },
  {
   "cell_type": "markdown",
   "metadata": {},
   "source": [
    "<div>\n",
    "    <h3> 6. Выводы и рекомендации для заказчика <a class=\"tocSkip\"> </h3>"
   ]
  },
  {
   "cell_type": "markdown",
   "metadata": {},
   "source": [
    "В ходе исследований были выделены 3 сегмента уходящих пользователей:\n",
    "\n",
    "1 сегмент (мужчины, с 2-3 банковскими продуктами, без кредитной карты. Размер сегмента: 616.Уровень оттока: 50.16%. По приоритету третий). Рекомендации:\n",
    "- предложите оформление кредитной карты на выгодных условиях,\n",
    "- подарочные бонусы или кэшбэк на покупки товаров для мужчин,\n",
    "- уточните, какие породукты оформлены, есть ли среди них страхование жизни, средств на карте и т.д. При отсутсвии предложите оформить данный продукт\n",
    "- предложите страхование объектов собственности на выходных условиях, например скидку на страховку на 2 и более квартир, или скидка на расширенную страховку\n",
    "\n",
    "\n",
    "2 сегмент (была активность в последнее время, баланс клиента менее 1,5 млн рублей, нет кредитной карты. Размер сегмента: 547.\n",
    "Уровень оттока: 58.50%. По приоритету первый). Рекомендации:\n",
    "- предложите оформление кредитной карты на выгодных условиях,\n",
    "- стимулируйте клиента к увеличению средств на счете, предложив бонусы или инвестиционные возможности\n",
    "- улучшайте качество обслуживания клиентов по телефону и в оффлайн-офисах. Необходимо найти проблемные области и предпринять меры для улучшения качества обслуживания, чтобы удержать клиентов и предотвратить отток.\n",
    "\n",
    "\n",
    "3 сегмент (баланс более 1,5 млн, оценка собственности выше 4 баллов. Размер сегмента: 583. Уровень оттока: 50.43%. По приоритету второй). Рекомендации:\n",
    "- сделайте персональные предложения по вкладам для этой категории клиентов\n",
    "- возможно для этой категории лиц можно организовать более высокий уровень обслуживания, например персональный менеджер, банковская карта с повышенным кешбэком\n",
    "- предложите страхование объектов собственности на выходных условиях, например скидку на страховку на 2 и более квартир, или скидка на расширенную страховку\n",
    "- предложите персональные условия для кредитования\n",
    "\n",
    "\n",
    "При сравнении портреов типичного и отточного клиентов выявлено, что при практически равных условиях мужчины уходят из банка чаще чем женщины. Возможно нужно разработать гендерные предложения и акции для укрепления уверенности в правильном выборе банка текущими пользователями и удержания тех, кто желает уйти."
   ]
  }
 ],
 "metadata": {
  "ExecuteTimeLog": [
   {
    "duration": 476,
    "start_time": "2023-10-11T08:55:17.131Z"
   },
   {
    "duration": 84,
    "start_time": "2023-10-11T08:55:30.880Z"
   },
   {
    "duration": 3,
    "start_time": "2023-10-11T08:55:36.537Z"
   },
   {
    "duration": 61,
    "start_time": "2023-10-11T08:55:37.229Z"
   },
   {
    "duration": 214,
    "start_time": "2023-10-11T08:57:28.168Z"
   },
   {
    "duration": 29,
    "start_time": "2023-10-11T08:57:49.549Z"
   },
   {
    "duration": 3,
    "start_time": "2023-10-11T08:58:41.572Z"
   },
   {
    "duration": 36,
    "start_time": "2023-10-11T09:00:22.880Z"
   },
   {
    "duration": 15,
    "start_time": "2023-10-11T09:00:59.724Z"
   },
   {
    "duration": 7,
    "start_time": "2023-10-11T09:09:32.953Z"
   },
   {
    "duration": 10,
    "start_time": "2023-10-11T09:10:20.332Z"
   },
   {
    "duration": 57,
    "start_time": "2023-10-11T09:12:54.560Z"
   },
   {
    "duration": 4,
    "start_time": "2023-10-11T09:19:30.080Z"
   },
   {
    "duration": 4,
    "start_time": "2023-10-11T09:19:42.743Z"
   },
   {
    "duration": 16,
    "start_time": "2023-10-11T09:20:02.571Z"
   },
   {
    "duration": 5,
    "start_time": "2023-10-11T09:20:56.958Z"
   },
   {
    "duration": 13,
    "start_time": "2023-10-11T09:20:58.977Z"
   },
   {
    "duration": 106,
    "start_time": "2023-10-11T09:21:27.181Z"
   },
   {
    "duration": 13,
    "start_time": "2023-10-11T09:21:27.944Z"
   },
   {
    "duration": 17,
    "start_time": "2023-10-11T09:21:41.979Z"
   },
   {
    "duration": 10,
    "start_time": "2023-10-11T09:21:57.279Z"
   },
   {
    "duration": 27,
    "start_time": "2023-10-11T09:22:13.794Z"
   },
   {
    "duration": 468,
    "start_time": "2023-10-11T09:22:28.483Z"
   },
   {
    "duration": 44,
    "start_time": "2023-10-11T09:22:28.954Z"
   },
   {
    "duration": 64,
    "start_time": "2023-10-11T09:22:29.000Z"
   },
   {
    "duration": 31,
    "start_time": "2023-10-11T09:22:29.067Z"
   },
   {
    "duration": 59,
    "start_time": "2023-10-11T09:22:29.100Z"
   },
   {
    "duration": 135,
    "start_time": "2023-10-11T09:22:29.161Z"
   },
   {
    "duration": 0,
    "start_time": "2023-10-11T09:22:29.314Z"
   },
   {
    "duration": 0,
    "start_time": "2023-10-11T09:22:29.315Z"
   },
   {
    "duration": 0,
    "start_time": "2023-10-11T09:22:29.317Z"
   },
   {
    "duration": 0,
    "start_time": "2023-10-11T09:22:29.318Z"
   },
   {
    "duration": 15,
    "start_time": "2023-10-11T09:23:50.874Z"
   },
   {
    "duration": 10,
    "start_time": "2023-10-11T09:24:43.831Z"
   },
   {
    "duration": 23,
    "start_time": "2023-10-11T09:25:06.624Z"
   },
   {
    "duration": 25,
    "start_time": "2023-10-11T10:14:52.374Z"
   },
   {
    "duration": 27,
    "start_time": "2023-10-11T10:28:41.373Z"
   },
   {
    "duration": 34,
    "start_time": "2023-10-11T10:30:18.136Z"
   },
   {
    "duration": 28,
    "start_time": "2023-10-11T10:30:49.966Z"
   },
   {
    "duration": 44,
    "start_time": "2023-10-11T10:42:23.653Z"
   },
   {
    "duration": 302,
    "start_time": "2023-10-11T10:43:10.530Z"
   },
   {
    "duration": 40,
    "start_time": "2023-10-11T10:43:24.890Z"
   },
   {
    "duration": 59,
    "start_time": "2023-10-11T10:45:09.701Z"
   },
   {
    "duration": 38,
    "start_time": "2023-10-11T10:46:02.274Z"
   },
   {
    "duration": 17,
    "start_time": "2023-10-11T10:51:10.448Z"
   },
   {
    "duration": 18,
    "start_time": "2023-10-11T10:51:29.780Z"
   },
   {
    "duration": 11,
    "start_time": "2023-10-11T10:52:00.477Z"
   },
   {
    "duration": 162,
    "start_time": "2023-10-11T10:52:38.711Z"
   },
   {
    "duration": 2734,
    "start_time": "2023-10-11T12:51:30.962Z"
   },
   {
    "duration": 16,
    "start_time": "2023-10-11T12:52:00.693Z"
   },
   {
    "duration": 27,
    "start_time": "2023-10-11T12:53:23.199Z"
   },
   {
    "duration": 34,
    "start_time": "2023-10-11T12:53:44.132Z"
   },
   {
    "duration": 23,
    "start_time": "2023-10-11T12:54:37.541Z"
   },
   {
    "duration": 12,
    "start_time": "2023-10-11T12:55:03.677Z"
   },
   {
    "duration": 30,
    "start_time": "2023-10-11T12:55:16.549Z"
   },
   {
    "duration": 23,
    "start_time": "2023-10-11T13:01:20.655Z"
   },
   {
    "duration": 16,
    "start_time": "2023-10-11T13:02:45.478Z"
   },
   {
    "duration": 24,
    "start_time": "2023-10-11T13:03:30.874Z"
   },
   {
    "duration": 131,
    "start_time": "2023-10-11T13:07:29.735Z"
   },
   {
    "duration": 17,
    "start_time": "2023-10-11T13:07:42.367Z"
   },
   {
    "duration": 4012,
    "start_time": "2023-10-11T13:08:38.363Z"
   },
   {
    "duration": 3990,
    "start_time": "2023-10-11T13:10:06.079Z"
   },
   {
    "duration": 3538,
    "start_time": "2023-10-11T13:16:17.042Z"
   },
   {
    "duration": 32,
    "start_time": "2023-10-11T13:21:13.531Z"
   },
   {
    "duration": 19,
    "start_time": "2023-10-11T13:21:23.428Z"
   },
   {
    "duration": 17,
    "start_time": "2023-10-11T13:23:48.422Z"
   },
   {
    "duration": 733,
    "start_time": "2023-10-11T13:25:16.963Z"
   },
   {
    "duration": 19,
    "start_time": "2023-10-11T13:26:17.828Z"
   },
   {
    "duration": 8,
    "start_time": "2023-10-11T13:27:08.231Z"
   },
   {
    "duration": 7,
    "start_time": "2023-10-11T13:27:28.189Z"
   },
   {
    "duration": 655,
    "start_time": "2023-10-11T13:27:59.422Z"
   },
   {
    "duration": 441,
    "start_time": "2023-10-11T13:28:21.630Z"
   },
   {
    "duration": 66,
    "start_time": "2023-10-11T13:28:22.073Z"
   },
   {
    "duration": 32,
    "start_time": "2023-10-11T13:28:22.142Z"
   },
   {
    "duration": 54,
    "start_time": "2023-10-11T13:28:22.176Z"
   },
   {
    "duration": 22,
    "start_time": "2023-10-11T13:28:22.231Z"
   },
   {
    "duration": 40,
    "start_time": "2023-10-11T13:28:22.255Z"
   },
   {
    "duration": 49,
    "start_time": "2023-10-11T13:28:22.297Z"
   },
   {
    "duration": 20,
    "start_time": "2023-10-11T13:28:22.348Z"
   },
   {
    "duration": 92,
    "start_time": "2023-10-11T13:28:22.370Z"
   },
   {
    "duration": 13,
    "start_time": "2023-10-11T13:28:22.465Z"
   },
   {
    "duration": 49,
    "start_time": "2023-10-11T13:28:22.480Z"
   },
   {
    "duration": 18,
    "start_time": "2023-10-11T13:28:22.531Z"
   },
   {
    "duration": 84,
    "start_time": "2023-10-11T13:28:22.551Z"
   },
   {
    "duration": 22,
    "start_time": "2023-10-11T13:28:22.637Z"
   },
   {
    "duration": 3697,
    "start_time": "2023-10-11T13:28:22.661Z"
   },
   {
    "duration": 1005,
    "start_time": "2023-10-11T13:28:26.361Z"
   },
   {
    "duration": 5,
    "start_time": "2023-10-11T13:58:05.292Z"
   },
   {
    "duration": 5,
    "start_time": "2023-10-11T14:03:28.802Z"
   },
   {
    "duration": 6,
    "start_time": "2023-10-11T14:03:54.664Z"
   },
   {
    "duration": 4,
    "start_time": "2023-10-11T14:04:18.840Z"
   },
   {
    "duration": 89,
    "start_time": "2023-10-11T14:04:43.476Z"
   },
   {
    "duration": 14,
    "start_time": "2023-10-11T14:05:27.797Z"
   },
   {
    "duration": 11,
    "start_time": "2023-10-11T14:05:48.838Z"
   },
   {
    "duration": 13,
    "start_time": "2023-10-11T14:06:24.967Z"
   },
   {
    "duration": 446,
    "start_time": "2023-10-11T14:06:38.260Z"
   },
   {
    "duration": 59,
    "start_time": "2023-10-11T14:06:38.709Z"
   },
   {
    "duration": 46,
    "start_time": "2023-10-11T14:06:38.770Z"
   },
   {
    "duration": 30,
    "start_time": "2023-10-11T14:06:38.818Z"
   },
   {
    "duration": 75,
    "start_time": "2023-10-11T14:06:38.850Z"
   },
   {
    "duration": 27,
    "start_time": "2023-10-11T14:06:38.927Z"
   },
   {
    "duration": 50,
    "start_time": "2023-10-11T14:06:38.956Z"
   },
   {
    "duration": 37,
    "start_time": "2023-10-11T14:06:39.016Z"
   },
   {
    "duration": 70,
    "start_time": "2023-10-11T14:06:39.054Z"
   },
   {
    "duration": 19,
    "start_time": "2023-10-11T14:06:39.127Z"
   },
   {
    "duration": 42,
    "start_time": "2023-10-11T14:06:39.147Z"
   },
   {
    "duration": 156,
    "start_time": "2023-10-11T14:06:39.191Z"
   },
   {
    "duration": 144,
    "start_time": "2023-10-11T14:06:39.349Z"
   },
   {
    "duration": 27,
    "start_time": "2023-10-11T14:06:39.495Z"
   },
   {
    "duration": 3745,
    "start_time": "2023-10-11T14:06:39.526Z"
   },
   {
    "duration": 997,
    "start_time": "2023-10-11T14:06:43.273Z"
   },
   {
    "duration": 44,
    "start_time": "2023-10-11T14:06:44.271Z"
   },
   {
    "duration": 15,
    "start_time": "2023-10-11T14:06:44.325Z"
   },
   {
    "duration": 4,
    "start_time": "2023-10-11T14:08:07.750Z"
   },
   {
    "duration": 16,
    "start_time": "2023-10-11T14:08:23.418Z"
   },
   {
    "duration": 175,
    "start_time": "2023-10-11T14:10:42.183Z"
   },
   {
    "duration": 233,
    "start_time": "2023-10-11T14:11:01.563Z"
   },
   {
    "duration": 1166,
    "start_time": "2023-10-11T14:29:54.353Z"
   },
   {
    "duration": 109,
    "start_time": "2023-10-11T14:34:26.606Z"
   },
   {
    "duration": 8,
    "start_time": "2023-10-11T14:34:35.898Z"
   },
   {
    "duration": 24,
    "start_time": "2023-10-11T14:44:11.875Z"
   },
   {
    "duration": 3879,
    "start_time": "2023-10-11T14:44:22.427Z"
   },
   {
    "duration": 36,
    "start_time": "2023-10-11T14:45:01.510Z"
   },
   {
    "duration": 37,
    "start_time": "2023-10-11T14:46:14.021Z"
   },
   {
    "duration": 1300,
    "start_time": "2023-10-11T14:46:37.356Z"
   },
   {
    "duration": 49,
    "start_time": "2023-10-11T14:46:38.659Z"
   },
   {
    "duration": 35,
    "start_time": "2023-10-11T14:46:38.711Z"
   },
   {
    "duration": 77,
    "start_time": "2023-10-11T14:46:38.749Z"
   },
   {
    "duration": 66,
    "start_time": "2023-10-11T14:46:38.827Z"
   },
   {
    "duration": 57,
    "start_time": "2023-10-11T14:46:38.895Z"
   },
   {
    "duration": 26,
    "start_time": "2023-10-11T14:46:38.954Z"
   },
   {
    "duration": 33,
    "start_time": "2023-10-11T14:46:38.983Z"
   },
   {
    "duration": 58,
    "start_time": "2023-10-11T14:46:39.018Z"
   },
   {
    "duration": 17,
    "start_time": "2023-10-11T14:46:39.081Z"
   },
   {
    "duration": 41,
    "start_time": "2023-10-11T14:46:39.099Z"
   },
   {
    "duration": 13,
    "start_time": "2023-10-11T14:46:39.141Z"
   },
   {
    "duration": 72,
    "start_time": "2023-10-11T14:46:39.156Z"
   },
   {
    "duration": 19,
    "start_time": "2023-10-11T14:46:39.229Z"
   },
   {
    "duration": 2943,
    "start_time": "2023-10-11T14:46:39.251Z"
   },
   {
    "duration": 750,
    "start_time": "2023-10-11T14:46:42.196Z"
   },
   {
    "duration": 6,
    "start_time": "2023-10-11T14:46:42.948Z"
   },
   {
    "duration": 72,
    "start_time": "2023-10-11T14:46:42.956Z"
   },
   {
    "duration": 22,
    "start_time": "2023-10-11T14:51:34.048Z"
   },
   {
    "duration": 21,
    "start_time": "2023-10-11T14:51:57.242Z"
   },
   {
    "duration": 7,
    "start_time": "2023-10-11T14:51:58.840Z"
   },
   {
    "duration": 104,
    "start_time": "2023-10-11T14:52:00.877Z"
   },
   {
    "duration": 1418,
    "start_time": "2023-10-11T14:52:44.026Z"
   },
   {
    "duration": 43,
    "start_time": "2023-10-11T14:52:45.446Z"
   },
   {
    "duration": 35,
    "start_time": "2023-10-11T14:52:45.491Z"
   },
   {
    "duration": 232,
    "start_time": "2023-10-11T14:52:45.529Z"
   },
   {
    "duration": 57,
    "start_time": "2023-10-11T14:52:45.763Z"
   },
   {
    "duration": 67,
    "start_time": "2023-10-11T14:52:45.822Z"
   },
   {
    "duration": 32,
    "start_time": "2023-10-11T14:52:45.892Z"
   },
   {
    "duration": 28,
    "start_time": "2023-10-11T14:52:45.926Z"
   },
   {
    "duration": 103,
    "start_time": "2023-10-11T14:52:45.957Z"
   },
   {
    "duration": 12,
    "start_time": "2023-10-11T14:52:46.063Z"
   },
   {
    "duration": 31,
    "start_time": "2023-10-11T14:52:46.077Z"
   },
   {
    "duration": 13,
    "start_time": "2023-10-11T14:52:46.109Z"
   },
   {
    "duration": 86,
    "start_time": "2023-10-11T14:52:46.124Z"
   },
   {
    "duration": 16,
    "start_time": "2023-10-11T14:52:46.212Z"
   },
   {
    "duration": 2985,
    "start_time": "2023-10-11T14:52:46.230Z"
   },
   {
    "duration": 17,
    "start_time": "2023-10-11T14:52:49.218Z"
   },
   {
    "duration": 107,
    "start_time": "2023-10-11T14:52:49.237Z"
   },
   {
    "duration": 61,
    "start_time": "2023-10-11T14:52:49.346Z"
   },
   {
    "duration": 109,
    "start_time": "2023-10-11T14:54:13.753Z"
   },
   {
    "duration": 1304,
    "start_time": "2023-10-11T14:54:33.538Z"
   },
   {
    "duration": 49,
    "start_time": "2023-10-11T14:54:34.845Z"
   },
   {
    "duration": 27,
    "start_time": "2023-10-11T14:54:34.896Z"
   },
   {
    "duration": 30,
    "start_time": "2023-10-11T14:54:34.926Z"
   },
   {
    "duration": 23,
    "start_time": "2023-10-11T14:54:34.958Z"
   },
   {
    "duration": 23,
    "start_time": "2023-10-11T14:54:34.983Z"
   },
   {
    "duration": 43,
    "start_time": "2023-10-11T14:54:35.009Z"
   },
   {
    "duration": 42,
    "start_time": "2023-10-11T14:54:35.055Z"
   },
   {
    "duration": 51,
    "start_time": "2023-10-11T14:54:35.099Z"
   },
   {
    "duration": 14,
    "start_time": "2023-10-11T14:54:35.154Z"
   },
   {
    "duration": 24,
    "start_time": "2023-10-11T14:54:35.170Z"
   },
   {
    "duration": 14,
    "start_time": "2023-10-11T14:54:35.201Z"
   },
   {
    "duration": 66,
    "start_time": "2023-10-11T14:54:35.217Z"
   },
   {
    "duration": 29,
    "start_time": "2023-10-11T14:54:35.285Z"
   },
   {
    "duration": 2834,
    "start_time": "2023-10-11T14:54:35.316Z"
   },
   {
    "duration": 52,
    "start_time": "2023-10-11T14:54:38.152Z"
   },
   {
    "duration": 27,
    "start_time": "2023-10-11T14:54:38.207Z"
   },
   {
    "duration": 81,
    "start_time": "2023-10-11T14:54:38.236Z"
   },
   {
    "duration": 2664,
    "start_time": "2023-10-11T14:56:03.916Z"
   },
   {
    "duration": 2239,
    "start_time": "2023-10-11T14:56:30.768Z"
   },
   {
    "duration": 7,
    "start_time": "2023-10-11T14:56:44.997Z"
   },
   {
    "duration": 2338,
    "start_time": "2023-10-11T14:56:47.338Z"
   },
   {
    "duration": 1312,
    "start_time": "2023-10-11T14:57:07.175Z"
   },
   {
    "duration": 43,
    "start_time": "2023-10-11T14:57:08.489Z"
   },
   {
    "duration": 30,
    "start_time": "2023-10-11T14:57:08.534Z"
   },
   {
    "duration": 53,
    "start_time": "2023-10-11T14:57:08.567Z"
   },
   {
    "duration": 38,
    "start_time": "2023-10-11T14:57:08.623Z"
   },
   {
    "duration": 5,
    "start_time": "2023-10-11T14:57:08.663Z"
   },
   {
    "duration": 23,
    "start_time": "2023-10-11T14:57:08.670Z"
   },
   {
    "duration": 14,
    "start_time": "2023-10-11T14:57:08.695Z"
   },
   {
    "duration": 60,
    "start_time": "2023-10-11T14:57:08.711Z"
   },
   {
    "duration": 13,
    "start_time": "2023-10-11T14:57:08.774Z"
   },
   {
    "duration": 32,
    "start_time": "2023-10-11T14:57:08.788Z"
   },
   {
    "duration": 12,
    "start_time": "2023-10-11T14:57:08.822Z"
   },
   {
    "duration": 112,
    "start_time": "2023-10-11T14:57:08.836Z"
   },
   {
    "duration": 18,
    "start_time": "2023-10-11T14:57:08.950Z"
   },
   {
    "duration": 2841,
    "start_time": "2023-10-11T14:57:08.970Z"
   },
   {
    "duration": 17,
    "start_time": "2023-10-11T14:57:11.813Z"
   },
   {
    "duration": 72,
    "start_time": "2023-10-11T14:57:11.831Z"
   },
   {
    "duration": 65,
    "start_time": "2023-10-11T14:57:11.904Z"
   },
   {
    "duration": 26,
    "start_time": "2023-10-11T15:00:23.013Z"
   },
   {
    "duration": 35,
    "start_time": "2023-10-11T15:01:40.289Z"
   },
   {
    "duration": 35,
    "start_time": "2023-10-11T15:03:28.097Z"
   },
   {
    "duration": 50,
    "start_time": "2023-10-11T15:03:42.046Z"
   },
   {
    "duration": 1411,
    "start_time": "2023-10-11T15:04:16.300Z"
   },
   {
    "duration": 44,
    "start_time": "2023-10-11T15:04:17.714Z"
   },
   {
    "duration": 46,
    "start_time": "2023-10-11T15:04:17.759Z"
   },
   {
    "duration": 44,
    "start_time": "2023-10-11T15:04:17.808Z"
   },
   {
    "duration": 37,
    "start_time": "2023-10-11T15:04:17.854Z"
   },
   {
    "duration": 18,
    "start_time": "2023-10-11T15:04:17.894Z"
   },
   {
    "duration": 39,
    "start_time": "2023-10-11T15:04:17.913Z"
   },
   {
    "duration": 38,
    "start_time": "2023-10-11T15:04:17.954Z"
   },
   {
    "duration": 68,
    "start_time": "2023-10-11T15:04:17.994Z"
   },
   {
    "duration": 21,
    "start_time": "2023-10-11T15:04:18.066Z"
   },
   {
    "duration": 41,
    "start_time": "2023-10-11T15:04:18.089Z"
   },
   {
    "duration": 51,
    "start_time": "2023-10-11T15:04:18.132Z"
   },
   {
    "duration": 83,
    "start_time": "2023-10-11T15:04:18.185Z"
   },
   {
    "duration": 25,
    "start_time": "2023-10-11T15:04:18.270Z"
   },
   {
    "duration": 2961,
    "start_time": "2023-10-11T15:04:18.297Z"
   },
   {
    "duration": 40,
    "start_time": "2023-10-11T15:04:21.261Z"
   },
   {
    "duration": 55,
    "start_time": "2023-10-11T15:04:21.303Z"
   },
   {
    "duration": 248,
    "start_time": "2023-10-11T15:04:21.360Z"
   },
   {
    "duration": 3,
    "start_time": "2023-10-11T15:09:23.183Z"
   },
   {
    "duration": 162,
    "start_time": "2023-10-11T15:13:32.354Z"
   },
   {
    "duration": 685,
    "start_time": "2023-10-11T15:13:48.217Z"
   },
   {
    "duration": 14,
    "start_time": "2023-10-11T15:14:22.068Z"
   },
   {
    "duration": 14,
    "start_time": "2023-10-11T15:14:37.378Z"
   },
   {
    "duration": 65,
    "start_time": "2023-10-11T15:14:51.467Z"
   },
   {
    "duration": 8,
    "start_time": "2023-10-11T15:16:13.058Z"
   },
   {
    "duration": 14,
    "start_time": "2023-10-11T15:16:39.567Z"
   },
   {
    "duration": 5,
    "start_time": "2023-10-11T15:20:07.087Z"
   },
   {
    "duration": 18,
    "start_time": "2023-10-11T15:20:08.895Z"
   },
   {
    "duration": 8,
    "start_time": "2023-10-11T15:20:24.068Z"
   },
   {
    "duration": 51,
    "start_time": "2023-10-11T15:20:26.896Z"
   },
   {
    "duration": 14,
    "start_time": "2023-10-11T15:20:30.227Z"
   },
   {
    "duration": 1489,
    "start_time": "2023-10-12T08:36:02.833Z"
   },
   {
    "duration": 97,
    "start_time": "2023-10-12T08:36:04.325Z"
   },
   {
    "duration": 27,
    "start_time": "2023-10-12T08:36:04.423Z"
   },
   {
    "duration": 26,
    "start_time": "2023-10-12T08:36:04.453Z"
   },
   {
    "duration": 11,
    "start_time": "2023-10-12T08:36:04.481Z"
   },
   {
    "duration": 33,
    "start_time": "2023-10-12T08:36:04.494Z"
   },
   {
    "duration": 30,
    "start_time": "2023-10-12T08:36:04.529Z"
   },
   {
    "duration": 23,
    "start_time": "2023-10-12T08:36:04.561Z"
   },
   {
    "duration": 51,
    "start_time": "2023-10-12T08:36:04.585Z"
   },
   {
    "duration": 23,
    "start_time": "2023-10-12T08:36:04.639Z"
   },
   {
    "duration": 58,
    "start_time": "2023-10-12T08:36:04.664Z"
   },
   {
    "duration": 11,
    "start_time": "2023-10-12T08:36:04.724Z"
   },
   {
    "duration": 65,
    "start_time": "2023-10-12T08:36:04.736Z"
   },
   {
    "duration": 15,
    "start_time": "2023-10-12T08:36:04.802Z"
   },
   {
    "duration": 3023,
    "start_time": "2023-10-12T08:36:04.818Z"
   },
   {
    "duration": 23,
    "start_time": "2023-10-12T08:36:07.844Z"
   },
   {
    "duration": 17,
    "start_time": "2023-10-12T08:36:07.868Z"
   },
   {
    "duration": 97,
    "start_time": "2023-10-12T08:36:07.886Z"
   },
   {
    "duration": 164,
    "start_time": "2023-10-12T08:36:07.985Z"
   },
   {
    "duration": 22,
    "start_time": "2023-10-12T08:36:08.153Z"
   },
   {
    "duration": 21,
    "start_time": "2023-10-12T08:43:03.834Z"
   },
   {
    "duration": 104,
    "start_time": "2023-10-12T08:54:07.117Z"
   },
   {
    "duration": 12,
    "start_time": "2023-10-12T08:54:15.486Z"
   },
   {
    "duration": 10,
    "start_time": "2023-10-12T08:55:12.070Z"
   },
   {
    "duration": 5,
    "start_time": "2023-10-12T08:55:42.482Z"
   },
   {
    "duration": 12,
    "start_time": "2023-10-12T08:55:43.882Z"
   },
   {
    "duration": 4,
    "start_time": "2023-10-12T09:13:18.890Z"
   },
   {
    "duration": 1239,
    "start_time": "2023-10-12T09:13:25.445Z"
   },
   {
    "duration": 8,
    "start_time": "2023-10-12T09:15:11.142Z"
   },
   {
    "duration": 9,
    "start_time": "2023-10-12T09:16:35.392Z"
   },
   {
    "duration": 8,
    "start_time": "2023-10-12T09:16:47.112Z"
   },
   {
    "duration": 10,
    "start_time": "2023-10-12T09:23:54.003Z"
   },
   {
    "duration": 1157,
    "start_time": "2023-10-12T09:25:21.220Z"
   },
   {
    "duration": 40,
    "start_time": "2023-10-12T09:25:22.379Z"
   },
   {
    "duration": 23,
    "start_time": "2023-10-12T09:25:22.421Z"
   },
   {
    "duration": 25,
    "start_time": "2023-10-12T09:25:22.447Z"
   },
   {
    "duration": 72,
    "start_time": "2023-10-12T09:25:22.474Z"
   },
   {
    "duration": 12,
    "start_time": "2023-10-12T09:25:22.548Z"
   },
   {
    "duration": 25,
    "start_time": "2023-10-12T09:25:22.562Z"
   },
   {
    "duration": 138,
    "start_time": "2023-10-12T09:25:22.588Z"
   },
   {
    "duration": 0,
    "start_time": "2023-10-12T09:25:22.728Z"
   },
   {
    "duration": 0,
    "start_time": "2023-10-12T09:25:22.730Z"
   },
   {
    "duration": 0,
    "start_time": "2023-10-12T09:25:22.731Z"
   },
   {
    "duration": 0,
    "start_time": "2023-10-12T09:25:22.732Z"
   },
   {
    "duration": 0,
    "start_time": "2023-10-12T09:25:22.734Z"
   },
   {
    "duration": 0,
    "start_time": "2023-10-12T09:25:22.734Z"
   },
   {
    "duration": 0,
    "start_time": "2023-10-12T09:25:22.744Z"
   },
   {
    "duration": 0,
    "start_time": "2023-10-12T09:25:22.745Z"
   },
   {
    "duration": 0,
    "start_time": "2023-10-12T09:25:22.747Z"
   },
   {
    "duration": 1,
    "start_time": "2023-10-12T09:25:22.748Z"
   },
   {
    "duration": 0,
    "start_time": "2023-10-12T09:25:22.750Z"
   },
   {
    "duration": 0,
    "start_time": "2023-10-12T09:25:22.751Z"
   },
   {
    "duration": 0,
    "start_time": "2023-10-12T09:25:22.752Z"
   },
   {
    "duration": 0,
    "start_time": "2023-10-12T09:25:22.753Z"
   },
   {
    "duration": 0,
    "start_time": "2023-10-12T09:25:22.754Z"
   },
   {
    "duration": 1258,
    "start_time": "2023-10-12T09:25:59.443Z"
   },
   {
    "duration": 41,
    "start_time": "2023-10-12T09:26:00.704Z"
   },
   {
    "duration": 72,
    "start_time": "2023-10-12T09:26:00.747Z"
   },
   {
    "duration": 68,
    "start_time": "2023-10-12T09:26:00.822Z"
   },
   {
    "duration": 84,
    "start_time": "2023-10-12T09:26:00.893Z"
   },
   {
    "duration": 45,
    "start_time": "2023-10-12T09:26:00.979Z"
   },
   {
    "duration": 89,
    "start_time": "2023-10-12T09:26:01.027Z"
   },
   {
    "duration": 43,
    "start_time": "2023-10-12T09:26:01.118Z"
   },
   {
    "duration": 76,
    "start_time": "2023-10-12T09:26:01.163Z"
   },
   {
    "duration": 49,
    "start_time": "2023-10-12T09:26:01.241Z"
   },
   {
    "duration": 71,
    "start_time": "2023-10-12T09:26:01.293Z"
   },
   {
    "duration": 103,
    "start_time": "2023-10-12T09:26:01.366Z"
   },
   {
    "duration": 41,
    "start_time": "2023-10-12T09:26:01.471Z"
   },
   {
    "duration": 137,
    "start_time": "2023-10-12T09:26:01.514Z"
   },
   {
    "duration": 90,
    "start_time": "2023-10-12T09:26:01.653Z"
   },
   {
    "duration": 229,
    "start_time": "2023-10-12T09:26:01.745Z"
   },
   {
    "duration": 18,
    "start_time": "2023-10-12T09:26:01.975Z"
   },
   {
    "duration": 3180,
    "start_time": "2023-10-12T09:26:01.994Z"
   },
   {
    "duration": 17,
    "start_time": "2023-10-12T09:26:05.177Z"
   },
   {
    "duration": 52,
    "start_time": "2023-10-12T09:26:05.195Z"
   },
   {
    "duration": 96,
    "start_time": "2023-10-12T09:26:05.248Z"
   },
   {
    "duration": 94,
    "start_time": "2023-10-12T09:26:05.347Z"
   },
   {
    "duration": 12,
    "start_time": "2023-10-12T09:26:05.443Z"
   },
   {
    "duration": 16,
    "start_time": "2023-10-12T09:26:57.275Z"
   },
   {
    "duration": 3177,
    "start_time": "2023-10-12T09:27:19.054Z"
   },
   {
    "duration": 19,
    "start_time": "2023-10-12T09:28:45.612Z"
   },
   {
    "duration": 1171,
    "start_time": "2023-10-12T09:29:21.146Z"
   },
   {
    "duration": 40,
    "start_time": "2023-10-12T09:29:22.319Z"
   },
   {
    "duration": 23,
    "start_time": "2023-10-12T09:29:22.361Z"
   },
   {
    "duration": 24,
    "start_time": "2023-10-12T09:29:22.386Z"
   },
   {
    "duration": 45,
    "start_time": "2023-10-12T09:29:22.411Z"
   },
   {
    "duration": 28,
    "start_time": "2023-10-12T09:29:22.458Z"
   },
   {
    "duration": 41,
    "start_time": "2023-10-12T09:29:22.488Z"
   },
   {
    "duration": 10,
    "start_time": "2023-10-12T09:29:22.531Z"
   },
   {
    "duration": 18,
    "start_time": "2023-10-12T09:29:22.543Z"
   },
   {
    "duration": 43,
    "start_time": "2023-10-12T09:29:22.563Z"
   },
   {
    "duration": 17,
    "start_time": "2023-10-12T09:29:22.608Z"
   },
   {
    "duration": 37,
    "start_time": "2023-10-12T09:29:22.627Z"
   },
   {
    "duration": 34,
    "start_time": "2023-10-12T09:29:22.666Z"
   },
   {
    "duration": 20,
    "start_time": "2023-10-12T09:29:22.702Z"
   },
   {
    "duration": 31,
    "start_time": "2023-10-12T09:29:22.724Z"
   },
   {
    "duration": 14,
    "start_time": "2023-10-12T09:29:22.756Z"
   },
   {
    "duration": 40,
    "start_time": "2023-10-12T09:29:22.771Z"
   },
   {
    "duration": 14,
    "start_time": "2023-10-12T09:29:22.812Z"
   },
   {
    "duration": 25,
    "start_time": "2023-10-12T09:29:22.828Z"
   },
   {
    "duration": 22,
    "start_time": "2023-10-12T09:29:22.855Z"
   },
   {
    "duration": 27,
    "start_time": "2023-10-12T09:29:22.879Z"
   },
   {
    "duration": 40,
    "start_time": "2023-10-12T09:29:22.907Z"
   },
   {
    "duration": 52,
    "start_time": "2023-10-12T09:29:22.949Z"
   },
   {
    "duration": 13,
    "start_time": "2023-10-12T09:29:23.003Z"
   },
   {
    "duration": 7,
    "start_time": "2023-10-12T09:30:27.227Z"
   },
   {
    "duration": 1125,
    "start_time": "2023-10-12T09:31:21.902Z"
   },
   {
    "duration": 40,
    "start_time": "2023-10-12T09:31:23.030Z"
   },
   {
    "duration": 25,
    "start_time": "2023-10-12T09:31:23.072Z"
   },
   {
    "duration": 22,
    "start_time": "2023-10-12T09:31:23.099Z"
   },
   {
    "duration": 24,
    "start_time": "2023-10-12T09:31:23.123Z"
   },
   {
    "duration": 39,
    "start_time": "2023-10-12T09:31:23.148Z"
   },
   {
    "duration": 15,
    "start_time": "2023-10-12T09:31:23.189Z"
   },
   {
    "duration": 16,
    "start_time": "2023-10-12T09:31:23.205Z"
   },
   {
    "duration": 7,
    "start_time": "2023-10-12T09:31:23.222Z"
   },
   {
    "duration": 17,
    "start_time": "2023-10-12T09:31:23.231Z"
   },
   {
    "duration": 7,
    "start_time": "2023-10-12T09:31:23.249Z"
   },
   {
    "duration": 21,
    "start_time": "2023-10-12T09:31:23.258Z"
   },
   {
    "duration": 49,
    "start_time": "2023-10-12T09:31:23.281Z"
   },
   {
    "duration": 11,
    "start_time": "2023-10-12T09:31:23.332Z"
   },
   {
    "duration": 25,
    "start_time": "2023-10-12T09:31:23.345Z"
   },
   {
    "duration": 12,
    "start_time": "2023-10-12T09:31:23.372Z"
   },
   {
    "duration": 30,
    "start_time": "2023-10-12T09:31:23.385Z"
   },
   {
    "duration": 28,
    "start_time": "2023-10-12T09:31:23.417Z"
   },
   {
    "duration": 108,
    "start_time": "2023-10-12T09:31:23.447Z"
   },
   {
    "duration": 0,
    "start_time": "2023-10-12T09:31:23.557Z"
   },
   {
    "duration": 0,
    "start_time": "2023-10-12T09:31:23.558Z"
   },
   {
    "duration": 0,
    "start_time": "2023-10-12T09:31:23.559Z"
   },
   {
    "duration": 0,
    "start_time": "2023-10-12T09:31:23.560Z"
   },
   {
    "duration": 0,
    "start_time": "2023-10-12T09:31:23.561Z"
   },
   {
    "duration": 20,
    "start_time": "2023-10-12T09:34:01.515Z"
   },
   {
    "duration": 6,
    "start_time": "2023-10-12T09:34:10.949Z"
   },
   {
    "duration": 26,
    "start_time": "2023-10-12T09:34:19.759Z"
   },
   {
    "duration": 1182,
    "start_time": "2023-10-12T09:34:45.035Z"
   },
   {
    "duration": 40,
    "start_time": "2023-10-12T09:34:46.219Z"
   },
   {
    "duration": 28,
    "start_time": "2023-10-12T09:34:46.261Z"
   },
   {
    "duration": 30,
    "start_time": "2023-10-12T09:34:46.291Z"
   },
   {
    "duration": 39,
    "start_time": "2023-10-12T09:34:46.323Z"
   },
   {
    "duration": 19,
    "start_time": "2023-10-12T09:34:46.364Z"
   },
   {
    "duration": 24,
    "start_time": "2023-10-12T09:34:46.385Z"
   },
   {
    "duration": 24,
    "start_time": "2023-10-12T09:34:46.411Z"
   },
   {
    "duration": 14,
    "start_time": "2023-10-12T09:34:46.437Z"
   },
   {
    "duration": 35,
    "start_time": "2023-10-12T09:34:46.452Z"
   },
   {
    "duration": 22,
    "start_time": "2023-10-12T09:34:46.489Z"
   },
   {
    "duration": 67,
    "start_time": "2023-10-12T09:34:46.514Z"
   },
   {
    "duration": 13,
    "start_time": "2023-10-12T09:34:46.583Z"
   },
   {
    "duration": 34,
    "start_time": "2023-10-12T09:34:46.598Z"
   },
   {
    "duration": 36,
    "start_time": "2023-10-12T09:34:46.634Z"
   },
   {
    "duration": 55,
    "start_time": "2023-10-12T09:34:46.671Z"
   },
   {
    "duration": 37,
    "start_time": "2023-10-12T09:34:46.728Z"
   },
   {
    "duration": 46,
    "start_time": "2023-10-12T09:34:46.766Z"
   },
   {
    "duration": 31,
    "start_time": "2023-10-12T09:34:46.814Z"
   },
   {
    "duration": 69,
    "start_time": "2023-10-12T09:34:46.847Z"
   },
   {
    "duration": 58,
    "start_time": "2023-10-12T09:34:46.918Z"
   },
   {
    "duration": 12,
    "start_time": "2023-10-12T09:34:46.977Z"
   },
   {
    "duration": 1305,
    "start_time": "2023-10-12T09:35:33.305Z"
   },
   {
    "duration": 41,
    "start_time": "2023-10-12T09:35:34.612Z"
   },
   {
    "duration": 25,
    "start_time": "2023-10-12T09:35:34.655Z"
   },
   {
    "duration": 21,
    "start_time": "2023-10-12T09:35:34.683Z"
   },
   {
    "duration": 42,
    "start_time": "2023-10-12T09:35:34.706Z"
   },
   {
    "duration": 10,
    "start_time": "2023-10-12T09:35:34.750Z"
   },
   {
    "duration": 20,
    "start_time": "2023-10-12T09:35:34.762Z"
   },
   {
    "duration": 22,
    "start_time": "2023-10-12T09:35:34.784Z"
   },
   {
    "duration": 50,
    "start_time": "2023-10-12T09:35:34.808Z"
   },
   {
    "duration": 43,
    "start_time": "2023-10-12T09:35:34.860Z"
   },
   {
    "duration": 57,
    "start_time": "2023-10-12T09:35:34.905Z"
   },
   {
    "duration": 93,
    "start_time": "2023-10-12T09:35:34.963Z"
   },
   {
    "duration": 14,
    "start_time": "2023-10-12T09:35:35.059Z"
   },
   {
    "duration": 42,
    "start_time": "2023-10-12T09:35:35.086Z"
   },
   {
    "duration": 12,
    "start_time": "2023-10-12T09:35:35.130Z"
   },
   {
    "duration": 40,
    "start_time": "2023-10-12T09:35:35.144Z"
   },
   {
    "duration": 29,
    "start_time": "2023-10-12T09:35:35.186Z"
   },
   {
    "duration": 33,
    "start_time": "2023-10-12T09:35:35.217Z"
   },
   {
    "duration": 11,
    "start_time": "2023-10-12T09:35:35.251Z"
   },
   {
    "duration": 47,
    "start_time": "2023-10-12T09:35:35.264Z"
   },
   {
    "duration": 55,
    "start_time": "2023-10-12T09:35:35.312Z"
   },
   {
    "duration": 11,
    "start_time": "2023-10-12T09:35:35.369Z"
   },
   {
    "duration": 111,
    "start_time": "2023-10-12T09:46:06.283Z"
   },
   {
    "duration": 3,
    "start_time": "2023-10-12T09:57:08.895Z"
   },
   {
    "duration": 20987,
    "start_time": "2023-10-12T09:59:51.739Z"
   },
   {
    "duration": 11,
    "start_time": "2023-10-12T10:01:06.777Z"
   },
   {
    "duration": 1239,
    "start_time": "2023-10-12T10:01:28.891Z"
   },
   {
    "duration": 43,
    "start_time": "2023-10-12T10:01:30.132Z"
   },
   {
    "duration": 32,
    "start_time": "2023-10-12T10:01:30.177Z"
   },
   {
    "duration": 70,
    "start_time": "2023-10-12T10:01:30.211Z"
   },
   {
    "duration": 25,
    "start_time": "2023-10-12T10:01:30.282Z"
   },
   {
    "duration": 28,
    "start_time": "2023-10-12T10:01:30.309Z"
   },
   {
    "duration": 32,
    "start_time": "2023-10-12T10:01:30.339Z"
   },
   {
    "duration": 39,
    "start_time": "2023-10-12T10:01:30.373Z"
   },
   {
    "duration": 38,
    "start_time": "2023-10-12T10:01:30.415Z"
   },
   {
    "duration": 42,
    "start_time": "2023-10-12T10:01:30.456Z"
   },
   {
    "duration": 47,
    "start_time": "2023-10-12T10:01:30.500Z"
   },
   {
    "duration": 65,
    "start_time": "2023-10-12T10:01:30.548Z"
   },
   {
    "duration": 24,
    "start_time": "2023-10-12T10:01:30.614Z"
   },
   {
    "duration": 64,
    "start_time": "2023-10-12T10:01:30.640Z"
   },
   {
    "duration": 58,
    "start_time": "2023-10-12T10:01:30.706Z"
   },
   {
    "duration": 66,
    "start_time": "2023-10-12T10:01:30.766Z"
   },
   {
    "duration": 67,
    "start_time": "2023-10-12T10:01:30.833Z"
   },
   {
    "duration": 55,
    "start_time": "2023-10-12T10:01:30.902Z"
   },
   {
    "duration": 35,
    "start_time": "2023-10-12T10:01:30.959Z"
   },
   {
    "duration": 83,
    "start_time": "2023-10-12T10:01:30.996Z"
   },
   {
    "duration": 160,
    "start_time": "2023-10-12T10:01:31.081Z"
   },
   {
    "duration": 108,
    "start_time": "2023-10-12T10:01:31.243Z"
   },
   {
    "duration": 143,
    "start_time": "2023-10-12T10:01:31.353Z"
   },
   {
    "duration": 198,
    "start_time": "2023-10-12T10:10:49.905Z"
   },
   {
    "duration": 187,
    "start_time": "2023-10-12T10:15:57.847Z"
   },
   {
    "duration": 207,
    "start_time": "2023-10-12T10:16:32.186Z"
   },
   {
    "duration": 204,
    "start_time": "2023-10-12T10:31:39.449Z"
   },
   {
    "duration": 11,
    "start_time": "2023-10-12T10:33:09.172Z"
   },
   {
    "duration": 125,
    "start_time": "2023-10-12T10:33:22.289Z"
   },
   {
    "duration": 197,
    "start_time": "2023-10-12T10:33:34.710Z"
   },
   {
    "duration": 705,
    "start_time": "2023-10-12T10:40:21.544Z"
   },
   {
    "duration": 661,
    "start_time": "2023-10-12T10:40:48.543Z"
   },
   {
    "duration": 225,
    "start_time": "2023-10-12T11:14:08.225Z"
   },
   {
    "duration": 2303,
    "start_time": "2023-10-12T11:14:28.974Z"
   },
   {
    "duration": 310,
    "start_time": "2023-10-12T11:52:44.860Z"
   },
   {
    "duration": 4949,
    "start_time": "2023-10-12T11:53:50.114Z"
   },
   {
    "duration": 144,
    "start_time": "2023-10-12T11:59:30.037Z"
   },
   {
    "duration": 294,
    "start_time": "2023-10-12T11:59:43.535Z"
   },
   {
    "duration": 503,
    "start_time": "2023-10-12T12:06:54.030Z"
   },
   {
    "duration": 294,
    "start_time": "2023-10-12T12:08:10.822Z"
   },
   {
    "duration": 766,
    "start_time": "2023-10-12T12:09:14.611Z"
   },
   {
    "duration": 276,
    "start_time": "2023-10-12T12:11:06.340Z"
   },
   {
    "duration": 286,
    "start_time": "2023-10-12T12:12:07.644Z"
   },
   {
    "duration": 304,
    "start_time": "2023-10-12T12:12:36.940Z"
   },
   {
    "duration": 298,
    "start_time": "2023-10-12T12:12:58.631Z"
   },
   {
    "duration": 287,
    "start_time": "2023-10-12T12:13:02.288Z"
   },
   {
    "duration": 317,
    "start_time": "2023-10-12T12:13:33.443Z"
   },
   {
    "duration": 5,
    "start_time": "2023-10-12T12:14:27.596Z"
   },
   {
    "duration": 5,
    "start_time": "2023-10-12T12:14:33.509Z"
   },
   {
    "duration": 5,
    "start_time": "2023-10-12T12:17:50.106Z"
   },
   {
    "duration": 362,
    "start_time": "2023-10-12T12:18:33.626Z"
   },
   {
    "duration": 230,
    "start_time": "2023-10-12T12:20:34.205Z"
   },
   {
    "duration": 19,
    "start_time": "2023-10-12T12:23:58.057Z"
   },
   {
    "duration": 4655,
    "start_time": "2023-10-12T12:24:10.752Z"
   },
   {
    "duration": 533,
    "start_time": "2023-10-12T12:24:41.918Z"
   },
   {
    "duration": 378,
    "start_time": "2023-10-12T12:24:51.000Z"
   },
   {
    "duration": 4593,
    "start_time": "2023-10-12T12:25:13.567Z"
   },
   {
    "duration": 4529,
    "start_time": "2023-10-12T12:28:04.821Z"
   },
   {
    "duration": 5024,
    "start_time": "2023-10-12T12:28:36.497Z"
   },
   {
    "duration": 4514,
    "start_time": "2023-10-12T12:28:48.405Z"
   },
   {
    "duration": 4501,
    "start_time": "2023-10-12T12:29:50.713Z"
   },
   {
    "duration": 4603,
    "start_time": "2023-10-12T12:31:19.470Z"
   },
   {
    "duration": 358,
    "start_time": "2023-10-12T12:33:16.869Z"
   },
   {
    "duration": 428,
    "start_time": "2023-10-12T12:33:44.127Z"
   },
   {
    "duration": 350,
    "start_time": "2023-10-12T12:34:15.260Z"
   },
   {
    "duration": 351,
    "start_time": "2023-10-12T12:34:53.638Z"
   },
   {
    "duration": 131,
    "start_time": "2023-10-12T12:40:40.021Z"
   },
   {
    "duration": 116,
    "start_time": "2023-10-12T12:40:53.261Z"
   },
   {
    "duration": 3,
    "start_time": "2023-10-12T12:41:16.616Z"
   },
   {
    "duration": 16,
    "start_time": "2023-10-12T12:42:53.535Z"
   },
   {
    "duration": 590,
    "start_time": "2023-10-12T12:43:19.758Z"
   },
   {
    "duration": 196,
    "start_time": "2023-10-12T12:43:34.397Z"
   },
   {
    "duration": 12,
    "start_time": "2023-10-12T12:49:09.567Z"
   },
   {
    "duration": 122,
    "start_time": "2023-10-12T12:49:42.436Z"
   },
   {
    "duration": 230,
    "start_time": "2023-10-12T12:50:01.908Z"
   },
   {
    "duration": 135,
    "start_time": "2023-10-12T12:53:22.826Z"
   },
   {
    "duration": 209,
    "start_time": "2023-10-12T12:53:34.341Z"
   },
   {
    "duration": 230,
    "start_time": "2023-10-12T12:53:47.205Z"
   },
   {
    "duration": 147,
    "start_time": "2023-10-12T13:14:10.501Z"
   },
   {
    "duration": 143,
    "start_time": "2023-10-12T13:17:49.895Z"
   },
   {
    "duration": 457,
    "start_time": "2023-10-12T13:23:05.017Z"
   },
   {
    "duration": 383,
    "start_time": "2023-10-12T13:23:18.815Z"
   },
   {
    "duration": 172,
    "start_time": "2023-10-12T13:24:32.819Z"
   },
   {
    "duration": 4185,
    "start_time": "2023-10-12T13:24:59.795Z"
   },
   {
    "duration": 191,
    "start_time": "2023-10-12T13:25:54.161Z"
   },
   {
    "duration": 351,
    "start_time": "2023-10-12T13:31:06.153Z"
   },
   {
    "duration": 787,
    "start_time": "2023-10-12T13:32:31.846Z"
   },
   {
    "duration": 650,
    "start_time": "2023-10-12T13:34:13.311Z"
   },
   {
    "duration": 804,
    "start_time": "2023-10-12T13:34:55.119Z"
   },
   {
    "duration": 155,
    "start_time": "2023-10-12T13:44:39.817Z"
   },
   {
    "duration": 253,
    "start_time": "2023-10-12T13:46:46.583Z"
   },
   {
    "duration": 183,
    "start_time": "2023-10-12T13:47:02.908Z"
   },
   {
    "duration": 145,
    "start_time": "2023-10-12T13:47:21.825Z"
   },
   {
    "duration": 149,
    "start_time": "2023-10-12T14:05:39.671Z"
   },
   {
    "duration": 174,
    "start_time": "2023-10-12T14:05:48.770Z"
   },
   {
    "duration": 152,
    "start_time": "2023-10-12T14:06:43.241Z"
   },
   {
    "duration": 159,
    "start_time": "2023-10-12T14:06:58.591Z"
   },
   {
    "duration": 155,
    "start_time": "2023-10-12T14:07:12.166Z"
   },
   {
    "duration": 175,
    "start_time": "2023-10-12T14:08:51.444Z"
   },
   {
    "duration": 115,
    "start_time": "2023-10-12T14:13:02.759Z"
   },
   {
    "duration": 145,
    "start_time": "2023-10-12T14:16:39.240Z"
   },
   {
    "duration": 204,
    "start_time": "2023-10-12T14:18:41.569Z"
   },
   {
    "duration": 156,
    "start_time": "2023-10-12T14:20:18.544Z"
   },
   {
    "duration": 116,
    "start_time": "2023-10-12T14:20:32.762Z"
   },
   {
    "duration": 9,
    "start_time": "2023-10-12T14:21:11.193Z"
   },
   {
    "duration": 1451,
    "start_time": "2023-10-12T14:28:51.610Z"
   },
   {
    "duration": 1476,
    "start_time": "2023-10-12T14:52:09.462Z"
   },
   {
    "duration": 14015,
    "start_time": "2023-10-12T14:56:32.911Z"
   },
   {
    "duration": 14478,
    "start_time": "2023-10-12T14:57:07.533Z"
   },
   {
    "duration": 1406,
    "start_time": "2023-10-12T14:58:21.601Z"
   },
   {
    "duration": 1409,
    "start_time": "2023-10-12T14:59:00.423Z"
   },
   {
    "duration": 1523,
    "start_time": "2023-10-12T14:59:38.922Z"
   },
   {
    "duration": 1236,
    "start_time": "2023-10-12T15:08:42.051Z"
   },
   {
    "duration": 1446,
    "start_time": "2023-10-12T15:09:24.437Z"
   },
   {
    "duration": 2,
    "start_time": "2023-10-12T15:19:19.477Z"
   },
   {
    "duration": 80,
    "start_time": "2023-10-12T15:25:18.167Z"
   },
   {
    "duration": 11,
    "start_time": "2023-10-12T15:44:40.235Z"
   },
   {
    "duration": 9,
    "start_time": "2023-10-12T15:44:49.379Z"
   },
   {
    "duration": 22,
    "start_time": "2023-10-12T15:45:18.442Z"
   },
   {
    "duration": 138,
    "start_time": "2023-10-12T15:49:20.303Z"
   },
   {
    "duration": 154,
    "start_time": "2023-10-12T15:49:53.777Z"
   },
   {
    "duration": 130,
    "start_time": "2023-10-12T15:50:10.596Z"
   },
   {
    "duration": 16,
    "start_time": "2023-10-12T15:50:55.681Z"
   },
   {
    "duration": 145,
    "start_time": "2023-10-12T15:51:07.059Z"
   },
   {
    "duration": 142,
    "start_time": "2023-10-12T15:51:15.952Z"
   },
   {
    "duration": 16,
    "start_time": "2023-10-12T15:51:24.306Z"
   },
   {
    "duration": 13,
    "start_time": "2023-10-12T15:51:34.635Z"
   },
   {
    "duration": 144,
    "start_time": "2023-10-12T15:51:41.047Z"
   },
   {
    "duration": 22,
    "start_time": "2023-10-12T15:51:50.546Z"
   },
   {
    "duration": 140,
    "start_time": "2023-10-12T15:51:55.626Z"
   },
   {
    "duration": 118,
    "start_time": "2023-10-12T15:51:58.713Z"
   },
   {
    "duration": 151,
    "start_time": "2023-10-12T15:51:59.651Z"
   },
   {
    "duration": 141,
    "start_time": "2023-10-12T15:52:05.688Z"
   },
   {
    "duration": 96,
    "start_time": "2023-10-12T15:55:45.028Z"
   },
   {
    "duration": 12,
    "start_time": "2023-10-12T15:55:58.776Z"
   },
   {
    "duration": 108,
    "start_time": "2023-10-12T15:56:14.249Z"
   },
   {
    "duration": 19,
    "start_time": "2023-10-12T15:56:41.992Z"
   },
   {
    "duration": 18,
    "start_time": "2023-10-12T16:25:33.592Z"
   },
   {
    "duration": 14,
    "start_time": "2023-10-12T16:26:17.367Z"
   },
   {
    "duration": 1162,
    "start_time": "2023-10-12T16:27:27.039Z"
   },
   {
    "duration": 41,
    "start_time": "2023-10-12T16:27:28.203Z"
   },
   {
    "duration": 30,
    "start_time": "2023-10-12T16:27:28.247Z"
   },
   {
    "duration": 21,
    "start_time": "2023-10-12T16:27:28.279Z"
   },
   {
    "duration": 25,
    "start_time": "2023-10-12T16:27:28.302Z"
   },
   {
    "duration": 22,
    "start_time": "2023-10-12T16:27:28.329Z"
   },
   {
    "duration": 10,
    "start_time": "2023-10-12T16:27:28.353Z"
   },
   {
    "duration": 15,
    "start_time": "2023-10-12T16:27:28.365Z"
   },
   {
    "duration": 13,
    "start_time": "2023-10-12T16:27:28.381Z"
   },
   {
    "duration": 15,
    "start_time": "2023-10-12T16:27:28.396Z"
   },
   {
    "duration": 9,
    "start_time": "2023-10-12T16:27:28.413Z"
   },
   {
    "duration": 43,
    "start_time": "2023-10-12T16:27:28.445Z"
   },
   {
    "duration": 11,
    "start_time": "2023-10-12T16:27:28.489Z"
   },
   {
    "duration": 21,
    "start_time": "2023-10-12T16:27:28.501Z"
   },
   {
    "duration": 31,
    "start_time": "2023-10-12T16:27:28.523Z"
   },
   {
    "duration": 25,
    "start_time": "2023-10-12T16:27:28.556Z"
   },
   {
    "duration": 16,
    "start_time": "2023-10-12T16:27:28.582Z"
   },
   {
    "duration": 13,
    "start_time": "2023-10-12T16:27:28.600Z"
   },
   {
    "duration": 35,
    "start_time": "2023-10-12T16:27:28.615Z"
   },
   {
    "duration": 31,
    "start_time": "2023-10-12T16:27:28.652Z"
   },
   {
    "duration": 415,
    "start_time": "2023-10-12T16:27:28.684Z"
   },
   {
    "duration": 209,
    "start_time": "2023-10-12T16:27:29.101Z"
   },
   {
    "duration": 6154,
    "start_time": "2023-10-12T16:27:29.311Z"
   },
   {
    "duration": 336,
    "start_time": "2023-10-12T16:27:35.467Z"
   },
   {
    "duration": 1087,
    "start_time": "2023-10-12T16:27:35.804Z"
   },
   {
    "duration": 135,
    "start_time": "2023-10-12T16:27:36.893Z"
   },
   {
    "duration": 104,
    "start_time": "2023-10-12T16:27:37.030Z"
   },
   {
    "duration": 114,
    "start_time": "2023-10-12T16:27:37.145Z"
   },
   {
    "duration": 119,
    "start_time": "2023-10-12T16:27:37.261Z"
   },
   {
    "duration": 1472,
    "start_time": "2023-10-12T16:27:37.382Z"
   },
   {
    "duration": 115,
    "start_time": "2023-10-12T16:27:38.855Z"
   },
   {
    "duration": 0,
    "start_time": "2023-10-12T16:27:38.972Z"
   },
   {
    "duration": 0,
    "start_time": "2023-10-12T16:27:38.973Z"
   },
   {
    "duration": 16,
    "start_time": "2023-10-12T16:29:57.277Z"
   },
   {
    "duration": 21,
    "start_time": "2023-10-12T16:30:21.064Z"
   },
   {
    "duration": 39,
    "start_time": "2023-10-12T16:30:35.442Z"
   },
   {
    "duration": 16,
    "start_time": "2023-10-12T16:31:45.264Z"
   },
   {
    "duration": 24,
    "start_time": "2023-10-12T16:32:05.169Z"
   },
   {
    "duration": 21,
    "start_time": "2023-10-12T16:32:24.578Z"
   },
   {
    "duration": 9,
    "start_time": "2023-10-12T16:34:12.128Z"
   },
   {
    "duration": 35,
    "start_time": "2023-10-12T16:34:52.239Z"
   },
   {
    "duration": 23,
    "start_time": "2023-10-12T16:35:02.723Z"
   },
   {
    "duration": 20,
    "start_time": "2023-10-12T16:37:32.458Z"
   },
   {
    "duration": 13,
    "start_time": "2023-10-12T16:39:10.113Z"
   },
   {
    "duration": 22,
    "start_time": "2023-10-12T16:44:56.138Z"
   },
   {
    "duration": 9,
    "start_time": "2023-10-12T16:56:51.339Z"
   },
   {
    "duration": 10,
    "start_time": "2023-10-12T17:02:09.734Z"
   },
   {
    "duration": 36,
    "start_time": "2023-10-12T17:02:41.156Z"
   },
   {
    "duration": 205,
    "start_time": "2023-10-12T17:04:35.172Z"
   },
   {
    "duration": 113,
    "start_time": "2023-10-12T17:05:13.208Z"
   },
   {
    "duration": 144,
    "start_time": "2023-10-12T17:05:20.576Z"
   },
   {
    "duration": 37,
    "start_time": "2023-10-12T17:05:48.201Z"
   },
   {
    "duration": 38,
    "start_time": "2023-10-12T17:06:00.528Z"
   },
   {
    "duration": 25,
    "start_time": "2023-10-12T17:17:57.471Z"
   },
   {
    "duration": 32,
    "start_time": "2023-10-12T17:18:20.043Z"
   },
   {
    "duration": 32,
    "start_time": "2023-10-12T17:19:39.862Z"
   },
   {
    "duration": 35,
    "start_time": "2023-10-12T17:20:28.416Z"
   },
   {
    "duration": 28,
    "start_time": "2023-10-12T17:20:58.552Z"
   },
   {
    "duration": 56,
    "start_time": "2023-10-12T17:21:46.108Z"
   },
   {
    "duration": 69,
    "start_time": "2023-10-12T17:22:34.912Z"
   },
   {
    "duration": 11,
    "start_time": "2023-10-12T17:23:06.583Z"
   },
   {
    "duration": 58,
    "start_time": "2023-10-12T17:27:43.237Z"
   },
   {
    "duration": 54,
    "start_time": "2023-10-12T17:28:15.406Z"
   },
   {
    "duration": 55,
    "start_time": "2023-10-12T17:29:06.884Z"
   },
   {
    "duration": 56,
    "start_time": "2023-10-12T17:29:13.581Z"
   },
   {
    "duration": 37,
    "start_time": "2023-10-12T17:42:23.643Z"
   },
   {
    "duration": 31,
    "start_time": "2023-10-12T17:49:52.056Z"
   },
   {
    "duration": 40,
    "start_time": "2023-10-12T17:50:05.883Z"
   },
   {
    "duration": 43,
    "start_time": "2023-10-12T17:51:17.384Z"
   },
   {
    "duration": 29,
    "start_time": "2023-10-12T17:51:31.715Z"
   },
   {
    "duration": 1461,
    "start_time": "2023-10-12T18:02:07.702Z"
   },
   {
    "duration": 20,
    "start_time": "2023-10-12T18:02:23.762Z"
   },
   {
    "duration": 45,
    "start_time": "2023-10-12T18:03:14.447Z"
   },
   {
    "duration": 38,
    "start_time": "2023-10-12T18:03:48.274Z"
   },
   {
    "duration": 21,
    "start_time": "2023-10-12T18:06:46.734Z"
   },
   {
    "duration": 38,
    "start_time": "2023-10-12T18:06:55.023Z"
   },
   {
    "duration": 9,
    "start_time": "2023-10-12T18:38:16.837Z"
   },
   {
    "duration": 18,
    "start_time": "2023-10-12T18:48:17.017Z"
   },
   {
    "duration": 3,
    "start_time": "2023-10-12T18:48:47.388Z"
   },
   {
    "duration": 15,
    "start_time": "2023-10-12T18:48:54.515Z"
   },
   {
    "duration": 17,
    "start_time": "2023-10-12T18:49:11.248Z"
   },
   {
    "duration": 1647,
    "start_time": "2023-10-13T09:34:07.523Z"
   },
   {
    "duration": 255,
    "start_time": "2023-10-13T09:34:09.172Z"
   },
   {
    "duration": 28,
    "start_time": "2023-10-13T09:34:09.428Z"
   },
   {
    "duration": 25,
    "start_time": "2023-10-13T09:34:09.458Z"
   },
   {
    "duration": 73,
    "start_time": "2023-10-13T09:34:09.486Z"
   },
   {
    "duration": 153,
    "start_time": "2023-10-13T09:34:09.561Z"
   },
   {
    "duration": 38,
    "start_time": "2023-10-13T09:34:09.716Z"
   },
   {
    "duration": 59,
    "start_time": "2023-10-13T09:34:09.756Z"
   },
   {
    "duration": 56,
    "start_time": "2023-10-13T09:34:09.817Z"
   },
   {
    "duration": 255,
    "start_time": "2023-10-13T09:34:09.875Z"
   },
   {
    "duration": 104,
    "start_time": "2023-10-13T09:34:10.132Z"
   },
   {
    "duration": 85,
    "start_time": "2023-10-13T09:34:10.238Z"
   },
   {
    "duration": 16,
    "start_time": "2023-10-13T09:34:10.326Z"
   },
   {
    "duration": 30,
    "start_time": "2023-10-13T09:34:10.345Z"
   },
   {
    "duration": 21,
    "start_time": "2023-10-13T09:34:10.377Z"
   },
   {
    "duration": 45,
    "start_time": "2023-10-13T09:34:10.399Z"
   },
   {
    "duration": 13,
    "start_time": "2023-10-13T09:34:10.446Z"
   },
   {
    "duration": 56,
    "start_time": "2023-10-13T09:34:10.461Z"
   },
   {
    "duration": 7,
    "start_time": "2023-10-13T09:34:10.526Z"
   },
   {
    "duration": 43,
    "start_time": "2023-10-13T09:34:10.535Z"
   },
   {
    "duration": 569,
    "start_time": "2023-10-13T09:34:10.579Z"
   },
   {
    "duration": 266,
    "start_time": "2023-10-13T09:34:11.150Z"
   },
   {
    "duration": 7017,
    "start_time": "2023-10-13T09:34:11.419Z"
   },
   {
    "duration": 452,
    "start_time": "2023-10-13T09:34:18.438Z"
   },
   {
    "duration": 1187,
    "start_time": "2023-10-13T09:34:18.892Z"
   },
   {
    "duration": 172,
    "start_time": "2023-10-13T09:34:20.081Z"
   },
   {
    "duration": 127,
    "start_time": "2023-10-13T09:34:20.254Z"
   },
   {
    "duration": 156,
    "start_time": "2023-10-13T09:34:20.383Z"
   },
   {
    "duration": 146,
    "start_time": "2023-10-13T09:34:20.541Z"
   },
   {
    "duration": 1753,
    "start_time": "2023-10-13T09:34:20.689Z"
   },
   {
    "duration": 33,
    "start_time": "2023-10-13T09:34:22.444Z"
   },
   {
    "duration": 3,
    "start_time": "2023-10-13T09:34:22.478Z"
   },
   {
    "duration": 168,
    "start_time": "2023-10-13T09:34:22.483Z"
   },
   {
    "duration": 1362,
    "start_time": "2023-10-13T09:35:23.657Z"
   },
   {
    "duration": 53,
    "start_time": "2023-10-13T09:35:25.024Z"
   },
   {
    "duration": 27,
    "start_time": "2023-10-13T09:35:25.078Z"
   },
   {
    "duration": 34,
    "start_time": "2023-10-13T09:35:25.108Z"
   },
   {
    "duration": 49,
    "start_time": "2023-10-13T09:35:25.145Z"
   },
   {
    "duration": 12,
    "start_time": "2023-10-13T09:35:25.196Z"
   },
   {
    "duration": 36,
    "start_time": "2023-10-13T09:35:25.210Z"
   },
   {
    "duration": 46,
    "start_time": "2023-10-13T09:35:25.247Z"
   },
   {
    "duration": 13,
    "start_time": "2023-10-13T09:35:25.294Z"
   },
   {
    "duration": 36,
    "start_time": "2023-10-13T09:35:25.309Z"
   },
   {
    "duration": 12,
    "start_time": "2023-10-13T09:35:25.347Z"
   },
   {
    "duration": 75,
    "start_time": "2023-10-13T09:35:25.361Z"
   },
   {
    "duration": 12,
    "start_time": "2023-10-13T09:35:25.438Z"
   },
   {
    "duration": 33,
    "start_time": "2023-10-13T09:35:25.453Z"
   },
   {
    "duration": 35,
    "start_time": "2023-10-13T09:35:25.487Z"
   },
   {
    "duration": 24,
    "start_time": "2023-10-13T09:35:25.524Z"
   },
   {
    "duration": 13,
    "start_time": "2023-10-13T09:35:25.549Z"
   },
   {
    "duration": 31,
    "start_time": "2023-10-13T09:35:25.563Z"
   },
   {
    "duration": 19,
    "start_time": "2023-10-13T09:35:25.607Z"
   },
   {
    "duration": 27,
    "start_time": "2023-10-13T09:35:25.629Z"
   },
   {
    "duration": 512,
    "start_time": "2023-10-13T09:35:25.658Z"
   },
   {
    "duration": 280,
    "start_time": "2023-10-13T09:35:26.172Z"
   },
   {
    "duration": 7190,
    "start_time": "2023-10-13T09:35:26.454Z"
   },
   {
    "duration": 423,
    "start_time": "2023-10-13T09:35:33.646Z"
   },
   {
    "duration": 1319,
    "start_time": "2023-10-13T09:35:34.071Z"
   },
   {
    "duration": 175,
    "start_time": "2023-10-13T09:35:35.392Z"
   },
   {
    "duration": 124,
    "start_time": "2023-10-13T09:35:35.569Z"
   },
   {
    "duration": 163,
    "start_time": "2023-10-13T09:35:35.694Z"
   },
   {
    "duration": 146,
    "start_time": "2023-10-13T09:35:35.859Z"
   },
   {
    "duration": 1709,
    "start_time": "2023-10-13T09:35:36.010Z"
   },
   {
    "duration": 34,
    "start_time": "2023-10-13T09:35:37.722Z"
   },
   {
    "duration": 3,
    "start_time": "2023-10-13T09:35:37.757Z"
   },
   {
    "duration": 27,
    "start_time": "2023-10-13T09:35:37.762Z"
   },
   {
    "duration": 18,
    "start_time": "2023-10-13T09:36:07.178Z"
   },
   {
    "duration": 35,
    "start_time": "2023-10-13T09:36:16.494Z"
   },
   {
    "duration": 12,
    "start_time": "2023-10-13T10:08:28.722Z"
   },
   {
    "duration": 119,
    "start_time": "2023-10-13T10:15:50.264Z"
   },
   {
    "duration": 20,
    "start_time": "2023-10-13T10:16:07.717Z"
   },
   {
    "duration": 24,
    "start_time": "2023-10-13T10:21:43.100Z"
   },
   {
    "duration": 31,
    "start_time": "2023-10-13T10:22:11.295Z"
   },
   {
    "duration": 17,
    "start_time": "2023-10-13T10:37:59.245Z"
   },
   {
    "duration": 16,
    "start_time": "2023-10-13T10:42:14.896Z"
   },
   {
    "duration": 18,
    "start_time": "2023-10-13T10:43:12.115Z"
   },
   {
    "duration": 17,
    "start_time": "2023-10-13T10:43:42.863Z"
   },
   {
    "duration": 1337,
    "start_time": "2023-10-13T16:29:16.261Z"
   },
   {
    "duration": 174,
    "start_time": "2023-10-13T16:29:17.600Z"
   },
   {
    "duration": 24,
    "start_time": "2023-10-13T16:29:17.775Z"
   },
   {
    "duration": 20,
    "start_time": "2023-10-13T16:29:17.801Z"
   },
   {
    "duration": 12,
    "start_time": "2023-10-13T16:29:17.823Z"
   },
   {
    "duration": 12,
    "start_time": "2023-10-13T16:29:17.836Z"
   },
   {
    "duration": 17,
    "start_time": "2023-10-13T16:29:17.849Z"
   },
   {
    "duration": 10,
    "start_time": "2023-10-13T16:29:17.868Z"
   },
   {
    "duration": 5,
    "start_time": "2023-10-13T16:29:17.880Z"
   },
   {
    "duration": 17,
    "start_time": "2023-10-13T16:29:17.888Z"
   },
   {
    "duration": 19,
    "start_time": "2023-10-13T16:29:17.906Z"
   },
   {
    "duration": 41,
    "start_time": "2023-10-13T16:29:17.927Z"
   },
   {
    "duration": 10,
    "start_time": "2023-10-13T16:29:17.970Z"
   },
   {
    "duration": 18,
    "start_time": "2023-10-13T16:29:17.981Z"
   },
   {
    "duration": 10,
    "start_time": "2023-10-13T16:29:18.000Z"
   },
   {
    "duration": 49,
    "start_time": "2023-10-13T16:29:18.012Z"
   },
   {
    "duration": 15,
    "start_time": "2023-10-13T16:29:18.063Z"
   },
   {
    "duration": 12,
    "start_time": "2023-10-13T16:29:18.079Z"
   },
   {
    "duration": 5,
    "start_time": "2023-10-13T16:29:18.093Z"
   },
   {
    "duration": 47,
    "start_time": "2023-10-13T16:29:18.099Z"
   },
   {
    "duration": 368,
    "start_time": "2023-10-13T16:29:18.148Z"
   },
   {
    "duration": 231,
    "start_time": "2023-10-13T16:29:18.518Z"
   },
   {
    "duration": 5225,
    "start_time": "2023-10-13T16:29:18.751Z"
   },
   {
    "duration": 336,
    "start_time": "2023-10-13T16:29:23.978Z"
   },
   {
    "duration": 879,
    "start_time": "2023-10-13T16:29:24.315Z"
   },
   {
    "duration": 126,
    "start_time": "2023-10-13T16:29:25.196Z"
   },
   {
    "duration": 108,
    "start_time": "2023-10-13T16:29:25.324Z"
   },
   {
    "duration": 121,
    "start_time": "2023-10-13T16:29:25.442Z"
   },
   {
    "duration": 129,
    "start_time": "2023-10-13T16:29:25.564Z"
   },
   {
    "duration": 1369,
    "start_time": "2023-10-13T16:29:25.695Z"
   },
   {
    "duration": 29,
    "start_time": "2023-10-13T16:29:27.066Z"
   },
   {
    "duration": 2,
    "start_time": "2023-10-13T16:29:27.097Z"
   },
   {
    "duration": 20,
    "start_time": "2023-10-13T16:29:27.101Z"
   },
   {
    "duration": 14,
    "start_time": "2023-10-13T16:29:27.122Z"
   },
   {
    "duration": 23,
    "start_time": "2023-10-13T16:29:27.138Z"
   },
   {
    "duration": 1290,
    "start_time": "2023-10-13T16:30:07.288Z"
   },
   {
    "duration": 90,
    "start_time": "2023-10-13T16:34:45.713Z"
   },
   {
    "duration": 20,
    "start_time": "2023-10-13T16:45:37.925Z"
   },
   {
    "duration": 368,
    "start_time": "2023-10-13T16:51:35.839Z"
   },
   {
    "duration": 209,
    "start_time": "2023-10-13T16:52:02.975Z"
   },
   {
    "duration": 5222,
    "start_time": "2023-10-13T16:54:28.420Z"
   },
   {
    "duration": 332,
    "start_time": "2023-10-13T16:55:20.655Z"
   },
   {
    "duration": 881,
    "start_time": "2023-10-13T16:55:45.428Z"
   },
   {
    "duration": 119,
    "start_time": "2023-10-13T16:56:32.615Z"
   },
   {
    "duration": 101,
    "start_time": "2023-10-13T16:56:40.705Z"
   },
   {
    "duration": 362,
    "start_time": "2023-10-13T17:21:01.379Z"
   },
   {
    "duration": 1128,
    "start_time": "2023-10-13T17:22:08.706Z"
   },
   {
    "duration": 40,
    "start_time": "2023-10-13T17:22:09.836Z"
   },
   {
    "duration": 22,
    "start_time": "2023-10-13T17:22:09.877Z"
   },
   {
    "duration": 19,
    "start_time": "2023-10-13T17:22:09.900Z"
   },
   {
    "duration": 10,
    "start_time": "2023-10-13T17:22:09.920Z"
   },
   {
    "duration": 10,
    "start_time": "2023-10-13T17:22:09.932Z"
   },
   {
    "duration": 7,
    "start_time": "2023-10-13T17:22:09.943Z"
   },
   {
    "duration": 11,
    "start_time": "2023-10-13T17:22:09.952Z"
   },
   {
    "duration": 6,
    "start_time": "2023-10-13T17:22:09.964Z"
   },
   {
    "duration": 11,
    "start_time": "2023-10-13T17:22:09.972Z"
   },
   {
    "duration": 8,
    "start_time": "2023-10-13T17:22:09.984Z"
   },
   {
    "duration": 74,
    "start_time": "2023-10-13T17:22:09.994Z"
   },
   {
    "duration": 12,
    "start_time": "2023-10-13T17:22:10.070Z"
   },
   {
    "duration": 17,
    "start_time": "2023-10-13T17:22:10.084Z"
   },
   {
    "duration": 10,
    "start_time": "2023-10-13T17:22:10.102Z"
   },
   {
    "duration": 49,
    "start_time": "2023-10-13T17:22:10.114Z"
   },
   {
    "duration": 10,
    "start_time": "2023-10-13T17:22:10.165Z"
   },
   {
    "duration": 11,
    "start_time": "2023-10-13T17:22:10.177Z"
   },
   {
    "duration": 5,
    "start_time": "2023-10-13T17:22:10.189Z"
   },
   {
    "duration": 23,
    "start_time": "2023-10-13T17:22:10.195Z"
   },
   {
    "duration": 380,
    "start_time": "2023-10-13T17:22:10.240Z"
   },
   {
    "duration": 208,
    "start_time": "2023-10-13T17:22:10.621Z"
   },
   {
    "duration": 4959,
    "start_time": "2023-10-13T17:22:10.830Z"
   },
   {
    "duration": 314,
    "start_time": "2023-10-13T17:22:15.791Z"
   },
   {
    "duration": 868,
    "start_time": "2023-10-13T17:22:16.107Z"
   },
   {
    "duration": 129,
    "start_time": "2023-10-13T17:22:16.977Z"
   },
   {
    "duration": 108,
    "start_time": "2023-10-13T17:22:17.107Z"
   },
   {
    "duration": 119,
    "start_time": "2023-10-13T17:22:17.218Z"
   },
   {
    "duration": 120,
    "start_time": "2023-10-13T17:22:17.339Z"
   },
   {
    "duration": 1260,
    "start_time": "2023-10-13T17:22:17.461Z"
   },
   {
    "duration": 32,
    "start_time": "2023-10-13T17:22:18.723Z"
   },
   {
    "duration": 3,
    "start_time": "2023-10-13T17:22:18.756Z"
   },
   {
    "duration": 20,
    "start_time": "2023-10-13T17:22:18.760Z"
   },
   {
    "duration": 14,
    "start_time": "2023-10-13T17:22:18.781Z"
   },
   {
    "duration": 13,
    "start_time": "2023-10-13T17:22:18.796Z"
   },
   {
    "duration": 5049,
    "start_time": "2023-10-13T17:22:38.065Z"
   },
   {
    "duration": 840,
    "start_time": "2023-10-13T17:42:25.914Z"
   },
   {
    "duration": 1138,
    "start_time": "2023-10-13T17:44:55.988Z"
   },
   {
    "duration": 108,
    "start_time": "2023-10-13T17:45:05.247Z"
   },
   {
    "duration": 994,
    "start_time": "2023-10-13T18:05:03.960Z"
   },
   {
    "duration": 953,
    "start_time": "2023-10-13T18:05:33.023Z"
   },
   {
    "duration": 1050,
    "start_time": "2023-10-13T18:07:43.484Z"
   },
   {
    "duration": 968,
    "start_time": "2023-10-13T18:08:55.176Z"
   },
   {
    "duration": 1022,
    "start_time": "2023-10-13T18:09:30.781Z"
   },
   {
    "duration": 1023,
    "start_time": "2023-10-13T18:10:14.439Z"
   },
   {
    "duration": 1517,
    "start_time": "2023-10-14T10:52:14.062Z"
   },
   {
    "duration": 151,
    "start_time": "2023-10-14T10:52:15.581Z"
   },
   {
    "duration": 30,
    "start_time": "2023-10-14T10:52:15.734Z"
   },
   {
    "duration": 24,
    "start_time": "2023-10-14T10:52:15.766Z"
   },
   {
    "duration": 20,
    "start_time": "2023-10-14T10:52:15.791Z"
   },
   {
    "duration": 10,
    "start_time": "2023-10-14T10:52:15.813Z"
   },
   {
    "duration": 17,
    "start_time": "2023-10-14T10:52:15.825Z"
   },
   {
    "duration": 21,
    "start_time": "2023-10-14T10:52:15.844Z"
   },
   {
    "duration": 7,
    "start_time": "2023-10-14T10:52:15.867Z"
   },
   {
    "duration": 25,
    "start_time": "2023-10-14T10:52:15.877Z"
   },
   {
    "duration": 8,
    "start_time": "2023-10-14T10:52:15.904Z"
   },
   {
    "duration": 38,
    "start_time": "2023-10-14T10:52:15.914Z"
   },
   {
    "duration": 13,
    "start_time": "2023-10-14T10:52:15.954Z"
   },
   {
    "duration": 52,
    "start_time": "2023-10-14T10:52:15.969Z"
   },
   {
    "duration": 14,
    "start_time": "2023-10-14T10:52:16.023Z"
   },
   {
    "duration": 33,
    "start_time": "2023-10-14T10:52:16.039Z"
   },
   {
    "duration": 42,
    "start_time": "2023-10-14T10:52:16.074Z"
   },
   {
    "duration": 14,
    "start_time": "2023-10-14T10:52:16.119Z"
   },
   {
    "duration": 7,
    "start_time": "2023-10-14T10:52:16.135Z"
   },
   {
    "duration": 43,
    "start_time": "2023-10-14T10:52:16.144Z"
   },
   {
    "duration": 460,
    "start_time": "2023-10-14T10:52:16.201Z"
   },
   {
    "duration": 235,
    "start_time": "2023-10-14T10:52:16.663Z"
   },
   {
    "duration": 6330,
    "start_time": "2023-10-14T10:52:16.901Z"
   },
   {
    "duration": 365,
    "start_time": "2023-10-14T10:52:23.233Z"
   },
   {
    "duration": 1165,
    "start_time": "2023-10-14T10:52:23.602Z"
   },
   {
    "duration": 163,
    "start_time": "2023-10-14T10:52:24.770Z"
   },
   {
    "duration": 116,
    "start_time": "2023-10-14T10:52:24.935Z"
   },
   {
    "duration": 138,
    "start_time": "2023-10-14T10:52:25.055Z"
   },
   {
    "duration": 134,
    "start_time": "2023-10-14T10:52:25.195Z"
   },
   {
    "duration": 1567,
    "start_time": "2023-10-14T10:52:25.331Z"
   },
   {
    "duration": 1213,
    "start_time": "2023-10-14T10:52:26.900Z"
   },
   {
    "duration": 1121,
    "start_time": "2023-10-14T10:52:28.115Z"
   },
   {
    "duration": 1140,
    "start_time": "2023-10-14T10:52:29.238Z"
   },
   {
    "duration": 1124,
    "start_time": "2023-10-14T10:52:30.380Z"
   },
   {
    "duration": 31,
    "start_time": "2023-10-14T10:52:31.506Z"
   },
   {
    "duration": 71,
    "start_time": "2023-10-14T10:52:31.539Z"
   },
   {
    "duration": 82,
    "start_time": "2023-10-14T10:52:31.613Z"
   },
   {
    "duration": 126,
    "start_time": "2023-10-14T10:52:31.697Z"
   },
   {
    "duration": 145,
    "start_time": "2023-10-14T10:52:31.825Z"
   },
   {
    "duration": 103,
    "start_time": "2023-10-14T11:13:35.954Z"
   },
   {
    "duration": 9,
    "start_time": "2023-10-14T11:14:05.404Z"
   },
   {
    "duration": 1391,
    "start_time": "2023-10-14T11:14:52.946Z"
   },
   {
    "duration": 1604,
    "start_time": "2023-10-14T11:15:24.610Z"
   },
   {
    "duration": 20,
    "start_time": "2023-10-14T11:21:18.218Z"
   },
   {
    "duration": 159,
    "start_time": "2023-10-14T11:21:43.669Z"
   },
   {
    "duration": 173,
    "start_time": "2023-10-14T11:21:59.975Z"
   },
   {
    "duration": 157,
    "start_time": "2023-10-14T11:22:38.224Z"
   },
   {
    "duration": 148,
    "start_time": "2023-10-14T11:23:19.406Z"
   },
   {
    "duration": 159,
    "start_time": "2023-10-14T11:26:48.907Z"
   },
   {
    "duration": 165,
    "start_time": "2023-10-14T11:27:05.635Z"
   },
   {
    "duration": 162,
    "start_time": "2023-10-14T11:27:23.059Z"
   },
   {
    "duration": 170,
    "start_time": "2023-10-14T11:27:27.765Z"
   },
   {
    "duration": 255,
    "start_time": "2023-10-14T11:27:40.468Z"
   },
   {
    "duration": 276,
    "start_time": "2023-10-14T11:27:54.565Z"
   },
   {
    "duration": 200,
    "start_time": "2023-10-14T11:27:59.408Z"
   },
   {
    "duration": 175,
    "start_time": "2023-10-14T11:28:29.708Z"
   },
   {
    "duration": 163,
    "start_time": "2023-10-14T11:33:54.721Z"
   },
   {
    "duration": 184,
    "start_time": "2023-10-14T11:34:04.694Z"
   },
   {
    "duration": 151,
    "start_time": "2023-10-14T11:34:49.452Z"
   },
   {
    "duration": 1278,
    "start_time": "2023-10-14T11:36:09.507Z"
   },
   {
    "duration": 42,
    "start_time": "2023-10-14T11:36:10.787Z"
   },
   {
    "duration": 26,
    "start_time": "2023-10-14T11:36:10.831Z"
   },
   {
    "duration": 37,
    "start_time": "2023-10-14T11:36:10.858Z"
   },
   {
    "duration": 24,
    "start_time": "2023-10-14T11:36:10.898Z"
   },
   {
    "duration": 13,
    "start_time": "2023-10-14T11:36:10.924Z"
   },
   {
    "duration": 14,
    "start_time": "2023-10-14T11:36:10.938Z"
   },
   {
    "duration": 21,
    "start_time": "2023-10-14T11:36:10.954Z"
   },
   {
    "duration": 7,
    "start_time": "2023-10-14T11:36:10.977Z"
   },
   {
    "duration": 53,
    "start_time": "2023-10-14T11:36:10.985Z"
   },
   {
    "duration": 15,
    "start_time": "2023-10-14T11:36:11.040Z"
   },
   {
    "duration": 48,
    "start_time": "2023-10-14T11:36:11.057Z"
   },
   {
    "duration": 11,
    "start_time": "2023-10-14T11:36:11.107Z"
   },
   {
    "duration": 23,
    "start_time": "2023-10-14T11:36:11.122Z"
   },
   {
    "duration": 12,
    "start_time": "2023-10-14T11:36:11.147Z"
   },
   {
    "duration": 49,
    "start_time": "2023-10-14T11:36:11.161Z"
   },
   {
    "duration": 19,
    "start_time": "2023-10-14T11:36:11.212Z"
   },
   {
    "duration": 13,
    "start_time": "2023-10-14T11:36:11.232Z"
   },
   {
    "duration": 6,
    "start_time": "2023-10-14T11:36:11.247Z"
   },
   {
    "duration": 49,
    "start_time": "2023-10-14T11:36:11.255Z"
   },
   {
    "duration": 423,
    "start_time": "2023-10-14T11:36:11.306Z"
   },
   {
    "duration": 163,
    "start_time": "2023-10-14T11:36:11.731Z"
   },
   {
    "duration": 238,
    "start_time": "2023-10-14T11:36:11.897Z"
   },
   {
    "duration": 6085,
    "start_time": "2023-10-14T11:36:12.137Z"
   },
   {
    "duration": 189,
    "start_time": "2023-10-14T11:36:18.224Z"
   },
   {
    "duration": 390,
    "start_time": "2023-10-14T11:36:18.415Z"
   },
   {
    "duration": 539,
    "start_time": "2023-10-14T11:36:18.807Z"
   },
   {
    "duration": 688,
    "start_time": "2023-10-14T11:36:19.348Z"
   },
   {
    "duration": 146,
    "start_time": "2023-10-14T11:36:20.038Z"
   },
   {
    "duration": 117,
    "start_time": "2023-10-14T11:36:20.186Z"
   },
   {
    "duration": 138,
    "start_time": "2023-10-14T11:36:20.305Z"
   },
   {
    "duration": 136,
    "start_time": "2023-10-14T11:36:20.445Z"
   },
   {
    "duration": 1724,
    "start_time": "2023-10-14T11:36:20.583Z"
   },
   {
    "duration": 33,
    "start_time": "2023-10-14T11:36:22.309Z"
   },
   {
    "duration": 6,
    "start_time": "2023-10-14T11:36:22.344Z"
   },
   {
    "duration": 78,
    "start_time": "2023-10-14T11:36:22.352Z"
   },
   {
    "duration": 41,
    "start_time": "2023-10-14T11:36:22.432Z"
   },
   {
    "duration": 54,
    "start_time": "2023-10-14T11:36:22.474Z"
   },
   {
    "duration": 120,
    "start_time": "2023-10-14T11:40:18.795Z"
   },
   {
    "duration": 25,
    "start_time": "2023-10-14T11:40:29.575Z"
   },
   {
    "duration": 9,
    "start_time": "2023-10-14T11:41:34.340Z"
   },
   {
    "duration": 37,
    "start_time": "2023-10-14T11:41:49.600Z"
   },
   {
    "duration": 28,
    "start_time": "2023-10-14T11:42:27.223Z"
   },
   {
    "duration": 1322,
    "start_time": "2023-10-14T11:42:33.732Z"
   },
   {
    "duration": 43,
    "start_time": "2023-10-14T11:42:35.056Z"
   },
   {
    "duration": 28,
    "start_time": "2023-10-14T11:42:35.101Z"
   },
   {
    "duration": 38,
    "start_time": "2023-10-14T11:42:35.131Z"
   },
   {
    "duration": 38,
    "start_time": "2023-10-14T11:42:35.171Z"
   },
   {
    "duration": 52,
    "start_time": "2023-10-14T11:42:35.211Z"
   },
   {
    "duration": 58,
    "start_time": "2023-10-14T11:42:35.265Z"
   },
   {
    "duration": 45,
    "start_time": "2023-10-14T11:42:35.325Z"
   },
   {
    "duration": 13,
    "start_time": "2023-10-14T11:42:35.372Z"
   },
   {
    "duration": 35,
    "start_time": "2023-10-14T11:42:35.388Z"
   },
   {
    "duration": 26,
    "start_time": "2023-10-14T11:42:35.425Z"
   },
   {
    "duration": 44,
    "start_time": "2023-10-14T11:42:35.452Z"
   },
   {
    "duration": 12,
    "start_time": "2023-10-14T11:42:35.498Z"
   },
   {
    "duration": 29,
    "start_time": "2023-10-14T11:42:35.512Z"
   },
   {
    "duration": 13,
    "start_time": "2023-10-14T11:42:35.542Z"
   },
   {
    "duration": 79,
    "start_time": "2023-10-14T11:42:35.557Z"
   },
   {
    "duration": 42,
    "start_time": "2023-10-14T11:42:35.638Z"
   },
   {
    "duration": 26,
    "start_time": "2023-10-14T11:42:35.682Z"
   },
   {
    "duration": 37,
    "start_time": "2023-10-14T11:42:35.710Z"
   },
   {
    "duration": 60,
    "start_time": "2023-10-14T11:42:35.748Z"
   },
   {
    "duration": 46,
    "start_time": "2023-10-14T11:42:35.810Z"
   },
   {
    "duration": 469,
    "start_time": "2023-10-14T11:42:35.858Z"
   },
   {
    "duration": 161,
    "start_time": "2023-10-14T11:42:36.329Z"
   },
   {
    "duration": 254,
    "start_time": "2023-10-14T11:42:36.492Z"
   },
   {
    "duration": 6159,
    "start_time": "2023-10-14T11:42:36.747Z"
   },
   {
    "duration": 189,
    "start_time": "2023-10-14T11:42:42.908Z"
   },
   {
    "duration": 367,
    "start_time": "2023-10-14T11:42:43.101Z"
   },
   {
    "duration": 540,
    "start_time": "2023-10-14T11:42:43.471Z"
   },
   {
    "duration": 788,
    "start_time": "2023-10-14T11:42:44.013Z"
   },
   {
    "duration": 148,
    "start_time": "2023-10-14T11:42:44.803Z"
   },
   {
    "duration": 128,
    "start_time": "2023-10-14T11:42:44.953Z"
   },
   {
    "duration": 141,
    "start_time": "2023-10-14T11:42:45.083Z"
   },
   {
    "duration": 139,
    "start_time": "2023-10-14T11:42:45.226Z"
   },
   {
    "duration": 1482,
    "start_time": "2023-10-14T11:42:45.368Z"
   },
   {
    "duration": 34,
    "start_time": "2023-10-14T11:42:46.852Z"
   },
   {
    "duration": 10,
    "start_time": "2023-10-14T11:42:46.887Z"
   },
   {
    "duration": 31,
    "start_time": "2023-10-14T11:42:46.899Z"
   },
   {
    "duration": 19,
    "start_time": "2023-10-14T11:42:46.931Z"
   },
   {
    "duration": 32,
    "start_time": "2023-10-14T11:42:46.952Z"
   },
   {
    "duration": 150,
    "start_time": "2023-10-14T11:46:22.796Z"
   },
   {
    "duration": 199,
    "start_time": "2023-10-14T11:47:00.208Z"
   },
   {
    "duration": 170,
    "start_time": "2023-10-14T11:47:22.421Z"
   },
   {
    "duration": 175,
    "start_time": "2023-10-14T11:47:33.961Z"
   },
   {
    "duration": 106,
    "start_time": "2023-10-14T11:50:35.185Z"
   },
   {
    "duration": 13,
    "start_time": "2023-10-14T11:51:21.439Z"
   },
   {
    "duration": 144,
    "start_time": "2023-10-14T11:51:51.698Z"
   },
   {
    "duration": 168,
    "start_time": "2023-10-14T11:52:05.321Z"
   },
   {
    "duration": 167,
    "start_time": "2023-10-14T11:52:21.866Z"
   },
   {
    "duration": 64,
    "start_time": "2023-10-14T11:53:43.689Z"
   },
   {
    "duration": 441,
    "start_time": "2023-10-14T11:56:13.203Z"
   },
   {
    "duration": 567,
    "start_time": "2023-10-14T11:57:22.391Z"
   },
   {
    "duration": 169,
    "start_time": "2023-10-14T11:58:43.154Z"
   },
   {
    "duration": 182,
    "start_time": "2023-10-14T11:58:55.985Z"
   },
   {
    "duration": 163,
    "start_time": "2023-10-14T12:06:00.348Z"
   },
   {
    "duration": 18,
    "start_time": "2023-10-14T12:14:30.162Z"
   },
   {
    "duration": 16,
    "start_time": "2023-10-14T12:20:49.069Z"
   },
   {
    "duration": 114,
    "start_time": "2023-10-14T12:22:44.306Z"
   },
   {
    "duration": 262,
    "start_time": "2023-10-14T12:23:24.466Z"
   },
   {
    "duration": 8,
    "start_time": "2023-10-14T12:26:48.245Z"
   },
   {
    "duration": 24,
    "start_time": "2023-10-14T12:27:01.802Z"
   },
   {
    "duration": 8,
    "start_time": "2023-10-14T12:28:05.896Z"
   },
   {
    "duration": 10,
    "start_time": "2023-10-14T12:28:19.783Z"
   },
   {
    "duration": 34,
    "start_time": "2023-10-14T12:29:03.700Z"
   },
   {
    "duration": 24,
    "start_time": "2023-10-14T12:29:25.566Z"
   },
   {
    "duration": 25,
    "start_time": "2023-10-14T12:29:32.227Z"
   },
   {
    "duration": 25,
    "start_time": "2023-10-14T12:30:34.254Z"
   },
   {
    "duration": 47,
    "start_time": "2023-10-14T12:31:40.707Z"
   },
   {
    "duration": 24,
    "start_time": "2023-10-14T12:33:59.915Z"
   },
   {
    "duration": 10,
    "start_time": "2023-10-14T12:34:15.532Z"
   },
   {
    "duration": 10,
    "start_time": "2023-10-14T12:35:53.514Z"
   },
   {
    "duration": 10,
    "start_time": "2023-10-14T12:36:18.206Z"
   },
   {
    "duration": 25,
    "start_time": "2023-10-14T12:36:29.204Z"
   },
   {
    "duration": 37,
    "start_time": "2023-10-14T12:36:50.078Z"
   },
   {
    "duration": 13,
    "start_time": "2023-10-14T12:40:07.683Z"
   },
   {
    "duration": 27,
    "start_time": "2023-10-14T12:40:22.751Z"
   },
   {
    "duration": 105,
    "start_time": "2023-10-14T12:50:06.516Z"
   },
   {
    "duration": 25,
    "start_time": "2023-10-14T12:50:35.966Z"
   },
   {
    "duration": 26,
    "start_time": "2023-10-14T12:50:52.822Z"
   },
   {
    "duration": 36,
    "start_time": "2023-10-14T12:51:37.780Z"
   },
   {
    "duration": 26,
    "start_time": "2023-10-14T12:51:46.527Z"
   },
   {
    "duration": 37,
    "start_time": "2023-10-14T12:51:50.390Z"
   },
   {
    "duration": 24,
    "start_time": "2023-10-14T13:47:25.766Z"
   },
   {
    "duration": 27,
    "start_time": "2023-10-14T13:47:42.513Z"
   },
   {
    "duration": 87,
    "start_time": "2023-10-14T13:50:54.785Z"
   },
   {
    "duration": 81,
    "start_time": "2023-10-14T13:52:34.228Z"
   },
   {
    "duration": 11,
    "start_time": "2023-10-14T13:52:48.815Z"
   },
   {
    "duration": 113,
    "start_time": "2023-10-14T13:54:13.766Z"
   },
   {
    "duration": 11,
    "start_time": "2023-10-14T13:55:12.075Z"
   },
   {
    "duration": 10,
    "start_time": "2023-10-14T13:55:51.785Z"
   },
   {
    "duration": 10,
    "start_time": "2023-10-14T13:56:06.346Z"
   },
   {
    "duration": 10,
    "start_time": "2023-10-14T13:56:16.864Z"
   },
   {
    "duration": 11,
    "start_time": "2023-10-14T13:56:56.012Z"
   },
   {
    "duration": 10,
    "start_time": "2023-10-14T13:57:08.731Z"
   },
   {
    "duration": 25,
    "start_time": "2023-10-14T13:58:42.165Z"
   },
   {
    "duration": 10,
    "start_time": "2023-10-14T14:13:05.557Z"
   },
   {
    "duration": 10,
    "start_time": "2023-10-14T14:14:02.039Z"
   },
   {
    "duration": 11,
    "start_time": "2023-10-14T14:14:27.682Z"
   },
   {
    "duration": 10,
    "start_time": "2023-10-14T14:15:13.511Z"
   },
   {
    "duration": 14,
    "start_time": "2023-10-14T14:16:24.228Z"
   },
   {
    "duration": 11,
    "start_time": "2023-10-14T14:16:31.607Z"
   },
   {
    "duration": 332,
    "start_time": "2023-10-14T14:19:47.064Z"
   },
   {
    "duration": 1462,
    "start_time": "2023-10-14T14:20:21.737Z"
   },
   {
    "duration": 543,
    "start_time": "2023-10-14T14:20:36.495Z"
   },
   {
    "duration": 11,
    "start_time": "2023-10-14T14:25:28.445Z"
   },
   {
    "duration": 10,
    "start_time": "2023-10-14T14:28:09.719Z"
   },
   {
    "duration": 11,
    "start_time": "2023-10-14T14:28:17.649Z"
   },
   {
    "duration": 11,
    "start_time": "2023-10-14T14:28:30.947Z"
   },
   {
    "duration": 9,
    "start_time": "2023-10-14T14:28:58.190Z"
   },
   {
    "duration": 45,
    "start_time": "2023-10-14T14:29:13.875Z"
   },
   {
    "duration": 9,
    "start_time": "2023-10-14T14:29:19.209Z"
   },
   {
    "duration": 9,
    "start_time": "2023-10-14T14:29:27.543Z"
   },
   {
    "duration": 10,
    "start_time": "2023-10-14T14:29:43.038Z"
   },
   {
    "duration": 9,
    "start_time": "2023-10-14T14:30:00.460Z"
   },
   {
    "duration": 12,
    "start_time": "2023-10-14T14:31:11.779Z"
   },
   {
    "duration": 8,
    "start_time": "2023-10-14T14:31:19.421Z"
   },
   {
    "duration": 10,
    "start_time": "2023-10-14T14:31:37.440Z"
   },
   {
    "duration": 9,
    "start_time": "2023-10-14T14:32:13.810Z"
   },
   {
    "duration": 9,
    "start_time": "2023-10-14T14:32:23.430Z"
   },
   {
    "duration": 10,
    "start_time": "2023-10-14T14:32:35.817Z"
   },
   {
    "duration": 10,
    "start_time": "2023-10-14T14:33:57.809Z"
   },
   {
    "duration": 9,
    "start_time": "2023-10-14T14:34:11.065Z"
   },
   {
    "duration": 23,
    "start_time": "2023-10-14T14:34:47.735Z"
   },
   {
    "duration": 10,
    "start_time": "2023-10-14T14:35:20.922Z"
   },
   {
    "duration": 21,
    "start_time": "2023-10-14T14:35:36.089Z"
   },
   {
    "duration": 13,
    "start_time": "2023-10-14T14:36:38.718Z"
   },
   {
    "duration": 12,
    "start_time": "2023-10-14T14:36:58.537Z"
   },
   {
    "duration": 10,
    "start_time": "2023-10-14T14:37:13.489Z"
   },
   {
    "duration": 24,
    "start_time": "2023-10-14T14:37:14.123Z"
   },
   {
    "duration": 10,
    "start_time": "2023-10-14T14:38:36.428Z"
   },
   {
    "duration": 12,
    "start_time": "2023-10-14T14:39:08.694Z"
   },
   {
    "duration": 10,
    "start_time": "2023-10-14T14:39:33.611Z"
   },
   {
    "duration": 11,
    "start_time": "2023-10-14T14:39:49.356Z"
   },
   {
    "duration": 11,
    "start_time": "2023-10-14T14:40:28.124Z"
   },
   {
    "duration": 13,
    "start_time": "2023-10-14T14:41:04.688Z"
   },
   {
    "duration": 17,
    "start_time": "2023-10-14T14:41:30.691Z"
   },
   {
    "duration": 11,
    "start_time": "2023-10-14T14:41:41.231Z"
   },
   {
    "duration": 10,
    "start_time": "2023-10-14T14:42:37.406Z"
   },
   {
    "duration": 10,
    "start_time": "2023-10-14T14:42:55.474Z"
   },
   {
    "duration": 11,
    "start_time": "2023-10-14T14:44:00.683Z"
   },
   {
    "duration": 9,
    "start_time": "2023-10-14T14:44:06.650Z"
   },
   {
    "duration": 10,
    "start_time": "2023-10-14T14:44:15.424Z"
   },
   {
    "duration": 10,
    "start_time": "2023-10-14T14:44:31.433Z"
   },
   {
    "duration": 11,
    "start_time": "2023-10-14T14:47:14.567Z"
   },
   {
    "duration": 12,
    "start_time": "2023-10-14T14:47:49.186Z"
   },
   {
    "duration": 10,
    "start_time": "2023-10-14T14:48:27.243Z"
   },
   {
    "duration": 9,
    "start_time": "2023-10-14T14:48:36.630Z"
   },
   {
    "duration": 9,
    "start_time": "2023-10-14T14:49:24.111Z"
   },
   {
    "duration": 11,
    "start_time": "2023-10-14T14:49:45.759Z"
   },
   {
    "duration": 11,
    "start_time": "2023-10-14T14:49:55.747Z"
   },
   {
    "duration": 11,
    "start_time": "2023-10-14T14:50:23.212Z"
   },
   {
    "duration": 30,
    "start_time": "2023-10-14T14:50:23.832Z"
   },
   {
    "duration": 11,
    "start_time": "2023-10-14T14:50:24.458Z"
   },
   {
    "duration": 45,
    "start_time": "2023-10-14T14:51:39.330Z"
   },
   {
    "duration": 10,
    "start_time": "2023-10-14T14:51:46.323Z"
   },
   {
    "duration": 10,
    "start_time": "2023-10-14T14:51:52.785Z"
   },
   {
    "duration": 10,
    "start_time": "2023-10-14T14:51:58.598Z"
   },
   {
    "duration": 10,
    "start_time": "2023-10-14T14:52:03.599Z"
   },
   {
    "duration": 11,
    "start_time": "2023-10-14T14:52:09.487Z"
   },
   {
    "duration": 11,
    "start_time": "2023-10-14T14:52:16.770Z"
   },
   {
    "duration": 9,
    "start_time": "2023-10-14T14:52:24.252Z"
   },
   {
    "duration": 13,
    "start_time": "2023-10-14T14:52:38.739Z"
   },
   {
    "duration": 1205,
    "start_time": "2023-10-14T14:58:43.318Z"
   },
   {
    "duration": 299,
    "start_time": "2023-10-14T15:01:20.076Z"
   },
   {
    "duration": 9,
    "start_time": "2023-10-14T15:02:57.323Z"
   },
   {
    "duration": 9,
    "start_time": "2023-10-14T15:03:06.905Z"
   },
   {
    "duration": 9,
    "start_time": "2023-10-14T15:03:16.055Z"
   },
   {
    "duration": 10,
    "start_time": "2023-10-14T15:03:34.755Z"
   },
   {
    "duration": 10,
    "start_time": "2023-10-14T15:03:50.632Z"
   },
   {
    "duration": 8,
    "start_time": "2023-10-14T15:04:21.502Z"
   },
   {
    "duration": 9,
    "start_time": "2023-10-14T15:04:54.059Z"
   },
   {
    "duration": 12,
    "start_time": "2023-10-14T15:05:35.968Z"
   },
   {
    "duration": 10,
    "start_time": "2023-10-14T15:06:03.122Z"
   },
   {
    "duration": 10,
    "start_time": "2023-10-14T15:06:48.039Z"
   },
   {
    "duration": 10,
    "start_time": "2023-10-14T15:06:58.311Z"
   },
   {
    "duration": 10,
    "start_time": "2023-10-14T15:07:15.656Z"
   },
   {
    "duration": 10,
    "start_time": "2023-10-14T15:07:56.743Z"
   },
   {
    "duration": 77,
    "start_time": "2023-10-14T15:08:09.767Z"
   },
   {
    "duration": 11,
    "start_time": "2023-10-14T15:08:15.925Z"
   },
   {
    "duration": 11,
    "start_time": "2023-10-14T15:08:55.624Z"
   },
   {
    "duration": 9,
    "start_time": "2023-10-14T15:09:05.098Z"
   },
   {
    "duration": 10,
    "start_time": "2023-10-14T15:09:11.423Z"
   },
   {
    "duration": 10,
    "start_time": "2023-10-14T15:09:21.421Z"
   },
   {
    "duration": 13,
    "start_time": "2023-10-14T15:09:34.241Z"
   },
   {
    "duration": 12,
    "start_time": "2023-10-14T15:10:31.332Z"
   },
   {
    "duration": 11,
    "start_time": "2023-10-14T15:10:48.453Z"
   },
   {
    "duration": 11,
    "start_time": "2023-10-14T15:11:02.734Z"
   },
   {
    "duration": 9,
    "start_time": "2023-10-14T15:11:27.549Z"
   },
   {
    "duration": 13,
    "start_time": "2023-10-14T15:11:36.655Z"
   },
   {
    "duration": 22,
    "start_time": "2023-10-14T15:11:48.790Z"
   },
   {
    "duration": 10,
    "start_time": "2023-10-14T15:12:25.222Z"
   },
   {
    "duration": 9,
    "start_time": "2023-10-14T15:12:50.427Z"
   },
   {
    "duration": 11,
    "start_time": "2023-10-14T15:13:04.139Z"
   },
   {
    "duration": 10,
    "start_time": "2023-10-14T15:14:00.620Z"
   },
   {
    "duration": 11,
    "start_time": "2023-10-14T15:14:14.466Z"
   },
   {
    "duration": 10,
    "start_time": "2023-10-14T15:14:25.822Z"
   },
   {
    "duration": 10,
    "start_time": "2023-10-14T15:14:41.942Z"
   },
   {
    "duration": 12,
    "start_time": "2023-10-14T15:15:18.426Z"
   },
   {
    "duration": 10,
    "start_time": "2023-10-14T15:15:46.561Z"
   },
   {
    "duration": 102,
    "start_time": "2023-10-14T15:17:21.709Z"
   },
   {
    "duration": 11,
    "start_time": "2023-10-14T15:17:33.604Z"
   },
   {
    "duration": 11,
    "start_time": "2023-10-14T15:17:40.622Z"
   },
   {
    "duration": 10,
    "start_time": "2023-10-14T15:17:41.578Z"
   },
   {
    "duration": 9,
    "start_time": "2023-10-14T15:18:21.327Z"
   },
   {
    "duration": 11,
    "start_time": "2023-10-14T15:18:43.591Z"
   },
   {
    "duration": 12,
    "start_time": "2023-10-14T15:18:55.749Z"
   },
   {
    "duration": 11,
    "start_time": "2023-10-14T15:22:49.058Z"
   },
   {
    "duration": 11,
    "start_time": "2023-10-14T15:23:01.082Z"
   },
   {
    "duration": 12,
    "start_time": "2023-10-14T15:23:13.611Z"
   },
   {
    "duration": 14,
    "start_time": "2023-10-14T15:23:20.795Z"
   },
   {
    "duration": 11,
    "start_time": "2023-10-14T15:23:58.587Z"
   },
   {
    "duration": 16,
    "start_time": "2023-10-14T15:24:20.503Z"
   },
   {
    "duration": 11,
    "start_time": "2023-10-14T15:24:45.161Z"
   },
   {
    "duration": 11,
    "start_time": "2023-10-14T15:24:52.974Z"
   },
   {
    "duration": 11,
    "start_time": "2023-10-14T15:24:59.734Z"
   },
   {
    "duration": 12,
    "start_time": "2023-10-14T15:25:07.219Z"
   },
   {
    "duration": 17,
    "start_time": "2023-10-14T15:26:11.695Z"
   },
   {
    "duration": 10,
    "start_time": "2023-10-14T15:26:28.963Z"
   },
   {
    "duration": 11,
    "start_time": "2023-10-14T15:26:38.574Z"
   },
   {
    "duration": 13,
    "start_time": "2023-10-14T15:26:55.603Z"
   },
   {
    "duration": 9,
    "start_time": "2023-10-14T15:27:31.817Z"
   },
   {
    "duration": 10,
    "start_time": "2023-10-14T15:27:56.068Z"
   },
   {
    "duration": 9,
    "start_time": "2023-10-14T15:28:04.354Z"
   },
   {
    "duration": 11,
    "start_time": "2023-10-14T15:28:23.147Z"
   },
   {
    "duration": 11,
    "start_time": "2023-10-14T15:28:54.530Z"
   },
   {
    "duration": 11,
    "start_time": "2023-10-14T15:29:09.015Z"
   },
   {
    "duration": 12,
    "start_time": "2023-10-14T15:30:39.279Z"
   },
   {
    "duration": 10,
    "start_time": "2023-10-14T15:31:15.234Z"
   },
   {
    "duration": 12,
    "start_time": "2023-10-14T15:31:59.652Z"
   },
   {
    "duration": 12,
    "start_time": "2023-10-14T15:32:11.520Z"
   },
   {
    "duration": 8,
    "start_time": "2023-10-14T15:33:01.518Z"
   },
   {
    "duration": 8,
    "start_time": "2023-10-14T15:33:18.430Z"
   },
   {
    "duration": 9,
    "start_time": "2023-10-14T15:33:24.336Z"
   },
   {
    "duration": 10,
    "start_time": "2023-10-14T15:34:06.867Z"
   },
   {
    "duration": 11,
    "start_time": "2023-10-14T15:34:24.714Z"
   },
   {
    "duration": 9,
    "start_time": "2023-10-14T15:34:34.429Z"
   },
   {
    "duration": 11,
    "start_time": "2023-10-14T15:34:41.037Z"
   },
   {
    "duration": 11,
    "start_time": "2023-10-14T15:34:45.030Z"
   },
   {
    "duration": 12,
    "start_time": "2023-10-14T15:35:06.950Z"
   },
   {
    "duration": 13,
    "start_time": "2023-10-14T15:35:35.402Z"
   },
   {
    "duration": 11,
    "start_time": "2023-10-14T15:35:43.563Z"
   },
   {
    "duration": 13,
    "start_time": "2023-10-14T15:37:02.016Z"
   },
   {
    "duration": 15,
    "start_time": "2023-10-14T15:37:11.629Z"
   },
   {
    "duration": 12,
    "start_time": "2023-10-14T15:37:22.924Z"
   },
   {
    "duration": 11,
    "start_time": "2023-10-14T15:40:23.694Z"
   },
   {
    "duration": 9,
    "start_time": "2023-10-14T15:40:40.223Z"
   },
   {
    "duration": 12,
    "start_time": "2023-10-14T15:40:46.723Z"
   },
   {
    "duration": 14,
    "start_time": "2023-10-14T15:40:54.634Z"
   },
   {
    "duration": 9,
    "start_time": "2023-10-14T15:41:14.466Z"
   },
   {
    "duration": 14,
    "start_time": "2023-10-14T15:41:33.014Z"
   },
   {
    "duration": 10,
    "start_time": "2023-10-14T15:41:41.041Z"
   },
   {
    "duration": 9,
    "start_time": "2023-10-14T15:42:17.123Z"
   },
   {
    "duration": 8,
    "start_time": "2023-10-14T15:42:26.640Z"
   },
   {
    "duration": 10,
    "start_time": "2023-10-14T15:42:45.195Z"
   },
   {
    "duration": 34,
    "start_time": "2023-10-14T15:44:22.250Z"
   },
   {
    "duration": 22,
    "start_time": "2023-10-14T15:44:32.872Z"
   },
   {
    "duration": 8,
    "start_time": "2023-10-14T15:45:00.249Z"
   },
   {
    "duration": 9,
    "start_time": "2023-10-14T15:45:17.472Z"
   },
   {
    "duration": 8,
    "start_time": "2023-10-14T15:45:27.927Z"
   },
   {
    "duration": 9,
    "start_time": "2023-10-14T15:45:35.645Z"
   },
   {
    "duration": 9,
    "start_time": "2023-10-14T15:45:50.050Z"
   },
   {
    "duration": 9,
    "start_time": "2023-10-14T15:46:00.672Z"
   },
   {
    "duration": 8,
    "start_time": "2023-10-14T15:46:25.275Z"
   },
   {
    "duration": 10,
    "start_time": "2023-10-14T15:46:59.870Z"
   },
   {
    "duration": 10,
    "start_time": "2023-10-14T15:47:09.013Z"
   },
   {
    "duration": 11,
    "start_time": "2023-10-14T15:47:58.911Z"
   },
   {
    "duration": 8,
    "start_time": "2023-10-14T15:48:08.246Z"
   },
   {
    "duration": 9,
    "start_time": "2023-10-14T15:48:40.847Z"
   },
   {
    "duration": 9,
    "start_time": "2023-10-14T15:49:11.876Z"
   },
   {
    "duration": 9,
    "start_time": "2023-10-14T15:49:19.190Z"
   },
   {
    "duration": 10,
    "start_time": "2023-10-14T15:49:34.131Z"
   },
   {
    "duration": 10,
    "start_time": "2023-10-14T15:49:41.049Z"
   },
   {
    "duration": 9,
    "start_time": "2023-10-14T15:49:51.752Z"
   },
   {
    "duration": 10,
    "start_time": "2023-10-14T15:50:23.553Z"
   },
   {
    "duration": 8,
    "start_time": "2023-10-14T15:50:40.339Z"
   },
   {
    "duration": 9,
    "start_time": "2023-10-14T15:50:52.277Z"
   },
   {
    "duration": 11,
    "start_time": "2023-10-14T15:50:59.326Z"
   },
   {
    "duration": 9,
    "start_time": "2023-10-14T15:51:45.563Z"
   },
   {
    "duration": 9,
    "start_time": "2023-10-14T15:52:13.081Z"
   },
   {
    "duration": 10,
    "start_time": "2023-10-14T15:53:38.516Z"
   },
   {
    "duration": 9,
    "start_time": "2023-10-14T15:53:49.113Z"
   },
   {
    "duration": 10,
    "start_time": "2023-10-14T15:54:10.016Z"
   },
   {
    "duration": 9,
    "start_time": "2023-10-14T15:54:39.874Z"
   },
   {
    "duration": 45,
    "start_time": "2023-10-14T15:55:12.397Z"
   },
   {
    "duration": 9,
    "start_time": "2023-10-14T15:55:25.661Z"
   },
   {
    "duration": 13,
    "start_time": "2023-10-14T15:56:21.196Z"
   },
   {
    "duration": 9,
    "start_time": "2023-10-14T15:56:43.352Z"
   },
   {
    "duration": 18,
    "start_time": "2023-10-14T15:56:53.400Z"
   },
   {
    "duration": 12,
    "start_time": "2023-10-14T15:57:31.989Z"
   },
   {
    "duration": 9,
    "start_time": "2023-10-14T15:57:42.237Z"
   },
   {
    "duration": 11,
    "start_time": "2023-10-14T15:58:51.318Z"
   },
   {
    "duration": 10,
    "start_time": "2023-10-14T15:59:15.488Z"
   },
   {
    "duration": 17,
    "start_time": "2023-10-14T15:59:22.996Z"
   },
   {
    "duration": 9,
    "start_time": "2023-10-14T15:59:40.757Z"
   },
   {
    "duration": 12,
    "start_time": "2023-10-14T16:00:17.421Z"
   },
   {
    "duration": 11,
    "start_time": "2023-10-14T16:00:34.918Z"
   },
   {
    "duration": 9,
    "start_time": "2023-10-14T16:01:40.641Z"
   },
   {
    "duration": 9,
    "start_time": "2023-10-14T16:09:56.547Z"
   },
   {
    "duration": 9,
    "start_time": "2023-10-14T16:10:29.797Z"
   },
   {
    "duration": 9,
    "start_time": "2023-10-14T16:10:50.712Z"
   },
   {
    "duration": 10,
    "start_time": "2023-10-14T16:11:14.465Z"
   },
   {
    "duration": 10,
    "start_time": "2023-10-14T16:11:42.757Z"
   },
   {
    "duration": 9,
    "start_time": "2023-10-14T16:12:02.575Z"
   },
   {
    "duration": 9,
    "start_time": "2023-10-14T16:12:12.922Z"
   },
   {
    "duration": 9,
    "start_time": "2023-10-14T16:12:26.616Z"
   },
   {
    "duration": 10,
    "start_time": "2023-10-14T16:13:08.407Z"
   },
   {
    "duration": 8,
    "start_time": "2023-10-14T16:13:28.839Z"
   },
   {
    "duration": 8,
    "start_time": "2023-10-14T16:13:40.840Z"
   },
   {
    "duration": 9,
    "start_time": "2023-10-14T16:13:51.043Z"
   },
   {
    "duration": 9,
    "start_time": "2023-10-14T16:14:35.721Z"
   },
   {
    "duration": 9,
    "start_time": "2023-10-14T16:14:49.137Z"
   },
   {
    "duration": 38,
    "start_time": "2023-10-14T16:15:37.489Z"
   },
   {
    "duration": 9,
    "start_time": "2023-10-14T16:15:43.818Z"
   },
   {
    "duration": 9,
    "start_time": "2023-10-14T16:15:53.261Z"
   },
   {
    "duration": 10,
    "start_time": "2023-10-14T16:16:03.486Z"
   },
   {
    "duration": 11,
    "start_time": "2023-10-14T16:16:09.409Z"
   },
   {
    "duration": 9,
    "start_time": "2023-10-14T16:16:31.415Z"
   },
   {
    "duration": 9,
    "start_time": "2023-10-14T16:17:01.054Z"
   },
   {
    "duration": 8,
    "start_time": "2023-10-14T16:17:14.444Z"
   },
   {
    "duration": 9,
    "start_time": "2023-10-14T16:17:25.645Z"
   },
   {
    "duration": 10,
    "start_time": "2023-10-14T16:17:53.985Z"
   },
   {
    "duration": 10,
    "start_time": "2023-10-14T16:18:02.060Z"
   },
   {
    "duration": 10,
    "start_time": "2023-10-14T16:18:29.336Z"
   },
   {
    "duration": 10,
    "start_time": "2023-10-14T16:18:38.423Z"
   },
   {
    "duration": 19,
    "start_time": "2023-10-14T16:18:48.602Z"
   },
   {
    "duration": 11,
    "start_time": "2023-10-14T16:21:52.011Z"
   },
   {
    "duration": 7034,
    "start_time": "2023-10-14T16:33:20.650Z"
   },
   {
    "duration": 7158,
    "start_time": "2023-10-14T16:33:40.748Z"
   },
   {
    "duration": 10,
    "start_time": "2023-10-14T16:44:46.449Z"
   },
   {
    "duration": 10,
    "start_time": "2023-10-14T16:45:18.071Z"
   },
   {
    "duration": 10,
    "start_time": "2023-10-14T16:45:36.944Z"
   },
   {
    "duration": 10,
    "start_time": "2023-10-14T16:45:48.023Z"
   },
   {
    "duration": 11,
    "start_time": "2023-10-14T16:46:24.690Z"
   },
   {
    "duration": 11,
    "start_time": "2023-10-14T16:46:38.920Z"
   },
   {
    "duration": 9,
    "start_time": "2023-10-14T16:46:55.392Z"
   },
   {
    "duration": 213,
    "start_time": "2023-10-14T16:48:33.667Z"
   },
   {
    "duration": 224,
    "start_time": "2023-10-14T16:49:08.195Z"
   },
   {
    "duration": 219,
    "start_time": "2023-10-14T16:49:24.227Z"
   },
   {
    "duration": 11,
    "start_time": "2023-10-14T17:13:50.249Z"
   },
   {
    "duration": 120,
    "start_time": "2023-10-14T17:21:06.158Z"
   },
   {
    "duration": 116,
    "start_time": "2023-10-14T17:22:41.235Z"
   },
   {
    "duration": 129,
    "start_time": "2023-10-14T17:23:09.875Z"
   },
   {
    "duration": 109,
    "start_time": "2023-10-14T17:23:23.747Z"
   },
   {
    "duration": 10,
    "start_time": "2023-10-14T17:23:42.139Z"
   },
   {
    "duration": 109,
    "start_time": "2023-10-14T17:26:45.260Z"
   },
   {
    "duration": 10,
    "start_time": "2023-10-14T17:28:08.842Z"
   },
   {
    "duration": 110,
    "start_time": "2023-10-14T17:28:20.894Z"
   },
   {
    "duration": 109,
    "start_time": "2023-10-14T17:30:48.396Z"
   },
   {
    "duration": 104,
    "start_time": "2023-10-14T17:30:59.321Z"
   },
   {
    "duration": 1182,
    "start_time": "2023-10-14T17:57:13.603Z"
   },
   {
    "duration": 49,
    "start_time": "2023-10-14T17:57:14.788Z"
   },
   {
    "duration": 35,
    "start_time": "2023-10-14T17:57:14.839Z"
   },
   {
    "duration": 32,
    "start_time": "2023-10-14T17:57:14.876Z"
   },
   {
    "duration": 21,
    "start_time": "2023-10-14T17:57:14.910Z"
   },
   {
    "duration": 10,
    "start_time": "2023-10-14T17:57:14.933Z"
   },
   {
    "duration": 24,
    "start_time": "2023-10-14T17:57:14.944Z"
   },
   {
    "duration": 151,
    "start_time": "2023-10-14T17:57:14.970Z"
   },
   {
    "duration": 18,
    "start_time": "2023-10-14T17:57:15.122Z"
   },
   {
    "duration": 27,
    "start_time": "2023-10-14T17:57:15.143Z"
   },
   {
    "duration": 21,
    "start_time": "2023-10-14T17:57:15.172Z"
   },
   {
    "duration": 44,
    "start_time": "2023-10-14T17:57:15.195Z"
   },
   {
    "duration": 12,
    "start_time": "2023-10-14T17:57:15.241Z"
   },
   {
    "duration": 20,
    "start_time": "2023-10-14T17:57:15.255Z"
   },
   {
    "duration": 30,
    "start_time": "2023-10-14T17:57:15.277Z"
   },
   {
    "duration": 22,
    "start_time": "2023-10-14T17:57:15.309Z"
   },
   {
    "duration": 12,
    "start_time": "2023-10-14T17:57:15.333Z"
   },
   {
    "duration": 20,
    "start_time": "2023-10-14T17:57:15.347Z"
   },
   {
    "duration": 33,
    "start_time": "2023-10-14T17:57:15.369Z"
   },
   {
    "duration": 20,
    "start_time": "2023-10-14T17:57:15.404Z"
   },
   {
    "duration": 19,
    "start_time": "2023-10-14T17:57:15.425Z"
   },
   {
    "duration": 447,
    "start_time": "2023-10-14T17:57:15.446Z"
   },
   {
    "duration": 164,
    "start_time": "2023-10-14T17:57:15.895Z"
   },
   {
    "duration": 567,
    "start_time": "2023-10-14T17:57:16.061Z"
   },
   {
    "duration": 201,
    "start_time": "2023-10-14T17:57:16.630Z"
   },
   {
    "duration": 248,
    "start_time": "2023-10-14T17:57:16.834Z"
   },
   {
    "duration": 255,
    "start_time": "2023-10-14T17:57:17.084Z"
   },
   {
    "duration": 6049,
    "start_time": "2023-10-14T17:57:17.342Z"
   },
   {
    "duration": 183,
    "start_time": "2023-10-14T17:57:23.393Z"
   },
   {
    "duration": 347,
    "start_time": "2023-10-14T17:57:23.578Z"
   },
   {
    "duration": 157,
    "start_time": "2023-10-14T17:57:23.927Z"
   },
   {
    "duration": 788,
    "start_time": "2023-10-14T17:57:24.085Z"
   },
   {
    "duration": 179,
    "start_time": "2023-10-14T17:57:24.875Z"
   },
   {
    "duration": 636,
    "start_time": "2023-10-14T17:57:25.056Z"
   },
   {
    "duration": 718,
    "start_time": "2023-10-14T17:57:25.694Z"
   },
   {
    "duration": 272,
    "start_time": "2023-10-14T17:57:26.414Z"
   },
   {
    "duration": 216,
    "start_time": "2023-10-14T17:57:26.687Z"
   },
   {
    "duration": 1297,
    "start_time": "2023-10-14T17:57:26.905Z"
   },
   {
    "duration": 59,
    "start_time": "2023-10-14T17:57:28.204Z"
   },
   {
    "duration": 39,
    "start_time": "2023-10-14T17:57:28.265Z"
   },
   {
    "duration": 17,
    "start_time": "2023-10-14T17:57:28.305Z"
   },
   {
    "duration": 33,
    "start_time": "2023-10-14T17:57:28.324Z"
   },
   {
    "duration": 76,
    "start_time": "2023-10-14T17:57:28.358Z"
   },
   {
    "duration": 23,
    "start_time": "2023-10-14T17:57:28.436Z"
   },
   {
    "duration": 45,
    "start_time": "2023-10-14T17:57:28.461Z"
   },
   {
    "duration": 131,
    "start_time": "2023-10-14T17:57:28.508Z"
   },
   {
    "duration": 540,
    "start_time": "2023-10-14T17:57:53.693Z"
   },
   {
    "duration": 1296,
    "start_time": "2023-10-14T17:58:04.276Z"
   },
   {
    "duration": 43,
    "start_time": "2023-10-14T17:58:05.575Z"
   },
   {
    "duration": 27,
    "start_time": "2023-10-14T17:58:05.619Z"
   },
   {
    "duration": 22,
    "start_time": "2023-10-14T17:58:05.649Z"
   },
   {
    "duration": 36,
    "start_time": "2023-10-14T17:58:05.673Z"
   },
   {
    "duration": 9,
    "start_time": "2023-10-14T17:58:05.711Z"
   },
   {
    "duration": 14,
    "start_time": "2023-10-14T17:58:05.722Z"
   },
   {
    "duration": 24,
    "start_time": "2023-10-14T17:58:05.737Z"
   },
   {
    "duration": 7,
    "start_time": "2023-10-14T17:58:05.762Z"
   },
   {
    "duration": 16,
    "start_time": "2023-10-14T17:58:05.771Z"
   },
   {
    "duration": 7,
    "start_time": "2023-10-14T17:58:05.801Z"
   },
   {
    "duration": 56,
    "start_time": "2023-10-14T17:58:05.810Z"
   },
   {
    "duration": 13,
    "start_time": "2023-10-14T17:58:05.868Z"
   },
   {
    "duration": 28,
    "start_time": "2023-10-14T17:58:05.882Z"
   },
   {
    "duration": 12,
    "start_time": "2023-10-14T17:58:05.913Z"
   },
   {
    "duration": 42,
    "start_time": "2023-10-14T17:58:05.927Z"
   },
   {
    "duration": 30,
    "start_time": "2023-10-14T17:58:05.971Z"
   },
   {
    "duration": 27,
    "start_time": "2023-10-14T17:58:06.003Z"
   },
   {
    "duration": 8,
    "start_time": "2023-10-14T17:58:06.033Z"
   },
   {
    "duration": 26,
    "start_time": "2023-10-14T17:58:06.043Z"
   },
   {
    "duration": 31,
    "start_time": "2023-10-14T17:58:06.071Z"
   },
   {
    "duration": 426,
    "start_time": "2023-10-14T17:58:06.104Z"
   },
   {
    "duration": 176,
    "start_time": "2023-10-14T17:58:06.531Z"
   },
   {
    "duration": 533,
    "start_time": "2023-10-14T17:58:06.709Z"
   },
   {
    "duration": 180,
    "start_time": "2023-10-14T17:58:07.244Z"
   },
   {
    "duration": 241,
    "start_time": "2023-10-14T17:58:07.426Z"
   },
   {
    "duration": 248,
    "start_time": "2023-10-14T17:58:07.668Z"
   },
   {
    "duration": 6033,
    "start_time": "2023-10-14T17:58:07.920Z"
   },
   {
    "duration": 178,
    "start_time": "2023-10-14T17:58:13.955Z"
   },
   {
    "duration": 375,
    "start_time": "2023-10-14T17:58:14.135Z"
   },
   {
    "duration": 198,
    "start_time": "2023-10-14T17:58:14.512Z"
   },
   {
    "duration": 700,
    "start_time": "2023-10-14T17:58:14.713Z"
   },
   {
    "duration": 175,
    "start_time": "2023-10-14T17:58:15.414Z"
   },
   {
    "duration": 135,
    "start_time": "2023-10-14T17:58:15.591Z"
   },
   {
    "duration": 118,
    "start_time": "2023-10-14T17:58:15.728Z"
   },
   {
    "duration": 135,
    "start_time": "2023-10-14T17:58:15.848Z"
   },
   {
    "duration": 134,
    "start_time": "2023-10-14T17:58:15.984Z"
   },
   {
    "duration": 1319,
    "start_time": "2023-10-14T17:58:16.119Z"
   },
   {
    "duration": 67,
    "start_time": "2023-10-14T17:58:17.440Z"
   },
   {
    "duration": 18,
    "start_time": "2023-10-14T17:58:17.510Z"
   },
   {
    "duration": 23,
    "start_time": "2023-10-14T17:58:17.530Z"
   },
   {
    "duration": 31,
    "start_time": "2023-10-14T17:58:17.554Z"
   },
   {
    "duration": 21,
    "start_time": "2023-10-14T17:58:17.587Z"
   },
   {
    "duration": 27,
    "start_time": "2023-10-14T17:58:17.610Z"
   },
   {
    "duration": 13,
    "start_time": "2023-10-14T17:58:17.639Z"
   },
   {
    "duration": 116,
    "start_time": "2023-10-14T17:58:17.654Z"
   },
   {
    "duration": 1289,
    "start_time": "2023-10-14T19:17:04.329Z"
   },
   {
    "duration": 96,
    "start_time": "2023-10-14T19:17:05.620Z"
   },
   {
    "duration": 26,
    "start_time": "2023-10-14T19:17:05.719Z"
   },
   {
    "duration": 23,
    "start_time": "2023-10-14T19:17:05.747Z"
   },
   {
    "duration": 30,
    "start_time": "2023-10-14T19:17:05.772Z"
   },
   {
    "duration": 13,
    "start_time": "2023-10-14T19:17:05.805Z"
   },
   {
    "duration": 25,
    "start_time": "2023-10-14T19:17:05.821Z"
   },
   {
    "duration": 25,
    "start_time": "2023-10-14T19:17:05.848Z"
   },
   {
    "duration": 11,
    "start_time": "2023-10-14T19:17:05.875Z"
   },
   {
    "duration": 31,
    "start_time": "2023-10-14T19:17:05.888Z"
   },
   {
    "duration": 21,
    "start_time": "2023-10-14T19:17:05.922Z"
   },
   {
    "duration": 77,
    "start_time": "2023-10-14T19:17:05.945Z"
   },
   {
    "duration": 12,
    "start_time": "2023-10-14T19:17:06.025Z"
   },
   {
    "duration": 39,
    "start_time": "2023-10-14T19:17:06.039Z"
   },
   {
    "duration": 14,
    "start_time": "2023-10-14T19:17:06.080Z"
   },
   {
    "duration": 34,
    "start_time": "2023-10-14T19:17:06.096Z"
   },
   {
    "duration": 47,
    "start_time": "2023-10-14T19:17:06.132Z"
   },
   {
    "duration": 25,
    "start_time": "2023-10-14T19:17:06.181Z"
   },
   {
    "duration": 19,
    "start_time": "2023-10-14T19:17:06.209Z"
   },
   {
    "duration": 22,
    "start_time": "2023-10-14T19:17:06.231Z"
   },
   {
    "duration": 33,
    "start_time": "2023-10-14T19:17:06.255Z"
   },
   {
    "duration": 524,
    "start_time": "2023-10-14T19:17:06.290Z"
   },
   {
    "duration": 177,
    "start_time": "2023-10-14T19:17:06.817Z"
   },
   {
    "duration": 581,
    "start_time": "2023-10-14T19:17:07.000Z"
   },
   {
    "duration": 185,
    "start_time": "2023-10-14T19:17:07.583Z"
   },
   {
    "duration": 263,
    "start_time": "2023-10-14T19:17:07.770Z"
   },
   {
    "duration": 259,
    "start_time": "2023-10-14T19:17:08.035Z"
   },
   {
    "duration": 6399,
    "start_time": "2023-10-14T19:17:08.302Z"
   },
   {
    "duration": 229,
    "start_time": "2023-10-14T19:17:14.704Z"
   },
   {
    "duration": 381,
    "start_time": "2023-10-14T19:17:14.935Z"
   },
   {
    "duration": 162,
    "start_time": "2023-10-14T19:17:15.318Z"
   },
   {
    "duration": 735,
    "start_time": "2023-10-14T19:17:15.481Z"
   },
   {
    "duration": 191,
    "start_time": "2023-10-14T19:17:16.218Z"
   },
   {
    "duration": 156,
    "start_time": "2023-10-14T19:17:16.411Z"
   },
   {
    "duration": 123,
    "start_time": "2023-10-14T19:17:16.569Z"
   },
   {
    "duration": 131,
    "start_time": "2023-10-14T19:17:16.711Z"
   },
   {
    "duration": 133,
    "start_time": "2023-10-14T19:17:16.843Z"
   },
   {
    "duration": 1462,
    "start_time": "2023-10-14T19:17:16.977Z"
   },
   {
    "duration": 74,
    "start_time": "2023-10-14T19:17:18.441Z"
   },
   {
    "duration": 22,
    "start_time": "2023-10-14T19:17:18.517Z"
   },
   {
    "duration": 28,
    "start_time": "2023-10-14T19:17:18.541Z"
   },
   {
    "duration": 33,
    "start_time": "2023-10-14T19:17:18.571Z"
   },
   {
    "duration": 32,
    "start_time": "2023-10-14T19:17:18.606Z"
   },
   {
    "duration": 43,
    "start_time": "2023-10-14T19:17:18.640Z"
   },
   {
    "duration": 78,
    "start_time": "2023-10-14T19:17:18.686Z"
   },
   {
    "duration": 220,
    "start_time": "2023-10-14T19:17:18.766Z"
   },
   {
    "duration": 1296,
    "start_time": "2023-10-14T20:40:07.798Z"
   },
   {
    "duration": 45,
    "start_time": "2023-10-14T20:40:09.096Z"
   },
   {
    "duration": 57,
    "start_time": "2023-10-14T20:40:09.143Z"
   },
   {
    "duration": 24,
    "start_time": "2023-10-14T20:40:09.210Z"
   },
   {
    "duration": 12,
    "start_time": "2023-10-14T20:40:09.235Z"
   },
   {
    "duration": 10,
    "start_time": "2023-10-14T20:40:09.248Z"
   },
   {
    "duration": 9,
    "start_time": "2023-10-14T20:40:09.259Z"
   },
   {
    "duration": 36,
    "start_time": "2023-10-14T20:40:09.269Z"
   },
   {
    "duration": 9,
    "start_time": "2023-10-14T20:40:09.306Z"
   },
   {
    "duration": 12,
    "start_time": "2023-10-14T20:40:09.318Z"
   },
   {
    "duration": 7,
    "start_time": "2023-10-14T20:40:09.332Z"
   },
   {
    "duration": 40,
    "start_time": "2023-10-14T20:40:09.341Z"
   },
   {
    "duration": 15,
    "start_time": "2023-10-14T20:40:09.401Z"
   },
   {
    "duration": 29,
    "start_time": "2023-10-14T20:40:09.417Z"
   },
   {
    "duration": 13,
    "start_time": "2023-10-14T20:40:09.448Z"
   },
   {
    "duration": 23,
    "start_time": "2023-10-14T20:40:09.462Z"
   },
   {
    "duration": 25,
    "start_time": "2023-10-14T20:40:09.500Z"
   },
   {
    "duration": 25,
    "start_time": "2023-10-14T20:40:09.527Z"
   },
   {
    "duration": 7,
    "start_time": "2023-10-14T20:40:09.555Z"
   },
   {
    "duration": 44,
    "start_time": "2023-10-14T20:40:09.563Z"
   },
   {
    "duration": 21,
    "start_time": "2023-10-14T20:40:09.610Z"
   },
   {
    "duration": 458,
    "start_time": "2023-10-14T20:40:09.632Z"
   },
   {
    "duration": 167,
    "start_time": "2023-10-14T20:40:10.092Z"
   },
   {
    "duration": 556,
    "start_time": "2023-10-14T20:40:10.261Z"
   },
   {
    "duration": 169,
    "start_time": "2023-10-14T20:40:10.819Z"
   },
   {
    "duration": 238,
    "start_time": "2023-10-14T20:40:10.990Z"
   },
   {
    "duration": 238,
    "start_time": "2023-10-14T20:40:11.229Z"
   },
   {
    "duration": 6110,
    "start_time": "2023-10-14T20:40:11.471Z"
   },
   {
    "duration": 191,
    "start_time": "2023-10-14T20:40:17.583Z"
   },
   {
    "duration": 375,
    "start_time": "2023-10-14T20:40:17.776Z"
   },
   {
    "duration": 165,
    "start_time": "2023-10-14T20:40:18.153Z"
   },
   {
    "duration": 714,
    "start_time": "2023-10-14T20:40:18.320Z"
   },
   {
    "duration": 184,
    "start_time": "2023-10-14T20:40:19.036Z"
   },
   {
    "duration": 162,
    "start_time": "2023-10-14T20:40:19.222Z"
   },
   {
    "duration": 123,
    "start_time": "2023-10-14T20:40:19.386Z"
   },
   {
    "duration": 121,
    "start_time": "2023-10-14T20:40:19.514Z"
   },
   {
    "duration": 136,
    "start_time": "2023-10-14T20:40:19.636Z"
   },
   {
    "duration": 1373,
    "start_time": "2023-10-14T20:40:19.774Z"
   },
   {
    "duration": 74,
    "start_time": "2023-10-14T20:40:21.149Z"
   },
   {
    "duration": 17,
    "start_time": "2023-10-14T20:40:21.225Z"
   },
   {
    "duration": 37,
    "start_time": "2023-10-14T20:40:21.244Z"
   },
   {
    "duration": 32,
    "start_time": "2023-10-14T20:40:21.283Z"
   },
   {
    "duration": 14,
    "start_time": "2023-10-14T20:40:21.317Z"
   },
   {
    "duration": 11,
    "start_time": "2023-10-14T20:40:21.333Z"
   },
   {
    "duration": 10,
    "start_time": "2023-10-14T20:40:21.345Z"
   },
   {
    "duration": 123,
    "start_time": "2023-10-14T20:40:21.356Z"
   },
   {
    "duration": 4,
    "start_time": "2023-10-14T21:03:36.187Z"
   },
   {
    "duration": 6,
    "start_time": "2023-10-14T21:11:12.589Z"
   },
   {
    "duration": 5,
    "start_time": "2023-10-14T21:15:19.016Z"
   },
   {
    "duration": 5,
    "start_time": "2023-10-14T21:16:31.718Z"
   },
   {
    "duration": 6,
    "start_time": "2023-10-14T21:16:45.730Z"
   },
   {
    "duration": 565,
    "start_time": "2023-10-14T21:32:41.500Z"
   },
   {
    "duration": 1277,
    "start_time": "2023-10-15T16:54:18.643Z"
   },
   {
    "duration": 162,
    "start_time": "2023-10-15T16:54:19.922Z"
   },
   {
    "duration": 26,
    "start_time": "2023-10-15T16:54:20.086Z"
   },
   {
    "duration": 19,
    "start_time": "2023-10-15T16:54:20.114Z"
   },
   {
    "duration": 11,
    "start_time": "2023-10-15T16:54:20.135Z"
   },
   {
    "duration": 7,
    "start_time": "2023-10-15T16:54:20.147Z"
   },
   {
    "duration": 19,
    "start_time": "2023-10-15T16:54:20.156Z"
   },
   {
    "duration": 15,
    "start_time": "2023-10-15T16:54:20.176Z"
   },
   {
    "duration": 17,
    "start_time": "2023-10-15T16:54:20.193Z"
   },
   {
    "duration": 19,
    "start_time": "2023-10-15T16:54:20.213Z"
   },
   {
    "duration": 10,
    "start_time": "2023-10-15T16:54:20.233Z"
   },
   {
    "duration": 43,
    "start_time": "2023-10-15T16:54:20.245Z"
   },
   {
    "duration": 24,
    "start_time": "2023-10-15T16:54:20.290Z"
   },
   {
    "duration": 5,
    "start_time": "2023-10-15T16:54:20.316Z"
   },
   {
    "duration": 12,
    "start_time": "2023-10-15T16:54:20.322Z"
   },
   {
    "duration": 25,
    "start_time": "2023-10-15T16:54:20.336Z"
   },
   {
    "duration": 29,
    "start_time": "2023-10-15T16:54:20.362Z"
   },
   {
    "duration": 25,
    "start_time": "2023-10-15T16:54:20.393Z"
   },
   {
    "duration": 5,
    "start_time": "2023-10-15T16:54:20.419Z"
   },
   {
    "duration": 21,
    "start_time": "2023-10-15T16:54:20.426Z"
   },
   {
    "duration": 25,
    "start_time": "2023-10-15T16:54:20.449Z"
   },
   {
    "duration": 412,
    "start_time": "2023-10-15T16:54:20.475Z"
   },
   {
    "duration": 151,
    "start_time": "2023-10-15T16:54:20.889Z"
   },
   {
    "duration": 485,
    "start_time": "2023-10-15T16:54:21.041Z"
   },
   {
    "duration": 248,
    "start_time": "2023-10-15T16:54:21.528Z"
   },
   {
    "duration": 220,
    "start_time": "2023-10-15T16:54:21.778Z"
   },
   {
    "duration": 147,
    "start_time": "2023-10-15T16:54:22.000Z"
   },
   {
    "duration": 5476,
    "start_time": "2023-10-15T16:54:22.150Z"
   },
   {
    "duration": 154,
    "start_time": "2023-10-15T16:54:27.627Z"
   },
   {
    "duration": 302,
    "start_time": "2023-10-15T16:54:27.783Z"
   },
   {
    "duration": 152,
    "start_time": "2023-10-15T16:54:28.087Z"
   },
   {
    "duration": 944,
    "start_time": "2023-10-15T16:54:28.240Z"
   },
   {
    "duration": 157,
    "start_time": "2023-10-15T16:54:29.186Z"
   },
   {
    "duration": 127,
    "start_time": "2023-10-15T16:54:29.345Z"
   },
   {
    "duration": 112,
    "start_time": "2023-10-15T16:54:29.474Z"
   },
   {
    "duration": 122,
    "start_time": "2023-10-15T16:54:29.588Z"
   },
   {
    "duration": 119,
    "start_time": "2023-10-15T16:54:29.712Z"
   },
   {
    "duration": 1313,
    "start_time": "2023-10-15T16:54:29.833Z"
   },
   {
    "duration": 57,
    "start_time": "2023-10-15T16:54:31.147Z"
   },
   {
    "duration": 22,
    "start_time": "2023-10-15T16:54:31.205Z"
   },
   {
    "duration": 36,
    "start_time": "2023-10-15T16:54:31.229Z"
   },
   {
    "duration": 66,
    "start_time": "2023-10-15T16:54:31.267Z"
   },
   {
    "duration": 35,
    "start_time": "2023-10-15T16:54:31.334Z"
   },
   {
    "duration": 67,
    "start_time": "2023-10-15T16:54:31.370Z"
   },
   {
    "duration": 33,
    "start_time": "2023-10-15T16:54:31.438Z"
   },
   {
    "duration": 116,
    "start_time": "2023-10-15T16:54:31.473Z"
   },
   {
    "duration": 390,
    "start_time": "2023-10-15T16:56:02.521Z"
   },
   {
    "duration": 210,
    "start_time": "2023-10-15T16:56:30.988Z"
   },
   {
    "duration": 507,
    "start_time": "2023-10-15T16:59:56.546Z"
   },
   {
    "duration": 483,
    "start_time": "2023-10-15T17:01:08.181Z"
   },
   {
    "duration": 387,
    "start_time": "2023-10-15T17:01:29.665Z"
   },
   {
    "duration": 268,
    "start_time": "2023-10-15T17:02:41.410Z"
   },
   {
    "duration": 133,
    "start_time": "2023-10-15T17:03:11.161Z"
   },
   {
    "duration": 148,
    "start_time": "2023-10-15T17:03:39.668Z"
   },
   {
    "duration": 137,
    "start_time": "2023-10-15T17:04:18.946Z"
   },
   {
    "duration": 494,
    "start_time": "2023-10-15T17:04:47.309Z"
   },
   {
    "duration": 250,
    "start_time": "2023-10-15T17:04:55.986Z"
   },
   {
    "duration": 5900,
    "start_time": "2023-10-15T17:05:13.663Z"
   },
   {
    "duration": 237,
    "start_time": "2023-10-15T17:05:31.322Z"
   },
   {
    "duration": 957,
    "start_time": "2023-10-15T17:05:42.128Z"
   },
   {
    "duration": 114,
    "start_time": "2023-10-15T17:08:01.464Z"
   },
   {
    "duration": 117,
    "start_time": "2023-10-15T17:08:11.726Z"
   },
   {
    "duration": 110,
    "start_time": "2023-10-15T17:08:27.694Z"
   },
   {
    "duration": 124,
    "start_time": "2023-10-15T17:08:55.294Z"
   },
   {
    "duration": 112,
    "start_time": "2023-10-15T17:09:51.190Z"
   },
   {
    "duration": 105,
    "start_time": "2023-10-15T17:10:04.170Z"
   },
   {
    "duration": 93,
    "start_time": "2023-10-15T17:21:44.212Z"
   },
   {
    "duration": 369,
    "start_time": "2023-10-15T17:21:50.861Z"
   },
   {
    "duration": 18,
    "start_time": "2023-10-15T17:25:19.565Z"
   },
   {
    "duration": 18,
    "start_time": "2023-10-15T17:25:49.622Z"
   },
   {
    "duration": 17,
    "start_time": "2023-10-15T17:26:46.620Z"
   },
   {
    "duration": 15,
    "start_time": "2023-10-15T17:26:51.277Z"
   },
   {
    "duration": 22,
    "start_time": "2023-10-15T17:55:48.555Z"
   },
   {
    "duration": 17,
    "start_time": "2023-10-15T17:56:15.665Z"
   },
   {
    "duration": 22,
    "start_time": "2023-10-15T17:58:17.563Z"
   },
   {
    "duration": 288,
    "start_time": "2023-10-15T18:03:50.028Z"
   },
   {
    "duration": 170,
    "start_time": "2023-10-15T18:03:58.426Z"
   },
   {
    "duration": 195,
    "start_time": "2023-10-15T18:04:22.843Z"
   },
   {
    "duration": 142,
    "start_time": "2023-10-15T18:04:58.059Z"
   },
   {
    "duration": 144,
    "start_time": "2023-10-15T18:06:34.226Z"
   },
   {
    "duration": 21,
    "start_time": "2023-10-15T18:07:32.791Z"
   },
   {
    "duration": 141,
    "start_time": "2023-10-15T18:07:35.140Z"
   },
   {
    "duration": 142,
    "start_time": "2023-10-15T18:09:08.941Z"
   },
   {
    "duration": 106,
    "start_time": "2023-10-15T18:14:30.785Z"
   },
   {
    "duration": 5,
    "start_time": "2023-10-15T18:14:57.420Z"
   },
   {
    "duration": 4,
    "start_time": "2023-10-15T18:15:30.941Z"
   },
   {
    "duration": 140,
    "start_time": "2023-10-15T18:16:06.264Z"
   },
   {
    "duration": 158,
    "start_time": "2023-10-15T18:16:30.317Z"
   },
   {
    "duration": 1010,
    "start_time": "2023-10-15T18:17:22.526Z"
   },
   {
    "duration": 988,
    "start_time": "2023-10-15T18:17:35.300Z"
   },
   {
    "duration": 127,
    "start_time": "2023-10-15T18:18:58.917Z"
   },
   {
    "duration": 17,
    "start_time": "2023-10-15T18:19:33.311Z"
   },
   {
    "duration": 136,
    "start_time": "2023-10-15T18:20:01.512Z"
   },
   {
    "duration": 136,
    "start_time": "2023-10-15T18:20:29.837Z"
   },
   {
    "duration": 1241,
    "start_time": "2023-10-15T18:29:28.185Z"
   },
   {
    "duration": 1269,
    "start_time": "2023-10-15T18:31:59.501Z"
   },
   {
    "duration": 28,
    "start_time": "2023-10-15T18:33:38.925Z"
   },
   {
    "duration": 5,
    "start_time": "2023-10-15T18:34:09.045Z"
   },
   {
    "duration": 24,
    "start_time": "2023-10-15T18:35:57.693Z"
   },
   {
    "duration": 313,
    "start_time": "2023-10-15T18:36:15.997Z"
   },
   {
    "duration": 165,
    "start_time": "2023-10-15T18:36:35.299Z"
   },
   {
    "duration": 158,
    "start_time": "2023-10-15T18:37:06.272Z"
   },
   {
    "duration": 316,
    "start_time": "2023-10-15T18:38:42.508Z"
   },
   {
    "duration": 346,
    "start_time": "2023-10-15T18:41:07.783Z"
   },
   {
    "duration": 466,
    "start_time": "2023-10-15T18:41:40.133Z"
   },
   {
    "duration": 306,
    "start_time": "2023-10-15T18:42:05.314Z"
   },
   {
    "duration": 410,
    "start_time": "2023-10-15T18:44:09.446Z"
   },
   {
    "duration": 509,
    "start_time": "2023-10-15T18:45:29.220Z"
   },
   {
    "duration": 293,
    "start_time": "2023-10-15T18:46:14.526Z"
   },
   {
    "duration": 389,
    "start_time": "2023-10-15T18:46:30.451Z"
   },
   {
    "duration": 423,
    "start_time": "2023-10-15T18:47:27.421Z"
   },
   {
    "duration": 424,
    "start_time": "2023-10-15T18:47:34.194Z"
   },
   {
    "duration": 423,
    "start_time": "2023-10-15T18:47:58.838Z"
   },
   {
    "duration": 487,
    "start_time": "2023-10-15T18:48:29.367Z"
   },
   {
    "duration": 409,
    "start_time": "2023-10-15T18:49:06.847Z"
   },
   {
    "duration": 419,
    "start_time": "2023-10-15T18:50:57.198Z"
   },
   {
    "duration": 392,
    "start_time": "2023-10-15T18:51:49.078Z"
   },
   {
    "duration": 1242,
    "start_time": "2023-10-15T18:51:58.490Z"
   },
   {
    "duration": 94,
    "start_time": "2023-10-15T18:51:59.734Z"
   },
   {
    "duration": 24,
    "start_time": "2023-10-15T18:51:59.829Z"
   },
   {
    "duration": 21,
    "start_time": "2023-10-15T18:51:59.855Z"
   },
   {
    "duration": 22,
    "start_time": "2023-10-15T18:51:59.878Z"
   },
   {
    "duration": 18,
    "start_time": "2023-10-15T18:51:59.909Z"
   },
   {
    "duration": 7,
    "start_time": "2023-10-15T18:51:59.928Z"
   },
   {
    "duration": 22,
    "start_time": "2023-10-15T18:51:59.936Z"
   },
   {
    "duration": 5,
    "start_time": "2023-10-15T18:51:59.960Z"
   },
   {
    "duration": 17,
    "start_time": "2023-10-15T18:51:59.968Z"
   },
   {
    "duration": 25,
    "start_time": "2023-10-15T18:51:59.986Z"
   },
   {
    "duration": 95,
    "start_time": "2023-10-15T18:52:00.013Z"
   },
   {
    "duration": 27,
    "start_time": "2023-10-15T18:52:00.111Z"
   },
   {
    "duration": 20,
    "start_time": "2023-10-15T18:52:00.139Z"
   },
   {
    "duration": 47,
    "start_time": "2023-10-15T18:52:00.161Z"
   },
   {
    "duration": 55,
    "start_time": "2023-10-15T18:52:00.210Z"
   },
   {
    "duration": 26,
    "start_time": "2023-10-15T18:52:00.267Z"
   },
   {
    "duration": 29,
    "start_time": "2023-10-15T18:52:00.294Z"
   },
   {
    "duration": 14,
    "start_time": "2023-10-15T18:52:00.325Z"
   },
   {
    "duration": 74,
    "start_time": "2023-10-15T18:52:00.340Z"
   },
   {
    "duration": 421,
    "start_time": "2023-10-15T18:52:00.417Z"
   },
   {
    "duration": 435,
    "start_time": "2023-10-15T18:52:00.839Z"
   },
   {
    "duration": 11,
    "start_time": "2023-10-15T18:52:01.276Z"
   },
   {
    "duration": 78,
    "start_time": "2023-10-15T18:52:01.288Z"
   },
   {
    "duration": 454,
    "start_time": "2023-10-15T18:52:01.368Z"
   },
   {
    "duration": 152,
    "start_time": "2023-10-15T18:52:01.823Z"
   },
   {
    "duration": 628,
    "start_time": "2023-10-15T18:52:01.977Z"
   },
   {
    "duration": 161,
    "start_time": "2023-10-15T18:52:02.609Z"
   },
   {
    "duration": 221,
    "start_time": "2023-10-15T18:52:02.772Z"
   },
   {
    "duration": 144,
    "start_time": "2023-10-15T18:52:02.995Z"
   },
   {
    "duration": 5926,
    "start_time": "2023-10-15T18:52:03.141Z"
   },
   {
    "duration": 168,
    "start_time": "2023-10-15T18:52:09.069Z"
   },
   {
    "duration": 234,
    "start_time": "2023-10-15T18:52:09.239Z"
   },
   {
    "duration": 164,
    "start_time": "2023-10-15T18:52:09.475Z"
   },
   {
    "duration": 1052,
    "start_time": "2023-10-15T18:52:09.641Z"
   },
   {
    "duration": 161,
    "start_time": "2023-10-15T18:52:10.696Z"
   },
   {
    "duration": 137,
    "start_time": "2023-10-15T18:52:10.859Z"
   },
   {
    "duration": 102,
    "start_time": "2023-10-15T18:52:10.997Z"
   },
   {
    "duration": 114,
    "start_time": "2023-10-15T18:52:11.101Z"
   },
   {
    "duration": 116,
    "start_time": "2023-10-15T18:52:11.217Z"
   },
   {
    "duration": 1464,
    "start_time": "2023-10-15T18:52:11.334Z"
   },
   {
    "duration": 469,
    "start_time": "2023-10-15T18:52:12.800Z"
   },
   {
    "duration": 66,
    "start_time": "2023-10-15T18:52:13.272Z"
   },
   {
    "duration": 19,
    "start_time": "2023-10-15T18:52:13.339Z"
   },
   {
    "duration": 32,
    "start_time": "2023-10-15T18:52:13.359Z"
   },
   {
    "duration": 26,
    "start_time": "2023-10-15T18:52:13.393Z"
   },
   {
    "duration": 10,
    "start_time": "2023-10-15T18:52:13.421Z"
   },
   {
    "duration": 11,
    "start_time": "2023-10-15T18:52:13.432Z"
   },
   {
    "duration": 7,
    "start_time": "2023-10-15T18:52:13.444Z"
   },
   {
    "duration": 128,
    "start_time": "2023-10-15T18:52:13.452Z"
   },
   {
    "duration": 376,
    "start_time": "2023-10-15T18:54:13.184Z"
   },
   {
    "duration": 403,
    "start_time": "2023-10-15T18:54:46.063Z"
   },
   {
    "duration": 4,
    "start_time": "2023-10-15T18:55:33.182Z"
   },
   {
    "duration": 7,
    "start_time": "2023-10-15T18:55:57.290Z"
   },
   {
    "duration": 956,
    "start_time": "2023-10-15T18:57:16.674Z"
   },
   {
    "duration": 422,
    "start_time": "2023-10-15T18:57:32.023Z"
   },
   {
    "duration": 284,
    "start_time": "2023-10-15T18:58:24.462Z"
   },
   {
    "duration": 429,
    "start_time": "2023-10-15T18:58:37.418Z"
   },
   {
    "duration": 359,
    "start_time": "2023-10-15T19:00:24.172Z"
   },
   {
    "duration": 24,
    "start_time": "2023-10-15T19:00:49.668Z"
   },
   {
    "duration": 146,
    "start_time": "2023-10-15T19:01:32.504Z"
   },
   {
    "duration": 145,
    "start_time": "2023-10-15T19:02:01.789Z"
   },
   {
    "duration": 153,
    "start_time": "2023-10-15T19:02:07.866Z"
   },
   {
    "duration": 385,
    "start_time": "2023-10-15T19:04:20.053Z"
   },
   {
    "duration": 375,
    "start_time": "2023-10-15T19:04:36.295Z"
   },
   {
    "duration": 7,
    "start_time": "2023-10-15T19:06:40.382Z"
   },
   {
    "duration": 5,
    "start_time": "2023-10-15T19:06:48.523Z"
   },
   {
    "duration": 513,
    "start_time": "2023-10-15T19:07:17.398Z"
   },
   {
    "duration": 6,
    "start_time": "2023-10-15T19:07:21.700Z"
   },
   {
    "duration": 5,
    "start_time": "2023-10-15T19:07:22.767Z"
   },
   {
    "duration": 1211,
    "start_time": "2023-10-15T19:07:38.699Z"
   },
   {
    "duration": 40,
    "start_time": "2023-10-15T19:07:39.912Z"
   },
   {
    "duration": 25,
    "start_time": "2023-10-15T19:07:39.953Z"
   },
   {
    "duration": 20,
    "start_time": "2023-10-15T19:07:39.981Z"
   },
   {
    "duration": 15,
    "start_time": "2023-10-15T19:07:40.003Z"
   },
   {
    "duration": 12,
    "start_time": "2023-10-15T19:07:40.021Z"
   },
   {
    "duration": 36,
    "start_time": "2023-10-15T19:07:40.035Z"
   },
   {
    "duration": 41,
    "start_time": "2023-10-15T19:07:40.073Z"
   },
   {
    "duration": 11,
    "start_time": "2023-10-15T19:07:40.116Z"
   },
   {
    "duration": 47,
    "start_time": "2023-10-15T19:07:40.130Z"
   },
   {
    "duration": 37,
    "start_time": "2023-10-15T19:07:40.179Z"
   },
   {
    "duration": 58,
    "start_time": "2023-10-15T19:07:40.218Z"
   },
   {
    "duration": 11,
    "start_time": "2023-10-15T19:07:40.278Z"
   },
   {
    "duration": 27,
    "start_time": "2023-10-15T19:07:40.290Z"
   },
   {
    "duration": 49,
    "start_time": "2023-10-15T19:07:40.319Z"
   },
   {
    "duration": 41,
    "start_time": "2023-10-15T19:07:40.369Z"
   },
   {
    "duration": 29,
    "start_time": "2023-10-15T19:07:40.412Z"
   },
   {
    "duration": 27,
    "start_time": "2023-10-15T19:07:40.443Z"
   },
   {
    "duration": 27,
    "start_time": "2023-10-15T19:07:40.472Z"
   },
   {
    "duration": 45,
    "start_time": "2023-10-15T19:07:40.501Z"
   },
   {
    "duration": 406,
    "start_time": "2023-10-15T19:07:40.548Z"
   },
   {
    "duration": 5,
    "start_time": "2023-10-15T19:07:40.955Z"
   },
   {
    "duration": 19,
    "start_time": "2023-10-15T19:07:40.961Z"
   },
   {
    "duration": 26,
    "start_time": "2023-10-15T19:07:40.981Z"
   },
   {
    "duration": 18,
    "start_time": "2023-10-15T19:07:41.009Z"
   },
   {
    "duration": 422,
    "start_time": "2023-10-15T19:07:41.028Z"
   },
   {
    "duration": 140,
    "start_time": "2023-10-15T19:07:41.452Z"
   },
   {
    "duration": 531,
    "start_time": "2023-10-15T19:07:41.596Z"
   },
   {
    "duration": 253,
    "start_time": "2023-10-15T19:07:42.129Z"
   },
   {
    "duration": 244,
    "start_time": "2023-10-15T19:07:42.384Z"
   },
   {
    "duration": 151,
    "start_time": "2023-10-15T19:07:42.630Z"
   },
   {
    "duration": 5878,
    "start_time": "2023-10-15T19:07:42.783Z"
   },
   {
    "duration": 158,
    "start_time": "2023-10-15T19:07:48.663Z"
   },
   {
    "duration": 216,
    "start_time": "2023-10-15T19:07:48.823Z"
   },
   {
    "duration": 160,
    "start_time": "2023-10-15T19:07:49.040Z"
   },
   {
    "duration": 1054,
    "start_time": "2023-10-15T19:07:49.206Z"
   },
   {
    "duration": 161,
    "start_time": "2023-10-15T19:07:50.262Z"
   },
   {
    "duration": 133,
    "start_time": "2023-10-15T19:07:50.424Z"
   },
   {
    "duration": 115,
    "start_time": "2023-10-15T19:07:50.558Z"
   },
   {
    "duration": 120,
    "start_time": "2023-10-15T19:07:50.674Z"
   },
   {
    "duration": 116,
    "start_time": "2023-10-15T19:07:50.796Z"
   },
   {
    "duration": 1429,
    "start_time": "2023-10-15T19:07:50.913Z"
   },
   {
    "duration": 344,
    "start_time": "2023-10-15T19:07:52.344Z"
   },
   {
    "duration": 65,
    "start_time": "2023-10-15T19:07:52.690Z"
   },
   {
    "duration": 19,
    "start_time": "2023-10-15T19:07:52.757Z"
   },
   {
    "duration": 37,
    "start_time": "2023-10-15T19:07:52.777Z"
   },
   {
    "duration": 20,
    "start_time": "2023-10-15T19:07:52.816Z"
   },
   {
    "duration": 10,
    "start_time": "2023-10-15T19:07:52.837Z"
   },
   {
    "duration": 12,
    "start_time": "2023-10-15T19:07:52.849Z"
   },
   {
    "duration": 22,
    "start_time": "2023-10-15T19:07:52.862Z"
   },
   {
    "duration": 108,
    "start_time": "2023-10-15T19:07:52.885Z"
   },
   {
    "duration": 4,
    "start_time": "2023-10-15T19:08:57.078Z"
   },
   {
    "duration": 17,
    "start_time": "2023-10-15T19:09:09.804Z"
   },
   {
    "duration": 485,
    "start_time": "2023-10-15T19:11:18.956Z"
   },
   {
    "duration": 376,
    "start_time": "2023-10-15T19:12:51.445Z"
   },
   {
    "duration": 376,
    "start_time": "2023-10-15T19:14:22.359Z"
   },
   {
    "duration": 324,
    "start_time": "2023-10-15T19:15:27.628Z"
   },
   {
    "duration": 414,
    "start_time": "2023-10-15T19:15:42.353Z"
   },
   {
    "duration": 246,
    "start_time": "2023-10-15T19:17:12.050Z"
   },
   {
    "duration": 399,
    "start_time": "2023-10-15T19:17:26.728Z"
   },
   {
    "duration": 383,
    "start_time": "2023-10-15T19:17:59.346Z"
   },
   {
    "duration": 461,
    "start_time": "2023-10-15T19:18:11.086Z"
   },
   {
    "duration": 402,
    "start_time": "2023-10-15T19:18:18.307Z"
   },
   {
    "duration": 428,
    "start_time": "2023-10-15T19:20:23.324Z"
   },
   {
    "duration": 351,
    "start_time": "2023-10-15T19:20:42.763Z"
   },
   {
    "duration": 380,
    "start_time": "2023-10-15T19:21:36.596Z"
   },
   {
    "duration": 403,
    "start_time": "2023-10-15T19:22:39.042Z"
   },
   {
    "duration": 490,
    "start_time": "2023-10-15T19:22:52.554Z"
   },
   {
    "duration": 400,
    "start_time": "2023-10-15T19:23:55.686Z"
   },
   {
    "duration": 211,
    "start_time": "2023-10-15T19:26:32.868Z"
   },
   {
    "duration": 415,
    "start_time": "2023-10-15T19:27:44.538Z"
   },
   {
    "duration": 528,
    "start_time": "2023-10-15T19:28:07.494Z"
   },
   {
    "duration": 434,
    "start_time": "2023-10-15T19:29:03.707Z"
   },
   {
    "duration": 191,
    "start_time": "2023-10-15T19:32:44.935Z"
   },
   {
    "duration": 40,
    "start_time": "2023-10-15T19:32:56.792Z"
   },
   {
    "duration": 331,
    "start_time": "2023-10-15T19:33:24.823Z"
   },
   {
    "duration": 345,
    "start_time": "2023-10-15T19:33:41.894Z"
   },
   {
    "duration": 117,
    "start_time": "2023-10-15T19:34:13.187Z"
   },
   {
    "duration": 317,
    "start_time": "2023-10-15T19:34:41.862Z"
   },
   {
    "duration": 391,
    "start_time": "2023-10-15T19:36:22.972Z"
   },
   {
    "duration": 608,
    "start_time": "2023-10-15T19:37:53.424Z"
   },
   {
    "duration": 683,
    "start_time": "2023-10-15T19:39:13.327Z"
   },
   {
    "duration": 1134,
    "start_time": "2023-10-15T19:39:54.347Z"
   },
   {
    "duration": 42,
    "start_time": "2023-10-15T19:39:55.482Z"
   },
   {
    "duration": 23,
    "start_time": "2023-10-15T19:39:55.526Z"
   },
   {
    "duration": 38,
    "start_time": "2023-10-15T19:39:55.551Z"
   },
   {
    "duration": 52,
    "start_time": "2023-10-15T19:39:55.590Z"
   },
   {
    "duration": 28,
    "start_time": "2023-10-15T19:39:55.643Z"
   },
   {
    "duration": 87,
    "start_time": "2023-10-15T19:39:55.673Z"
   },
   {
    "duration": 36,
    "start_time": "2023-10-15T19:39:55.762Z"
   },
   {
    "duration": 19,
    "start_time": "2023-10-15T19:39:55.800Z"
   },
   {
    "duration": 37,
    "start_time": "2023-10-15T19:39:55.823Z"
   },
   {
    "duration": 9,
    "start_time": "2023-10-15T19:39:55.862Z"
   },
   {
    "duration": 86,
    "start_time": "2023-10-15T19:39:55.872Z"
   },
   {
    "duration": 14,
    "start_time": "2023-10-15T19:39:55.960Z"
   },
   {
    "duration": 30,
    "start_time": "2023-10-15T19:39:55.977Z"
   },
   {
    "duration": 15,
    "start_time": "2023-10-15T19:39:56.009Z"
   },
   {
    "duration": 27,
    "start_time": "2023-10-15T19:39:56.029Z"
   },
   {
    "duration": 14,
    "start_time": "2023-10-15T19:39:56.058Z"
   },
   {
    "duration": 44,
    "start_time": "2023-10-15T19:39:56.074Z"
   },
   {
    "duration": 5,
    "start_time": "2023-10-15T19:39:56.120Z"
   },
   {
    "duration": 26,
    "start_time": "2023-10-15T19:39:56.127Z"
   },
   {
    "duration": 628,
    "start_time": "2023-10-15T19:39:56.155Z"
   },
   {
    "duration": 385,
    "start_time": "2023-10-15T19:39:56.785Z"
   },
   {
    "duration": 451,
    "start_time": "2023-10-15T19:39:57.171Z"
   },
   {
    "duration": 11,
    "start_time": "2023-10-15T19:39:57.624Z"
   },
   {
    "duration": 20,
    "start_time": "2023-10-15T19:39:57.637Z"
   },
   {
    "duration": 418,
    "start_time": "2023-10-15T19:39:57.658Z"
   },
   {
    "duration": 214,
    "start_time": "2023-10-15T19:39:58.077Z"
   },
   {
    "duration": 472,
    "start_time": "2023-10-15T19:39:58.295Z"
   },
   {
    "duration": 171,
    "start_time": "2023-10-15T19:39:58.769Z"
   },
   {
    "duration": 217,
    "start_time": "2023-10-15T19:39:58.942Z"
   },
   {
    "duration": 146,
    "start_time": "2023-10-15T19:39:59.161Z"
   },
   {
    "duration": 5535,
    "start_time": "2023-10-15T19:39:59.308Z"
   },
   {
    "duration": 171,
    "start_time": "2023-10-15T19:40:04.845Z"
   },
   {
    "duration": 215,
    "start_time": "2023-10-15T19:40:05.017Z"
   },
   {
    "duration": 166,
    "start_time": "2023-10-15T19:40:05.233Z"
   },
   {
    "duration": 1041,
    "start_time": "2023-10-15T19:40:05.407Z"
   },
   {
    "duration": 152,
    "start_time": "2023-10-15T19:40:06.450Z"
   },
   {
    "duration": 133,
    "start_time": "2023-10-15T19:40:06.606Z"
   },
   {
    "duration": 114,
    "start_time": "2023-10-15T19:40:06.741Z"
   },
   {
    "duration": 117,
    "start_time": "2023-10-15T19:40:06.857Z"
   },
   {
    "duration": 110,
    "start_time": "2023-10-15T19:40:06.976Z"
   },
   {
    "duration": 1495,
    "start_time": "2023-10-15T19:40:07.087Z"
   },
   {
    "duration": 369,
    "start_time": "2023-10-15T19:40:08.583Z"
   },
   {
    "duration": 60,
    "start_time": "2023-10-15T19:40:08.954Z"
   },
   {
    "duration": 17,
    "start_time": "2023-10-15T19:40:09.015Z"
   },
   {
    "duration": 15,
    "start_time": "2023-10-15T19:40:09.033Z"
   },
   {
    "duration": 16,
    "start_time": "2023-10-15T19:40:09.049Z"
   },
   {
    "duration": 17,
    "start_time": "2023-10-15T19:40:09.066Z"
   },
   {
    "duration": 9,
    "start_time": "2023-10-15T19:40:09.108Z"
   },
   {
    "duration": 17,
    "start_time": "2023-10-15T19:40:09.118Z"
   },
   {
    "duration": 104,
    "start_time": "2023-10-15T19:40:09.137Z"
   },
   {
    "duration": 85,
    "start_time": "2023-10-15T19:41:28.826Z"
   },
   {
    "duration": 446,
    "start_time": "2023-10-15T19:41:36.346Z"
   },
   {
    "duration": 415,
    "start_time": "2023-10-15T19:42:20.111Z"
   },
   {
    "duration": 502,
    "start_time": "2023-10-15T19:42:55.800Z"
   },
   {
    "duration": 45,
    "start_time": "2023-10-15T19:45:08.441Z"
   },
   {
    "duration": 44,
    "start_time": "2023-10-15T19:45:27.923Z"
   },
   {
    "duration": 81,
    "start_time": "2023-10-15T20:07:24.053Z"
   },
   {
    "duration": 149,
    "start_time": "2023-10-15T20:12:54.757Z"
   },
   {
    "duration": 274,
    "start_time": "2023-10-15T20:13:05.385Z"
   },
   {
    "duration": 144,
    "start_time": "2023-10-15T20:13:15.500Z"
   },
   {
    "duration": 141,
    "start_time": "2023-10-15T20:13:43.942Z"
   },
   {
    "duration": 163,
    "start_time": "2023-10-15T20:14:01.482Z"
   },
   {
    "duration": 153,
    "start_time": "2023-10-15T20:14:09.186Z"
   },
   {
    "duration": 159,
    "start_time": "2023-10-15T20:14:17.715Z"
   },
   {
    "duration": 105,
    "start_time": "2023-10-15T20:14:39.654Z"
   },
   {
    "duration": 114,
    "start_time": "2023-10-15T20:14:45.684Z"
   },
   {
    "duration": 109,
    "start_time": "2023-10-15T20:14:50.742Z"
   },
   {
    "duration": 10,
    "start_time": "2023-10-15T20:21:00.947Z"
   },
   {
    "duration": 10,
    "start_time": "2023-10-15T20:21:50.691Z"
   },
   {
    "duration": 8,
    "start_time": "2023-10-15T20:23:26.619Z"
   },
   {
    "duration": 9,
    "start_time": "2023-10-15T20:24:15.480Z"
   },
   {
    "duration": 102,
    "start_time": "2023-10-15T20:24:23.968Z"
   },
   {
    "duration": 9,
    "start_time": "2023-10-15T20:24:29.168Z"
   },
   {
    "duration": 8,
    "start_time": "2023-10-15T20:24:44.138Z"
   },
   {
    "duration": 9,
    "start_time": "2023-10-15T20:25:23.061Z"
   },
   {
    "duration": 12,
    "start_time": "2023-10-15T20:25:32.942Z"
   },
   {
    "duration": 12,
    "start_time": "2023-10-15T20:25:39.396Z"
   },
   {
    "duration": 7,
    "start_time": "2023-10-15T20:26:33.721Z"
   },
   {
    "duration": 109,
    "start_time": "2023-10-15T20:26:40.198Z"
   },
   {
    "duration": 104,
    "start_time": "2023-10-15T20:27:11.532Z"
   },
   {
    "duration": 1156,
    "start_time": "2023-10-15T20:37:02.791Z"
   },
   {
    "duration": 41,
    "start_time": "2023-10-15T20:37:03.948Z"
   },
   {
    "duration": 21,
    "start_time": "2023-10-15T20:37:03.991Z"
   },
   {
    "duration": 25,
    "start_time": "2023-10-15T20:37:04.014Z"
   },
   {
    "duration": 11,
    "start_time": "2023-10-15T20:37:04.042Z"
   },
   {
    "duration": 8,
    "start_time": "2023-10-15T20:37:04.054Z"
   },
   {
    "duration": 6,
    "start_time": "2023-10-15T20:37:04.064Z"
   },
   {
    "duration": 36,
    "start_time": "2023-10-15T20:37:04.071Z"
   },
   {
    "duration": 7,
    "start_time": "2023-10-15T20:37:04.108Z"
   },
   {
    "duration": 20,
    "start_time": "2023-10-15T20:37:04.116Z"
   },
   {
    "duration": 8,
    "start_time": "2023-10-15T20:37:04.137Z"
   },
   {
    "duration": 34,
    "start_time": "2023-10-15T20:37:04.146Z"
   },
   {
    "duration": 10,
    "start_time": "2023-10-15T20:37:04.207Z"
   },
   {
    "duration": 7,
    "start_time": "2023-10-15T20:37:04.220Z"
   },
   {
    "duration": 11,
    "start_time": "2023-10-15T20:37:04.228Z"
   },
   {
    "duration": 21,
    "start_time": "2023-10-15T20:37:04.241Z"
   },
   {
    "duration": 44,
    "start_time": "2023-10-15T20:37:04.263Z"
   },
   {
    "duration": 22,
    "start_time": "2023-10-15T20:37:04.308Z"
   },
   {
    "duration": 8,
    "start_time": "2023-10-15T20:37:04.332Z"
   },
   {
    "duration": 24,
    "start_time": "2023-10-15T20:37:04.341Z"
   },
   {
    "duration": 445,
    "start_time": "2023-10-15T20:37:04.367Z"
   },
   {
    "duration": 37,
    "start_time": "2023-10-15T20:37:04.814Z"
   },
   {
    "duration": 38,
    "start_time": "2023-10-15T20:37:04.852Z"
   },
   {
    "duration": 12,
    "start_time": "2023-10-15T20:37:04.907Z"
   },
   {
    "duration": 20,
    "start_time": "2023-10-15T20:37:04.920Z"
   },
   {
    "duration": 433,
    "start_time": "2023-10-15T20:37:04.942Z"
   },
   {
    "duration": 178,
    "start_time": "2023-10-15T20:37:05.377Z"
   },
   {
    "duration": 564,
    "start_time": "2023-10-15T20:37:05.557Z"
   },
   {
    "duration": 251,
    "start_time": "2023-10-15T20:37:06.123Z"
   },
   {
    "duration": 208,
    "start_time": "2023-10-15T20:37:06.375Z"
   },
   {
    "duration": 156,
    "start_time": "2023-10-15T20:37:06.585Z"
   },
   {
    "duration": 5783,
    "start_time": "2023-10-15T20:37:06.742Z"
   },
   {
    "duration": 171,
    "start_time": "2023-10-15T20:37:12.527Z"
   },
   {
    "duration": 219,
    "start_time": "2023-10-15T20:37:12.699Z"
   },
   {
    "duration": 169,
    "start_time": "2023-10-15T20:37:12.920Z"
   },
   {
    "duration": 1013,
    "start_time": "2023-10-15T20:37:13.090Z"
   },
   {
    "duration": 162,
    "start_time": "2023-10-15T20:37:14.105Z"
   },
   {
    "duration": 123,
    "start_time": "2023-10-15T20:37:14.269Z"
   },
   {
    "duration": 112,
    "start_time": "2023-10-15T20:37:14.394Z"
   },
   {
    "duration": 119,
    "start_time": "2023-10-15T20:37:14.508Z"
   },
   {
    "duration": 116,
    "start_time": "2023-10-15T20:37:14.630Z"
   },
   {
    "duration": 1471,
    "start_time": "2023-10-15T20:37:14.747Z"
   },
   {
    "duration": 344,
    "start_time": "2023-10-15T20:37:16.219Z"
   },
   {
    "duration": 66,
    "start_time": "2023-10-15T20:37:16.565Z"
   },
   {
    "duration": 21,
    "start_time": "2023-10-15T20:37:16.633Z"
   },
   {
    "duration": 22,
    "start_time": "2023-10-15T20:37:16.656Z"
   },
   {
    "duration": 39,
    "start_time": "2023-10-15T20:37:16.680Z"
   },
   {
    "duration": 10,
    "start_time": "2023-10-15T20:37:16.720Z"
   },
   {
    "duration": 9,
    "start_time": "2023-10-15T20:37:16.731Z"
   },
   {
    "duration": 15,
    "start_time": "2023-10-15T20:37:16.741Z"
   },
   {
    "duration": 132,
    "start_time": "2023-10-15T20:37:16.758Z"
   },
   {
    "duration": 1152,
    "start_time": "2023-10-15T20:46:58.079Z"
   },
   {
    "duration": 40,
    "start_time": "2023-10-15T20:46:59.233Z"
   },
   {
    "duration": 22,
    "start_time": "2023-10-15T20:46:59.275Z"
   },
   {
    "duration": 21,
    "start_time": "2023-10-15T20:46:59.299Z"
   },
   {
    "duration": 29,
    "start_time": "2023-10-15T20:46:59.321Z"
   },
   {
    "duration": 10,
    "start_time": "2023-10-15T20:46:59.351Z"
   },
   {
    "duration": 46,
    "start_time": "2023-10-15T20:46:59.362Z"
   },
   {
    "duration": 56,
    "start_time": "2023-10-15T20:46:59.409Z"
   },
   {
    "duration": 13,
    "start_time": "2023-10-15T20:46:59.467Z"
   },
   {
    "duration": 21,
    "start_time": "2023-10-15T20:46:59.483Z"
   },
   {
    "duration": 18,
    "start_time": "2023-10-15T20:46:59.505Z"
   },
   {
    "duration": 43,
    "start_time": "2023-10-15T20:46:59.524Z"
   },
   {
    "duration": 14,
    "start_time": "2023-10-15T20:46:59.569Z"
   },
   {
    "duration": 27,
    "start_time": "2023-10-15T20:46:59.584Z"
   },
   {
    "duration": 10,
    "start_time": "2023-10-15T20:46:59.613Z"
   },
   {
    "duration": 52,
    "start_time": "2023-10-15T20:46:59.624Z"
   },
   {
    "duration": 12,
    "start_time": "2023-10-15T20:46:59.677Z"
   },
   {
    "duration": 12,
    "start_time": "2023-10-15T20:46:59.691Z"
   },
   {
    "duration": 10,
    "start_time": "2023-10-15T20:46:59.705Z"
   },
   {
    "duration": 21,
    "start_time": "2023-10-15T20:46:59.716Z"
   },
   {
    "duration": 418,
    "start_time": "2023-10-15T20:46:59.739Z"
   },
   {
    "duration": 33,
    "start_time": "2023-10-15T20:47:00.159Z"
   },
   {
    "duration": 47,
    "start_time": "2023-10-15T20:47:00.194Z"
   },
   {
    "duration": 11,
    "start_time": "2023-10-15T20:47:00.243Z"
   },
   {
    "duration": 45,
    "start_time": "2023-10-15T20:47:00.255Z"
   },
   {
    "duration": 411,
    "start_time": "2023-10-15T20:47:00.301Z"
   },
   {
    "duration": 156,
    "start_time": "2023-10-15T20:47:00.714Z"
   },
   {
    "duration": 549,
    "start_time": "2023-10-15T20:47:00.873Z"
   },
   {
    "duration": 254,
    "start_time": "2023-10-15T20:47:01.424Z"
   },
   {
    "duration": 217,
    "start_time": "2023-10-15T20:47:01.679Z"
   },
   {
    "duration": 155,
    "start_time": "2023-10-15T20:47:01.898Z"
   },
   {
    "duration": 5582,
    "start_time": "2023-10-15T20:47:02.055Z"
   },
   {
    "duration": 172,
    "start_time": "2023-10-15T20:47:07.639Z"
   },
   {
    "duration": 215,
    "start_time": "2023-10-15T20:47:07.812Z"
   },
   {
    "duration": 163,
    "start_time": "2023-10-15T20:47:08.029Z"
   },
   {
    "duration": 1014,
    "start_time": "2023-10-15T20:47:08.193Z"
   },
   {
    "duration": 155,
    "start_time": "2023-10-15T20:47:09.208Z"
   },
   {
    "duration": 145,
    "start_time": "2023-10-15T20:47:09.364Z"
   },
   {
    "duration": 115,
    "start_time": "2023-10-15T20:47:09.511Z"
   },
   {
    "duration": 118,
    "start_time": "2023-10-15T20:47:09.627Z"
   },
   {
    "duration": 123,
    "start_time": "2023-10-15T20:47:09.746Z"
   },
   {
    "duration": 1423,
    "start_time": "2023-10-15T20:47:09.871Z"
   },
   {
    "duration": 363,
    "start_time": "2023-10-15T20:47:11.295Z"
   },
   {
    "duration": 61,
    "start_time": "2023-10-15T20:47:11.659Z"
   },
   {
    "duration": 17,
    "start_time": "2023-10-15T20:47:11.721Z"
   },
   {
    "duration": 15,
    "start_time": "2023-10-15T20:47:11.739Z"
   },
   {
    "duration": 15,
    "start_time": "2023-10-15T20:47:11.756Z"
   },
   {
    "duration": 39,
    "start_time": "2023-10-15T20:47:11.772Z"
   },
   {
    "duration": 10,
    "start_time": "2023-10-15T20:47:11.813Z"
   },
   {
    "duration": 9,
    "start_time": "2023-10-15T20:47:11.825Z"
   },
   {
    "duration": 137,
    "start_time": "2023-10-15T20:47:11.835Z"
   },
   {
    "duration": 1187,
    "start_time": "2023-10-15T21:44:58.495Z"
   },
   {
    "duration": 40,
    "start_time": "2023-10-15T21:44:59.684Z"
   },
   {
    "duration": 25,
    "start_time": "2023-10-15T21:44:59.725Z"
   },
   {
    "duration": 22,
    "start_time": "2023-10-15T21:44:59.752Z"
   },
   {
    "duration": 18,
    "start_time": "2023-10-15T21:44:59.776Z"
   },
   {
    "duration": 13,
    "start_time": "2023-10-15T21:44:59.797Z"
   },
   {
    "duration": 35,
    "start_time": "2023-10-15T21:44:59.811Z"
   },
   {
    "duration": 19,
    "start_time": "2023-10-15T21:44:59.848Z"
   },
   {
    "duration": 8,
    "start_time": "2023-10-15T21:44:59.869Z"
   },
   {
    "duration": 27,
    "start_time": "2023-10-15T21:44:59.880Z"
   },
   {
    "duration": 11,
    "start_time": "2023-10-15T21:44:59.909Z"
   },
   {
    "duration": 49,
    "start_time": "2023-10-15T21:44:59.946Z"
   },
   {
    "duration": 10,
    "start_time": "2023-10-15T21:44:59.997Z"
   },
   {
    "duration": 47,
    "start_time": "2023-10-15T21:45:00.009Z"
   },
   {
    "duration": 96,
    "start_time": "2023-10-15T21:45:00.058Z"
   },
   {
    "duration": 28,
    "start_time": "2023-10-15T21:45:00.156Z"
   },
   {
    "duration": 44,
    "start_time": "2023-10-15T21:45:00.186Z"
   },
   {
    "duration": 32,
    "start_time": "2023-10-15T21:45:00.232Z"
   },
   {
    "duration": 132,
    "start_time": "2023-10-15T21:45:00.266Z"
   },
   {
    "duration": 92,
    "start_time": "2023-10-15T21:45:00.399Z"
   },
   {
    "duration": 494,
    "start_time": "2023-10-15T21:45:00.493Z"
   },
   {
    "duration": 43,
    "start_time": "2023-10-15T21:45:00.989Z"
   },
   {
    "duration": 53,
    "start_time": "2023-10-15T21:45:01.034Z"
   },
   {
    "duration": 18,
    "start_time": "2023-10-15T21:45:01.089Z"
   },
   {
    "duration": 78,
    "start_time": "2023-10-15T21:45:01.109Z"
   },
   {
    "duration": 457,
    "start_time": "2023-10-15T21:45:01.189Z"
   },
   {
    "duration": 149,
    "start_time": "2023-10-15T21:45:01.648Z"
   },
   {
    "duration": 514,
    "start_time": "2023-10-15T21:45:01.800Z"
   },
   {
    "duration": 266,
    "start_time": "2023-10-15T21:45:02.316Z"
   },
   {
    "duration": 224,
    "start_time": "2023-10-15T21:45:02.584Z"
   },
   {
    "duration": 156,
    "start_time": "2023-10-15T21:45:02.810Z"
   },
   {
    "duration": 5632,
    "start_time": "2023-10-15T21:45:02.968Z"
   },
   {
    "duration": 180,
    "start_time": "2023-10-15T21:45:08.603Z"
   },
   {
    "duration": 214,
    "start_time": "2023-10-15T21:45:08.785Z"
   },
   {
    "duration": 175,
    "start_time": "2023-10-15T21:45:09.000Z"
   },
   {
    "duration": 1118,
    "start_time": "2023-10-15T21:45:09.177Z"
   },
   {
    "duration": 178,
    "start_time": "2023-10-15T21:45:10.297Z"
   },
   {
    "duration": 132,
    "start_time": "2023-10-15T21:45:10.476Z"
   },
   {
    "duration": 108,
    "start_time": "2023-10-15T21:45:10.610Z"
   },
   {
    "duration": 115,
    "start_time": "2023-10-15T21:45:10.720Z"
   },
   {
    "duration": 118,
    "start_time": "2023-10-15T21:45:10.836Z"
   },
   {
    "duration": 1381,
    "start_time": "2023-10-15T21:45:10.956Z"
   },
   {
    "duration": 358,
    "start_time": "2023-10-15T21:45:12.339Z"
   },
   {
    "duration": 68,
    "start_time": "2023-10-15T21:45:12.698Z"
   },
   {
    "duration": 17,
    "start_time": "2023-10-15T21:45:12.768Z"
   },
   {
    "duration": 32,
    "start_time": "2023-10-15T21:45:12.787Z"
   },
   {
    "duration": 30,
    "start_time": "2023-10-15T21:45:12.821Z"
   },
   {
    "duration": 27,
    "start_time": "2023-10-15T21:45:12.853Z"
   },
   {
    "duration": 26,
    "start_time": "2023-10-15T21:45:12.882Z"
   },
   {
    "duration": 32,
    "start_time": "2023-10-15T21:45:12.910Z"
   },
   {
    "duration": 129,
    "start_time": "2023-10-15T21:45:12.944Z"
   },
   {
    "duration": 57,
    "start_time": "2023-10-16T08:17:34.985Z"
   },
   {
    "duration": 1474,
    "start_time": "2023-10-16T08:17:42.313Z"
   },
   {
    "duration": 83,
    "start_time": "2023-10-16T08:17:43.789Z"
   },
   {
    "duration": 23,
    "start_time": "2023-10-16T08:17:43.873Z"
   },
   {
    "duration": 28,
    "start_time": "2023-10-16T08:17:43.898Z"
   },
   {
    "duration": 14,
    "start_time": "2023-10-16T08:17:43.928Z"
   },
   {
    "duration": 8,
    "start_time": "2023-10-16T08:17:43.944Z"
   },
   {
    "duration": 24,
    "start_time": "2023-10-16T08:17:43.954Z"
   },
   {
    "duration": 12,
    "start_time": "2023-10-16T08:17:43.980Z"
   },
   {
    "duration": 6,
    "start_time": "2023-10-16T08:17:43.994Z"
   },
   {
    "duration": 18,
    "start_time": "2023-10-16T08:17:44.002Z"
   },
   {
    "duration": 8,
    "start_time": "2023-10-16T08:17:44.021Z"
   },
   {
    "duration": 60,
    "start_time": "2023-10-16T08:17:44.030Z"
   },
   {
    "duration": 13,
    "start_time": "2023-10-16T08:17:44.093Z"
   },
   {
    "duration": 14,
    "start_time": "2023-10-16T08:17:44.108Z"
   },
   {
    "duration": 23,
    "start_time": "2023-10-16T08:17:44.124Z"
   },
   {
    "duration": 27,
    "start_time": "2023-10-16T08:17:44.149Z"
   },
   {
    "duration": 17,
    "start_time": "2023-10-16T08:17:44.178Z"
   },
   {
    "duration": 18,
    "start_time": "2023-10-16T08:17:44.197Z"
   },
   {
    "duration": 9,
    "start_time": "2023-10-16T08:17:44.246Z"
   },
   {
    "duration": 31,
    "start_time": "2023-10-16T08:17:44.257Z"
   },
   {
    "duration": 140,
    "start_time": "2023-10-16T08:17:44.290Z"
   },
   {
    "duration": 0,
    "start_time": "2023-10-16T08:17:44.432Z"
   },
   {
    "duration": 0,
    "start_time": "2023-10-16T08:17:44.434Z"
   },
   {
    "duration": 0,
    "start_time": "2023-10-16T08:17:44.435Z"
   },
   {
    "duration": 0,
    "start_time": "2023-10-16T08:17:44.444Z"
   },
   {
    "duration": 0,
    "start_time": "2023-10-16T08:17:44.446Z"
   },
   {
    "duration": 0,
    "start_time": "2023-10-16T08:17:44.447Z"
   },
   {
    "duration": 0,
    "start_time": "2023-10-16T08:17:44.448Z"
   },
   {
    "duration": 0,
    "start_time": "2023-10-16T08:17:44.449Z"
   },
   {
    "duration": 0,
    "start_time": "2023-10-16T08:17:44.451Z"
   },
   {
    "duration": 0,
    "start_time": "2023-10-16T08:17:44.452Z"
   },
   {
    "duration": 0,
    "start_time": "2023-10-16T08:17:44.453Z"
   },
   {
    "duration": 0,
    "start_time": "2023-10-16T08:17:44.454Z"
   },
   {
    "duration": 0,
    "start_time": "2023-10-16T08:17:44.455Z"
   },
   {
    "duration": 0,
    "start_time": "2023-10-16T08:17:44.457Z"
   },
   {
    "duration": 0,
    "start_time": "2023-10-16T08:17:44.459Z"
   },
   {
    "duration": 0,
    "start_time": "2023-10-16T08:17:44.460Z"
   },
   {
    "duration": 0,
    "start_time": "2023-10-16T08:17:44.460Z"
   },
   {
    "duration": 0,
    "start_time": "2023-10-16T08:17:44.462Z"
   },
   {
    "duration": 0,
    "start_time": "2023-10-16T08:17:44.463Z"
   },
   {
    "duration": 0,
    "start_time": "2023-10-16T08:17:44.464Z"
   },
   {
    "duration": 0,
    "start_time": "2023-10-16T08:17:44.465Z"
   },
   {
    "duration": 0,
    "start_time": "2023-10-16T08:17:44.466Z"
   },
   {
    "duration": 0,
    "start_time": "2023-10-16T08:17:44.466Z"
   },
   {
    "duration": 0,
    "start_time": "2023-10-16T08:17:44.467Z"
   },
   {
    "duration": 0,
    "start_time": "2023-10-16T08:17:44.468Z"
   },
   {
    "duration": 0,
    "start_time": "2023-10-16T08:17:44.469Z"
   },
   {
    "duration": 0,
    "start_time": "2023-10-16T08:17:44.470Z"
   },
   {
    "duration": 0,
    "start_time": "2023-10-16T08:17:44.471Z"
   },
   {
    "duration": 0,
    "start_time": "2023-10-16T08:17:44.473Z"
   },
   {
    "duration": 0,
    "start_time": "2023-10-16T08:17:44.474Z"
   },
   {
    "duration": 439,
    "start_time": "2023-10-16T08:21:16.461Z"
   },
   {
    "duration": 324,
    "start_time": "2023-10-16T08:21:28.120Z"
   },
   {
    "duration": 37,
    "start_time": "2023-10-16T08:22:12.309Z"
   },
   {
    "duration": 33,
    "start_time": "2023-10-16T08:22:13.315Z"
   },
   {
    "duration": 8,
    "start_time": "2023-10-16T08:23:33.222Z"
   },
   {
    "duration": 36,
    "start_time": "2023-10-16T08:23:35.690Z"
   },
   {
    "duration": 35,
    "start_time": "2023-10-16T08:23:36.455Z"
   },
   {
    "duration": 437,
    "start_time": "2023-10-16T08:32:19.336Z"
   },
   {
    "duration": 415,
    "start_time": "2023-10-16T08:32:39.862Z"
   },
   {
    "duration": 396,
    "start_time": "2023-10-16T08:35:36.376Z"
   },
   {
    "duration": 411,
    "start_time": "2023-10-16T08:37:16.791Z"
   },
   {
    "duration": 484,
    "start_time": "2023-10-16T08:37:44.190Z"
   },
   {
    "duration": 135,
    "start_time": "2023-10-16T08:40:50.078Z"
   },
   {
    "duration": 156,
    "start_time": "2023-10-16T08:40:57.602Z"
   },
   {
    "duration": 173,
    "start_time": "2023-10-16T08:42:26.841Z"
   },
   {
    "duration": 178,
    "start_time": "2023-10-16T08:42:51.210Z"
   },
   {
    "duration": 162,
    "start_time": "2023-10-16T08:43:55.081Z"
   },
   {
    "duration": 171,
    "start_time": "2023-10-16T08:44:38.042Z"
   },
   {
    "duration": 21,
    "start_time": "2023-10-16T08:45:06.031Z"
   },
   {
    "duration": 177,
    "start_time": "2023-10-16T08:45:07.737Z"
   },
   {
    "duration": 164,
    "start_time": "2023-10-16T08:45:15.341Z"
   },
   {
    "duration": 161,
    "start_time": "2023-10-16T08:45:39.054Z"
   },
   {
    "duration": 265,
    "start_time": "2023-10-16T08:45:52.581Z"
   },
   {
    "duration": 1236,
    "start_time": "2023-10-16T08:46:06.331Z"
   },
   {
    "duration": 41,
    "start_time": "2023-10-16T08:46:07.568Z"
   },
   {
    "duration": 22,
    "start_time": "2023-10-16T08:46:07.611Z"
   },
   {
    "duration": 35,
    "start_time": "2023-10-16T08:46:07.635Z"
   },
   {
    "duration": 87,
    "start_time": "2023-10-16T08:46:07.672Z"
   },
   {
    "duration": 19,
    "start_time": "2023-10-16T08:46:07.761Z"
   },
   {
    "duration": 49,
    "start_time": "2023-10-16T08:46:07.781Z"
   },
   {
    "duration": 26,
    "start_time": "2023-10-16T08:46:07.832Z"
   },
   {
    "duration": 36,
    "start_time": "2023-10-16T08:46:07.859Z"
   },
   {
    "duration": 50,
    "start_time": "2023-10-16T08:46:07.898Z"
   },
   {
    "duration": 40,
    "start_time": "2023-10-16T08:46:07.950Z"
   },
   {
    "duration": 62,
    "start_time": "2023-10-16T08:46:07.991Z"
   },
   {
    "duration": 13,
    "start_time": "2023-10-16T08:46:08.055Z"
   },
   {
    "duration": 39,
    "start_time": "2023-10-16T08:46:08.069Z"
   },
   {
    "duration": 54,
    "start_time": "2023-10-16T08:46:08.109Z"
   },
   {
    "duration": 38,
    "start_time": "2023-10-16T08:46:08.165Z"
   },
   {
    "duration": 30,
    "start_time": "2023-10-16T08:46:08.205Z"
   },
   {
    "duration": 44,
    "start_time": "2023-10-16T08:46:08.236Z"
   },
   {
    "duration": 11,
    "start_time": "2023-10-16T08:46:08.282Z"
   },
   {
    "duration": 49,
    "start_time": "2023-10-16T08:46:08.294Z"
   },
   {
    "duration": 209,
    "start_time": "2023-10-16T08:46:08.345Z"
   },
   {
    "duration": 183,
    "start_time": "2023-10-16T08:46:08.555Z"
   },
   {
    "duration": 109,
    "start_time": "2023-10-16T08:46:08.739Z"
   },
   {
    "duration": 0,
    "start_time": "2023-10-16T08:46:08.850Z"
   },
   {
    "duration": 0,
    "start_time": "2023-10-16T08:46:08.852Z"
   },
   {
    "duration": 0,
    "start_time": "2023-10-16T08:46:08.854Z"
   },
   {
    "duration": 0,
    "start_time": "2023-10-16T08:46:08.855Z"
   },
   {
    "duration": 0,
    "start_time": "2023-10-16T08:46:08.856Z"
   },
   {
    "duration": 0,
    "start_time": "2023-10-16T08:46:08.857Z"
   },
   {
    "duration": 1,
    "start_time": "2023-10-16T08:46:08.858Z"
   },
   {
    "duration": 0,
    "start_time": "2023-10-16T08:46:08.859Z"
   },
   {
    "duration": 0,
    "start_time": "2023-10-16T08:46:08.861Z"
   },
   {
    "duration": 0,
    "start_time": "2023-10-16T08:46:08.862Z"
   },
   {
    "duration": 0,
    "start_time": "2023-10-16T08:46:08.863Z"
   },
   {
    "duration": 0,
    "start_time": "2023-10-16T08:46:08.864Z"
   },
   {
    "duration": 0,
    "start_time": "2023-10-16T08:46:08.865Z"
   },
   {
    "duration": 0,
    "start_time": "2023-10-16T08:46:08.866Z"
   },
   {
    "duration": 0,
    "start_time": "2023-10-16T08:46:08.867Z"
   },
   {
    "duration": 0,
    "start_time": "2023-10-16T08:46:08.868Z"
   },
   {
    "duration": 0,
    "start_time": "2023-10-16T08:46:08.869Z"
   },
   {
    "duration": 0,
    "start_time": "2023-10-16T08:46:08.870Z"
   },
   {
    "duration": 0,
    "start_time": "2023-10-16T08:46:08.871Z"
   },
   {
    "duration": 0,
    "start_time": "2023-10-16T08:46:08.873Z"
   },
   {
    "duration": 0,
    "start_time": "2023-10-16T08:46:08.874Z"
   },
   {
    "duration": 0,
    "start_time": "2023-10-16T08:46:08.875Z"
   },
   {
    "duration": 0,
    "start_time": "2023-10-16T08:46:08.876Z"
   },
   {
    "duration": 0,
    "start_time": "2023-10-16T08:46:08.878Z"
   },
   {
    "duration": 0,
    "start_time": "2023-10-16T08:46:08.880Z"
   },
   {
    "duration": 0,
    "start_time": "2023-10-16T08:46:08.882Z"
   },
   {
    "duration": 0,
    "start_time": "2023-10-16T08:46:08.883Z"
   },
   {
    "duration": 0,
    "start_time": "2023-10-16T08:46:08.884Z"
   },
   {
    "duration": 0,
    "start_time": "2023-10-16T08:46:08.884Z"
   },
   {
    "duration": 8,
    "start_time": "2023-10-16T08:48:50.011Z"
   },
   {
    "duration": 197,
    "start_time": "2023-10-16T08:48:55.037Z"
   },
   {
    "duration": 50,
    "start_time": "2023-10-16T08:48:56.416Z"
   },
   {
    "duration": 8,
    "start_time": "2023-10-16T08:48:58.985Z"
   },
   {
    "duration": 183,
    "start_time": "2023-10-16T08:49:10.730Z"
   },
   {
    "duration": 39,
    "start_time": "2023-10-16T08:49:11.713Z"
   },
   {
    "duration": 38,
    "start_time": "2023-10-16T08:49:12.650Z"
   },
   {
    "duration": 1206,
    "start_time": "2023-10-16T08:50:54.101Z"
   },
   {
    "duration": 42,
    "start_time": "2023-10-16T08:50:55.309Z"
   },
   {
    "duration": 22,
    "start_time": "2023-10-16T08:50:55.352Z"
   },
   {
    "duration": 32,
    "start_time": "2023-10-16T08:50:55.376Z"
   },
   {
    "duration": 16,
    "start_time": "2023-10-16T08:50:55.410Z"
   },
   {
    "duration": 8,
    "start_time": "2023-10-16T08:50:55.427Z"
   },
   {
    "duration": 7,
    "start_time": "2023-10-16T08:50:55.444Z"
   },
   {
    "duration": 14,
    "start_time": "2023-10-16T08:50:55.452Z"
   },
   {
    "duration": 16,
    "start_time": "2023-10-16T08:50:55.467Z"
   },
   {
    "duration": 14,
    "start_time": "2023-10-16T08:50:55.485Z"
   },
   {
    "duration": 9,
    "start_time": "2023-10-16T08:50:55.501Z"
   },
   {
    "duration": 49,
    "start_time": "2023-10-16T08:50:55.511Z"
   },
   {
    "duration": 10,
    "start_time": "2023-10-16T08:50:55.561Z"
   },
   {
    "duration": 40,
    "start_time": "2023-10-16T08:50:55.574Z"
   },
   {
    "duration": 21,
    "start_time": "2023-10-16T08:50:55.616Z"
   },
   {
    "duration": 21,
    "start_time": "2023-10-16T08:50:55.638Z"
   },
   {
    "duration": 28,
    "start_time": "2023-10-16T08:50:55.661Z"
   },
   {
    "duration": 45,
    "start_time": "2023-10-16T08:50:55.691Z"
   },
   {
    "duration": 7,
    "start_time": "2023-10-16T08:50:55.738Z"
   },
   {
    "duration": 19,
    "start_time": "2023-10-16T08:50:55.746Z"
   },
   {
    "duration": 198,
    "start_time": "2023-10-16T08:50:55.767Z"
   },
   {
    "duration": 33,
    "start_time": "2023-10-16T08:50:55.967Z"
   },
   {
    "duration": 50,
    "start_time": "2023-10-16T08:50:56.002Z"
   },
   {
    "duration": 11,
    "start_time": "2023-10-16T08:50:56.054Z"
   },
   {
    "duration": 21,
    "start_time": "2023-10-16T08:50:56.067Z"
   },
   {
    "duration": 412,
    "start_time": "2023-10-16T08:50:56.090Z"
   },
   {
    "duration": 146,
    "start_time": "2023-10-16T08:50:56.504Z"
   },
   {
    "duration": 494,
    "start_time": "2023-10-16T08:50:56.652Z"
   },
   {
    "duration": 167,
    "start_time": "2023-10-16T08:50:57.147Z"
   },
   {
    "duration": 287,
    "start_time": "2023-10-16T08:50:57.316Z"
   },
   {
    "duration": 154,
    "start_time": "2023-10-16T08:50:57.605Z"
   },
   {
    "duration": 5558,
    "start_time": "2023-10-16T08:50:57.761Z"
   },
   {
    "duration": 170,
    "start_time": "2023-10-16T08:51:03.321Z"
   },
   {
    "duration": 215,
    "start_time": "2023-10-16T08:51:03.493Z"
   },
   {
    "duration": 164,
    "start_time": "2023-10-16T08:51:03.709Z"
   },
   {
    "duration": 732,
    "start_time": "2023-10-16T08:51:03.875Z"
   },
   {
    "duration": 163,
    "start_time": "2023-10-16T08:51:04.609Z"
   },
   {
    "duration": 125,
    "start_time": "2023-10-16T08:51:04.774Z"
   },
   {
    "duration": 110,
    "start_time": "2023-10-16T08:51:04.901Z"
   },
   {
    "duration": 127,
    "start_time": "2023-10-16T08:51:05.013Z"
   },
   {
    "duration": 118,
    "start_time": "2023-10-16T08:51:05.143Z"
   },
   {
    "duration": 1367,
    "start_time": "2023-10-16T08:51:05.263Z"
   },
   {
    "duration": 356,
    "start_time": "2023-10-16T08:51:06.632Z"
   },
   {
    "duration": 71,
    "start_time": "2023-10-16T08:51:06.989Z"
   },
   {
    "duration": 17,
    "start_time": "2023-10-16T08:51:07.062Z"
   },
   {
    "duration": 29,
    "start_time": "2023-10-16T08:51:07.080Z"
   },
   {
    "duration": 17,
    "start_time": "2023-10-16T08:51:07.111Z"
   },
   {
    "duration": 23,
    "start_time": "2023-10-16T08:51:07.130Z"
   },
   {
    "duration": 10,
    "start_time": "2023-10-16T08:51:07.155Z"
   },
   {
    "duration": 14,
    "start_time": "2023-10-16T08:51:07.167Z"
   },
   {
    "duration": 136,
    "start_time": "2023-10-16T08:51:07.182Z"
   },
   {
    "duration": 712,
    "start_time": "2023-10-16T08:52:29.047Z"
   },
   {
    "duration": 108,
    "start_time": "2023-10-16T08:52:51.867Z"
   },
   {
    "duration": 723,
    "start_time": "2023-10-16T08:54:49.651Z"
   },
   {
    "duration": 763,
    "start_time": "2023-10-16T08:55:38.898Z"
   },
   {
    "duration": 118,
    "start_time": "2023-10-16T09:18:10.654Z"
   },
   {
    "duration": 1505,
    "start_time": "2023-10-16T09:19:53.360Z"
   },
   {
    "duration": 1466,
    "start_time": "2023-10-17T08:49:04.764Z"
   },
   {
    "duration": 147,
    "start_time": "2023-10-17T08:49:06.232Z"
   },
   {
    "duration": 24,
    "start_time": "2023-10-17T08:49:06.381Z"
   },
   {
    "duration": 33,
    "start_time": "2023-10-17T08:49:06.407Z"
   },
   {
    "duration": 28,
    "start_time": "2023-10-17T08:49:06.442Z"
   },
   {
    "duration": 11,
    "start_time": "2023-10-17T08:49:06.473Z"
   },
   {
    "duration": 8,
    "start_time": "2023-10-17T08:49:06.486Z"
   },
   {
    "duration": 34,
    "start_time": "2023-10-17T08:49:06.496Z"
   },
   {
    "duration": 8,
    "start_time": "2023-10-17T08:49:06.532Z"
   },
   {
    "duration": 21,
    "start_time": "2023-10-17T08:49:06.544Z"
   },
   {
    "duration": 19,
    "start_time": "2023-10-17T08:49:06.567Z"
   },
   {
    "duration": 58,
    "start_time": "2023-10-17T08:49:06.588Z"
   },
   {
    "duration": 12,
    "start_time": "2023-10-17T08:49:06.649Z"
   },
   {
    "duration": 24,
    "start_time": "2023-10-17T08:49:06.663Z"
   },
   {
    "duration": 15,
    "start_time": "2023-10-17T08:49:06.689Z"
   },
   {
    "duration": 22,
    "start_time": "2023-10-17T08:49:06.706Z"
   },
   {
    "duration": 21,
    "start_time": "2023-10-17T08:49:06.730Z"
   },
   {
    "duration": 27,
    "start_time": "2023-10-17T08:49:06.752Z"
   },
   {
    "duration": 17,
    "start_time": "2023-10-17T08:49:06.780Z"
   },
   {
    "duration": 22,
    "start_time": "2023-10-17T08:49:06.799Z"
   },
   {
    "duration": 195,
    "start_time": "2023-10-17T08:49:06.823Z"
   },
   {
    "duration": 39,
    "start_time": "2023-10-17T08:49:07.020Z"
   },
   {
    "duration": 34,
    "start_time": "2023-10-17T08:49:07.061Z"
   },
   {
    "duration": 11,
    "start_time": "2023-10-17T08:49:07.097Z"
   },
   {
    "duration": 41,
    "start_time": "2023-10-17T08:49:07.109Z"
   },
   {
    "duration": 402,
    "start_time": "2023-10-17T08:49:07.151Z"
   },
   {
    "duration": 154,
    "start_time": "2023-10-17T08:49:07.555Z"
   },
   {
    "duration": 565,
    "start_time": "2023-10-17T08:49:07.713Z"
   },
   {
    "duration": 182,
    "start_time": "2023-10-17T08:49:08.280Z"
   },
   {
    "duration": 307,
    "start_time": "2023-10-17T08:49:08.465Z"
   },
   {
    "duration": 180,
    "start_time": "2023-10-17T08:49:08.773Z"
   },
   {
    "duration": 5692,
    "start_time": "2023-10-17T08:49:08.956Z"
   },
   {
    "duration": 180,
    "start_time": "2023-10-17T08:49:14.650Z"
   },
   {
    "duration": 229,
    "start_time": "2023-10-17T08:49:14.832Z"
   },
   {
    "duration": 169,
    "start_time": "2023-10-17T08:49:15.063Z"
   },
   {
    "duration": 628,
    "start_time": "2023-10-17T08:49:15.234Z"
   },
   {
    "duration": 167,
    "start_time": "2023-10-17T08:49:15.864Z"
   },
   {
    "duration": 132,
    "start_time": "2023-10-17T08:49:16.033Z"
   },
   {
    "duration": 111,
    "start_time": "2023-10-17T08:49:16.167Z"
   },
   {
    "duration": 125,
    "start_time": "2023-10-17T08:49:16.280Z"
   },
   {
    "duration": 124,
    "start_time": "2023-10-17T08:49:16.407Z"
   },
   {
    "duration": 1438,
    "start_time": "2023-10-17T08:49:16.533Z"
   },
   {
    "duration": 320,
    "start_time": "2023-10-17T08:49:17.973Z"
   },
   {
    "duration": 70,
    "start_time": "2023-10-17T08:49:18.295Z"
   },
   {
    "duration": 18,
    "start_time": "2023-10-17T08:49:18.367Z"
   },
   {
    "duration": 16,
    "start_time": "2023-10-17T08:49:18.386Z"
   },
   {
    "duration": 40,
    "start_time": "2023-10-17T08:49:18.404Z"
   },
   {
    "duration": 24,
    "start_time": "2023-10-17T08:49:18.446Z"
   },
   {
    "duration": 34,
    "start_time": "2023-10-17T08:49:18.472Z"
   },
   {
    "duration": 34,
    "start_time": "2023-10-17T08:49:18.508Z"
   },
   {
    "duration": 129,
    "start_time": "2023-10-17T08:49:18.544Z"
   },
   {
    "duration": 531,
    "start_time": "2023-10-17T08:50:26.744Z"
   },
   {
    "duration": 1225,
    "start_time": "2023-10-17T10:34:59.228Z"
   },
   {
    "duration": 41,
    "start_time": "2023-10-17T10:35:00.455Z"
   },
   {
    "duration": 101,
    "start_time": "2023-10-17T10:35:00.497Z"
   },
   {
    "duration": 60,
    "start_time": "2023-10-17T10:35:00.600Z"
   },
   {
    "duration": 50,
    "start_time": "2023-10-17T10:35:00.661Z"
   },
   {
    "duration": 49,
    "start_time": "2023-10-17T10:35:00.713Z"
   },
   {
    "duration": 77,
    "start_time": "2023-10-17T10:35:00.764Z"
   },
   {
    "duration": 104,
    "start_time": "2023-10-17T10:35:00.843Z"
   },
   {
    "duration": 296,
    "start_time": "2023-10-17T10:35:00.948Z"
   },
   {
    "duration": 93,
    "start_time": "2023-10-17T10:35:01.247Z"
   },
   {
    "duration": 101,
    "start_time": "2023-10-17T10:35:01.343Z"
   },
   {
    "duration": 417,
    "start_time": "2023-10-17T10:35:01.446Z"
   },
   {
    "duration": 376,
    "start_time": "2023-10-17T10:35:01.865Z"
   },
   {
    "duration": 175,
    "start_time": "2023-10-17T10:35:02.243Z"
   },
   {
    "duration": 62,
    "start_time": "2023-10-17T10:35:02.419Z"
   },
   {
    "duration": 63,
    "start_time": "2023-10-17T10:35:02.482Z"
   },
   {
    "duration": 37,
    "start_time": "2023-10-17T10:35:02.547Z"
   },
   {
    "duration": 122,
    "start_time": "2023-10-17T10:35:02.585Z"
   },
   {
    "duration": 72,
    "start_time": "2023-10-17T10:35:02.709Z"
   },
   {
    "duration": 88,
    "start_time": "2023-10-17T10:35:02.783Z"
   },
   {
    "duration": 199,
    "start_time": "2023-10-17T10:35:02.873Z"
   },
   {
    "duration": 33,
    "start_time": "2023-10-17T10:35:03.073Z"
   },
   {
    "duration": 54,
    "start_time": "2023-10-17T10:35:03.108Z"
   },
   {
    "duration": 12,
    "start_time": "2023-10-17T10:35:03.164Z"
   },
   {
    "duration": 22,
    "start_time": "2023-10-17T10:35:03.178Z"
   },
   {
    "duration": 443,
    "start_time": "2023-10-17T10:35:03.202Z"
   },
   {
    "duration": 179,
    "start_time": "2023-10-17T10:35:03.646Z"
   },
   {
    "duration": 527,
    "start_time": "2023-10-17T10:35:03.828Z"
   },
   {
    "duration": 180,
    "start_time": "2023-10-17T10:35:04.357Z"
   },
   {
    "duration": 334,
    "start_time": "2023-10-17T10:35:04.539Z"
   },
   {
    "duration": 151,
    "start_time": "2023-10-17T10:35:04.874Z"
   },
   {
    "duration": 5627,
    "start_time": "2023-10-17T10:35:05.027Z"
   },
   {
    "duration": 169,
    "start_time": "2023-10-17T10:35:10.656Z"
   },
   {
    "duration": 225,
    "start_time": "2023-10-17T10:35:10.827Z"
   },
   {
    "duration": 174,
    "start_time": "2023-10-17T10:35:11.054Z"
   },
   {
    "duration": 648,
    "start_time": "2023-10-17T10:35:11.230Z"
   },
   {
    "duration": 168,
    "start_time": "2023-10-17T10:35:11.880Z"
   },
   {
    "duration": 141,
    "start_time": "2023-10-17T10:35:12.050Z"
   },
   {
    "duration": 122,
    "start_time": "2023-10-17T10:35:12.193Z"
   },
   {
    "duration": 134,
    "start_time": "2023-10-17T10:35:12.317Z"
   },
   {
    "duration": 123,
    "start_time": "2023-10-17T10:35:12.452Z"
   },
   {
    "duration": 1414,
    "start_time": "2023-10-17T10:35:12.577Z"
   },
   {
    "duration": 371,
    "start_time": "2023-10-17T10:35:13.993Z"
   },
   {
    "duration": 60,
    "start_time": "2023-10-17T10:35:14.365Z"
   },
   {
    "duration": 34,
    "start_time": "2023-10-17T10:35:14.427Z"
   },
   {
    "duration": 24,
    "start_time": "2023-10-17T10:35:14.463Z"
   },
   {
    "duration": 19,
    "start_time": "2023-10-17T10:35:14.489Z"
   },
   {
    "duration": 42,
    "start_time": "2023-10-17T10:35:14.511Z"
   },
   {
    "duration": 51,
    "start_time": "2023-10-17T10:35:14.555Z"
   },
   {
    "duration": 28,
    "start_time": "2023-10-17T10:35:14.608Z"
   },
   {
    "duration": 138,
    "start_time": "2023-10-17T10:35:14.638Z"
   },
   {
    "duration": 1118,
    "start_time": "2023-10-17T18:32:35.264Z"
   },
   {
    "duration": 160,
    "start_time": "2023-10-17T18:32:36.384Z"
   },
   {
    "duration": 23,
    "start_time": "2023-10-17T18:32:36.549Z"
   },
   {
    "duration": 19,
    "start_time": "2023-10-17T18:32:36.575Z"
   },
   {
    "duration": 10,
    "start_time": "2023-10-17T18:32:36.595Z"
   },
   {
    "duration": 7,
    "start_time": "2023-10-17T18:32:36.607Z"
   },
   {
    "duration": 6,
    "start_time": "2023-10-17T18:32:36.615Z"
   },
   {
    "duration": 36,
    "start_time": "2023-10-17T18:32:36.622Z"
   },
   {
    "duration": 7,
    "start_time": "2023-10-17T18:32:36.660Z"
   },
   {
    "duration": 11,
    "start_time": "2023-10-17T18:32:36.670Z"
   },
   {
    "duration": 6,
    "start_time": "2023-10-17T18:32:36.682Z"
   },
   {
    "duration": 66,
    "start_time": "2023-10-17T18:32:36.689Z"
   },
   {
    "duration": 9,
    "start_time": "2023-10-17T18:32:36.757Z"
   },
   {
    "duration": 4,
    "start_time": "2023-10-17T18:32:36.767Z"
   },
   {
    "duration": 11,
    "start_time": "2023-10-17T18:32:36.773Z"
   },
   {
    "duration": 19,
    "start_time": "2023-10-17T18:32:36.785Z"
   },
   {
    "duration": 10,
    "start_time": "2023-10-17T18:32:36.806Z"
   },
   {
    "duration": 39,
    "start_time": "2023-10-17T18:32:36.817Z"
   },
   {
    "duration": 5,
    "start_time": "2023-10-17T18:32:36.857Z"
   },
   {
    "duration": 18,
    "start_time": "2023-10-17T18:32:36.863Z"
   },
   {
    "duration": 204,
    "start_time": "2023-10-17T18:32:36.883Z"
   },
   {
    "duration": 29,
    "start_time": "2023-10-17T18:32:37.088Z"
   },
   {
    "duration": 49,
    "start_time": "2023-10-17T18:32:37.119Z"
   },
   {
    "duration": 11,
    "start_time": "2023-10-17T18:32:37.169Z"
   },
   {
    "duration": 17,
    "start_time": "2023-10-17T18:32:37.181Z"
   },
   {
    "duration": 392,
    "start_time": "2023-10-17T18:32:37.199Z"
   },
   {
    "duration": 165,
    "start_time": "2023-10-17T18:32:37.592Z"
   },
   {
    "duration": 467,
    "start_time": "2023-10-17T18:32:37.760Z"
   },
   {
    "duration": 178,
    "start_time": "2023-10-17T18:32:38.229Z"
   },
   {
    "duration": 273,
    "start_time": "2023-10-17T18:32:38.409Z"
   },
   {
    "duration": 157,
    "start_time": "2023-10-17T18:32:38.684Z"
   },
   {
    "duration": 5002,
    "start_time": "2023-10-17T18:32:38.854Z"
   },
   {
    "duration": 166,
    "start_time": "2023-10-17T18:32:43.857Z"
   },
   {
    "duration": 242,
    "start_time": "2023-10-17T18:32:44.025Z"
   },
   {
    "duration": 189,
    "start_time": "2023-10-17T18:32:44.269Z"
   },
   {
    "duration": 566,
    "start_time": "2023-10-17T18:32:44.460Z"
   },
   {
    "duration": 168,
    "start_time": "2023-10-17T18:32:45.027Z"
   },
   {
    "duration": 133,
    "start_time": "2023-10-17T18:32:45.197Z"
   },
   {
    "duration": 113,
    "start_time": "2023-10-17T18:32:45.331Z"
   },
   {
    "duration": 112,
    "start_time": "2023-10-17T18:32:45.445Z"
   },
   {
    "duration": 132,
    "start_time": "2023-10-17T18:32:45.559Z"
   },
   {
    "duration": 1233,
    "start_time": "2023-10-17T18:32:45.693Z"
   },
   {
    "duration": 333,
    "start_time": "2023-10-17T18:32:46.927Z"
   },
   {
    "duration": 53,
    "start_time": "2023-10-17T18:32:47.261Z"
   },
   {
    "duration": 39,
    "start_time": "2023-10-17T18:32:47.315Z"
   },
   {
    "duration": 15,
    "start_time": "2023-10-17T18:32:47.356Z"
   },
   {
    "duration": 14,
    "start_time": "2023-10-17T18:32:47.372Z"
   },
   {
    "duration": 14,
    "start_time": "2023-10-17T18:32:47.388Z"
   },
   {
    "duration": 13,
    "start_time": "2023-10-17T18:32:47.404Z"
   },
   {
    "duration": 37,
    "start_time": "2023-10-17T18:32:47.419Z"
   },
   {
    "duration": 105,
    "start_time": "2023-10-17T18:32:47.458Z"
   },
   {
    "duration": 57,
    "start_time": "2023-10-17T19:55:35.982Z"
   },
   {
    "duration": 1554,
    "start_time": "2023-10-17T19:55:44.412Z"
   },
   {
    "duration": 336,
    "start_time": "2023-10-17T19:55:45.968Z"
   },
   {
    "duration": 27,
    "start_time": "2023-10-17T19:55:46.306Z"
   },
   {
    "duration": 24,
    "start_time": "2023-10-17T19:55:46.335Z"
   },
   {
    "duration": 12,
    "start_time": "2023-10-17T19:55:46.361Z"
   },
   {
    "duration": 10,
    "start_time": "2023-10-17T19:55:46.375Z"
   },
   {
    "duration": 7,
    "start_time": "2023-10-17T19:55:46.386Z"
   },
   {
    "duration": 11,
    "start_time": "2023-10-17T19:55:46.395Z"
   },
   {
    "duration": 41,
    "start_time": "2023-10-17T19:55:46.408Z"
   },
   {
    "duration": 14,
    "start_time": "2023-10-17T19:55:46.452Z"
   },
   {
    "duration": 33,
    "start_time": "2023-10-17T19:55:46.467Z"
   },
   {
    "duration": 39,
    "start_time": "2023-10-17T19:55:46.502Z"
   },
   {
    "duration": 12,
    "start_time": "2023-10-17T19:55:46.546Z"
   },
   {
    "duration": 11,
    "start_time": "2023-10-17T19:55:46.560Z"
   },
   {
    "duration": 14,
    "start_time": "2023-10-17T19:55:46.572Z"
   },
   {
    "duration": 23,
    "start_time": "2023-10-17T19:55:46.588Z"
   },
   {
    "duration": 36,
    "start_time": "2023-10-17T19:55:46.612Z"
   },
   {
    "duration": 16,
    "start_time": "2023-10-17T19:55:46.650Z"
   },
   {
    "duration": 12,
    "start_time": "2023-10-17T19:55:46.667Z"
   },
   {
    "duration": 30,
    "start_time": "2023-10-17T19:55:46.681Z"
   },
   {
    "duration": 227,
    "start_time": "2023-10-17T19:55:46.713Z"
   },
   {
    "duration": 39,
    "start_time": "2023-10-17T19:55:46.942Z"
   },
   {
    "duration": 39,
    "start_time": "2023-10-17T19:55:46.983Z"
   },
   {
    "duration": 33,
    "start_time": "2023-10-17T19:55:47.024Z"
   },
   {
    "duration": 21,
    "start_time": "2023-10-17T19:55:47.059Z"
   },
   {
    "duration": 475,
    "start_time": "2023-10-17T19:55:47.081Z"
   },
   {
    "duration": 167,
    "start_time": "2023-10-17T19:55:47.558Z"
   },
   {
    "duration": 614,
    "start_time": "2023-10-17T19:55:47.730Z"
   },
   {
    "duration": 194,
    "start_time": "2023-10-17T19:55:48.347Z"
   },
   {
    "duration": 335,
    "start_time": "2023-10-17T19:55:48.542Z"
   },
   {
    "duration": 181,
    "start_time": "2023-10-17T19:55:48.879Z"
   },
   {
    "duration": 6635,
    "start_time": "2023-10-17T19:55:49.062Z"
   },
   {
    "duration": 195,
    "start_time": "2023-10-17T19:55:55.699Z"
   },
   {
    "duration": 115,
    "start_time": "2023-10-17T19:55:55.896Z"
   },
   {
    "duration": 0,
    "start_time": "2023-10-17T19:55:56.012Z"
   },
   {
    "duration": 0,
    "start_time": "2023-10-17T19:55:56.013Z"
   },
   {
    "duration": 0,
    "start_time": "2023-10-17T19:55:56.015Z"
   },
   {
    "duration": 0,
    "start_time": "2023-10-17T19:55:56.016Z"
   },
   {
    "duration": 0,
    "start_time": "2023-10-17T19:55:56.017Z"
   },
   {
    "duration": 0,
    "start_time": "2023-10-17T19:55:56.019Z"
   },
   {
    "duration": 0,
    "start_time": "2023-10-17T19:55:56.020Z"
   },
   {
    "duration": 0,
    "start_time": "2023-10-17T19:55:56.022Z"
   },
   {
    "duration": 0,
    "start_time": "2023-10-17T19:55:56.024Z"
   },
   {
    "duration": 0,
    "start_time": "2023-10-17T19:55:56.047Z"
   },
   {
    "duration": 0,
    "start_time": "2023-10-17T19:55:56.049Z"
   },
   {
    "duration": 0,
    "start_time": "2023-10-17T19:55:56.051Z"
   },
   {
    "duration": 0,
    "start_time": "2023-10-17T19:55:56.052Z"
   },
   {
    "duration": 0,
    "start_time": "2023-10-17T19:55:56.054Z"
   },
   {
    "duration": 0,
    "start_time": "2023-10-17T19:55:56.055Z"
   },
   {
    "duration": 0,
    "start_time": "2023-10-17T19:55:56.057Z"
   },
   {
    "duration": 0,
    "start_time": "2023-10-17T19:55:56.059Z"
   },
   {
    "duration": 248,
    "start_time": "2023-10-17T19:56:20.977Z"
   },
   {
    "duration": 1259,
    "start_time": "2023-10-17T19:57:31.308Z"
   },
   {
    "duration": 43,
    "start_time": "2023-10-17T19:57:32.569Z"
   },
   {
    "duration": 28,
    "start_time": "2023-10-17T19:57:32.614Z"
   },
   {
    "duration": 23,
    "start_time": "2023-10-17T19:57:32.644Z"
   },
   {
    "duration": 26,
    "start_time": "2023-10-17T19:57:32.669Z"
   },
   {
    "duration": 77,
    "start_time": "2023-10-17T19:57:32.697Z"
   },
   {
    "duration": 37,
    "start_time": "2023-10-17T19:57:32.776Z"
   },
   {
    "duration": 50,
    "start_time": "2023-10-17T19:57:32.815Z"
   },
   {
    "duration": 7,
    "start_time": "2023-10-17T19:57:32.867Z"
   },
   {
    "duration": 12,
    "start_time": "2023-10-17T19:57:32.876Z"
   },
   {
    "duration": 9,
    "start_time": "2023-10-17T19:57:32.890Z"
   },
   {
    "duration": 58,
    "start_time": "2023-10-17T19:57:32.901Z"
   },
   {
    "duration": 11,
    "start_time": "2023-10-17T19:57:32.961Z"
   },
   {
    "duration": 14,
    "start_time": "2023-10-17T19:57:32.974Z"
   },
   {
    "duration": 13,
    "start_time": "2023-10-17T19:57:32.989Z"
   },
   {
    "duration": 22,
    "start_time": "2023-10-17T19:57:33.003Z"
   },
   {
    "duration": 13,
    "start_time": "2023-10-17T19:57:33.046Z"
   },
   {
    "duration": 19,
    "start_time": "2023-10-17T19:57:33.061Z"
   },
   {
    "duration": 24,
    "start_time": "2023-10-17T19:57:33.082Z"
   },
   {
    "duration": 25,
    "start_time": "2023-10-17T19:57:33.108Z"
   },
   {
    "duration": 247,
    "start_time": "2023-10-17T19:57:33.136Z"
   },
   {
    "duration": 39,
    "start_time": "2023-10-17T19:57:33.385Z"
   },
   {
    "duration": 57,
    "start_time": "2023-10-17T19:57:33.426Z"
   },
   {
    "duration": 14,
    "start_time": "2023-10-17T19:57:33.485Z"
   },
   {
    "duration": 33,
    "start_time": "2023-10-17T19:57:33.501Z"
   },
   {
    "duration": 502,
    "start_time": "2023-10-17T19:57:33.535Z"
   },
   {
    "duration": 169,
    "start_time": "2023-10-17T19:57:34.039Z"
   },
   {
    "duration": 560,
    "start_time": "2023-10-17T19:57:34.211Z"
   },
   {
    "duration": 189,
    "start_time": "2023-10-17T19:57:34.773Z"
   },
   {
    "duration": 360,
    "start_time": "2023-10-17T19:57:34.964Z"
   },
   {
    "duration": 188,
    "start_time": "2023-10-17T19:57:35.327Z"
   },
   {
    "duration": 6298,
    "start_time": "2023-10-17T19:57:35.517Z"
   },
   {
    "duration": 197,
    "start_time": "2023-10-17T19:57:41.818Z"
   },
   {
    "duration": 249,
    "start_time": "2023-10-17T19:57:42.017Z"
   },
   {
    "duration": 181,
    "start_time": "2023-10-17T19:57:42.268Z"
   },
   {
    "duration": 715,
    "start_time": "2023-10-17T19:57:42.452Z"
   },
   {
    "duration": 193,
    "start_time": "2023-10-17T19:57:43.169Z"
   },
   {
    "duration": 150,
    "start_time": "2023-10-17T19:57:43.364Z"
   },
   {
    "duration": 125,
    "start_time": "2023-10-17T19:57:43.516Z"
   },
   {
    "duration": 129,
    "start_time": "2023-10-17T19:57:43.646Z"
   },
   {
    "duration": 137,
    "start_time": "2023-10-17T19:57:43.776Z"
   },
   {
    "duration": 1619,
    "start_time": "2023-10-17T19:57:43.915Z"
   },
   {
    "duration": 375,
    "start_time": "2023-10-17T19:57:45.536Z"
   },
   {
    "duration": 77,
    "start_time": "2023-10-17T19:57:45.912Z"
   },
   {
    "duration": 20,
    "start_time": "2023-10-17T19:57:45.991Z"
   },
   {
    "duration": 36,
    "start_time": "2023-10-17T19:57:46.013Z"
   },
   {
    "duration": 19,
    "start_time": "2023-10-17T19:57:46.051Z"
   },
   {
    "duration": 12,
    "start_time": "2023-10-17T19:57:46.071Z"
   },
   {
    "duration": 10,
    "start_time": "2023-10-17T19:57:46.086Z"
   },
   {
    "duration": 9,
    "start_time": "2023-10-17T19:57:46.097Z"
   },
   {
    "duration": 132,
    "start_time": "2023-10-17T19:57:46.147Z"
   },
   {
    "duration": 624,
    "start_time": "2023-10-17T20:35:03.616Z"
   },
   {
    "duration": 268,
    "start_time": "2023-10-17T20:35:35.038Z"
   },
   {
    "duration": 158,
    "start_time": "2023-10-17T20:36:06.593Z"
   },
   {
    "duration": 281,
    "start_time": "2023-10-17T20:40:17.626Z"
   },
   {
    "duration": 163,
    "start_time": "2023-10-17T20:40:32.613Z"
   },
   {
    "duration": 166,
    "start_time": "2023-10-17T20:40:42.569Z"
   },
   {
    "duration": 164,
    "start_time": "2023-10-17T20:40:51.459Z"
   },
   {
    "duration": 135,
    "start_time": "2023-10-17T20:42:57.752Z"
   },
   {
    "duration": 164,
    "start_time": "2023-10-17T20:44:33.131Z"
   },
   {
    "duration": 209,
    "start_time": "2023-10-17T20:46:34.022Z"
   },
   {
    "duration": 229,
    "start_time": "2023-10-17T20:47:21.746Z"
   },
   {
    "duration": 215,
    "start_time": "2023-10-17T20:47:34.233Z"
   },
   {
    "duration": 219,
    "start_time": "2023-10-17T20:47:42.202Z"
   },
   {
    "duration": 180,
    "start_time": "2023-10-17T20:49:57.892Z"
   },
   {
    "duration": 113,
    "start_time": "2023-10-17T20:50:08.826Z"
   },
   {
    "duration": 137,
    "start_time": "2023-10-17T20:52:17.154Z"
   },
   {
    "duration": 1503,
    "start_time": "2023-10-18T12:45:51.492Z"
   },
   {
    "duration": 161,
    "start_time": "2023-10-18T12:45:52.997Z"
   },
   {
    "duration": 24,
    "start_time": "2023-10-18T12:45:53.160Z"
   },
   {
    "duration": 52,
    "start_time": "2023-10-18T12:45:53.186Z"
   },
   {
    "duration": 24,
    "start_time": "2023-10-18T12:45:53.240Z"
   },
   {
    "duration": 21,
    "start_time": "2023-10-18T12:45:53.266Z"
   },
   {
    "duration": 51,
    "start_time": "2023-10-18T12:45:53.289Z"
   },
   {
    "duration": 15,
    "start_time": "2023-10-18T12:45:53.341Z"
   },
   {
    "duration": 50,
    "start_time": "2023-10-18T12:45:53.358Z"
   },
   {
    "duration": 32,
    "start_time": "2023-10-18T12:45:53.412Z"
   },
   {
    "duration": 8,
    "start_time": "2023-10-18T12:45:53.445Z"
   },
   {
    "duration": 43,
    "start_time": "2023-10-18T12:45:53.455Z"
   },
   {
    "duration": 21,
    "start_time": "2023-10-18T12:45:53.499Z"
   },
   {
    "duration": 15,
    "start_time": "2023-10-18T12:45:53.524Z"
   },
   {
    "duration": 24,
    "start_time": "2023-10-18T12:45:53.541Z"
   },
   {
    "duration": 21,
    "start_time": "2023-10-18T12:45:53.566Z"
   },
   {
    "duration": 36,
    "start_time": "2023-10-18T12:45:53.588Z"
   },
   {
    "duration": 36,
    "start_time": "2023-10-18T12:45:53.626Z"
   },
   {
    "duration": 100,
    "start_time": "2023-10-18T12:45:53.664Z"
   },
   {
    "duration": 60,
    "start_time": "2023-10-18T12:45:53.766Z"
   },
   {
    "duration": 234,
    "start_time": "2023-10-18T12:45:53.828Z"
   },
   {
    "duration": 35,
    "start_time": "2023-10-18T12:45:54.064Z"
   },
   {
    "duration": 58,
    "start_time": "2023-10-18T12:45:54.106Z"
   },
   {
    "duration": 12,
    "start_time": "2023-10-18T12:45:54.166Z"
   },
   {
    "duration": 52,
    "start_time": "2023-10-18T12:45:54.180Z"
   },
   {
    "duration": 440,
    "start_time": "2023-10-18T12:45:54.234Z"
   },
   {
    "duration": 169,
    "start_time": "2023-10-18T12:45:54.676Z"
   },
   {
    "duration": 552,
    "start_time": "2023-10-18T12:45:54.848Z"
   },
   {
    "duration": 185,
    "start_time": "2023-10-18T12:45:55.401Z"
   },
   {
    "duration": 332,
    "start_time": "2023-10-18T12:45:55.588Z"
   },
   {
    "duration": 234,
    "start_time": "2023-10-18T12:45:55.923Z"
   },
   {
    "duration": 195,
    "start_time": "2023-10-18T12:45:56.158Z"
   },
   {
    "duration": 6280,
    "start_time": "2023-10-18T12:45:56.354Z"
   },
   {
    "duration": 189,
    "start_time": "2023-10-18T12:46:02.636Z"
   },
   {
    "duration": 238,
    "start_time": "2023-10-18T12:46:02.827Z"
   },
   {
    "duration": 166,
    "start_time": "2023-10-18T12:46:03.067Z"
   },
   {
    "duration": 209,
    "start_time": "2023-10-18T12:46:03.236Z"
   },
   {
    "duration": 1045,
    "start_time": "2023-10-18T12:46:03.448Z"
   },
   {
    "duration": 171,
    "start_time": "2023-10-18T12:46:04.495Z"
   },
   {
    "duration": 142,
    "start_time": "2023-10-18T12:46:04.668Z"
   },
   {
    "duration": 244,
    "start_time": "2023-10-18T12:46:04.812Z"
   },
   {
    "duration": 169,
    "start_time": "2023-10-18T12:46:05.058Z"
   },
   {
    "duration": 131,
    "start_time": "2023-10-18T12:46:05.229Z"
   },
   {
    "duration": 1600,
    "start_time": "2023-10-18T12:46:05.362Z"
   },
   {
    "duration": 415,
    "start_time": "2023-10-18T12:46:06.964Z"
   },
   {
    "duration": 177,
    "start_time": "2023-10-18T12:46:07.381Z"
   },
   {
    "duration": 19,
    "start_time": "2023-10-18T12:46:07.560Z"
   },
   {
    "duration": 43,
    "start_time": "2023-10-18T12:46:07.581Z"
   },
   {
    "duration": 16,
    "start_time": "2023-10-18T12:46:07.626Z"
   },
   {
    "duration": 29,
    "start_time": "2023-10-18T12:46:07.643Z"
   },
   {
    "duration": 15,
    "start_time": "2023-10-18T12:46:07.674Z"
   },
   {
    "duration": 29,
    "start_time": "2023-10-18T12:46:07.691Z"
   },
   {
    "duration": 140,
    "start_time": "2023-10-18T12:46:07.723Z"
   },
   {
    "duration": 232,
    "start_time": "2023-10-18T12:48:37.302Z"
   },
   {
    "duration": 262,
    "start_time": "2023-10-18T12:52:32.568Z"
   },
   {
    "duration": 132,
    "start_time": "2023-10-18T12:54:00.518Z"
   },
   {
    "duration": 167,
    "start_time": "2023-10-18T12:55:23.562Z"
   },
   {
    "duration": 131,
    "start_time": "2023-10-18T12:55:49.561Z"
   },
   {
    "duration": 119,
    "start_time": "2023-10-18T12:58:34.645Z"
   },
   {
    "duration": 120,
    "start_time": "2023-10-18T13:02:32.378Z"
   },
   {
    "duration": 153,
    "start_time": "2023-10-18T13:02:48.937Z"
   },
   {
    "duration": 147,
    "start_time": "2023-10-18T13:06:04.734Z"
   },
   {
    "duration": 144,
    "start_time": "2023-10-18T13:09:22.271Z"
   },
   {
    "duration": 214,
    "start_time": "2023-10-18T13:10:13.695Z"
   },
   {
    "duration": 133,
    "start_time": "2023-10-18T13:11:09.101Z"
   },
   {
    "duration": 4,
    "start_time": "2023-10-18T13:13:37.570Z"
   },
   {
    "duration": 4,
    "start_time": "2023-10-18T13:14:56.026Z"
   },
   {
    "duration": 129,
    "start_time": "2023-10-18T13:15:14.433Z"
   },
   {
    "duration": 155,
    "start_time": "2023-10-18T13:15:47.611Z"
   },
   {
    "duration": 5,
    "start_time": "2023-10-18T13:18:27.546Z"
   },
   {
    "duration": 157,
    "start_time": "2023-10-18T13:18:35.174Z"
   },
   {
    "duration": 150,
    "start_time": "2023-10-18T13:18:51.271Z"
   },
   {
    "duration": 176,
    "start_time": "2023-10-18T13:22:41.734Z"
   },
   {
    "duration": 1254,
    "start_time": "2023-10-18T13:30:53.114Z"
   },
   {
    "duration": 43,
    "start_time": "2023-10-18T13:30:54.370Z"
   },
   {
    "duration": 25,
    "start_time": "2023-10-18T13:30:54.414Z"
   },
   {
    "duration": 21,
    "start_time": "2023-10-18T13:30:54.442Z"
   },
   {
    "duration": 14,
    "start_time": "2023-10-18T13:30:54.465Z"
   },
   {
    "duration": 27,
    "start_time": "2023-10-18T13:30:54.481Z"
   },
   {
    "duration": 19,
    "start_time": "2023-10-18T13:30:54.509Z"
   },
   {
    "duration": 28,
    "start_time": "2023-10-18T13:30:54.529Z"
   },
   {
    "duration": 27,
    "start_time": "2023-10-18T13:30:54.559Z"
   },
   {
    "duration": 34,
    "start_time": "2023-10-18T13:30:54.589Z"
   },
   {
    "duration": 16,
    "start_time": "2023-10-18T13:30:54.626Z"
   },
   {
    "duration": 36,
    "start_time": "2023-10-18T13:30:54.644Z"
   },
   {
    "duration": 10,
    "start_time": "2023-10-18T13:30:54.682Z"
   },
   {
    "duration": 11,
    "start_time": "2023-10-18T13:30:54.706Z"
   },
   {
    "duration": 37,
    "start_time": "2023-10-18T13:30:54.719Z"
   },
   {
    "duration": 37,
    "start_time": "2023-10-18T13:30:54.758Z"
   },
   {
    "duration": 15,
    "start_time": "2023-10-18T13:30:54.797Z"
   },
   {
    "duration": 31,
    "start_time": "2023-10-18T13:30:54.814Z"
   },
   {
    "duration": 24,
    "start_time": "2023-10-18T13:30:54.847Z"
   },
   {
    "duration": 56,
    "start_time": "2023-10-18T13:30:54.872Z"
   },
   {
    "duration": 209,
    "start_time": "2023-10-18T13:30:54.930Z"
   },
   {
    "duration": 36,
    "start_time": "2023-10-18T13:30:55.141Z"
   },
   {
    "duration": 68,
    "start_time": "2023-10-18T13:30:55.178Z"
   },
   {
    "duration": 13,
    "start_time": "2023-10-18T13:30:55.248Z"
   },
   {
    "duration": 21,
    "start_time": "2023-10-18T13:30:55.263Z"
   },
   {
    "duration": 432,
    "start_time": "2023-10-18T13:30:55.286Z"
   },
   {
    "duration": 153,
    "start_time": "2023-10-18T13:30:55.719Z"
   },
   {
    "duration": 608,
    "start_time": "2023-10-18T13:30:55.877Z"
   },
   {
    "duration": 170,
    "start_time": "2023-10-18T13:30:56.487Z"
   },
   {
    "duration": 319,
    "start_time": "2023-10-18T13:30:56.658Z"
   },
   {
    "duration": 202,
    "start_time": "2023-10-18T13:30:56.979Z"
   },
   {
    "duration": 186,
    "start_time": "2023-10-18T13:30:57.183Z"
   },
   {
    "duration": 5877,
    "start_time": "2023-10-18T13:30:57.370Z"
   },
   {
    "duration": 204,
    "start_time": "2023-10-18T13:31:03.250Z"
   },
   {
    "duration": 240,
    "start_time": "2023-10-18T13:31:03.457Z"
   },
   {
    "duration": 129,
    "start_time": "2023-10-18T13:31:03.698Z"
   },
   {
    "duration": 171,
    "start_time": "2023-10-18T13:31:03.829Z"
   },
   {
    "duration": 1037,
    "start_time": "2023-10-18T13:31:04.002Z"
   },
   {
    "duration": 181,
    "start_time": "2023-10-18T13:31:05.041Z"
   },
   {
    "duration": 3,
    "start_time": "2023-10-18T13:31:05.223Z"
   },
   {
    "duration": 163,
    "start_time": "2023-10-18T13:31:05.227Z"
   },
   {
    "duration": 143,
    "start_time": "2023-10-18T13:31:05.392Z"
   },
   {
    "duration": 148,
    "start_time": "2023-10-18T13:31:05.537Z"
   },
   {
    "duration": 4,
    "start_time": "2023-10-18T13:31:05.686Z"
   },
   {
    "duration": 143,
    "start_time": "2023-10-18T13:31:05.692Z"
   },
   {
    "duration": 1506,
    "start_time": "2023-10-18T13:31:05.836Z"
   },
   {
    "duration": 400,
    "start_time": "2023-10-18T13:31:07.344Z"
   },
   {
    "duration": 196,
    "start_time": "2023-10-18T13:31:07.746Z"
   },
   {
    "duration": 19,
    "start_time": "2023-10-18T13:31:07.944Z"
   },
   {
    "duration": 35,
    "start_time": "2023-10-18T13:31:07.965Z"
   },
   {
    "duration": 56,
    "start_time": "2023-10-18T13:31:08.006Z"
   },
   {
    "duration": 39,
    "start_time": "2023-10-18T13:31:08.063Z"
   },
   {
    "duration": 35,
    "start_time": "2023-10-18T13:31:08.103Z"
   },
   {
    "duration": 20,
    "start_time": "2023-10-18T13:31:08.140Z"
   },
   {
    "duration": 131,
    "start_time": "2023-10-18T13:31:08.161Z"
   },
   {
    "duration": 212,
    "start_time": "2023-10-18T13:45:16.244Z"
   },
   {
    "duration": 242,
    "start_time": "2023-10-18T13:45:28.800Z"
   },
   {
    "duration": 157,
    "start_time": "2023-10-18T13:45:53.363Z"
   },
   {
    "duration": 1501,
    "start_time": "2023-10-18T16:06:36.474Z"
   },
   {
    "duration": 93,
    "start_time": "2023-10-18T16:06:37.978Z"
   },
   {
    "duration": 30,
    "start_time": "2023-10-18T16:06:38.073Z"
   },
   {
    "duration": 25,
    "start_time": "2023-10-18T16:06:38.106Z"
   },
   {
    "duration": 27,
    "start_time": "2023-10-18T16:06:38.133Z"
   },
   {
    "duration": 9,
    "start_time": "2023-10-18T16:06:38.162Z"
   },
   {
    "duration": 11,
    "start_time": "2023-10-18T16:06:38.173Z"
   },
   {
    "duration": 16,
    "start_time": "2023-10-18T16:06:38.185Z"
   },
   {
    "duration": 8,
    "start_time": "2023-10-18T16:06:38.203Z"
   },
   {
    "duration": 46,
    "start_time": "2023-10-18T16:06:38.214Z"
   },
   {
    "duration": 8,
    "start_time": "2023-10-18T16:06:38.262Z"
   },
   {
    "duration": 38,
    "start_time": "2023-10-18T16:06:38.271Z"
   },
   {
    "duration": 11,
    "start_time": "2023-10-18T16:06:38.311Z"
   },
   {
    "duration": 36,
    "start_time": "2023-10-18T16:06:38.324Z"
   },
   {
    "duration": 14,
    "start_time": "2023-10-18T16:06:38.361Z"
   },
   {
    "duration": 23,
    "start_time": "2023-10-18T16:06:38.376Z"
   },
   {
    "duration": 13,
    "start_time": "2023-10-18T16:06:38.401Z"
   },
   {
    "duration": 44,
    "start_time": "2023-10-18T16:06:38.417Z"
   },
   {
    "duration": 7,
    "start_time": "2023-10-18T16:06:38.463Z"
   },
   {
    "duration": 23,
    "start_time": "2023-10-18T16:06:38.472Z"
   },
   {
    "duration": 239,
    "start_time": "2023-10-18T16:06:38.497Z"
   },
   {
    "duration": 52,
    "start_time": "2023-10-18T16:06:38.739Z"
   },
   {
    "duration": 65,
    "start_time": "2023-10-18T16:06:38.793Z"
   },
   {
    "duration": 16,
    "start_time": "2023-10-18T16:06:38.860Z"
   },
   {
    "duration": 28,
    "start_time": "2023-10-18T16:06:38.879Z"
   },
   {
    "duration": 520,
    "start_time": "2023-10-18T16:06:38.910Z"
   },
   {
    "duration": 174,
    "start_time": "2023-10-18T16:06:39.432Z"
   },
   {
    "duration": 590,
    "start_time": "2023-10-18T16:06:39.610Z"
   },
   {
    "duration": 197,
    "start_time": "2023-10-18T16:06:40.202Z"
   },
   {
    "duration": 347,
    "start_time": "2023-10-18T16:06:40.401Z"
   },
   {
    "duration": 228,
    "start_time": "2023-10-18T16:06:40.750Z"
   },
   {
    "duration": 178,
    "start_time": "2023-10-18T16:06:40.980Z"
   },
   {
    "duration": 6202,
    "start_time": "2023-10-18T16:06:41.160Z"
   },
   {
    "duration": 195,
    "start_time": "2023-10-18T16:06:47.364Z"
   },
   {
    "duration": 242,
    "start_time": "2023-10-18T16:06:47.561Z"
   },
   {
    "duration": 154,
    "start_time": "2023-10-18T16:06:47.805Z"
   },
   {
    "duration": 199,
    "start_time": "2023-10-18T16:06:47.961Z"
   },
   {
    "duration": 1220,
    "start_time": "2023-10-18T16:06:48.163Z"
   },
   {
    "duration": 190,
    "start_time": "2023-10-18T16:06:49.385Z"
   },
   {
    "duration": 3,
    "start_time": "2023-10-18T16:06:49.577Z"
   },
   {
    "duration": 213,
    "start_time": "2023-10-18T16:06:49.581Z"
   },
   {
    "duration": 160,
    "start_time": "2023-10-18T16:06:49.796Z"
   },
   {
    "duration": 158,
    "start_time": "2023-10-18T16:06:49.958Z"
   },
   {
    "duration": 154,
    "start_time": "2023-10-18T16:06:50.117Z"
   },
   {
    "duration": 1601,
    "start_time": "2023-10-18T16:06:50.272Z"
   },
   {
    "duration": 349,
    "start_time": "2023-10-18T16:06:51.876Z"
   },
   {
    "duration": 192,
    "start_time": "2023-10-18T16:06:52.226Z"
   },
   {
    "duration": 20,
    "start_time": "2023-10-18T16:06:52.420Z"
   },
   {
    "duration": 24,
    "start_time": "2023-10-18T16:06:52.457Z"
   },
   {
    "duration": 30,
    "start_time": "2023-10-18T16:06:52.483Z"
   },
   {
    "duration": 25,
    "start_time": "2023-10-18T16:06:52.515Z"
   },
   {
    "duration": 41,
    "start_time": "2023-10-18T16:06:52.541Z"
   },
   {
    "duration": 26,
    "start_time": "2023-10-18T16:06:52.584Z"
   },
   {
    "duration": 125,
    "start_time": "2023-10-18T16:06:52.612Z"
   },
   {
    "duration": 1322,
    "start_time": "2023-10-18T16:14:52.758Z"
   },
   {
    "duration": 44,
    "start_time": "2023-10-18T16:14:54.082Z"
   },
   {
    "duration": 28,
    "start_time": "2023-10-18T16:14:54.128Z"
   },
   {
    "duration": 24,
    "start_time": "2023-10-18T16:14:54.158Z"
   },
   {
    "duration": 14,
    "start_time": "2023-10-18T16:14:54.184Z"
   },
   {
    "duration": 20,
    "start_time": "2023-10-18T16:14:54.200Z"
   },
   {
    "duration": 8,
    "start_time": "2023-10-18T16:14:54.222Z"
   },
   {
    "duration": 19,
    "start_time": "2023-10-18T16:14:54.257Z"
   },
   {
    "duration": 14,
    "start_time": "2023-10-18T16:14:54.277Z"
   },
   {
    "duration": 18,
    "start_time": "2023-10-18T16:14:54.294Z"
   },
   {
    "duration": 10,
    "start_time": "2023-10-18T16:14:54.313Z"
   },
   {
    "duration": 60,
    "start_time": "2023-10-18T16:14:54.325Z"
   },
   {
    "duration": 12,
    "start_time": "2023-10-18T16:14:54.387Z"
   },
   {
    "duration": 34,
    "start_time": "2023-10-18T16:14:54.401Z"
   },
   {
    "duration": 13,
    "start_time": "2023-10-18T16:14:54.437Z"
   },
   {
    "duration": 24,
    "start_time": "2023-10-18T16:14:54.452Z"
   },
   {
    "duration": 13,
    "start_time": "2023-10-18T16:14:54.478Z"
   },
   {
    "duration": 16,
    "start_time": "2023-10-18T16:14:54.493Z"
   },
   {
    "duration": 16,
    "start_time": "2023-10-18T16:14:54.511Z"
   },
   {
    "duration": 49,
    "start_time": "2023-10-18T16:14:54.529Z"
   },
   {
    "duration": 228,
    "start_time": "2023-10-18T16:14:54.580Z"
   },
   {
    "duration": 67,
    "start_time": "2023-10-18T16:14:54.811Z"
   },
   {
    "duration": 39,
    "start_time": "2023-10-18T16:14:54.880Z"
   },
   {
    "duration": 35,
    "start_time": "2023-10-18T16:14:54.921Z"
   },
   {
    "duration": 21,
    "start_time": "2023-10-18T16:14:54.959Z"
   },
   {
    "duration": 458,
    "start_time": "2023-10-18T16:14:54.981Z"
   },
   {
    "duration": 164,
    "start_time": "2023-10-18T16:14:55.442Z"
   },
   {
    "duration": 578,
    "start_time": "2023-10-18T16:14:55.610Z"
   },
   {
    "duration": 199,
    "start_time": "2023-10-18T16:14:56.191Z"
   },
   {
    "duration": 357,
    "start_time": "2023-10-18T16:14:56.393Z"
   },
   {
    "duration": 250,
    "start_time": "2023-10-18T16:14:56.752Z"
   },
   {
    "duration": 177,
    "start_time": "2023-10-18T16:14:57.004Z"
   },
   {
    "duration": 6429,
    "start_time": "2023-10-18T16:14:57.183Z"
   },
   {
    "duration": 189,
    "start_time": "2023-10-18T16:15:03.615Z"
   },
   {
    "duration": 240,
    "start_time": "2023-10-18T16:15:03.806Z"
   },
   {
    "duration": 145,
    "start_time": "2023-10-18T16:15:04.048Z"
   },
   {
    "duration": 197,
    "start_time": "2023-10-18T16:15:04.195Z"
   },
   {
    "duration": 1163,
    "start_time": "2023-10-18T16:15:04.394Z"
   },
   {
    "duration": 182,
    "start_time": "2023-10-18T16:15:05.559Z"
   },
   {
    "duration": 3,
    "start_time": "2023-10-18T16:15:05.743Z"
   },
   {
    "duration": 173,
    "start_time": "2023-10-18T16:15:05.757Z"
   },
   {
    "duration": 150,
    "start_time": "2023-10-18T16:15:05.932Z"
   },
   {
    "duration": 158,
    "start_time": "2023-10-18T16:15:06.084Z"
   },
   {
    "duration": 160,
    "start_time": "2023-10-18T16:15:06.243Z"
   },
   {
    "duration": 1571,
    "start_time": "2023-10-18T16:15:06.406Z"
   },
   {
    "duration": 379,
    "start_time": "2023-10-18T16:15:07.980Z"
   },
   {
    "duration": 202,
    "start_time": "2023-10-18T16:15:08.362Z"
   },
   {
    "duration": 19,
    "start_time": "2023-10-18T16:15:08.566Z"
   },
   {
    "duration": 32,
    "start_time": "2023-10-18T16:15:08.586Z"
   },
   {
    "duration": 19,
    "start_time": "2023-10-18T16:15:08.620Z"
   },
   {
    "duration": 25,
    "start_time": "2023-10-18T16:15:08.641Z"
   },
   {
    "duration": 23,
    "start_time": "2023-10-18T16:15:08.668Z"
   },
   {
    "duration": 29,
    "start_time": "2023-10-18T16:15:08.693Z"
   },
   {
    "duration": 146,
    "start_time": "2023-10-18T16:15:08.724Z"
   },
   {
    "duration": 238,
    "start_time": "2023-10-18T16:16:23.568Z"
   },
   {
    "duration": 229,
    "start_time": "2023-10-18T16:16:39.799Z"
   },
   {
    "duration": 234,
    "start_time": "2023-10-18T16:17:59.661Z"
   },
   {
    "duration": 356,
    "start_time": "2023-10-18T16:18:20.095Z"
   },
   {
    "duration": 236,
    "start_time": "2023-10-18T16:18:38.122Z"
   },
   {
    "duration": 225,
    "start_time": "2023-10-18T16:18:56.395Z"
   },
   {
    "duration": 198,
    "start_time": "2023-10-18T16:19:39.801Z"
   },
   {
    "duration": 246,
    "start_time": "2023-10-18T16:20:00.026Z"
   },
   {
    "duration": 182,
    "start_time": "2023-10-18T16:20:40.444Z"
   },
   {
    "duration": 182,
    "start_time": "2023-10-18T16:20:53.474Z"
   },
   {
    "duration": 278,
    "start_time": "2023-10-18T16:21:36.403Z"
   },
   {
    "duration": 186,
    "start_time": "2023-10-18T16:22:37.581Z"
   },
   {
    "duration": 166,
    "start_time": "2023-10-18T16:23:00.526Z"
   },
   {
    "duration": 288,
    "start_time": "2023-10-18T16:23:48.201Z"
   },
   {
    "duration": 286,
    "start_time": "2023-10-18T16:24:05.641Z"
   },
   {
    "duration": 272,
    "start_time": "2023-10-18T16:25:34.086Z"
   },
   {
    "duration": 7,
    "start_time": "2023-10-18T16:25:59.109Z"
   },
   {
    "duration": 6,
    "start_time": "2023-10-18T16:26:18.134Z"
   },
   {
    "duration": 187,
    "start_time": "2023-10-18T16:26:28.725Z"
   },
   {
    "duration": 286,
    "start_time": "2023-10-18T16:26:44.646Z"
   },
   {
    "duration": 249,
    "start_time": "2023-10-18T16:27:09.170Z"
   },
   {
    "duration": 103,
    "start_time": "2023-10-18T16:27:19.957Z"
   },
   {
    "duration": 262,
    "start_time": "2023-10-18T16:27:33.270Z"
   },
   {
    "duration": 419,
    "start_time": "2023-10-18T16:27:45.399Z"
   },
   {
    "duration": 167,
    "start_time": "2023-10-18T16:27:59.630Z"
   },
   {
    "duration": 168,
    "start_time": "2023-10-18T16:28:15.427Z"
   },
   {
    "duration": 161,
    "start_time": "2023-10-18T16:30:46.038Z"
   },
   {
    "duration": 141,
    "start_time": "2023-10-18T16:31:38.547Z"
   },
   {
    "duration": 225,
    "start_time": "2023-10-18T16:32:18.278Z"
   },
   {
    "duration": 299,
    "start_time": "2023-10-18T16:32:51.816Z"
   },
   {
    "duration": 1334,
    "start_time": "2023-10-18T16:33:53.827Z"
   },
   {
    "duration": 45,
    "start_time": "2023-10-18T16:33:55.163Z"
   },
   {
    "duration": 73,
    "start_time": "2023-10-18T16:33:55.210Z"
   },
   {
    "duration": 23,
    "start_time": "2023-10-18T16:33:55.286Z"
   },
   {
    "duration": 14,
    "start_time": "2023-10-18T16:33:55.310Z"
   },
   {
    "duration": 32,
    "start_time": "2023-10-18T16:33:55.325Z"
   },
   {
    "duration": 8,
    "start_time": "2023-10-18T16:33:55.359Z"
   },
   {
    "duration": 13,
    "start_time": "2023-10-18T16:33:55.369Z"
   },
   {
    "duration": 7,
    "start_time": "2023-10-18T16:33:55.384Z"
   },
   {
    "duration": 13,
    "start_time": "2023-10-18T16:33:55.394Z"
   },
   {
    "duration": 8,
    "start_time": "2023-10-18T16:33:55.409Z"
   },
   {
    "duration": 41,
    "start_time": "2023-10-18T16:33:55.457Z"
   },
   {
    "duration": 12,
    "start_time": "2023-10-18T16:33:55.500Z"
   },
   {
    "duration": 14,
    "start_time": "2023-10-18T16:33:55.514Z"
   },
   {
    "duration": 30,
    "start_time": "2023-10-18T16:33:55.530Z"
   },
   {
    "duration": 26,
    "start_time": "2023-10-18T16:33:55.561Z"
   },
   {
    "duration": 15,
    "start_time": "2023-10-18T16:33:55.589Z"
   },
   {
    "duration": 15,
    "start_time": "2023-10-18T16:33:55.605Z"
   },
   {
    "duration": 37,
    "start_time": "2023-10-18T16:33:55.622Z"
   },
   {
    "duration": 33,
    "start_time": "2023-10-18T16:33:55.661Z"
   },
   {
    "duration": 226,
    "start_time": "2023-10-18T16:33:55.696Z"
   },
   {
    "duration": 47,
    "start_time": "2023-10-18T16:33:55.923Z"
   },
   {
    "duration": 38,
    "start_time": "2023-10-18T16:33:55.972Z"
   },
   {
    "duration": 13,
    "start_time": "2023-10-18T16:33:56.012Z"
   },
   {
    "duration": 47,
    "start_time": "2023-10-18T16:33:56.027Z"
   },
   {
    "duration": 459,
    "start_time": "2023-10-18T16:33:56.075Z"
   },
   {
    "duration": 171,
    "start_time": "2023-10-18T16:33:56.536Z"
   },
   {
    "duration": 600,
    "start_time": "2023-10-18T16:33:56.711Z"
   },
   {
    "duration": 192,
    "start_time": "2023-10-18T16:33:57.313Z"
   },
   {
    "duration": 355,
    "start_time": "2023-10-18T16:33:57.507Z"
   },
   {
    "duration": 237,
    "start_time": "2023-10-18T16:33:57.864Z"
   },
   {
    "duration": 172,
    "start_time": "2023-10-18T16:33:58.102Z"
   },
   {
    "duration": 6732,
    "start_time": "2023-10-18T16:33:58.277Z"
   },
   {
    "duration": 203,
    "start_time": "2023-10-18T16:34:05.011Z"
   },
   {
    "duration": 249,
    "start_time": "2023-10-18T16:34:05.216Z"
   },
   {
    "duration": 162,
    "start_time": "2023-10-18T16:34:05.467Z"
   },
   {
    "duration": 198,
    "start_time": "2023-10-18T16:34:05.631Z"
   },
   {
    "duration": 1266,
    "start_time": "2023-10-18T16:34:05.831Z"
   },
   {
    "duration": 191,
    "start_time": "2023-10-18T16:34:07.099Z"
   },
   {
    "duration": 4,
    "start_time": "2023-10-18T16:34:07.292Z"
   },
   {
    "duration": 300,
    "start_time": "2023-10-18T16:34:07.297Z"
   },
   {
    "duration": 155,
    "start_time": "2023-10-18T16:34:07.598Z"
   },
   {
    "duration": 167,
    "start_time": "2023-10-18T16:34:07.757Z"
   },
   {
    "duration": 180,
    "start_time": "2023-10-18T16:34:07.926Z"
   },
   {
    "duration": 1645,
    "start_time": "2023-10-18T16:34:08.108Z"
   },
   {
    "duration": 393,
    "start_time": "2023-10-18T16:34:09.755Z"
   },
   {
    "duration": 207,
    "start_time": "2023-10-18T16:34:10.150Z"
   },
   {
    "duration": 21,
    "start_time": "2023-10-18T16:34:10.358Z"
   },
   {
    "duration": 18,
    "start_time": "2023-10-18T16:34:10.381Z"
   },
   {
    "duration": 24,
    "start_time": "2023-10-18T16:34:10.401Z"
   },
   {
    "duration": 13,
    "start_time": "2023-10-18T16:34:10.457Z"
   },
   {
    "duration": 10,
    "start_time": "2023-10-18T16:34:10.472Z"
   },
   {
    "duration": 12,
    "start_time": "2023-10-18T16:34:10.484Z"
   },
   {
    "duration": 158,
    "start_time": "2023-10-18T16:34:10.498Z"
   },
   {
    "duration": 151,
    "start_time": "2023-10-18T16:35:14.766Z"
   },
   {
    "duration": 156,
    "start_time": "2023-10-18T16:36:20.346Z"
   },
   {
    "duration": 180,
    "start_time": "2023-10-18T16:39:18.804Z"
   },
   {
    "duration": 158,
    "start_time": "2023-10-18T16:39:28.061Z"
   },
   {
    "duration": 167,
    "start_time": "2023-10-18T16:39:36.889Z"
   },
   {
    "duration": 147,
    "start_time": "2023-10-18T16:39:48.214Z"
   },
   {
    "duration": 197,
    "start_time": "2023-10-18T16:39:58.876Z"
   },
   {
    "duration": 128,
    "start_time": "2023-10-18T16:40:24.786Z"
   },
   {
    "duration": 121,
    "start_time": "2023-10-18T16:40:40.785Z"
   },
   {
    "duration": 294,
    "start_time": "2023-10-18T16:40:57.810Z"
   },
   {
    "duration": 274,
    "start_time": "2023-10-18T16:41:06.660Z"
   },
   {
    "duration": 156,
    "start_time": "2023-10-18T16:41:12.441Z"
   },
   {
    "duration": 142,
    "start_time": "2023-10-18T16:41:22.267Z"
   },
   {
    "duration": 131,
    "start_time": "2023-10-18T16:42:08.214Z"
   },
   {
    "duration": 130,
    "start_time": "2023-10-18T16:42:49.102Z"
   },
   {
    "duration": 496,
    "start_time": "2023-10-18T16:52:48.532Z"
   },
   {
    "duration": 1443,
    "start_time": "2023-10-18T16:59:15.969Z"
   },
   {
    "duration": 47,
    "start_time": "2023-10-18T16:59:17.414Z"
   },
   {
    "duration": 28,
    "start_time": "2023-10-18T16:59:17.465Z"
   },
   {
    "duration": 23,
    "start_time": "2023-10-18T16:59:17.495Z"
   },
   {
    "duration": 16,
    "start_time": "2023-10-18T16:59:17.519Z"
   },
   {
    "duration": 14,
    "start_time": "2023-10-18T16:59:17.558Z"
   },
   {
    "duration": 21,
    "start_time": "2023-10-18T16:59:17.574Z"
   },
   {
    "duration": 19,
    "start_time": "2023-10-18T16:59:17.597Z"
   },
   {
    "duration": 10,
    "start_time": "2023-10-18T16:59:17.618Z"
   },
   {
    "duration": 33,
    "start_time": "2023-10-18T16:59:17.631Z"
   },
   {
    "duration": 37,
    "start_time": "2023-10-18T16:59:17.667Z"
   },
   {
    "duration": 71,
    "start_time": "2023-10-18T16:59:17.706Z"
   },
   {
    "duration": 13,
    "start_time": "2023-10-18T16:59:17.779Z"
   },
   {
    "duration": 30,
    "start_time": "2023-10-18T16:59:17.794Z"
   },
   {
    "duration": 28,
    "start_time": "2023-10-18T16:59:17.827Z"
   },
   {
    "duration": 37,
    "start_time": "2023-10-18T16:59:17.858Z"
   },
   {
    "duration": 27,
    "start_time": "2023-10-18T16:59:17.897Z"
   },
   {
    "duration": 15,
    "start_time": "2023-10-18T16:59:17.926Z"
   },
   {
    "duration": 17,
    "start_time": "2023-10-18T16:59:17.943Z"
   },
   {
    "duration": 39,
    "start_time": "2023-10-18T16:59:17.963Z"
   },
   {
    "duration": 251,
    "start_time": "2023-10-18T16:59:18.004Z"
   },
   {
    "duration": 44,
    "start_time": "2023-10-18T16:59:18.257Z"
   },
   {
    "duration": 68,
    "start_time": "2023-10-18T16:59:18.302Z"
   },
   {
    "duration": 13,
    "start_time": "2023-10-18T16:59:18.372Z"
   },
   {
    "duration": 48,
    "start_time": "2023-10-18T16:59:18.388Z"
   },
   {
    "duration": 4,
    "start_time": "2023-10-18T16:59:18.438Z"
   },
   {
    "duration": 540,
    "start_time": "2023-10-18T16:59:18.443Z"
   },
   {
    "duration": 228,
    "start_time": "2023-10-18T16:59:18.988Z"
   },
   {
    "duration": 608,
    "start_time": "2023-10-18T16:59:19.217Z"
   },
   {
    "duration": 194,
    "start_time": "2023-10-18T16:59:19.827Z"
   },
   {
    "duration": 387,
    "start_time": "2023-10-18T16:59:20.023Z"
   },
   {
    "duration": 231,
    "start_time": "2023-10-18T16:59:20.412Z"
   },
   {
    "duration": 468,
    "start_time": "2023-10-18T16:59:20.645Z"
   },
   {
    "duration": 177,
    "start_time": "2023-10-18T16:59:21.114Z"
   },
   {
    "duration": 6887,
    "start_time": "2023-10-18T16:59:21.293Z"
   },
   {
    "duration": 214,
    "start_time": "2023-10-18T16:59:28.182Z"
   },
   {
    "duration": 251,
    "start_time": "2023-10-18T16:59:28.397Z"
   },
   {
    "duration": 295,
    "start_time": "2023-10-18T16:59:28.650Z"
   },
   {
    "duration": 259,
    "start_time": "2023-10-18T16:59:28.947Z"
   },
   {
    "duration": 1256,
    "start_time": "2023-10-18T16:59:29.208Z"
   },
   {
    "duration": 197,
    "start_time": "2023-10-18T16:59:30.468Z"
   },
   {
    "duration": 175,
    "start_time": "2023-10-18T16:59:30.668Z"
   },
   {
    "duration": 148,
    "start_time": "2023-10-18T16:59:30.846Z"
   },
   {
    "duration": 148,
    "start_time": "2023-10-18T16:59:30.996Z"
   },
   {
    "duration": 152,
    "start_time": "2023-10-18T16:59:31.146Z"
   },
   {
    "duration": 1624,
    "start_time": "2023-10-18T16:59:31.300Z"
   },
   {
    "duration": 516,
    "start_time": "2023-10-18T16:59:32.926Z"
   },
   {
    "duration": 74,
    "start_time": "2023-10-18T16:59:33.444Z"
   },
   {
    "duration": 20,
    "start_time": "2023-10-18T16:59:33.520Z"
   },
   {
    "duration": 37,
    "start_time": "2023-10-18T16:59:33.542Z"
   },
   {
    "duration": 28,
    "start_time": "2023-10-18T16:59:33.581Z"
   },
   {
    "duration": 15,
    "start_time": "2023-10-18T16:59:33.611Z"
   },
   {
    "duration": 46,
    "start_time": "2023-10-18T16:59:33.628Z"
   },
   {
    "duration": 9,
    "start_time": "2023-10-18T16:59:33.676Z"
   },
   {
    "duration": 142,
    "start_time": "2023-10-18T16:59:33.687Z"
   },
   {
    "duration": 315,
    "start_time": "2023-10-18T17:01:27.272Z"
   },
   {
    "duration": 294,
    "start_time": "2023-10-18T17:01:39.296Z"
   },
   {
    "duration": 317,
    "start_time": "2023-10-18T17:02:15.061Z"
   },
   {
    "duration": 336,
    "start_time": "2023-10-18T17:03:25.893Z"
   },
   {
    "duration": 284,
    "start_time": "2023-10-18T17:03:33.713Z"
   },
   {
    "duration": 363,
    "start_time": "2023-10-18T17:05:24.800Z"
   },
   {
    "duration": 331,
    "start_time": "2023-10-18T17:05:35.755Z"
   },
   {
    "duration": 282,
    "start_time": "2023-10-18T17:06:02.048Z"
   },
   {
    "duration": 154,
    "start_time": "2023-10-18T17:06:17.812Z"
   },
   {
    "duration": 257,
    "start_time": "2023-10-18T17:06:26.781Z"
   },
   {
    "duration": 138,
    "start_time": "2023-10-18T17:06:37.507Z"
   },
   {
    "duration": 143,
    "start_time": "2023-10-18T17:06:49.329Z"
   },
   {
    "duration": 141,
    "start_time": "2023-10-18T17:08:48.538Z"
   },
   {
    "duration": 141,
    "start_time": "2023-10-18T17:09:04.100Z"
   },
   {
    "duration": 151,
    "start_time": "2023-10-18T17:09:20.449Z"
   },
   {
    "duration": 153,
    "start_time": "2023-10-18T17:09:30.214Z"
   },
   {
    "duration": 164,
    "start_time": "2023-10-18T17:09:40.243Z"
   },
   {
    "duration": 142,
    "start_time": "2023-10-18T17:09:50.906Z"
   },
   {
    "duration": 152,
    "start_time": "2023-10-18T17:10:10.533Z"
   },
   {
    "duration": 167,
    "start_time": "2023-10-18T17:10:19.051Z"
   },
   {
    "duration": 457,
    "start_time": "2023-10-18T17:10:41.627Z"
   },
   {
    "duration": 357,
    "start_time": "2023-10-18T17:10:50.406Z"
   },
   {
    "duration": 175,
    "start_time": "2023-10-18T17:10:59.581Z"
   },
   {
    "duration": 160,
    "start_time": "2023-10-18T17:11:09.364Z"
   },
   {
    "duration": 147,
    "start_time": "2023-10-18T17:11:15.095Z"
   },
   {
    "duration": 247,
    "start_time": "2023-10-18T17:16:36.985Z"
   },
   {
    "duration": 274,
    "start_time": "2023-10-18T17:16:46.708Z"
   },
   {
    "duration": 351,
    "start_time": "2023-10-18T17:48:59.507Z"
   },
   {
    "duration": 344,
    "start_time": "2023-10-18T17:49:10.333Z"
   },
   {
    "duration": 345,
    "start_time": "2023-10-18T17:49:22.204Z"
   },
   {
    "duration": 335,
    "start_time": "2023-10-18T17:49:49.778Z"
   },
   {
    "duration": 499,
    "start_time": "2023-10-18T17:50:05.818Z"
   },
   {
    "duration": 1408,
    "start_time": "2023-10-18T18:15:53.730Z"
   },
   {
    "duration": 46,
    "start_time": "2023-10-18T18:15:55.141Z"
   },
   {
    "duration": 105,
    "start_time": "2023-10-18T18:15:55.190Z"
   },
   {
    "duration": 43,
    "start_time": "2023-10-18T18:15:55.298Z"
   },
   {
    "duration": 15,
    "start_time": "2023-10-18T18:15:55.343Z"
   },
   {
    "duration": 15,
    "start_time": "2023-10-18T18:15:55.360Z"
   },
   {
    "duration": 19,
    "start_time": "2023-10-18T18:15:55.377Z"
   },
   {
    "duration": 18,
    "start_time": "2023-10-18T18:15:55.398Z"
   },
   {
    "duration": 8,
    "start_time": "2023-10-18T18:15:55.418Z"
   },
   {
    "duration": 30,
    "start_time": "2023-10-18T18:15:55.429Z"
   },
   {
    "duration": 9,
    "start_time": "2023-10-18T18:15:55.461Z"
   },
   {
    "duration": 52,
    "start_time": "2023-10-18T18:15:55.472Z"
   },
   {
    "duration": 13,
    "start_time": "2023-10-18T18:15:55.526Z"
   },
   {
    "duration": 23,
    "start_time": "2023-10-18T18:15:55.540Z"
   },
   {
    "duration": 27,
    "start_time": "2023-10-18T18:15:55.565Z"
   },
   {
    "duration": 26,
    "start_time": "2023-10-18T18:15:55.594Z"
   },
   {
    "duration": 25,
    "start_time": "2023-10-18T18:15:55.621Z"
   },
   {
    "duration": 24,
    "start_time": "2023-10-18T18:15:55.648Z"
   },
   {
    "duration": 23,
    "start_time": "2023-10-18T18:15:55.674Z"
   },
   {
    "duration": 51,
    "start_time": "2023-10-18T18:15:55.699Z"
   },
   {
    "duration": 245,
    "start_time": "2023-10-18T18:15:55.752Z"
   },
   {
    "duration": 77,
    "start_time": "2023-10-18T18:15:55.999Z"
   },
   {
    "duration": 52,
    "start_time": "2023-10-18T18:15:56.078Z"
   },
   {
    "duration": 32,
    "start_time": "2023-10-18T18:15:56.132Z"
   },
   {
    "duration": 20,
    "start_time": "2023-10-18T18:15:56.166Z"
   },
   {
    "duration": 17,
    "start_time": "2023-10-18T18:15:56.188Z"
   },
   {
    "duration": 453,
    "start_time": "2023-10-18T18:15:56.207Z"
   },
   {
    "duration": 186,
    "start_time": "2023-10-18T18:15:56.663Z"
   },
   {
    "duration": 597,
    "start_time": "2023-10-18T18:15:56.851Z"
   },
   {
    "duration": 197,
    "start_time": "2023-10-18T18:15:57.455Z"
   },
   {
    "duration": 489,
    "start_time": "2023-10-18T18:15:57.657Z"
   },
   {
    "duration": 178,
    "start_time": "2023-10-18T18:15:58.148Z"
   },
   {
    "duration": 6564,
    "start_time": "2023-10-18T18:15:58.329Z"
   },
   {
    "duration": 198,
    "start_time": "2023-10-18T18:16:04.895Z"
   },
   {
    "duration": 238,
    "start_time": "2023-10-18T18:16:05.095Z"
   },
   {
    "duration": 211,
    "start_time": "2023-10-18T18:16:05.334Z"
   },
   {
    "duration": 1187,
    "start_time": "2023-10-18T18:16:05.547Z"
   },
   {
    "duration": 192,
    "start_time": "2023-10-18T18:16:06.737Z"
   },
   {
    "duration": 179,
    "start_time": "2023-10-18T18:16:06.932Z"
   },
   {
    "duration": 146,
    "start_time": "2023-10-18T18:16:07.113Z"
   },
   {
    "duration": 150,
    "start_time": "2023-10-18T18:16:07.261Z"
   },
   {
    "duration": 154,
    "start_time": "2023-10-18T18:16:07.413Z"
   },
   {
    "duration": 1684,
    "start_time": "2023-10-18T18:16:07.569Z"
   },
   {
    "duration": 404,
    "start_time": "2023-10-18T18:16:09.255Z"
   },
   {
    "duration": 66,
    "start_time": "2023-10-18T18:16:09.661Z"
   },
   {
    "duration": 39,
    "start_time": "2023-10-18T18:16:09.729Z"
   },
   {
    "duration": 20,
    "start_time": "2023-10-18T18:16:09.770Z"
   },
   {
    "duration": 21,
    "start_time": "2023-10-18T18:16:09.792Z"
   },
   {
    "duration": 42,
    "start_time": "2023-10-18T18:16:09.816Z"
   },
   {
    "duration": 12,
    "start_time": "2023-10-18T18:16:09.861Z"
   },
   {
    "duration": 16,
    "start_time": "2023-10-18T18:16:09.874Z"
   },
   {
    "duration": 151,
    "start_time": "2023-10-18T18:16:09.892Z"
   },
   {
    "duration": 1441,
    "start_time": "2023-10-18T18:18:31.149Z"
   },
   {
    "duration": 46,
    "start_time": "2023-10-18T18:18:32.592Z"
   },
   {
    "duration": 27,
    "start_time": "2023-10-18T18:18:32.640Z"
   },
   {
    "duration": 27,
    "start_time": "2023-10-18T18:18:32.670Z"
   },
   {
    "duration": 34,
    "start_time": "2023-10-18T18:18:32.699Z"
   },
   {
    "duration": 27,
    "start_time": "2023-10-18T18:18:32.735Z"
   },
   {
    "duration": 47,
    "start_time": "2023-10-18T18:18:32.763Z"
   },
   {
    "duration": 44,
    "start_time": "2023-10-18T18:18:32.813Z"
   },
   {
    "duration": 28,
    "start_time": "2023-10-18T18:18:32.859Z"
   },
   {
    "duration": 45,
    "start_time": "2023-10-18T18:18:32.890Z"
   },
   {
    "duration": 33,
    "start_time": "2023-10-18T18:18:32.937Z"
   },
   {
    "duration": 63,
    "start_time": "2023-10-18T18:18:32.971Z"
   },
   {
    "duration": 15,
    "start_time": "2023-10-18T18:18:33.037Z"
   },
   {
    "duration": 30,
    "start_time": "2023-10-18T18:18:33.054Z"
   },
   {
    "duration": 47,
    "start_time": "2023-10-18T18:18:33.086Z"
   },
   {
    "duration": 42,
    "start_time": "2023-10-18T18:18:33.135Z"
   },
   {
    "duration": 23,
    "start_time": "2023-10-18T18:18:33.179Z"
   },
   {
    "duration": 22,
    "start_time": "2023-10-18T18:18:33.205Z"
   },
   {
    "duration": 23,
    "start_time": "2023-10-18T18:18:33.229Z"
   },
   {
    "duration": 39,
    "start_time": "2023-10-18T18:18:33.254Z"
   },
   {
    "duration": 257,
    "start_time": "2023-10-18T18:18:33.295Z"
   },
   {
    "duration": 44,
    "start_time": "2023-10-18T18:18:33.556Z"
   },
   {
    "duration": 69,
    "start_time": "2023-10-18T18:18:33.603Z"
   },
   {
    "duration": 22,
    "start_time": "2023-10-18T18:18:33.675Z"
   },
   {
    "duration": 25,
    "start_time": "2023-10-18T18:18:33.700Z"
   },
   {
    "duration": 30,
    "start_time": "2023-10-18T18:18:33.727Z"
   },
   {
    "duration": 470,
    "start_time": "2023-10-18T18:18:33.759Z"
   },
   {
    "duration": 179,
    "start_time": "2023-10-18T18:18:34.235Z"
   },
   {
    "duration": 654,
    "start_time": "2023-10-18T18:18:34.416Z"
   },
   {
    "duration": 205,
    "start_time": "2023-10-18T18:18:35.072Z"
   },
   {
    "duration": 487,
    "start_time": "2023-10-18T18:18:35.279Z"
   },
   {
    "duration": 182,
    "start_time": "2023-10-18T18:18:35.767Z"
   },
   {
    "duration": 6562,
    "start_time": "2023-10-18T18:18:35.955Z"
   },
   {
    "duration": 223,
    "start_time": "2023-10-18T18:18:42.520Z"
   },
   {
    "duration": 294,
    "start_time": "2023-10-18T18:18:42.745Z"
   },
   {
    "duration": 186,
    "start_time": "2023-10-18T18:18:43.041Z"
   },
   {
    "duration": 1230,
    "start_time": "2023-10-18T18:18:43.229Z"
   },
   {
    "duration": 182,
    "start_time": "2023-10-18T18:18:44.461Z"
   },
   {
    "duration": 181,
    "start_time": "2023-10-18T18:18:44.645Z"
   },
   {
    "duration": 155,
    "start_time": "2023-10-18T18:18:44.829Z"
   },
   {
    "duration": 176,
    "start_time": "2023-10-18T18:18:44.987Z"
   },
   {
    "duration": 157,
    "start_time": "2023-10-18T18:18:45.166Z"
   },
   {
    "duration": 1572,
    "start_time": "2023-10-18T18:18:45.325Z"
   },
   {
    "duration": 389,
    "start_time": "2023-10-18T18:18:46.899Z"
   },
   {
    "duration": 70,
    "start_time": "2023-10-18T18:18:47.290Z"
   },
   {
    "duration": 22,
    "start_time": "2023-10-18T18:18:47.362Z"
   },
   {
    "duration": 37,
    "start_time": "2023-10-18T18:18:47.386Z"
   },
   {
    "duration": 55,
    "start_time": "2023-10-18T18:18:47.426Z"
   },
   {
    "duration": 12,
    "start_time": "2023-10-18T18:18:47.483Z"
   },
   {
    "duration": 32,
    "start_time": "2023-10-18T18:18:47.497Z"
   },
   {
    "duration": 16,
    "start_time": "2023-10-18T18:18:47.531Z"
   },
   {
    "duration": 150,
    "start_time": "2023-10-18T18:18:47.549Z"
   }
  ],
  "kernelspec": {
   "display_name": "Python 3 (ipykernel)",
   "language": "python",
   "name": "python3"
  },
  "language_info": {
   "codemirror_mode": {
    "name": "ipython",
    "version": 3
   },
   "file_extension": ".py",
   "mimetype": "text/x-python",
   "name": "python",
   "nbconvert_exporter": "python",
   "pygments_lexer": "ipython3",
   "version": "3.11.5"
  },
  "toc": {
   "base_numbering": 1,
   "nav_menu": {},
   "number_sections": true,
   "sideBar": true,
   "skip_h1_title": true,
   "title_cell": "Table of Contents",
   "title_sidebar": "Contents",
   "toc_cell": false,
   "toc_position": {},
   "toc_section_display": true,
   "toc_window_display": false
  }
 },
 "nbformat": 4,
 "nbformat_minor": 2
}
